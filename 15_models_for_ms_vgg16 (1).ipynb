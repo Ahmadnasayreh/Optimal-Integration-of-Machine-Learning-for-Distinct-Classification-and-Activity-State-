{
  "cells": [
    {
      "cell_type": "markdown",
      "metadata": {
        "id": "nB6MkwKfGaye"
      },
      "source": [
        "## 1. Import libraries <a class=\"anchor\" id=\"1\"></a>\n",
        "\n",
        "[Back to Table of Contents](#0.1)"
      ]
    },
    {
      "cell_type": "code",
      "execution_count": 25,
      "metadata": {
        "_cell_guid": "b1076dfc-b9ad-4769-8c92-a6c4dae69d19",
        "_uuid": "8f2839f25d086af736a60e9eeb907d3b93b6e0e5",
        "id": "wau0Bxx1Gaye"
      },
      "outputs": [],
      "source": [
        "import numpy as np\n",
        "import pandas as pd\n",
        "import matplotlib.pyplot as plt\n",
        "%matplotlib inline\n",
        "\n",
        "# preprocessing\n",
        "from sklearn.preprocessing import LabelEncoder\n",
        "from sklearn.model_selection import train_test_split, cross_val_score, GridSearchCV\n",
        "import pandas_profiling as pp\n",
        "\n",
        "# models\n",
        "from sklearn.linear_model import LogisticRegression, Perceptron, RidgeClassifier, SGDClassifier\n",
        "from sklearn.svm import SVC, LinearSVC\n",
        "from sklearn.ensemble import RandomForestClassifier, GradientBoostingClassifier, ExtraTreesClassifier \n",
        "from sklearn.ensemble import BaggingClassifier, AdaBoostClassifier, VotingClassifier \n",
        "from sklearn.neighbors import KNeighborsClassifier\n",
        "from sklearn.naive_bayes import GaussianNB\n",
        "from sklearn.tree import DecisionTreeClassifier\n",
        "from sklearn import metrics\n",
        "import xgboost as xgb\n",
        "from xgboost import XGBClassifier\n",
        "import lightgbm as lgb\n",
        "from lightgbm import LGBMClassifier\n",
        "\n",
        "# NN models\n",
        "import keras\n",
        "from keras.models import Sequential\n",
        "from keras.layers import Dense, Dropout\n",
        "from keras import optimizers\n",
        "from keras.wrappers.scikit_learn import KerasClassifier\n",
        "from keras.callbacks import EarlyStopping, ModelCheckpoint\n",
        "\n",
        "# model tuning\n",
        "from hyperopt import STATUS_OK, Trials, fmin, hp, tpe, space_eval\n",
        "\n",
        "# import warnings filter\n",
        "from warnings import simplefilter\n",
        "# ignore all future warnings\n",
        "simplefilter(action='ignore', category=FutureWarning)"
      ]
    },
    {
      "cell_type": "markdown",
      "metadata": {
        "id": "SAAXY6kPGayh"
      },
      "source": [
        "## 2. Download datasets <a class=\"anchor\" id=\"2\"></a>\n",
        "\n",
        "[Back to Table of Contents](#0.1)"
      ]
    },
    {
      "cell_type": "code",
      "execution_count": 26,
      "metadata": {
        "id": "gQmkxDTbGayh"
      },
      "outputs": [],
      "source": [
        "data = pd.read_csv(\"/content/MS_NMO_VGG16_AUG.csv\")"
      ]
    },
    {
      "cell_type": "code",
      "execution_count": 27,
      "metadata": {
        "colab": {
          "base_uri": "https://localhost:8080/",
          "height": 237
        },
        "id": "ryILdWo8Gayi",
        "outputId": "0750aae7-35a3-44ac-ab36-a9add6386d84"
      },
      "outputs": [
        {
          "output_type": "execute_result",
          "data": {
            "text/plain": [
              "        PC1       PC2       PC3       PC4       PC5       PC6       PC7  \\\n",
              "0  0.680566 -0.270975 -0.246312 -0.295955  0.088069 -0.925077  0.364468   \n",
              "1  0.720054 -0.251171 -0.404478 -0.089318  0.037732 -0.827378  0.281697   \n",
              "2  0.847464 -0.123181 -0.640368 -0.111536  0.008529 -0.635159 -0.321577   \n",
              "\n",
              "        PC8       PC9      PC10  ...      PC67      PC68      PC69      PC70  \\\n",
              "0  0.217430 -0.104301 -0.612950  ... -0.069928 -0.336318  0.420514  0.133416   \n",
              "1  0.020432  0.077127 -0.735905  ... -0.229622  0.080731  0.089770  0.208164   \n",
              "2  0.041826 -0.234306 -0.570451  ... -0.462240 -0.207903 -0.348302  0.282290   \n",
              "\n",
              "       PC71      PC72      PC73      PC74      PC75  category  \n",
              "0  0.259685 -0.317155  0.175263 -0.086099 -0.478321        MS  \n",
              "1 -0.203596 -0.266591  0.053473  0.087068 -0.189113        MS  \n",
              "2 -0.435598 -0.521987  0.158460  0.008489  0.163047        MS  \n",
              "\n",
              "[3 rows x 76 columns]"
            ],
            "text/html": [
              "\n",
              "  <div id=\"df-84af48b0-b8f9-471d-a045-789289e560bf\">\n",
              "    <div class=\"colab-df-container\">\n",
              "      <div>\n",
              "<style scoped>\n",
              "    .dataframe tbody tr th:only-of-type {\n",
              "        vertical-align: middle;\n",
              "    }\n",
              "\n",
              "    .dataframe tbody tr th {\n",
              "        vertical-align: top;\n",
              "    }\n",
              "\n",
              "    .dataframe thead th {\n",
              "        text-align: right;\n",
              "    }\n",
              "</style>\n",
              "<table border=\"1\" class=\"dataframe\">\n",
              "  <thead>\n",
              "    <tr style=\"text-align: right;\">\n",
              "      <th></th>\n",
              "      <th>PC1</th>\n",
              "      <th>PC2</th>\n",
              "      <th>PC3</th>\n",
              "      <th>PC4</th>\n",
              "      <th>PC5</th>\n",
              "      <th>PC6</th>\n",
              "      <th>PC7</th>\n",
              "      <th>PC8</th>\n",
              "      <th>PC9</th>\n",
              "      <th>PC10</th>\n",
              "      <th>...</th>\n",
              "      <th>PC67</th>\n",
              "      <th>PC68</th>\n",
              "      <th>PC69</th>\n",
              "      <th>PC70</th>\n",
              "      <th>PC71</th>\n",
              "      <th>PC72</th>\n",
              "      <th>PC73</th>\n",
              "      <th>PC74</th>\n",
              "      <th>PC75</th>\n",
              "      <th>category</th>\n",
              "    </tr>\n",
              "  </thead>\n",
              "  <tbody>\n",
              "    <tr>\n",
              "      <th>0</th>\n",
              "      <td>0.680566</td>\n",
              "      <td>-0.270975</td>\n",
              "      <td>-0.246312</td>\n",
              "      <td>-0.295955</td>\n",
              "      <td>0.088069</td>\n",
              "      <td>-0.925077</td>\n",
              "      <td>0.364468</td>\n",
              "      <td>0.217430</td>\n",
              "      <td>-0.104301</td>\n",
              "      <td>-0.612950</td>\n",
              "      <td>...</td>\n",
              "      <td>-0.069928</td>\n",
              "      <td>-0.336318</td>\n",
              "      <td>0.420514</td>\n",
              "      <td>0.133416</td>\n",
              "      <td>0.259685</td>\n",
              "      <td>-0.317155</td>\n",
              "      <td>0.175263</td>\n",
              "      <td>-0.086099</td>\n",
              "      <td>-0.478321</td>\n",
              "      <td>MS</td>\n",
              "    </tr>\n",
              "    <tr>\n",
              "      <th>1</th>\n",
              "      <td>0.720054</td>\n",
              "      <td>-0.251171</td>\n",
              "      <td>-0.404478</td>\n",
              "      <td>-0.089318</td>\n",
              "      <td>0.037732</td>\n",
              "      <td>-0.827378</td>\n",
              "      <td>0.281697</td>\n",
              "      <td>0.020432</td>\n",
              "      <td>0.077127</td>\n",
              "      <td>-0.735905</td>\n",
              "      <td>...</td>\n",
              "      <td>-0.229622</td>\n",
              "      <td>0.080731</td>\n",
              "      <td>0.089770</td>\n",
              "      <td>0.208164</td>\n",
              "      <td>-0.203596</td>\n",
              "      <td>-0.266591</td>\n",
              "      <td>0.053473</td>\n",
              "      <td>0.087068</td>\n",
              "      <td>-0.189113</td>\n",
              "      <td>MS</td>\n",
              "    </tr>\n",
              "    <tr>\n",
              "      <th>2</th>\n",
              "      <td>0.847464</td>\n",
              "      <td>-0.123181</td>\n",
              "      <td>-0.640368</td>\n",
              "      <td>-0.111536</td>\n",
              "      <td>0.008529</td>\n",
              "      <td>-0.635159</td>\n",
              "      <td>-0.321577</td>\n",
              "      <td>0.041826</td>\n",
              "      <td>-0.234306</td>\n",
              "      <td>-0.570451</td>\n",
              "      <td>...</td>\n",
              "      <td>-0.462240</td>\n",
              "      <td>-0.207903</td>\n",
              "      <td>-0.348302</td>\n",
              "      <td>0.282290</td>\n",
              "      <td>-0.435598</td>\n",
              "      <td>-0.521987</td>\n",
              "      <td>0.158460</td>\n",
              "      <td>0.008489</td>\n",
              "      <td>0.163047</td>\n",
              "      <td>MS</td>\n",
              "    </tr>\n",
              "  </tbody>\n",
              "</table>\n",
              "<p>3 rows × 76 columns</p>\n",
              "</div>\n",
              "      <button class=\"colab-df-convert\" onclick=\"convertToInteractive('df-84af48b0-b8f9-471d-a045-789289e560bf')\"\n",
              "              title=\"Convert this dataframe to an interactive table.\"\n",
              "              style=\"display:none;\">\n",
              "        \n",
              "  <svg xmlns=\"http://www.w3.org/2000/svg\" height=\"24px\"viewBox=\"0 0 24 24\"\n",
              "       width=\"24px\">\n",
              "    <path d=\"M0 0h24v24H0V0z\" fill=\"none\"/>\n",
              "    <path d=\"M18.56 5.44l.94 2.06.94-2.06 2.06-.94-2.06-.94-.94-2.06-.94 2.06-2.06.94zm-11 1L8.5 8.5l.94-2.06 2.06-.94-2.06-.94L8.5 2.5l-.94 2.06-2.06.94zm10 10l.94 2.06.94-2.06 2.06-.94-2.06-.94-.94-2.06-.94 2.06-2.06.94z\"/><path d=\"M17.41 7.96l-1.37-1.37c-.4-.4-.92-.59-1.43-.59-.52 0-1.04.2-1.43.59L10.3 9.45l-7.72 7.72c-.78.78-.78 2.05 0 2.83L4 21.41c.39.39.9.59 1.41.59.51 0 1.02-.2 1.41-.59l7.78-7.78 2.81-2.81c.8-.78.8-2.07 0-2.86zM5.41 20L4 18.59l7.72-7.72 1.47 1.35L5.41 20z\"/>\n",
              "  </svg>\n",
              "      </button>\n",
              "      \n",
              "  <style>\n",
              "    .colab-df-container {\n",
              "      display:flex;\n",
              "      flex-wrap:wrap;\n",
              "      gap: 12px;\n",
              "    }\n",
              "\n",
              "    .colab-df-convert {\n",
              "      background-color: #E8F0FE;\n",
              "      border: none;\n",
              "      border-radius: 50%;\n",
              "      cursor: pointer;\n",
              "      display: none;\n",
              "      fill: #1967D2;\n",
              "      height: 32px;\n",
              "      padding: 0 0 0 0;\n",
              "      width: 32px;\n",
              "    }\n",
              "\n",
              "    .colab-df-convert:hover {\n",
              "      background-color: #E2EBFA;\n",
              "      box-shadow: 0px 1px 2px rgba(60, 64, 67, 0.3), 0px 1px 3px 1px rgba(60, 64, 67, 0.15);\n",
              "      fill: #174EA6;\n",
              "    }\n",
              "\n",
              "    [theme=dark] .colab-df-convert {\n",
              "      background-color: #3B4455;\n",
              "      fill: #D2E3FC;\n",
              "    }\n",
              "\n",
              "    [theme=dark] .colab-df-convert:hover {\n",
              "      background-color: #434B5C;\n",
              "      box-shadow: 0px 1px 3px 1px rgba(0, 0, 0, 0.15);\n",
              "      filter: drop-shadow(0px 1px 2px rgba(0, 0, 0, 0.3));\n",
              "      fill: #FFFFFF;\n",
              "    }\n",
              "  </style>\n",
              "\n",
              "      <script>\n",
              "        const buttonEl =\n",
              "          document.querySelector('#df-84af48b0-b8f9-471d-a045-789289e560bf button.colab-df-convert');\n",
              "        buttonEl.style.display =\n",
              "          google.colab.kernel.accessAllowed ? 'block' : 'none';\n",
              "\n",
              "        async function convertToInteractive(key) {\n",
              "          const element = document.querySelector('#df-84af48b0-b8f9-471d-a045-789289e560bf');\n",
              "          const dataTable =\n",
              "            await google.colab.kernel.invokeFunction('convertToInteractive',\n",
              "                                                     [key], {});\n",
              "          if (!dataTable) return;\n",
              "\n",
              "          const docLinkHtml = 'Like what you see? Visit the ' +\n",
              "            '<a target=\"_blank\" href=https://colab.research.google.com/notebooks/data_table.ipynb>data table notebook</a>'\n",
              "            + ' to learn more about interactive tables.';\n",
              "          element.innerHTML = '';\n",
              "          dataTable['output_type'] = 'display_data';\n",
              "          await google.colab.output.renderOutput(dataTable, element);\n",
              "          const docLink = document.createElement('div');\n",
              "          docLink.innerHTML = docLinkHtml;\n",
              "          element.appendChild(docLink);\n",
              "        }\n",
              "      </script>\n",
              "    </div>\n",
              "  </div>\n",
              "  "
            ]
          },
          "metadata": {},
          "execution_count": 27
        }
      ],
      "source": [
        "data.head(3)"
      ]
    },
    {
      "cell_type": "code",
      "execution_count": 28,
      "metadata": {
        "colab": {
          "base_uri": "https://localhost:8080/"
        },
        "id": "iVMw9X1dGayi",
        "outputId": "554d1266-da0a-42b2-b017-5d0ba687f926"
      },
      "outputs": [
        {
          "output_type": "stream",
          "name": "stdout",
          "text": [
            "<class 'pandas.core.frame.DataFrame'>\n",
            "RangeIndex: 4208 entries, 0 to 4207\n",
            "Data columns (total 76 columns):\n",
            " #   Column    Non-Null Count  Dtype  \n",
            "---  ------    --------------  -----  \n",
            " 0   PC1       4208 non-null   float64\n",
            " 1   PC2       4208 non-null   float64\n",
            " 2   PC3       4208 non-null   float64\n",
            " 3   PC4       4208 non-null   float64\n",
            " 4   PC5       4208 non-null   float64\n",
            " 5   PC6       4208 non-null   float64\n",
            " 6   PC7       4208 non-null   float64\n",
            " 7   PC8       4208 non-null   float64\n",
            " 8   PC9       4208 non-null   float64\n",
            " 9   PC10      4208 non-null   float64\n",
            " 10  PC11      4208 non-null   float64\n",
            " 11  PC12      4208 non-null   float64\n",
            " 12  PC13      4208 non-null   float64\n",
            " 13  PC14      4208 non-null   float64\n",
            " 14  PC15      4208 non-null   float64\n",
            " 15  PC16      4208 non-null   float64\n",
            " 16  PC17      4208 non-null   float64\n",
            " 17  PC18      4208 non-null   float64\n",
            " 18  PC19      4208 non-null   float64\n",
            " 19  PC20      4208 non-null   float64\n",
            " 20  PC21      4208 non-null   float64\n",
            " 21  PC22      4208 non-null   float64\n",
            " 22  PC23      4208 non-null   float64\n",
            " 23  PC24      4208 non-null   float64\n",
            " 24  PC25      4208 non-null   float64\n",
            " 25  PC26      4208 non-null   float64\n",
            " 26  PC27      4208 non-null   float64\n",
            " 27  PC28      4208 non-null   float64\n",
            " 28  PC29      4208 non-null   float64\n",
            " 29  PC30      4208 non-null   float64\n",
            " 30  PC31      4208 non-null   float64\n",
            " 31  PC32      4208 non-null   float64\n",
            " 32  PC33      4208 non-null   float64\n",
            " 33  PC34      4208 non-null   float64\n",
            " 34  PC35      4208 non-null   float64\n",
            " 35  PC36      4208 non-null   float64\n",
            " 36  PC37      4208 non-null   float64\n",
            " 37  PC38      4208 non-null   float64\n",
            " 38  PC39      4208 non-null   float64\n",
            " 39  PC40      4208 non-null   float64\n",
            " 40  PC41      4208 non-null   float64\n",
            " 41  PC42      4208 non-null   float64\n",
            " 42  PC43      4208 non-null   float64\n",
            " 43  PC44      4208 non-null   float64\n",
            " 44  PC45      4208 non-null   float64\n",
            " 45  PC46      4208 non-null   float64\n",
            " 46  PC47      4208 non-null   float64\n",
            " 47  PC48      4208 non-null   float64\n",
            " 48  PC49      4208 non-null   float64\n",
            " 49  PC50      4208 non-null   float64\n",
            " 50  PC51      4208 non-null   float64\n",
            " 51  PC52      4208 non-null   float64\n",
            " 52  PC53      4208 non-null   float64\n",
            " 53  PC54      4208 non-null   float64\n",
            " 54  PC55      4208 non-null   float64\n",
            " 55  PC56      4208 non-null   float64\n",
            " 56  PC57      4208 non-null   float64\n",
            " 57  PC58      4208 non-null   float64\n",
            " 58  PC59      4208 non-null   float64\n",
            " 59  PC60      4208 non-null   float64\n",
            " 60  PC61      4208 non-null   float64\n",
            " 61  PC62      4208 non-null   float64\n",
            " 62  PC63      4208 non-null   float64\n",
            " 63  PC64      4208 non-null   float64\n",
            " 64  PC65      4208 non-null   float64\n",
            " 65  PC66      4208 non-null   float64\n",
            " 66  PC67      4208 non-null   float64\n",
            " 67  PC68      4208 non-null   float64\n",
            " 68  PC69      4208 non-null   float64\n",
            " 69  PC70      4208 non-null   float64\n",
            " 70  PC71      4208 non-null   float64\n",
            " 71  PC72      4208 non-null   float64\n",
            " 72  PC73      4208 non-null   float64\n",
            " 73  PC74      4208 non-null   float64\n",
            " 74  PC75      4208 non-null   float64\n",
            " 75  category  4208 non-null   object \n",
            "dtypes: float64(75), object(1)\n",
            "memory usage: 2.4+ MB\n"
          ]
        }
      ],
      "source": [
        "data.info()"
      ]
    },
    {
      "cell_type": "code",
      "execution_count": 29,
      "metadata": {
        "id": "xtq24beBGayk"
      },
      "outputs": [],
      "source": [
        "target_name = 'category'\n",
        "data_target = data[target_name]\n",
        "data = data.drop([target_name], axis=1)"
      ]
    },
    {
      "cell_type": "markdown",
      "metadata": {
        "id": "AINlmClvGayk"
      },
      "source": [
        "I split data on 30% in the test dataset, the remaining 70% - in the training dataset"
      ]
    },
    {
      "cell_type": "code",
      "execution_count": 30,
      "metadata": {
        "id": "fi3TumBUGayk"
      },
      "outputs": [],
      "source": [
        "train, test, target, target_test = train_test_split(data, data_target, test_size=0.2, random_state=0)"
      ]
    },
    {
      "cell_type": "code",
      "execution_count": 31,
      "metadata": {
        "colab": {
          "base_uri": "https://localhost:8080/",
          "height": 237
        },
        "id": "y_hN9tyeGayk",
        "outputId": "fd8c7856-bc77-4a71-d272-b2f4aa0a8842"
      },
      "outputs": [
        {
          "output_type": "execute_result",
          "data": {
            "text/plain": [
              "           PC1       PC2       PC3       PC4       PC5       PC6       PC7  \\\n",
              "3539 -0.667148 -0.208026 -0.118048 -0.374057  0.027375  0.477303  0.063678   \n",
              "3747 -0.374164 -0.479952 -0.490855  0.084025 -0.142968  0.460467 -0.233427   \n",
              "1287  0.206053 -0.570138 -0.208366  1.000000  0.273132 -0.322437  0.397211   \n",
              "\n",
              "           PC8       PC9      PC10  ...      PC66      PC67      PC68  \\\n",
              "3539  0.081652  0.023399 -0.005011  ...  0.078059 -0.411859  0.016987   \n",
              "3747 -0.085896  0.168347  0.096785  ...  0.084435 -0.196840 -0.294934   \n",
              "1287 -0.610575 -0.260892  0.185601  ... -0.361608 -0.261232 -0.240067   \n",
              "\n",
              "          PC69      PC70      PC71      PC72      PC73      PC74      PC75  \n",
              "3539  0.055033 -0.127431  0.013867 -0.052341 -0.240740 -0.128955 -0.533022  \n",
              "3747 -0.224362 -0.254084  0.386367  0.006517  0.053975 -0.348668 -0.218970  \n",
              "1287 -0.096396 -0.211074 -0.135443 -0.576772  0.095247  0.030251 -0.040594  \n",
              "\n",
              "[3 rows x 75 columns]"
            ],
            "text/html": [
              "\n",
              "  <div id=\"df-e4761bb0-ed59-4dcc-8070-17e0294cb73f\">\n",
              "    <div class=\"colab-df-container\">\n",
              "      <div>\n",
              "<style scoped>\n",
              "    .dataframe tbody tr th:only-of-type {\n",
              "        vertical-align: middle;\n",
              "    }\n",
              "\n",
              "    .dataframe tbody tr th {\n",
              "        vertical-align: top;\n",
              "    }\n",
              "\n",
              "    .dataframe thead th {\n",
              "        text-align: right;\n",
              "    }\n",
              "</style>\n",
              "<table border=\"1\" class=\"dataframe\">\n",
              "  <thead>\n",
              "    <tr style=\"text-align: right;\">\n",
              "      <th></th>\n",
              "      <th>PC1</th>\n",
              "      <th>PC2</th>\n",
              "      <th>PC3</th>\n",
              "      <th>PC4</th>\n",
              "      <th>PC5</th>\n",
              "      <th>PC6</th>\n",
              "      <th>PC7</th>\n",
              "      <th>PC8</th>\n",
              "      <th>PC9</th>\n",
              "      <th>PC10</th>\n",
              "      <th>...</th>\n",
              "      <th>PC66</th>\n",
              "      <th>PC67</th>\n",
              "      <th>PC68</th>\n",
              "      <th>PC69</th>\n",
              "      <th>PC70</th>\n",
              "      <th>PC71</th>\n",
              "      <th>PC72</th>\n",
              "      <th>PC73</th>\n",
              "      <th>PC74</th>\n",
              "      <th>PC75</th>\n",
              "    </tr>\n",
              "  </thead>\n",
              "  <tbody>\n",
              "    <tr>\n",
              "      <th>3539</th>\n",
              "      <td>-0.667148</td>\n",
              "      <td>-0.208026</td>\n",
              "      <td>-0.118048</td>\n",
              "      <td>-0.374057</td>\n",
              "      <td>0.027375</td>\n",
              "      <td>0.477303</td>\n",
              "      <td>0.063678</td>\n",
              "      <td>0.081652</td>\n",
              "      <td>0.023399</td>\n",
              "      <td>-0.005011</td>\n",
              "      <td>...</td>\n",
              "      <td>0.078059</td>\n",
              "      <td>-0.411859</td>\n",
              "      <td>0.016987</td>\n",
              "      <td>0.055033</td>\n",
              "      <td>-0.127431</td>\n",
              "      <td>0.013867</td>\n",
              "      <td>-0.052341</td>\n",
              "      <td>-0.240740</td>\n",
              "      <td>-0.128955</td>\n",
              "      <td>-0.533022</td>\n",
              "    </tr>\n",
              "    <tr>\n",
              "      <th>3747</th>\n",
              "      <td>-0.374164</td>\n",
              "      <td>-0.479952</td>\n",
              "      <td>-0.490855</td>\n",
              "      <td>0.084025</td>\n",
              "      <td>-0.142968</td>\n",
              "      <td>0.460467</td>\n",
              "      <td>-0.233427</td>\n",
              "      <td>-0.085896</td>\n",
              "      <td>0.168347</td>\n",
              "      <td>0.096785</td>\n",
              "      <td>...</td>\n",
              "      <td>0.084435</td>\n",
              "      <td>-0.196840</td>\n",
              "      <td>-0.294934</td>\n",
              "      <td>-0.224362</td>\n",
              "      <td>-0.254084</td>\n",
              "      <td>0.386367</td>\n",
              "      <td>0.006517</td>\n",
              "      <td>0.053975</td>\n",
              "      <td>-0.348668</td>\n",
              "      <td>-0.218970</td>\n",
              "    </tr>\n",
              "    <tr>\n",
              "      <th>1287</th>\n",
              "      <td>0.206053</td>\n",
              "      <td>-0.570138</td>\n",
              "      <td>-0.208366</td>\n",
              "      <td>1.000000</td>\n",
              "      <td>0.273132</td>\n",
              "      <td>-0.322437</td>\n",
              "      <td>0.397211</td>\n",
              "      <td>-0.610575</td>\n",
              "      <td>-0.260892</td>\n",
              "      <td>0.185601</td>\n",
              "      <td>...</td>\n",
              "      <td>-0.361608</td>\n",
              "      <td>-0.261232</td>\n",
              "      <td>-0.240067</td>\n",
              "      <td>-0.096396</td>\n",
              "      <td>-0.211074</td>\n",
              "      <td>-0.135443</td>\n",
              "      <td>-0.576772</td>\n",
              "      <td>0.095247</td>\n",
              "      <td>0.030251</td>\n",
              "      <td>-0.040594</td>\n",
              "    </tr>\n",
              "  </tbody>\n",
              "</table>\n",
              "<p>3 rows × 75 columns</p>\n",
              "</div>\n",
              "      <button class=\"colab-df-convert\" onclick=\"convertToInteractive('df-e4761bb0-ed59-4dcc-8070-17e0294cb73f')\"\n",
              "              title=\"Convert this dataframe to an interactive table.\"\n",
              "              style=\"display:none;\">\n",
              "        \n",
              "  <svg xmlns=\"http://www.w3.org/2000/svg\" height=\"24px\"viewBox=\"0 0 24 24\"\n",
              "       width=\"24px\">\n",
              "    <path d=\"M0 0h24v24H0V0z\" fill=\"none\"/>\n",
              "    <path d=\"M18.56 5.44l.94 2.06.94-2.06 2.06-.94-2.06-.94-.94-2.06-.94 2.06-2.06.94zm-11 1L8.5 8.5l.94-2.06 2.06-.94-2.06-.94L8.5 2.5l-.94 2.06-2.06.94zm10 10l.94 2.06.94-2.06 2.06-.94-2.06-.94-.94-2.06-.94 2.06-2.06.94z\"/><path d=\"M17.41 7.96l-1.37-1.37c-.4-.4-.92-.59-1.43-.59-.52 0-1.04.2-1.43.59L10.3 9.45l-7.72 7.72c-.78.78-.78 2.05 0 2.83L4 21.41c.39.39.9.59 1.41.59.51 0 1.02-.2 1.41-.59l7.78-7.78 2.81-2.81c.8-.78.8-2.07 0-2.86zM5.41 20L4 18.59l7.72-7.72 1.47 1.35L5.41 20z\"/>\n",
              "  </svg>\n",
              "      </button>\n",
              "      \n",
              "  <style>\n",
              "    .colab-df-container {\n",
              "      display:flex;\n",
              "      flex-wrap:wrap;\n",
              "      gap: 12px;\n",
              "    }\n",
              "\n",
              "    .colab-df-convert {\n",
              "      background-color: #E8F0FE;\n",
              "      border: none;\n",
              "      border-radius: 50%;\n",
              "      cursor: pointer;\n",
              "      display: none;\n",
              "      fill: #1967D2;\n",
              "      height: 32px;\n",
              "      padding: 0 0 0 0;\n",
              "      width: 32px;\n",
              "    }\n",
              "\n",
              "    .colab-df-convert:hover {\n",
              "      background-color: #E2EBFA;\n",
              "      box-shadow: 0px 1px 2px rgba(60, 64, 67, 0.3), 0px 1px 3px 1px rgba(60, 64, 67, 0.15);\n",
              "      fill: #174EA6;\n",
              "    }\n",
              "\n",
              "    [theme=dark] .colab-df-convert {\n",
              "      background-color: #3B4455;\n",
              "      fill: #D2E3FC;\n",
              "    }\n",
              "\n",
              "    [theme=dark] .colab-df-convert:hover {\n",
              "      background-color: #434B5C;\n",
              "      box-shadow: 0px 1px 3px 1px rgba(0, 0, 0, 0.15);\n",
              "      filter: drop-shadow(0px 1px 2px rgba(0, 0, 0, 0.3));\n",
              "      fill: #FFFFFF;\n",
              "    }\n",
              "  </style>\n",
              "\n",
              "      <script>\n",
              "        const buttonEl =\n",
              "          document.querySelector('#df-e4761bb0-ed59-4dcc-8070-17e0294cb73f button.colab-df-convert');\n",
              "        buttonEl.style.display =\n",
              "          google.colab.kernel.accessAllowed ? 'block' : 'none';\n",
              "\n",
              "        async function convertToInteractive(key) {\n",
              "          const element = document.querySelector('#df-e4761bb0-ed59-4dcc-8070-17e0294cb73f');\n",
              "          const dataTable =\n",
              "            await google.colab.kernel.invokeFunction('convertToInteractive',\n",
              "                                                     [key], {});\n",
              "          if (!dataTable) return;\n",
              "\n",
              "          const docLinkHtml = 'Like what you see? Visit the ' +\n",
              "            '<a target=\"_blank\" href=https://colab.research.google.com/notebooks/data_table.ipynb>data table notebook</a>'\n",
              "            + ' to learn more about interactive tables.';\n",
              "          element.innerHTML = '';\n",
              "          dataTable['output_type'] = 'display_data';\n",
              "          await google.colab.output.renderOutput(dataTable, element);\n",
              "          const docLink = document.createElement('div');\n",
              "          docLink.innerHTML = docLinkHtml;\n",
              "          element.appendChild(docLink);\n",
              "        }\n",
              "      </script>\n",
              "    </div>\n",
              "  </div>\n",
              "  "
            ]
          },
          "metadata": {},
          "execution_count": 31
        }
      ],
      "source": [
        "train.head(3)"
      ]
    },
    {
      "cell_type": "code",
      "execution_count": 32,
      "metadata": {
        "colab": {
          "base_uri": "https://localhost:8080/",
          "height": 237
        },
        "id": "D1StT7W7Gayl",
        "outputId": "f0839d6d-47c8-4d60-d0ee-2e649f206049"
      },
      "outputs": [
        {
          "output_type": "execute_result",
          "data": {
            "text/plain": [
              "           PC1       PC2       PC3       PC4       PC5       PC6       PC7  \\\n",
              "3430 -0.350455 -0.512626 -0.055376 -0.093926  0.012129  0.203094 -0.196547   \n",
              "2131  0.545678 -0.353072 -0.254295 -0.211761 -0.362602  0.537107  0.063212   \n",
              "2680  0.419292 -0.583672 -0.405200 -0.273616 -0.513737 -0.166454 -0.274523   \n",
              "\n",
              "           PC8       PC9      PC10  ...      PC66      PC67      PC68  \\\n",
              "3430 -0.372807  0.342375 -0.332234  ... -0.187890 -0.085200 -0.063538   \n",
              "2131 -0.240815  0.005124 -0.062630  ... -0.281269 -0.232724  0.066439   \n",
              "2680 -0.310547 -0.466367 -0.294421  ... -0.361917  0.027250 -0.068906   \n",
              "\n",
              "          PC69      PC70      PC71      PC72      PC73      PC74      PC75  \n",
              "3430 -0.244544  0.246724 -0.115722 -0.310404  0.035474 -0.217911 -0.170946  \n",
              "2131 -0.254605 -0.185455  0.086878  0.002402 -0.219304  0.208455 -0.046565  \n",
              "2680 -0.009227 -0.002916 -0.108986 -0.055595 -0.020051 -0.224514 -0.078634  \n",
              "\n",
              "[3 rows x 75 columns]"
            ],
            "text/html": [
              "\n",
              "  <div id=\"df-5fbf0fbc-3c9c-4e30-bec6-4c971eaebc66\">\n",
              "    <div class=\"colab-df-container\">\n",
              "      <div>\n",
              "<style scoped>\n",
              "    .dataframe tbody tr th:only-of-type {\n",
              "        vertical-align: middle;\n",
              "    }\n",
              "\n",
              "    .dataframe tbody tr th {\n",
              "        vertical-align: top;\n",
              "    }\n",
              "\n",
              "    .dataframe thead th {\n",
              "        text-align: right;\n",
              "    }\n",
              "</style>\n",
              "<table border=\"1\" class=\"dataframe\">\n",
              "  <thead>\n",
              "    <tr style=\"text-align: right;\">\n",
              "      <th></th>\n",
              "      <th>PC1</th>\n",
              "      <th>PC2</th>\n",
              "      <th>PC3</th>\n",
              "      <th>PC4</th>\n",
              "      <th>PC5</th>\n",
              "      <th>PC6</th>\n",
              "      <th>PC7</th>\n",
              "      <th>PC8</th>\n",
              "      <th>PC9</th>\n",
              "      <th>PC10</th>\n",
              "      <th>...</th>\n",
              "      <th>PC66</th>\n",
              "      <th>PC67</th>\n",
              "      <th>PC68</th>\n",
              "      <th>PC69</th>\n",
              "      <th>PC70</th>\n",
              "      <th>PC71</th>\n",
              "      <th>PC72</th>\n",
              "      <th>PC73</th>\n",
              "      <th>PC74</th>\n",
              "      <th>PC75</th>\n",
              "    </tr>\n",
              "  </thead>\n",
              "  <tbody>\n",
              "    <tr>\n",
              "      <th>3430</th>\n",
              "      <td>-0.350455</td>\n",
              "      <td>-0.512626</td>\n",
              "      <td>-0.055376</td>\n",
              "      <td>-0.093926</td>\n",
              "      <td>0.012129</td>\n",
              "      <td>0.203094</td>\n",
              "      <td>-0.196547</td>\n",
              "      <td>-0.372807</td>\n",
              "      <td>0.342375</td>\n",
              "      <td>-0.332234</td>\n",
              "      <td>...</td>\n",
              "      <td>-0.187890</td>\n",
              "      <td>-0.085200</td>\n",
              "      <td>-0.063538</td>\n",
              "      <td>-0.244544</td>\n",
              "      <td>0.246724</td>\n",
              "      <td>-0.115722</td>\n",
              "      <td>-0.310404</td>\n",
              "      <td>0.035474</td>\n",
              "      <td>-0.217911</td>\n",
              "      <td>-0.170946</td>\n",
              "    </tr>\n",
              "    <tr>\n",
              "      <th>2131</th>\n",
              "      <td>0.545678</td>\n",
              "      <td>-0.353072</td>\n",
              "      <td>-0.254295</td>\n",
              "      <td>-0.211761</td>\n",
              "      <td>-0.362602</td>\n",
              "      <td>0.537107</td>\n",
              "      <td>0.063212</td>\n",
              "      <td>-0.240815</td>\n",
              "      <td>0.005124</td>\n",
              "      <td>-0.062630</td>\n",
              "      <td>...</td>\n",
              "      <td>-0.281269</td>\n",
              "      <td>-0.232724</td>\n",
              "      <td>0.066439</td>\n",
              "      <td>-0.254605</td>\n",
              "      <td>-0.185455</td>\n",
              "      <td>0.086878</td>\n",
              "      <td>0.002402</td>\n",
              "      <td>-0.219304</td>\n",
              "      <td>0.208455</td>\n",
              "      <td>-0.046565</td>\n",
              "    </tr>\n",
              "    <tr>\n",
              "      <th>2680</th>\n",
              "      <td>0.419292</td>\n",
              "      <td>-0.583672</td>\n",
              "      <td>-0.405200</td>\n",
              "      <td>-0.273616</td>\n",
              "      <td>-0.513737</td>\n",
              "      <td>-0.166454</td>\n",
              "      <td>-0.274523</td>\n",
              "      <td>-0.310547</td>\n",
              "      <td>-0.466367</td>\n",
              "      <td>-0.294421</td>\n",
              "      <td>...</td>\n",
              "      <td>-0.361917</td>\n",
              "      <td>0.027250</td>\n",
              "      <td>-0.068906</td>\n",
              "      <td>-0.009227</td>\n",
              "      <td>-0.002916</td>\n",
              "      <td>-0.108986</td>\n",
              "      <td>-0.055595</td>\n",
              "      <td>-0.020051</td>\n",
              "      <td>-0.224514</td>\n",
              "      <td>-0.078634</td>\n",
              "    </tr>\n",
              "  </tbody>\n",
              "</table>\n",
              "<p>3 rows × 75 columns</p>\n",
              "</div>\n",
              "      <button class=\"colab-df-convert\" onclick=\"convertToInteractive('df-5fbf0fbc-3c9c-4e30-bec6-4c971eaebc66')\"\n",
              "              title=\"Convert this dataframe to an interactive table.\"\n",
              "              style=\"display:none;\">\n",
              "        \n",
              "  <svg xmlns=\"http://www.w3.org/2000/svg\" height=\"24px\"viewBox=\"0 0 24 24\"\n",
              "       width=\"24px\">\n",
              "    <path d=\"M0 0h24v24H0V0z\" fill=\"none\"/>\n",
              "    <path d=\"M18.56 5.44l.94 2.06.94-2.06 2.06-.94-2.06-.94-.94-2.06-.94 2.06-2.06.94zm-11 1L8.5 8.5l.94-2.06 2.06-.94-2.06-.94L8.5 2.5l-.94 2.06-2.06.94zm10 10l.94 2.06.94-2.06 2.06-.94-2.06-.94-.94-2.06-.94 2.06-2.06.94z\"/><path d=\"M17.41 7.96l-1.37-1.37c-.4-.4-.92-.59-1.43-.59-.52 0-1.04.2-1.43.59L10.3 9.45l-7.72 7.72c-.78.78-.78 2.05 0 2.83L4 21.41c.39.39.9.59 1.41.59.51 0 1.02-.2 1.41-.59l7.78-7.78 2.81-2.81c.8-.78.8-2.07 0-2.86zM5.41 20L4 18.59l7.72-7.72 1.47 1.35L5.41 20z\"/>\n",
              "  </svg>\n",
              "      </button>\n",
              "      \n",
              "  <style>\n",
              "    .colab-df-container {\n",
              "      display:flex;\n",
              "      flex-wrap:wrap;\n",
              "      gap: 12px;\n",
              "    }\n",
              "\n",
              "    .colab-df-convert {\n",
              "      background-color: #E8F0FE;\n",
              "      border: none;\n",
              "      border-radius: 50%;\n",
              "      cursor: pointer;\n",
              "      display: none;\n",
              "      fill: #1967D2;\n",
              "      height: 32px;\n",
              "      padding: 0 0 0 0;\n",
              "      width: 32px;\n",
              "    }\n",
              "\n",
              "    .colab-df-convert:hover {\n",
              "      background-color: #E2EBFA;\n",
              "      box-shadow: 0px 1px 2px rgba(60, 64, 67, 0.3), 0px 1px 3px 1px rgba(60, 64, 67, 0.15);\n",
              "      fill: #174EA6;\n",
              "    }\n",
              "\n",
              "    [theme=dark] .colab-df-convert {\n",
              "      background-color: #3B4455;\n",
              "      fill: #D2E3FC;\n",
              "    }\n",
              "\n",
              "    [theme=dark] .colab-df-convert:hover {\n",
              "      background-color: #434B5C;\n",
              "      box-shadow: 0px 1px 3px 1px rgba(0, 0, 0, 0.15);\n",
              "      filter: drop-shadow(0px 1px 2px rgba(0, 0, 0, 0.3));\n",
              "      fill: #FFFFFF;\n",
              "    }\n",
              "  </style>\n",
              "\n",
              "      <script>\n",
              "        const buttonEl =\n",
              "          document.querySelector('#df-5fbf0fbc-3c9c-4e30-bec6-4c971eaebc66 button.colab-df-convert');\n",
              "        buttonEl.style.display =\n",
              "          google.colab.kernel.accessAllowed ? 'block' : 'none';\n",
              "\n",
              "        async function convertToInteractive(key) {\n",
              "          const element = document.querySelector('#df-5fbf0fbc-3c9c-4e30-bec6-4c971eaebc66');\n",
              "          const dataTable =\n",
              "            await google.colab.kernel.invokeFunction('convertToInteractive',\n",
              "                                                     [key], {});\n",
              "          if (!dataTable) return;\n",
              "\n",
              "          const docLinkHtml = 'Like what you see? Visit the ' +\n",
              "            '<a target=\"_blank\" href=https://colab.research.google.com/notebooks/data_table.ipynb>data table notebook</a>'\n",
              "            + ' to learn more about interactive tables.';\n",
              "          element.innerHTML = '';\n",
              "          dataTable['output_type'] = 'display_data';\n",
              "          await google.colab.output.renderOutput(dataTable, element);\n",
              "          const docLink = document.createElement('div');\n",
              "          docLink.innerHTML = docLinkHtml;\n",
              "          element.appendChild(docLink);\n",
              "        }\n",
              "      </script>\n",
              "    </div>\n",
              "  </div>\n",
              "  "
            ]
          },
          "metadata": {},
          "execution_count": 32
        }
      ],
      "source": [
        "test.head(3)"
      ]
    },
    {
      "cell_type": "code",
      "execution_count": 33,
      "metadata": {
        "colab": {
          "base_uri": "https://localhost:8080/"
        },
        "id": "hL0sA4jMGayl",
        "outputId": "9d745635-f8c2-4357-89ca-f694634098c4"
      },
      "outputs": [
        {
          "output_type": "stream",
          "name": "stdout",
          "text": [
            "<class 'pandas.core.frame.DataFrame'>\n",
            "Int64Index: 3366 entries, 3539 to 2732\n",
            "Data columns (total 75 columns):\n",
            " #   Column  Non-Null Count  Dtype  \n",
            "---  ------  --------------  -----  \n",
            " 0   PC1     3366 non-null   float64\n",
            " 1   PC2     3366 non-null   float64\n",
            " 2   PC3     3366 non-null   float64\n",
            " 3   PC4     3366 non-null   float64\n",
            " 4   PC5     3366 non-null   float64\n",
            " 5   PC6     3366 non-null   float64\n",
            " 6   PC7     3366 non-null   float64\n",
            " 7   PC8     3366 non-null   float64\n",
            " 8   PC9     3366 non-null   float64\n",
            " 9   PC10    3366 non-null   float64\n",
            " 10  PC11    3366 non-null   float64\n",
            " 11  PC12    3366 non-null   float64\n",
            " 12  PC13    3366 non-null   float64\n",
            " 13  PC14    3366 non-null   float64\n",
            " 14  PC15    3366 non-null   float64\n",
            " 15  PC16    3366 non-null   float64\n",
            " 16  PC17    3366 non-null   float64\n",
            " 17  PC18    3366 non-null   float64\n",
            " 18  PC19    3366 non-null   float64\n",
            " 19  PC20    3366 non-null   float64\n",
            " 20  PC21    3366 non-null   float64\n",
            " 21  PC22    3366 non-null   float64\n",
            " 22  PC23    3366 non-null   float64\n",
            " 23  PC24    3366 non-null   float64\n",
            " 24  PC25    3366 non-null   float64\n",
            " 25  PC26    3366 non-null   float64\n",
            " 26  PC27    3366 non-null   float64\n",
            " 27  PC28    3366 non-null   float64\n",
            " 28  PC29    3366 non-null   float64\n",
            " 29  PC30    3366 non-null   float64\n",
            " 30  PC31    3366 non-null   float64\n",
            " 31  PC32    3366 non-null   float64\n",
            " 32  PC33    3366 non-null   float64\n",
            " 33  PC34    3366 non-null   float64\n",
            " 34  PC35    3366 non-null   float64\n",
            " 35  PC36    3366 non-null   float64\n",
            " 36  PC37    3366 non-null   float64\n",
            " 37  PC38    3366 non-null   float64\n",
            " 38  PC39    3366 non-null   float64\n",
            " 39  PC40    3366 non-null   float64\n",
            " 40  PC41    3366 non-null   float64\n",
            " 41  PC42    3366 non-null   float64\n",
            " 42  PC43    3366 non-null   float64\n",
            " 43  PC44    3366 non-null   float64\n",
            " 44  PC45    3366 non-null   float64\n",
            " 45  PC46    3366 non-null   float64\n",
            " 46  PC47    3366 non-null   float64\n",
            " 47  PC48    3366 non-null   float64\n",
            " 48  PC49    3366 non-null   float64\n",
            " 49  PC50    3366 non-null   float64\n",
            " 50  PC51    3366 non-null   float64\n",
            " 51  PC52    3366 non-null   float64\n",
            " 52  PC53    3366 non-null   float64\n",
            " 53  PC54    3366 non-null   float64\n",
            " 54  PC55    3366 non-null   float64\n",
            " 55  PC56    3366 non-null   float64\n",
            " 56  PC57    3366 non-null   float64\n",
            " 57  PC58    3366 non-null   float64\n",
            " 58  PC59    3366 non-null   float64\n",
            " 59  PC60    3366 non-null   float64\n",
            " 60  PC61    3366 non-null   float64\n",
            " 61  PC62    3366 non-null   float64\n",
            " 62  PC63    3366 non-null   float64\n",
            " 63  PC64    3366 non-null   float64\n",
            " 64  PC65    3366 non-null   float64\n",
            " 65  PC66    3366 non-null   float64\n",
            " 66  PC67    3366 non-null   float64\n",
            " 67  PC68    3366 non-null   float64\n",
            " 68  PC69    3366 non-null   float64\n",
            " 69  PC70    3366 non-null   float64\n",
            " 70  PC71    3366 non-null   float64\n",
            " 71  PC72    3366 non-null   float64\n",
            " 72  PC73    3366 non-null   float64\n",
            " 73  PC74    3366 non-null   float64\n",
            " 74  PC75    3366 non-null   float64\n",
            "dtypes: float64(75)\n",
            "memory usage: 2.0 MB\n"
          ]
        }
      ],
      "source": [
        "train.info()"
      ]
    },
    {
      "cell_type": "code",
      "execution_count": 34,
      "metadata": {
        "colab": {
          "base_uri": "https://localhost:8080/"
        },
        "id": "Ke3GnpEXGayl",
        "outputId": "fb0ea558-4af4-4114-c63b-81fd470188d5"
      },
      "outputs": [
        {
          "output_type": "stream",
          "name": "stdout",
          "text": [
            "<class 'pandas.core.frame.DataFrame'>\n",
            "Int64Index: 842 entries, 3430 to 2741\n",
            "Data columns (total 75 columns):\n",
            " #   Column  Non-Null Count  Dtype  \n",
            "---  ------  --------------  -----  \n",
            " 0   PC1     842 non-null    float64\n",
            " 1   PC2     842 non-null    float64\n",
            " 2   PC3     842 non-null    float64\n",
            " 3   PC4     842 non-null    float64\n",
            " 4   PC5     842 non-null    float64\n",
            " 5   PC6     842 non-null    float64\n",
            " 6   PC7     842 non-null    float64\n",
            " 7   PC8     842 non-null    float64\n",
            " 8   PC9     842 non-null    float64\n",
            " 9   PC10    842 non-null    float64\n",
            " 10  PC11    842 non-null    float64\n",
            " 11  PC12    842 non-null    float64\n",
            " 12  PC13    842 non-null    float64\n",
            " 13  PC14    842 non-null    float64\n",
            " 14  PC15    842 non-null    float64\n",
            " 15  PC16    842 non-null    float64\n",
            " 16  PC17    842 non-null    float64\n",
            " 17  PC18    842 non-null    float64\n",
            " 18  PC19    842 non-null    float64\n",
            " 19  PC20    842 non-null    float64\n",
            " 20  PC21    842 non-null    float64\n",
            " 21  PC22    842 non-null    float64\n",
            " 22  PC23    842 non-null    float64\n",
            " 23  PC24    842 non-null    float64\n",
            " 24  PC25    842 non-null    float64\n",
            " 25  PC26    842 non-null    float64\n",
            " 26  PC27    842 non-null    float64\n",
            " 27  PC28    842 non-null    float64\n",
            " 28  PC29    842 non-null    float64\n",
            " 29  PC30    842 non-null    float64\n",
            " 30  PC31    842 non-null    float64\n",
            " 31  PC32    842 non-null    float64\n",
            " 32  PC33    842 non-null    float64\n",
            " 33  PC34    842 non-null    float64\n",
            " 34  PC35    842 non-null    float64\n",
            " 35  PC36    842 non-null    float64\n",
            " 36  PC37    842 non-null    float64\n",
            " 37  PC38    842 non-null    float64\n",
            " 38  PC39    842 non-null    float64\n",
            " 39  PC40    842 non-null    float64\n",
            " 40  PC41    842 non-null    float64\n",
            " 41  PC42    842 non-null    float64\n",
            " 42  PC43    842 non-null    float64\n",
            " 43  PC44    842 non-null    float64\n",
            " 44  PC45    842 non-null    float64\n",
            " 45  PC46    842 non-null    float64\n",
            " 46  PC47    842 non-null    float64\n",
            " 47  PC48    842 non-null    float64\n",
            " 48  PC49    842 non-null    float64\n",
            " 49  PC50    842 non-null    float64\n",
            " 50  PC51    842 non-null    float64\n",
            " 51  PC52    842 non-null    float64\n",
            " 52  PC53    842 non-null    float64\n",
            " 53  PC54    842 non-null    float64\n",
            " 54  PC55    842 non-null    float64\n",
            " 55  PC56    842 non-null    float64\n",
            " 56  PC57    842 non-null    float64\n",
            " 57  PC58    842 non-null    float64\n",
            " 58  PC59    842 non-null    float64\n",
            " 59  PC60    842 non-null    float64\n",
            " 60  PC61    842 non-null    float64\n",
            " 61  PC62    842 non-null    float64\n",
            " 62  PC63    842 non-null    float64\n",
            " 63  PC64    842 non-null    float64\n",
            " 64  PC65    842 non-null    float64\n",
            " 65  PC66    842 non-null    float64\n",
            " 66  PC67    842 non-null    float64\n",
            " 67  PC68    842 non-null    float64\n",
            " 68  PC69    842 non-null    float64\n",
            " 69  PC70    842 non-null    float64\n",
            " 70  PC71    842 non-null    float64\n",
            " 71  PC72    842 non-null    float64\n",
            " 72  PC73    842 non-null    float64\n",
            " 73  PC74    842 non-null    float64\n",
            " 74  PC75    842 non-null    float64\n",
            "dtypes: float64(75)\n",
            "memory usage: 499.9 KB\n"
          ]
        }
      ],
      "source": [
        "test.info()"
      ]
    },
    {
      "cell_type": "code",
      "execution_count": 35,
      "metadata": {
        "id": "mRm6hqgNGayl"
      },
      "outputs": [],
      "source": [
        "#%% split training set to validation set\n",
        "Xtrain, Xval, Ztrain, Zval = train_test_split(train, target, test_size=0.2, random_state=0)"
      ]
    },
    {
      "cell_type": "markdown",
      "metadata": {
        "id": "-ag_T1qFGaym"
      },
      "source": [
        "## 5. Tuning models and test for all features <a class=\"anchor\" id=\"5\"></a>\n",
        "\n",
        "[Back to Table of Contents](#0.1)"
      ]
    },
    {
      "cell_type": "markdown",
      "metadata": {
        "id": "v9QQ7VDCGaym"
      },
      "source": [
        "### 5.1 Logistic Regression <a class=\"anchor\" id=\"5.1\"></a>\n",
        "\n",
        "[Back to Table of Contents](#0.1)"
      ]
    },
    {
      "cell_type": "markdown",
      "metadata": {
        "id": "58rTFnspGaym"
      },
      "source": [
        "Thanks to https://www.kaggle.com/startupsci/titanic-data-science-solutions"
      ]
    },
    {
      "cell_type": "markdown",
      "metadata": {
        "id": "B3k6jSqIGaym"
      },
      "source": [
        "**Logistic Regression** is a useful model to run early in the workflow. Logistic regression measures the relationship between the categorical dependent variable (feature) and one or more independent variables (features) by estimating probabilities using a logistic function, which is the cumulative logistic distribution. Reference [Wikipedia](https://en.wikipedia.org/wiki/Logistic_regression).\n",
        "\n",
        "Note the confidence score generated by the model based on our training dataset."
      ]
    },
    {
      "cell_type": "code",
      "execution_count": 36,
      "metadata": {
        "colab": {
          "base_uri": "https://localhost:8080/"
        },
        "id": "p_M1nuLTGaym",
        "outputId": "75085573-3c2f-4cdd-9bf2-0fc29e32d499"
      },
      "outputs": [
        {
          "output_type": "execute_result",
          "data": {
            "text/plain": [
              "76.95"
            ]
          },
          "metadata": {},
          "execution_count": 36
        }
      ],
      "source": [
        "# Logistic Regression\n",
        "\n",
        "logreg = LogisticRegression()\n",
        "logreg.fit(train, target)\n",
        "acc_log = round(logreg.score(train, target) * 100, 2)\n",
        "acc_log"
      ]
    },
    {
      "cell_type": "code",
      "execution_count": 37,
      "metadata": {
        "colab": {
          "base_uri": "https://localhost:8080/"
        },
        "id": "r-BxWKrnGayn",
        "outputId": "b4ba6ae6-f080-4a8b-fe05-312a9b1bc4c3"
      },
      "outputs": [
        {
          "output_type": "execute_result",
          "data": {
            "text/plain": [
              "74.7"
            ]
          },
          "metadata": {},
          "execution_count": 37
        }
      ],
      "source": [
        "acc_test_log = round(logreg.score(test, target_test) * 100, 2)\n",
        "acc_test_log"
      ]
    },
    {
      "cell_type": "code",
      "source": [
        "# Print the Confusion Matrix and slice it into four pieces\n",
        "y_pred = logreg.predict(test)\n",
        "\n",
        "from sklearn.metrics import confusion_matrix\n",
        "\n",
        "cm = confusion_matrix(target_test, y_pred)\n",
        "\n",
        "print('Confusion matrix\\n\\n', cm)\n",
        "\n",
        "print('\\nTrue Positives(TP) = ', cm[0,0])\n",
        "\n",
        "print('\\nTrue Negatives(TN) = ', cm[1,1])\n",
        "\n",
        "print('\\nFalse Positives(FP) = ', cm[0,1])\n",
        "\n",
        "print('\\nFalse Negatives(FN) = ', cm[1,0])\n",
        "\n",
        "from sklearn.metrics import classification_report\n",
        "\n",
        "print(classification_report(target_test, y_pred))\n",
        "\n",
        "# visualize confusion matrix with seaborn heatmap\n",
        "import seaborn as sns\n",
        "cm_matrix = pd.DataFrame(data=cm, columns=['Actual Positive:1', 'Actual Negative:0'], \n",
        "                                 index=['Predict Positive:1', 'Predict Negative:0'])\n",
        "\n",
        "sns.heatmap(cm_matrix, annot=True, fmt='d', cmap='YlGnBu')\n",
        "print(\"--------------------------------------------------------------------------------------\")\n",
        "\n",
        "from sklearn.metrics import roc_curve\n",
        "\n",
        "\n",
        "def plot_roc_curve(fpr, tpr, label=None):\n",
        "    plt.plot(fpr, tpr, linewidth=2, label=label)\n",
        "    plt.plot([0, 1], [0, 1], \"k--\")\n",
        "    plt.axis([0, 1, 0, 1])\n",
        "    plt.xlabel('False Positive Rate')\n",
        "    plt.ylabel('True Positive Rate')\n",
        "    plt.title('ROC Curve')\n",
        "\n",
        "\n"
      ],
      "metadata": {
        "colab": {
          "base_uri": "https://localhost:8080/",
          "height": 664
        },
        "id": "JxPrYoCFesB_",
        "outputId": "1c1fa1b3-d44e-4f27-ca96-6d3e824cbbaa"
      },
      "execution_count": 38,
      "outputs": [
        {
          "output_type": "stream",
          "name": "stdout",
          "text": [
            "Confusion matrix\n",
            "\n",
            " [[302 126]\n",
            " [ 87 327]]\n",
            "\n",
            "True Positives(TP) =  302\n",
            "\n",
            "True Negatives(TN) =  327\n",
            "\n",
            "False Positives(FP) =  126\n",
            "\n",
            "False Negatives(FN) =  87\n",
            "              precision    recall  f1-score   support\n",
            "\n",
            "          MS       0.78      0.71      0.74       428\n",
            "         NMO       0.72      0.79      0.75       414\n",
            "\n",
            "    accuracy                           0.75       842\n",
            "   macro avg       0.75      0.75      0.75       842\n",
            "weighted avg       0.75      0.75      0.75       842\n",
            "\n",
            "--------------------------------------------------------------------------------------\n"
          ]
        },
        {
          "output_type": "display_data",
          "data": {
            "text/plain": [
              "<Figure size 432x288 with 2 Axes>"
            ],
            "image/png": "[encoded data removed]"
          },
          "metadata": {
            "needs_background": "light"
          }
        }
      ]
    },
    {
      "cell_type": "markdown",
      "metadata": {
        "id": "VFjnqVr0Gayn"
      },
      "source": [
        "We can use Logistic Regression to validate our assumptions and decisions for feature creating and completing goals. This can be done by calculating the coefficient of the features in the decision function.\n",
        "\n",
        "Positive coefficients increase the log-odds of the response (and thus increase the probability), and negative coefficients decrease the log-odds of the response (and thus decrease the probability).\n",
        "\n",
        "- *gluc* is highest coefficient\n",
        "- *height*, *smoke* are largest numbers by absolute value."
      ]
    },
    {
      "cell_type": "markdown",
      "metadata": {
        "id": "4IrB50y6Gayn"
      },
      "source": [
        "### 5.2 Support Vector Machines <a class=\"anchor\" id=\"5.2\"></a>\n",
        "\n",
        "[Back to Table of Contents](#0.1)"
      ]
    },
    {
      "cell_type": "markdown",
      "metadata": {
        "id": "zP7qQ7Q0Gayn"
      },
      "source": [
        "Thanks to https://www.kaggle.com/startupsci/titanic-data-science-solutions"
      ]
    },
    {
      "cell_type": "markdown",
      "metadata": {
        "id": "TbbWhRp8Gayn"
      },
      "source": [
        "**Support Vector Machines** are supervised learning models with associated learning algorithms that analyze data used for classification and regression analysis. Given a set of training samples, each marked as belonging to one or the other of two categories, an SVM training algorithm builds a model that assigns new test samples to one category or the other, making it a non-probabilistic binary linear classifier. Reference [Wikipedia](https://en.wikipedia.org/wiki/Support_vector_machine)."
      ]
    },
    {
      "cell_type": "code",
      "execution_count": 39,
      "metadata": {
        "colab": {
          "base_uri": "https://localhost:8080/"
        },
        "id": "BIyP6cxHGayo",
        "outputId": "64931a9b-c4d5-4d35-de8d-def0568ddd4d"
      },
      "outputs": [
        {
          "output_type": "execute_result",
          "data": {
            "text/plain": [
              "98.43"
            ]
          },
          "metadata": {},
          "execution_count": 39
        }
      ],
      "source": [
        "# Support Vector Machines\n",
        "\n",
        "svc = SVC()\n",
        "svc.fit(train, target)\n",
        "acc_svc = round(svc.score(train, target) * 100, 2)\n",
        "acc_svc"
      ]
    },
    {
      "cell_type": "code",
      "execution_count": 40,
      "metadata": {
        "colab": {
          "base_uri": "https://localhost:8080/"
        },
        "id": "k5vofFTbGayo",
        "outputId": "5c7d0f6c-5d54-4ced-a56f-56d757e0ae4f"
      },
      "outputs": [
        {
          "output_type": "execute_result",
          "data": {
            "text/plain": [
              "96.32"
            ]
          },
          "metadata": {},
          "execution_count": 40
        }
      ],
      "source": [
        "acc_test_svc = round(svc.score(test, target_test) * 100, 2)\n",
        "acc_test_svc"
      ]
    },
    {
      "cell_type": "code",
      "source": [
        "# Print the Confusion Matrix and slice it into four pieces\n",
        "y_pred = svc.predict(test)\n",
        "\n",
        "from sklearn.metrics import confusion_matrix\n",
        "\n",
        "cm = confusion_matrix(target_test, y_pred)\n",
        "\n",
        "print('Confusion matrix\\n\\n', cm)\n",
        "\n",
        "print('\\nTrue Positives(TP) = ', cm[0,0])\n",
        "\n",
        "print('\\nTrue Negatives(TN) = ', cm[1,1])\n",
        "\n",
        "print('\\nFalse Positives(FP) = ', cm[0,1])\n",
        "\n",
        "print('\\nFalse Negatives(FN) = ', cm[1,0])\n",
        "\n",
        "from sklearn.metrics import classification_report\n",
        "\n",
        "print(classification_report(target_test, y_pred))\n",
        "\n",
        "# visualize confusion matrix with seaborn heatmap\n",
        "import seaborn as sns\n",
        "cm_matrix = pd.DataFrame(data=cm, columns=['Actual Positive:1', 'Actual Negative:0'], \n",
        "                                 index=['Predict Positive:1', 'Predict Negative:0'])\n",
        "\n",
        "sns.heatmap(cm_matrix, annot=True, fmt='d', cmap='YlGnBu')\n",
        "print(\"--------------------------------------------------------------------------------------\")\n",
        "\n",
        "from sklearn.metrics import roc_curve\n",
        "\n",
        "\n",
        "def plot_roc_curve(fpr, tpr, label=None):\n",
        "    plt.plot(fpr, tpr, linewidth=2, label=label)\n",
        "    plt.plot([0, 1], [0, 1], \"k--\")\n",
        "    plt.axis([0, 1, 0, 1])\n",
        "    plt.xlabel('False Positive Rate')\n",
        "    plt.ylabel('True Positive Rate')\n",
        "    plt.title('ROC Curve')\n",
        "\n",
        "\n"
      ],
      "metadata": {
        "colab": {
          "base_uri": "https://localhost:8080/",
          "height": 664
        },
        "id": "9J0gpSvOe9TX",
        "outputId": "60584973-42e8-4320-80dd-a1f19c4de2ae"
      },
      "execution_count": 41,
      "outputs": [
        {
          "output_type": "stream",
          "name": "stdout",
          "text": [
            "Confusion matrix\n",
            "\n",
            " [[403  25]\n",
            " [  6 408]]\n",
            "\n",
            "True Positives(TP) =  403\n",
            "\n",
            "True Negatives(TN) =  408\n",
            "\n",
            "False Positives(FP) =  25\n",
            "\n",
            "False Negatives(FN) =  6\n",
            "              precision    recall  f1-score   support\n",
            "\n",
            "          MS       0.99      0.94      0.96       428\n",
            "         NMO       0.94      0.99      0.96       414\n",
            "\n",
            "    accuracy                           0.96       842\n",
            "   macro avg       0.96      0.96      0.96       842\n",
            "weighted avg       0.96      0.96      0.96       842\n",
            "\n",
            "--------------------------------------------------------------------------------------\n"
          ]
        },
        {
          "output_type": "display_data",
          "data": {
            "text/plain": [
              "<Figure size 432x288 with 2 Axes>"
            ],
            "image/png": "[encoded data removed]"
          },
          "metadata": {
            "needs_background": "light"
          }
        }
      ]
    },
    {
      "cell_type": "markdown",
      "metadata": {
        "id": "DnAEI0FrGayp"
      },
      "source": [
        "### 5.4 k-Nearest Neighbors algorithm <a class=\"anchor\" id=\"5.4\"></a>\n",
        "\n",
        "[Back to Table of Contents](#0.1)"
      ]
    },
    {
      "cell_type": "markdown",
      "metadata": {
        "id": "9WA3cbRWGayp"
      },
      "source": [
        "Thanks to https://www.kaggle.com/startupsci/titanic-data-science-solutions"
      ]
    },
    {
      "cell_type": "markdown",
      "metadata": {
        "id": "flvJtu0hGayp"
      },
      "source": [
        "In pattern recognition, the **k-Nearest Neighbors algorithm** (or k-NN for short) is a non-parametric method used for classification and regression. A sample is classified by a majority vote of its neighbors, with the sample being assigned to the class most common among its k nearest neighbors (k is a positive integer, typically small). Reference [Wikipedia](https://en.wikipedia.org/wiki/K-nearest_neighbors_algorithm)."
      ]
    },
    {
      "cell_type": "code",
      "execution_count": 42,
      "metadata": {
        "colab": {
          "base_uri": "https://localhost:8080/"
        },
        "id": "FIsUo_gTGayp",
        "outputId": "77eab3db-f38e-49fe-9f6a-dd00e396f66d"
      },
      "outputs": [
        {
          "output_type": "stream",
          "name": "stdout",
          "text": [
            "99.73 {'n_neighbors': 2}\n"
          ]
        }
      ],
      "source": [
        "# k-Nearest Neighbors algorithm\n",
        "\n",
        "knn = GridSearchCV(estimator=KNeighborsClassifier(), param_grid={'n_neighbors': [2, 3]}, cv=10).fit(train, target)\n",
        "acc_knn = round(knn.score(train, target) * 100, 2)\n",
        "print(acc_knn, knn.best_params_)"
      ]
    },
    {
      "cell_type": "code",
      "execution_count": 43,
      "metadata": {
        "colab": {
          "base_uri": "https://localhost:8080/"
        },
        "id": "1D0rvDM3Gayp",
        "outputId": "24bbccde-acaa-47d3-d290-905a75811ef3"
      },
      "outputs": [
        {
          "output_type": "execute_result",
          "data": {
            "text/plain": [
              "98.57"
            ]
          },
          "metadata": {},
          "execution_count": 43
        }
      ],
      "source": [
        "acc_test_knn = round(knn.score(test, target_test) * 100, 2)\n",
        "acc_test_knn"
      ]
    },
    {
      "cell_type": "code",
      "source": [
        "# Print the Confusion Matrix and slice it into four pieces\n",
        "y_pred = knn.predict(test)\n",
        "\n",
        "from sklearn.metrics import confusion_matrix\n",
        "\n",
        "cm = confusion_matrix(target_test, y_pred)\n",
        "\n",
        "print('Confusion matrix\\n\\n', cm)\n",
        "\n",
        "print('\\nTrue Positives(TP) = ', cm[0,0])\n",
        "\n",
        "print('\\nTrue Negatives(TN) = ', cm[1,1])\n",
        "\n",
        "print('\\nFalse Positives(FP) = ', cm[0,1])\n",
        "\n",
        "print('\\nFalse Negatives(FN) = ', cm[1,0])\n",
        "\n",
        "from sklearn.metrics import classification_report\n",
        "\n",
        "print(classification_report(target_test, y_pred))\n",
        "\n",
        "# visualize confusion matrix with seaborn heatmap\n",
        "import seaborn as sns\n",
        "cm_matrix = pd.DataFrame(data=cm, columns=['Actual Positive:1', 'Actual Negative:0'], \n",
        "                                 index=['Predict Positive:1', 'Predict Negative:0'])\n",
        "\n",
        "sns.heatmap(cm_matrix, annot=True, fmt='d', cmap='YlGnBu')\n",
        "print(\"--------------------------------------------------------------------------------------\")\n",
        "\n",
        "from sklearn.metrics import roc_curve\n",
        "\n",
        "\n",
        "def plot_roc_curve(fpr, tpr, label=None):\n",
        "    plt.plot(fpr, tpr, linewidth=2, label=label)\n",
        "    plt.plot([0, 1], [0, 1], \"k--\")\n",
        "    plt.axis([0, 1, 0, 1])\n",
        "    plt.xlabel('False Positive Rate')\n",
        "    plt.ylabel('True Positive Rate')\n",
        "    plt.title('ROC Curve')\n",
        "\n",
        "\n"
      ],
      "metadata": {
        "colab": {
          "base_uri": "https://localhost:8080/",
          "height": 664
        },
        "id": "SAQXV1TqfKfQ",
        "outputId": "a94acebd-8809-49f5-944d-10c985ba5f84"
      },
      "execution_count": 44,
      "outputs": [
        {
          "output_type": "stream",
          "name": "stdout",
          "text": [
            "Confusion matrix\n",
            "\n",
            " [[425   3]\n",
            " [  9 405]]\n",
            "\n",
            "True Positives(TP) =  425\n",
            "\n",
            "True Negatives(TN) =  405\n",
            "\n",
            "False Positives(FP) =  3\n",
            "\n",
            "False Negatives(FN) =  9\n",
            "              precision    recall  f1-score   support\n",
            "\n",
            "          MS       0.98      0.99      0.99       428\n",
            "         NMO       0.99      0.98      0.99       414\n",
            "\n",
            "    accuracy                           0.99       842\n",
            "   macro avg       0.99      0.99      0.99       842\n",
            "weighted avg       0.99      0.99      0.99       842\n",
            "\n",
            "--------------------------------------------------------------------------------------\n"
          ]
        },
        {
          "output_type": "display_data",
          "data": {
            "text/plain": [
              "<Figure size 432x288 with 2 Axes>"
            ],
            "image/png": "[encoded data removed]"
          },
          "metadata": {
            "needs_background": "light"
          }
        }
      ]
    },
    {
      "cell_type": "markdown",
      "metadata": {
        "id": "m4wXReuvGayp"
      },
      "source": [
        "### 5.5 Naive Bayes <a class=\"anchor\" id=\"5.5\"></a>\n",
        "\n",
        "[Back to Table of Contents](#0.1)"
      ]
    },
    {
      "cell_type": "markdown",
      "metadata": {
        "id": "4eOBZG2sGayp"
      },
      "source": [
        "Thanks to https://www.kaggle.com/startupsci/titanic-data-science-solutions"
      ]
    },
    {
      "cell_type": "markdown",
      "metadata": {
        "id": "QEfHhDuiGayq"
      },
      "source": [
        "In machine learning, **Naive Bayes classifiers** are a family of simple probabilistic classifiers based on applying Bayes' theorem with strong (naive) independence assumptions between the features. Naive Bayes classifiers are highly scalable, requiring a number of parameters linear in the number of variables (features) in a learning problem. Reference [Wikipedia](https://en.wikipedia.org/wiki/Naive_Bayes_classifier)."
      ]
    },
    {
      "cell_type": "code",
      "execution_count": 45,
      "metadata": {
        "colab": {
          "base_uri": "https://localhost:8080/"
        },
        "id": "_tXxbPzxGayq",
        "outputId": "f44bb453-ea6f-4ab8-9a2b-85532dcacb19"
      },
      "outputs": [
        {
          "output_type": "execute_result",
          "data": {
            "text/plain": [
              "69.43"
            ]
          },
          "metadata": {},
          "execution_count": 45
        }
      ],
      "source": [
        "# Gaussian Naive Bayes\n",
        "\n",
        "gaussian = GaussianNB()\n",
        "gaussian.fit(train, target)\n",
        "acc_gaussian = round(gaussian.score(train, target) * 100, 2)\n",
        "acc_gaussian"
      ]
    },
    {
      "cell_type": "code",
      "execution_count": 46,
      "metadata": {
        "colab": {
          "base_uri": "https://localhost:8080/"
        },
        "id": "oGhFXxIwGayq",
        "outputId": "fdce7f20-d98f-4773-e623-3676183cf0c4"
      },
      "outputs": [
        {
          "output_type": "execute_result",
          "data": {
            "text/plain": [
              "67.58"
            ]
          },
          "metadata": {},
          "execution_count": 46
        }
      ],
      "source": [
        "acc_test_gaussian = round(gaussian.score(test, target_test) * 100, 2)\n",
        "acc_test_gaussian"
      ]
    },
    {
      "cell_type": "code",
      "source": [
        "# Print the Confusion Matrix and slice it into four pieces\n",
        "y_pred = gaussian.predict(test)\n",
        "\n",
        "from sklearn.metrics import confusion_matrix\n",
        "\n",
        "cm = confusion_matrix(target_test, y_pred)\n",
        "\n",
        "print('Confusion matrix\\n\\n', cm)\n",
        "\n",
        "print('\\nTrue Positives(TP) = ', cm[0,0])\n",
        "\n",
        "print('\\nTrue Negatives(TN) = ', cm[1,1])\n",
        "\n",
        "print('\\nFalse Positives(FP) = ', cm[0,1])\n",
        "\n",
        "print('\\nFalse Negatives(FN) = ', cm[1,0])\n",
        "\n",
        "from sklearn.metrics import classification_report\n",
        "\n",
        "print(classification_report(target_test, y_pred))\n",
        "\n",
        "# visualize confusion matrix with seaborn heatmap\n",
        "import seaborn as sns\n",
        "cm_matrix = pd.DataFrame(data=cm, columns=['Actual Positive:1', 'Actual Negative:0'], \n",
        "                                 index=['Predict Positive:1', 'Predict Negative:0'])\n",
        "\n",
        "sns.heatmap(cm_matrix, annot=True, fmt='d', cmap='YlGnBu')\n",
        "print(\"--------------------------------------------------------------------------------------\")\n",
        "\n",
        "from sklearn.metrics import roc_curve\n",
        "\n",
        "\n",
        "def plot_roc_curve(fpr, tpr, label=None):\n",
        "    plt.plot(fpr, tpr, linewidth=2, label=label)\n",
        "    plt.plot([0, 1], [0, 1], \"k--\")\n",
        "    plt.axis([0, 1, 0, 1])\n",
        "    plt.xlabel('False Positive Rate')\n",
        "    plt.ylabel('True Positive Rate')\n",
        "    plt.title('ROC Curve')\n",
        "\n",
        "\n"
      ],
      "metadata": {
        "colab": {
          "base_uri": "https://localhost:8080/",
          "height": 664
        },
        "id": "kvFRyDtAfQYo",
        "outputId": "436ab47f-7b7a-4ff7-d824-12d8dc943771"
      },
      "execution_count": 47,
      "outputs": [
        {
          "output_type": "stream",
          "name": "stdout",
          "text": [
            "Confusion matrix\n",
            "\n",
            " [[263 165]\n",
            " [108 306]]\n",
            "\n",
            "True Positives(TP) =  263\n",
            "\n",
            "True Negatives(TN) =  306\n",
            "\n",
            "False Positives(FP) =  165\n",
            "\n",
            "False Negatives(FN) =  108\n",
            "              precision    recall  f1-score   support\n",
            "\n",
            "          MS       0.71      0.61      0.66       428\n",
            "         NMO       0.65      0.74      0.69       414\n",
            "\n",
            "    accuracy                           0.68       842\n",
            "   macro avg       0.68      0.68      0.67       842\n",
            "weighted avg       0.68      0.68      0.67       842\n",
            "\n",
            "--------------------------------------------------------------------------------------\n"
          ]
        },
        {
          "output_type": "display_data",
          "data": {
            "text/plain": [
              "<Figure size 432x288 with 2 Axes>"
            ],
            "image/png": "[encoded data removed]"
          },
          "metadata": {
            "needs_background": "light"
          }
        }
      ]
    },
    {
      "cell_type": "markdown",
      "metadata": {
        "id": "S1fyJ16eGayq"
      },
      "source": [
        "### 5.6 Perceptron <a class=\"anchor\" id=\"5.6\"></a>\n",
        "\n",
        "[Back to Table of Contents](#0.1)"
      ]
    },
    {
      "cell_type": "markdown",
      "metadata": {
        "id": "1K4pveIzGayq"
      },
      "source": [
        "Thanks to https://www.kaggle.com/startupsci/titanic-data-science-solutions"
      ]
    },
    {
      "cell_type": "markdown",
      "metadata": {
        "id": "lX-2MVAaGayq"
      },
      "source": [
        "The **Perceptron** is an algorithm for supervised learning of binary classifiers (functions that can decide whether an input, represented by a vector of numbers, belongs to some specific class or not). It is a type of linear classifier, i.e. a classification algorithm that makes its predictions based on a linear predictor function combining a set of weights with the feature vector. The algorithm allows for online learning, in that it processes elements in the training set one at a time. Reference [Wikipedia](https://en.wikipedia.org/wiki/Perceptron)."
      ]
    },
    {
      "cell_type": "code",
      "execution_count": 48,
      "metadata": {
        "colab": {
          "base_uri": "https://localhost:8080/"
        },
        "id": "5b40Uim2Gayq",
        "outputId": "d4767a07-e2d9-4222-bea2-b5333970364e"
      },
      "outputs": [
        {
          "output_type": "execute_result",
          "data": {
            "text/plain": [
              "71.51"
            ]
          },
          "metadata": {},
          "execution_count": 48
        }
      ],
      "source": [
        "# Perceptron\n",
        "\n",
        "perceptron = Perceptron()\n",
        "perceptron.fit(train, target)\n",
        "acc_perceptron = round(perceptron.score(train, target) * 100, 2)\n",
        "acc_perceptron"
      ]
    },
    {
      "cell_type": "code",
      "execution_count": 49,
      "metadata": {
        "colab": {
          "base_uri": "https://localhost:8080/"
        },
        "id": "zkgjHYpYGayq",
        "outputId": "9d069005-0d75-4d06-b237-8258285fe907"
      },
      "outputs": [
        {
          "output_type": "execute_result",
          "data": {
            "text/plain": [
              "69.71"
            ]
          },
          "metadata": {},
          "execution_count": 49
        }
      ],
      "source": [
        "acc_test_perceptron = round(perceptron.score(test, target_test) * 100, 2)\n",
        "acc_test_perceptron"
      ]
    },
    {
      "cell_type": "code",
      "source": [
        "# Print the Confusion Matrix and slice it into four pieces\n",
        "y_pred = perceptron.predict(test)\n",
        "\n",
        "from sklearn.metrics import confusion_matrix\n",
        "\n",
        "cm = confusion_matrix(target_test, y_pred)\n",
        "\n",
        "print('Confusion matrix\\n\\n', cm)\n",
        "\n",
        "print('\\nTrue Positives(TP) = ', cm[0,0])\n",
        "\n",
        "print('\\nTrue Negatives(TN) = ', cm[1,1])\n",
        "\n",
        "print('\\nFalse Positives(FP) = ', cm[0,1])\n",
        "\n",
        "print('\\nFalse Negatives(FN) = ', cm[1,0])\n",
        "\n",
        "from sklearn.metrics import classification_report\n",
        "\n",
        "print(classification_report(target_test, y_pred))\n",
        "\n",
        "# visualize confusion matrix with seaborn heatmap\n",
        "import seaborn as sns\n",
        "cm_matrix = pd.DataFrame(data=cm, columns=['Actual Positive:1', 'Actual Negative:0'], \n",
        "                                 index=['Predict Positive:1', 'Predict Negative:0'])\n",
        "\n",
        "sns.heatmap(cm_matrix, annot=True, fmt='d', cmap='YlGnBu')\n",
        "print(\"--------------------------------------------------------------------------------------\")\n",
        "\n",
        "from sklearn.metrics import roc_curve\n",
        "\n",
        "\n",
        "def plot_roc_curve(fpr, tpr, label=None):\n",
        "    plt.plot(fpr, tpr, linewidth=2, label=label)\n",
        "    plt.plot([0, 1], [0, 1], \"k--\")\n",
        "    plt.axis([0, 1, 0, 1])\n",
        "    plt.xlabel('False Positive Rate')\n",
        "    plt.ylabel('True Positive Rate')\n",
        "    plt.title('ROC Curve')\n",
        "\n",
        "\n"
      ],
      "metadata": {
        "colab": {
          "base_uri": "https://localhost:8080/",
          "height": 664
        },
        "id": "rmhAAMCAfWfn",
        "outputId": "72f1b5ff-a58d-4dd0-ed31-2debd7c26aba"
      },
      "execution_count": 50,
      "outputs": [
        {
          "output_type": "stream",
          "name": "stdout",
          "text": [
            "Confusion matrix\n",
            "\n",
            " [[251 177]\n",
            " [ 78 336]]\n",
            "\n",
            "True Positives(TP) =  251\n",
            "\n",
            "True Negatives(TN) =  336\n",
            "\n",
            "False Positives(FP) =  177\n",
            "\n",
            "False Negatives(FN) =  78\n",
            "              precision    recall  f1-score   support\n",
            "\n",
            "          MS       0.76      0.59      0.66       428\n",
            "         NMO       0.65      0.81      0.72       414\n",
            "\n",
            "    accuracy                           0.70       842\n",
            "   macro avg       0.71      0.70      0.69       842\n",
            "weighted avg       0.71      0.70      0.69       842\n",
            "\n",
            "--------------------------------------------------------------------------------------\n"
          ]
        },
        {
          "output_type": "display_data",
          "data": {
            "text/plain": [
              "<Figure size 432x288 with 2 Axes>"
            ],
            "image/png": "[encoded data removed]"
          },
          "metadata": {
            "needs_background": "light"
          }
        }
      ]
    },
    {
      "cell_type": "markdown",
      "metadata": {
        "id": "7pki7NBGGayr"
      },
      "source": [
        "### 5.7 Stochastic Gradient Descent <a class=\"anchor\" id=\"5.7\"></a>\n",
        "\n",
        "[Back to Table of Contents](#0.1)"
      ]
    },
    {
      "cell_type": "markdown",
      "metadata": {
        "id": "zDUGk44jGayr"
      },
      "source": [
        "Thanks to https://www.kaggle.com/startupsci/titanic-data-science-solutions"
      ]
    },
    {
      "cell_type": "markdown",
      "metadata": {
        "id": "ZzhH_YD2Gayr"
      },
      "source": [
        "**Stochastic gradient descent** (often abbreviated **SGD**) is an iterative method for optimizing an objective function with suitable smoothness properties (e.g. differentiable or subdifferentiable). It can be regarded as a stochastic approximation of gradient descent optimization, since it replaces the actual gradient (calculated from the entire data set) by an estimate thereof (calculated from a randomly selected subset of the data). Especially in big data applications this reduces the computational burden, achieving faster iterations in trade for a slightly lower convergence rate. Reference [Wikipedia](https://en.wikipedia.org/wiki/Stochastic_gradient_descent)."
      ]
    },
    {
      "cell_type": "code",
      "execution_count": 51,
      "metadata": {
        "colab": {
          "base_uri": "https://localhost:8080/"
        },
        "id": "ZEpD2zJ5Gayr",
        "outputId": "177628fa-8616-4165-e23c-dce959b7c7b5"
      },
      "outputs": [
        {
          "output_type": "execute_result",
          "data": {
            "text/plain": [
              "75.91"
            ]
          },
          "metadata": {},
          "execution_count": 51
        }
      ],
      "source": [
        "# Stochastic Gradient Descent\n",
        "\n",
        "sgd = SGDClassifier()\n",
        "sgd.fit(train, target)\n",
        "acc_sgd = round(sgd.score(train, target) * 100, 2)\n",
        "acc_sgd"
      ]
    },
    {
      "cell_type": "code",
      "execution_count": 52,
      "metadata": {
        "colab": {
          "base_uri": "https://localhost:8080/"
        },
        "id": "nIurpWUUGayr",
        "outputId": "be6391d9-4bf5-41ee-e02c-f6c8dc01a274"
      },
      "outputs": [
        {
          "output_type": "execute_result",
          "data": {
            "text/plain": [
              "73.63"
            ]
          },
          "metadata": {},
          "execution_count": 52
        }
      ],
      "source": [
        "acc_test_sgd = round(sgd.score(test, target_test) * 100, 2)\n",
        "acc_test_sgd"
      ]
    },
    {
      "cell_type": "code",
      "source": [
        "# Print the Confusion Matrix and slice it into four pieces\n",
        "y_pred = sgd.predict(test)\n",
        "\n",
        "from sklearn.metrics import confusion_matrix\n",
        "\n",
        "cm = confusion_matrix(target_test, y_pred)\n",
        "\n",
        "print('Confusion matrix\\n\\n', cm)\n",
        "\n",
        "print('\\nTrue Positives(TP) = ', cm[0,0])\n",
        "\n",
        "print('\\nTrue Negatives(TN) = ', cm[1,1])\n",
        "\n",
        "print('\\nFalse Positives(FP) = ', cm[0,1])\n",
        "\n",
        "print('\\nFalse Negatives(FN) = ', cm[1,0])\n",
        "\n",
        "from sklearn.metrics import classification_report\n",
        "\n",
        "print(classification_report(target_test, y_pred))\n",
        "\n",
        "# visualize confusion matrix with seaborn heatmap\n",
        "import seaborn as sns\n",
        "cm_matrix = pd.DataFrame(data=cm, columns=['Actual Positive:1', 'Actual Negative:0'], \n",
        "                                 index=['Predict Positive:1', 'Predict Negative:0'])\n",
        "\n",
        "sns.heatmap(cm_matrix, annot=True, fmt='d', cmap='YlGnBu')\n",
        "print(\"--------------------------------------------------------------------------------------\")\n",
        "\n",
        "from sklearn.metrics import roc_curve\n",
        "\n",
        "\n",
        "def plot_roc_curve(fpr, tpr, label=None):\n",
        "    plt.plot(fpr, tpr, linewidth=2, label=label)\n",
        "    plt.plot([0, 1], [0, 1], \"k--\")\n",
        "    plt.axis([0, 1, 0, 1])\n",
        "    plt.xlabel('False Positive Rate')\n",
        "    plt.ylabel('True Positive Rate')\n",
        "    plt.title('ROC Curve')\n",
        "\n",
        "\n"
      ],
      "metadata": {
        "colab": {
          "base_uri": "https://localhost:8080/",
          "height": 664
        },
        "id": "PpIRZ3K6ffHX",
        "outputId": "55718e85-49a7-403c-c556-d99140deb04e"
      },
      "execution_count": 53,
      "outputs": [
        {
          "output_type": "stream",
          "name": "stdout",
          "text": [
            "Confusion matrix\n",
            "\n",
            " [[254 174]\n",
            " [ 48 366]]\n",
            "\n",
            "True Positives(TP) =  254\n",
            "\n",
            "True Negatives(TN) =  366\n",
            "\n",
            "False Positives(FP) =  174\n",
            "\n",
            "False Negatives(FN) =  48\n",
            "              precision    recall  f1-score   support\n",
            "\n",
            "          MS       0.84      0.59      0.70       428\n",
            "         NMO       0.68      0.88      0.77       414\n",
            "\n",
            "    accuracy                           0.74       842\n",
            "   macro avg       0.76      0.74      0.73       842\n",
            "weighted avg       0.76      0.74      0.73       842\n",
            "\n",
            "--------------------------------------------------------------------------------------\n"
          ]
        },
        {
          "output_type": "display_data",
          "data": {
            "text/plain": [
              "<Figure size 432x288 with 2 Axes>"
            ],
            "image/png": "[encoded data removed]"
          },
          "metadata": {
            "needs_background": "light"
          }
        }
      ]
    },
    {
      "cell_type": "markdown",
      "metadata": {
        "id": "8cqvfYmsGayr"
      },
      "source": [
        "### 5.8 Decision Tree Classifier <a class=\"anchor\" id=\"5.8\"></a>\n",
        "\n",
        "[Back to Table of Contents](#0.1)"
      ]
    },
    {
      "cell_type": "markdown",
      "metadata": {
        "id": "Aho76NBqGayr"
      },
      "source": [
        "Thanks to https://www.kaggle.com/startupsci/titanic-data-science-solutions"
      ]
    },
    {
      "cell_type": "markdown",
      "metadata": {
        "id": "rrcUxyc2Gayr"
      },
      "source": [
        "This model uses a **Decision Tree** as a predictive model which maps features (tree branches) to conclusions about the target value (tree leaves). Tree models where the target variable can take a finite set of values are called classification trees; in these tree structures, leaves represent class labels and branches represent conjunctions of features that lead to those class labels. Decision trees where the target variable can take continuous values (typically real numbers) are called regression trees. Reference [Wikipedia](https://en.wikipedia.org/wiki/Decision_tree_learning)."
      ]
    },
    {
      "cell_type": "code",
      "execution_count": 54,
      "metadata": {
        "colab": {
          "base_uri": "https://localhost:8080/"
        },
        "id": "D_D1B70HGays",
        "outputId": "37665af3-b109-4e1f-b0b7-8dc84afb8e0e"
      },
      "outputs": [
        {
          "output_type": "execute_result",
          "data": {
            "text/plain": [
              "100.0"
            ]
          },
          "metadata": {},
          "execution_count": 54
        }
      ],
      "source": [
        "# Decision Tree Classifier\n",
        "\n",
        "decision_tree = DecisionTreeClassifier()\n",
        "decision_tree.fit(train, target)\n",
        "acc_decision_tree = round(decision_tree.score(train, target) * 100, 2)\n",
        "acc_decision_tree"
      ]
    },
    {
      "cell_type": "code",
      "execution_count": 55,
      "metadata": {
        "colab": {
          "base_uri": "https://localhost:8080/"
        },
        "id": "vYgPboaTGays",
        "outputId": "d892f8b0-e144-49de-eecd-1f3a86c61030"
      },
      "outputs": [
        {
          "output_type": "execute_result",
          "data": {
            "text/plain": [
              "76.25"
            ]
          },
          "metadata": {},
          "execution_count": 55
        }
      ],
      "source": [
        "acc_test_decision_tree = round(decision_tree.score(test, target_test) * 100, 2)\n",
        "acc_test_decision_tree"
      ]
    },
    {
      "cell_type": "code",
      "source": [
        "# Print the Confusion Matrix and slice it into four pieces\n",
        "y_pred = decision_tree.predict(test)\n",
        "\n",
        "from sklearn.metrics import confusion_matrix\n",
        "\n",
        "cm = confusion_matrix(target_test, y_pred)\n",
        "\n",
        "print('Confusion matrix\\n\\n', cm)\n",
        "\n",
        "print('\\nTrue Positives(TP) = ', cm[0,0])\n",
        "\n",
        "print('\\nTrue Negatives(TN) = ', cm[1,1])\n",
        "\n",
        "print('\\nFalse Positives(FP) = ', cm[0,1])\n",
        "\n",
        "print('\\nFalse Negatives(FN) = ', cm[1,0])\n",
        "\n",
        "from sklearn.metrics import classification_report\n",
        "\n",
        "print(classification_report(target_test, y_pred))\n",
        "\n",
        "# visualize confusion matrix with seaborn heatmap\n",
        "import seaborn as sns\n",
        "cm_matrix = pd.DataFrame(data=cm, columns=['Actual Positive:1', 'Actual Negative:0'], \n",
        "                                 index=['Predict Positive:1', 'Predict Negative:0'])\n",
        "\n",
        "sns.heatmap(cm_matrix, annot=True, fmt='d', cmap='YlGnBu')\n",
        "print(\"--------------------------------------------------------------------------------------\")\n",
        "\n",
        "from sklearn.metrics import roc_curve\n",
        "\n",
        "\n",
        "def plot_roc_curve(fpr, tpr, label=None):\n",
        "    plt.plot(fpr, tpr, linewidth=2, label=label)\n",
        "    plt.plot([0, 1], [0, 1], \"k--\")\n",
        "    plt.axis([0, 1, 0, 1])\n",
        "    plt.xlabel('False Positive Rate')\n",
        "    plt.ylabel('True Positive Rate')\n",
        "    plt.title('ROC Curve')\n",
        "\n",
        "\n"
      ],
      "metadata": {
        "colab": {
          "base_uri": "https://localhost:8080/",
          "height": 664
        },
        "id": "P_hjDY5-fjT_",
        "outputId": "51b2fc79-0148-4c9a-d120-52f19327ae57"
      },
      "execution_count": 56,
      "outputs": [
        {
          "output_type": "stream",
          "name": "stdout",
          "text": [
            "Confusion matrix\n",
            "\n",
            " [[318 110]\n",
            " [ 90 324]]\n",
            "\n",
            "True Positives(TP) =  318\n",
            "\n",
            "True Negatives(TN) =  324\n",
            "\n",
            "False Positives(FP) =  110\n",
            "\n",
            "False Negatives(FN) =  90\n",
            "              precision    recall  f1-score   support\n",
            "\n",
            "          MS       0.78      0.74      0.76       428\n",
            "         NMO       0.75      0.78      0.76       414\n",
            "\n",
            "    accuracy                           0.76       842\n",
            "   macro avg       0.76      0.76      0.76       842\n",
            "weighted avg       0.76      0.76      0.76       842\n",
            "\n",
            "--------------------------------------------------------------------------------------\n"
          ]
        },
        {
          "output_type": "display_data",
          "data": {
            "text/plain": [
              "<Figure size 432x288 with 2 Axes>"
            ],
            "image/png": "[encoded data removed]"
          },
          "metadata": {
            "needs_background": "light"
          }
        }
      ]
    },
    {
      "cell_type": "markdown",
      "metadata": {
        "id": "w12UGihXGays"
      },
      "source": [
        "### 5.9 Random Forests <a class=\"anchor\" id=\"5.9\"></a>\n",
        "\n",
        "[Back to Table of Contents](#0.1)"
      ]
    },
    {
      "cell_type": "markdown",
      "metadata": {
        "id": "MExShB_7Gays"
      },
      "source": [
        "Thanks to https://www.kaggle.com/startupsci/titanic-data-science-solutions"
      ]
    },
    {
      "cell_type": "markdown",
      "metadata": {
        "id": "YMQUainLGays"
      },
      "source": [
        "**Random Forests** is one of the most popular model. Random forests or random decision forests are an ensemble learning method for classification, regression and other tasks, that operate by constructing a multitude of decision trees (n_estimators= [100, 300]) at training time and outputting the class that is the mode of the classes (classification) or mean prediction (regression) of the individual trees. Reference [Wikipedia](https://en.wikipedia.org/wiki/Random_forest)."
      ]
    },
    {
      "cell_type": "code",
      "execution_count": 68,
      "metadata": {
        "colab": {
          "base_uri": "https://localhost:8080/"
        },
        "id": "PYDDh71rGays",
        "outputId": "bd6e56a5-0dbc-4062-f02f-70f5197cce4e"
      },
      "outputs": [
        {
          "output_type": "stream",
          "name": "stdout",
          "text": [
            "100.0 {'n_estimators': 300}\n"
          ]
        }
      ],
      "source": [
        "# Random Forest\n",
        "\n",
        "random_forest = GridSearchCV(estimator=RandomForestClassifier(), param_grid={'n_estimators': [20, 300]}, cv=5).fit(train, target)\n",
        "random_forest.fit(train, target)\n",
        "acc_random_forest = round(random_forest.score(train, target) * 100, 2)\n",
        "print(acc_random_forest,random_forest.best_params_)"
      ]
    },
    {
      "cell_type": "code",
      "execution_count": 69,
      "metadata": {
        "colab": {
          "base_uri": "https://localhost:8080/"
        },
        "id": "HRyirLACGays",
        "outputId": "dcdf64a0-961c-49e3-8e6c-c4ffd2bdee4a"
      },
      "outputs": [
        {
          "output_type": "execute_result",
          "data": {
            "text/plain": [
              "91.69"
            ]
          },
          "metadata": {},
          "execution_count": 69
        }
      ],
      "source": [
        "acc_test_random_forest = round(random_forest.score(test, target_test) * 100, 2)\n",
        "acc_test_random_forest"
      ]
    },
    {
      "cell_type": "code",
      "source": [
        "# Print the Confusion Matrix and slice it into four pieces\n",
        "y_pred = random_forest.predict(test)\n",
        "\n",
        "from sklearn.metrics import confusion_matrix\n",
        "\n",
        "cm = confusion_matrix(target_test, y_pred)\n",
        "\n",
        "print('Confusion matrix\\n\\n', cm)\n",
        "\n",
        "print('\\nTrue Positives(TP) = ', cm[0,0])\n",
        "\n",
        "print('\\nTrue Negatives(TN) = ', cm[1,1])\n",
        "\n",
        "print('\\nFalse Positives(FP) = ', cm[0,1])\n",
        "\n",
        "print('\\nFalse Negatives(FN) = ', cm[1,0])\n",
        "\n",
        "from sklearn.metrics import classification_report\n",
        "\n",
        "print(classification_report(target_test, y_pred))\n",
        "\n",
        "# visualize confusion matrix with seaborn heatmap\n",
        "import seaborn as sns\n",
        "cm_matrix = pd.DataFrame(data=cm, columns=['Actual Positive:1', 'Actual Negative:0'], \n",
        "                                 index=['Predict Positive:1', 'Predict Negative:0'])\n",
        "\n",
        "sns.heatmap(cm_matrix, annot=True, fmt='d', cmap='YlGnBu')\n",
        "print(\"--------------------------------------------------------------------------------------\")\n",
        "\n",
        "from sklearn.metrics import roc_curve\n",
        "\n",
        "\n",
        "def plot_roc_curve(fpr, tpr, label=None):\n",
        "    plt.plot(fpr, tpr, linewidth=2, label=label)\n",
        "    plt.plot([0, 1], [0, 1], \"k--\")\n",
        "    plt.axis([0, 1, 0, 1])\n",
        "    plt.xlabel('False Positive Rate')\n",
        "    plt.ylabel('True Positive Rate')\n",
        "    plt.title('ROC Curve')\n",
        "\n",
        "\n"
      ],
      "metadata": {
        "colab": {
          "base_uri": "https://localhost:8080/",
          "height": 664
        },
        "id": "bApNERgUf1N_",
        "outputId": "4358b25b-7817-4e7b-93bb-edeeb34b9219"
      },
      "execution_count": 70,
      "outputs": [
        {
          "output_type": "stream",
          "name": "stdout",
          "text": [
            "Confusion matrix\n",
            "\n",
            " [[383  45]\n",
            " [ 25 389]]\n",
            "\n",
            "True Positives(TP) =  383\n",
            "\n",
            "True Negatives(TN) =  389\n",
            "\n",
            "False Positives(FP) =  45\n",
            "\n",
            "False Negatives(FN) =  25\n",
            "              precision    recall  f1-score   support\n",
            "\n",
            "          MS       0.94      0.89      0.92       428\n",
            "         NMO       0.90      0.94      0.92       414\n",
            "\n",
            "    accuracy                           0.92       842\n",
            "   macro avg       0.92      0.92      0.92       842\n",
            "weighted avg       0.92      0.92      0.92       842\n",
            "\n",
            "--------------------------------------------------------------------------------------\n"
          ]
        },
        {
          "output_type": "display_data",
          "data": {
            "text/plain": [
              "<Figure size 432x288 with 2 Axes>"
            ],
            "image/png": "[encoded data removed]"
          },
          "metadata": {
            "needs_background": "light"
          }
        }
      ]
    },
    {
      "cell_type": "markdown",
      "metadata": {
        "id": "sjJpLLrCGayu"
      },
      "source": [
        "### 5.11 LGBM Classifier <a class=\"anchor\" id=\"5.11\"></a>\n",
        "\n",
        "[Back to Table of Contents](#0.1)"
      ]
    },
    {
      "cell_type": "markdown",
      "metadata": {
        "id": "wb2cWTElGayu"
      },
      "source": [
        "Light GBM is a fast, distributed, high-performance gradient boosting framework based on decision tree algorithms. It splits the tree leaf wise with the best fit whereas other boosting algorithms split the tree depth wise or level wise rather than leaf-wise. So when growing on the same leaf in Light GBM, the leaf-wise algorithm can reduce more loss than the level-wise algorithm and hence results in much better accuracy which can rarely be achieved by any of the existing boosting algorithms. Also, it is surprisingly very fast, hence the word ‘Light’. Reference [Analytics Vidhya](https://www.analyticsvidhya.com/blog/2017/06/which-algorithm-takes-the-crown-light-gbm-vs-xgboost/)."
      ]
    },
    {
      "cell_type": "markdown",
      "metadata": {
        "id": "UstrFpzPGayv"
      },
      "source": [
        "We will tuning the hyperparameters of the LGBMClassifier model using the HyperOpt and 10-fold crossvalidation"
      ]
    },
    {
      "cell_type": "code",
      "execution_count": null,
      "metadata": {
        "id": "xw5obOmaGayv",
        "outputId": "aded24a0-fd32-4b9a-f7ec-beb6e53ef5f9",
        "colab": {
          "base_uri": "https://localhost:8080/"
        }
      },
      "outputs": [
        {
          "output_type": "stream",
          "name": "stdout",
          "text": [
            "0.921576056238519\n",
            "{'boosting_type': 'gbdt', 'colsample_bytree': 0.5650000000000001, 'learning_rate': 0.0472, 'max_depth': 7, 'min_child_weight': 6.8500000000000005, 'n_estimators': 888, 'num_leaves': 1410, 'objective': 'binary'}\n",
            "0.8832476685036031\n",
            "{'boosting_type': 'gbdt', 'colsample_bytree': 0.8250000000000001, 'learning_rate': 0.0262, 'max_depth': 7, 'min_child_weight': 4.55, 'n_estimators': 168, 'num_leaves': 4020, 'objective': 'binary'}\n",
            "0.745099441853893\n",
            "{'boosting_type': 'gbdt', 'colsample_bytree': 0.79, 'learning_rate': 0.0058000000000000005, 'max_depth': 3, 'min_child_weight': 4.1000000000000005, 'n_estimators': 271, 'num_leaves': 46, 'objective': 'binary'}\n",
            "0.9114773208986857\n",
            "{'boosting_type': 'gbdt', 'colsample_bytree': 0.68, 'learning_rate': 0.045200000000000004, 'max_depth': 8, 'min_child_weight': 8.0, 'n_estimators': 265, 'num_leaves': 3968, 'objective': 'binary'}\n",
            "0.8458165536244172\n",
            "{'boosting_type': 'gbdt', 'colsample_bytree': 0.5700000000000001, 'learning_rate': 0.0046, 'max_depth': 5, 'min_child_weight': 5.875, 'n_estimators': 831, 'num_leaves': 726, 'objective': 'binary'}\n",
            "0.750152783665395\n",
            "{'boosting_type': 'gbdt', 'colsample_bytree': 0.5700000000000001, 'learning_rate': 0.0029000000000000002, 'max_depth': 3, 'min_child_weight': 8.75, 'n_estimators': 605, 'num_leaves': 2946, 'objective': 'binary'}\n",
            "0.8273915500918468\n",
            "{'boosting_type': 'gbdt', 'colsample_bytree': 0.8250000000000001, 'learning_rate': 0.0173, 'max_depth': 3, 'min_child_weight': 8.05, 'n_estimators': 562, 'num_leaves': 1476, 'objective': 'binary'}\n",
            "0.922759467288399\n",
            "{'boosting_type': 'gbdt', 'colsample_bytree': 0.765, 'learning_rate': 0.041, 'max_depth': 11, 'min_child_weight': 4.7250000000000005, 'n_estimators': 936, 'num_leaves': 3674, 'objective': 'binary'}\n",
            "0.8279956196128303\n",
            "{'boosting_type': 'gbdt', 'colsample_bytree': 0.7000000000000001, 'learning_rate': 0.0049, 'max_depth': 8, 'min_child_weight': 3.4250000000000003, 'n_estimators': 160, 'num_leaves': 1954, 'objective': 'binary'}\n",
            "0.9263300127172531\n",
            "{'boosting_type': 'gbdt', 'colsample_bytree': 0.54, 'learning_rate': 0.0419, 'max_depth': 7, 'min_child_weight': 4.4750000000000005, 'n_estimators': 908, 'num_leaves': 2994, 'objective': 'binary'}\n",
            "100%|██████████| 10/10 [04:12<00:00, 25.22s/it, best loss: 0.745099441853893]\n",
            "best:\n",
            "{'colsample_bytree': 0.79, 'learning_rate': 0.0058000000000000005, 'max_depth': 1, 'min_child_weight': 4.1000000000000005, 'n_estimators': 171, 'num_leaves': 21}\n"
          ]
        }
      ],
      "source": [
        "def hyperopt_lgb_score(params):\n",
        "    clf = LGBMClassifier(**params)\n",
        "    current_score = cross_val_score(clf, train, target, cv=10).mean()\n",
        "    print(current_score, params)\n",
        "    return current_score \n",
        " \n",
        "space_lgb = {\n",
        "            'learning_rate': hp.quniform('learning_rate', 0, 0.05, 0.0001),\n",
        "            'n_estimators': hp.choice('n_estimators', range(100, 1000)),\n",
        "            'max_depth':  hp.choice('max_depth', np.arange(2, 12, dtype=int)),\n",
        "            'num_leaves': hp.choice('num_leaves', 2*np.arange(2, 2**11, dtype=int)),\n",
        "            'min_child_weight': hp.quniform('min_child_weight', 1, 9, 0.025),\n",
        "            'colsample_bytree': hp.quniform('colsample_bytree', 0.5, 1, 0.005),\n",
        "            'objective': 'binary',\n",
        "            'boosting_type': 'gbdt',\n",
        "            }\n",
        " \n",
        "best = fmin(fn=hyperopt_lgb_score, space=space_lgb, algo=tpe.suggest, max_evals=10)\n",
        "print('best:')\n",
        "print(best)"
      ]
    },
    {
      "cell_type": "code",
      "execution_count": null,
      "metadata": {
        "id": "_2cVjogdGayv",
        "outputId": "1c3d308d-bbd4-4489-99bb-2e5d6b801780",
        "colab": {
          "base_uri": "https://localhost:8080/"
        }
      },
      "outputs": [
        {
          "output_type": "execute_result",
          "data": {
            "text/plain": [
              "{'boosting_type': 'gbdt',\n",
              " 'colsample_bytree': 0.79,\n",
              " 'learning_rate': 0.0058000000000000005,\n",
              " 'max_depth': 3,\n",
              " 'min_child_weight': 4.1000000000000005,\n",
              " 'n_estimators': 271,\n",
              " 'num_leaves': 46,\n",
              " 'objective': 'binary'}"
            ]
          },
          "metadata": {},
          "execution_count": 39
        }
      ],
      "source": [
        "params = space_eval(space_lgb, best)\n",
        "params"
      ]
    },
    {
      "cell_type": "code",
      "execution_count": 19,
      "metadata": {
        "id": "aH_zHNFCGayv",
        "outputId": "a23fccf1-11dd-4084-a3cc-03eb1b7f75a4",
        "colab": {
          "base_uri": "https://localhost:8080/"
        }
      },
      "outputs": [
        {
          "output_type": "execute_result",
          "data": {
            "text/plain": [
              "100.0"
            ]
          },
          "metadata": {},
          "execution_count": 19
        }
      ],
      "source": [
        "LGB_Classifier = LGBMClassifier(**{'boosting_type': 'gbdt', 'colsample_bytree': 0.54, 'learning_rate': 0.0419, 'max_depth': 7, 'min_child_weight': 4.4750000000000005, 'n_estimators': 908, 'num_leaves': 2994, 'objective': 'binary'}\n",
        ")\n",
        "LGB_Classifier.fit(train, target)\n",
        "acc_LGB_Classifier = round(LGB_Classifier.score(train, target) * 100, 2)\n",
        "acc_LGB_Classifier"
      ]
    },
    {
      "cell_type": "code",
      "execution_count": null,
      "metadata": {
        "outputId": "aded24a0-fd32-4b9a-f7ec-beb6e53ef5f9",
        "colab": {
          "base_uri": "https://localhost:8080/"
        },
        "id": "l_Z5aVLDfoVz"
      },
      "outputs": [
        {
          "output_type": "stream",
          "name": "stdout",
          "text": [
            "0.921576056238519\n",
            "{'boosting_type': 'gbdt', 'colsample_bytree': 0.5650000000000001, 'learning_rate': 0.0472, 'max_depth': 7, 'min_child_weight': 6.8500000000000005, 'n_estimators': 888, 'num_leaves': 1410, 'objective': 'binary'}\n",
            "0.8832476685036031\n",
            "{'boosting_type': 'gbdt', 'colsample_bytree': 0.8250000000000001, 'learning_rate': 0.0262, 'max_depth': 7, 'min_child_weight': 4.55, 'n_estimators': 168, 'num_leaves': 4020, 'objective': 'binary'}\n",
            "0.745099441853893\n",
            "{'boosting_type': 'gbdt', 'colsample_bytree': 0.79, 'learning_rate': 0.0058000000000000005, 'max_depth': 3, 'min_child_weight': 4.1000000000000005, 'n_estimators': 271, 'num_leaves': 46, 'objective': 'binary'}\n",
            "0.9114773208986857\n",
            "{'boosting_type': 'gbdt', 'colsample_bytree': 0.68, 'learning_rate': 0.045200000000000004, 'max_depth': 8, 'min_child_weight': 8.0, 'n_estimators': 265, 'num_leaves': 3968, 'objective': 'binary'}\n",
            "0.8458165536244172\n",
            "{'boosting_type': 'gbdt', 'colsample_bytree': 0.5700000000000001, 'learning_rate': 0.0046, 'max_depth': 5, 'min_child_weight': 5.875, 'n_estimators': 831, 'num_leaves': 726, 'objective': 'binary'}\n",
            "0.750152783665395\n",
            "{'boosting_type': 'gbdt', 'colsample_bytree': 0.5700000000000001, 'learning_rate': 0.0029000000000000002, 'max_depth': 3, 'min_child_weight': 8.75, 'n_estimators': 605, 'num_leaves': 2946, 'objective': 'binary'}\n",
            "0.8273915500918468\n",
            "{'boosting_type': 'gbdt', 'colsample_bytree': 0.8250000000000001, 'learning_rate': 0.0173, 'max_depth': 3, 'min_child_weight': 8.05, 'n_estimators': 562, 'num_leaves': 1476, 'objective': 'binary'}\n",
            "0.922759467288399\n",
            "{'boosting_type': 'gbdt', 'colsample_bytree': 0.765, 'learning_rate': 0.041, 'max_depth': 11, 'min_child_weight': 4.7250000000000005, 'n_estimators': 936, 'num_leaves': 3674, 'objective': 'binary'}\n",
            "0.8279956196128303\n",
            "{'boosting_type': 'gbdt', 'colsample_bytree': 0.7000000000000001, 'learning_rate': 0.0049, 'max_depth': 8, 'min_child_weight': 3.4250000000000003, 'n_estimators': 160, 'num_leaves': 1954, 'objective': 'binary'}\n",
            "0.9263300127172531\n",
            "{'boosting_type': 'gbdt', 'colsample_bytree': 0.54, 'learning_rate': 0.0419, 'max_depth': 7, 'min_child_weight': 4.4750000000000005, 'n_estimators': 908, 'num_leaves': 2994, 'objective': 'binary'}\n",
            "100%|██████████| 10/10 [04:12<00:00, 25.22s/it, best loss: 0.745099441853893]\n",
            "best:\n",
            "{'colsample_bytree': 0.79, 'learning_rate': 0.0058000000000000005, 'max_depth': 1, 'min_child_weight': 4.1000000000000005, 'n_estimators': 171, 'num_leaves': 21}\n"
          ]
        }
      ],
      "source": [
        "# def hyperopt_lgb_score(params):\n",
        "#     clf = LGBMClassifier(**params)\n",
        "#     current_score = cross_val_score(clf, train, target, cv=10).mean()\n",
        "#     print(current_score, params)\n",
        "#     return current_score \n",
        " \n",
        "# space_lgb = {\n",
        "#             'learning_rate': hp.quniform('learning_rate', 0, 0.05, 0.0001),\n",
        "#             'n_estimators': hp.choice('n_estimators', range(100, 1000)),\n",
        "#             'max_depth':  hp.choice('max_depth', np.arange(2, 12, dtype=int)),\n",
        "#             'num_leaves': hp.choice('num_leaves', 2*np.arange(2, 2**11, dtype=int)),\n",
        "#             'min_child_weight': hp.quniform('min_child_weight', 1, 9, 0.025),\n",
        "#             'colsample_bytree': hp.quniform('colsample_bytree', 0.5, 1, 0.005),\n",
        "#             'objective': 'binary',\n",
        "#             'boosting_type': 'gbdt',\n",
        "#             }\n",
        " \n",
        "# best = fmin(fn=hyperopt_lgb_score, space=space_lgb, algo=tpe.suggest, max_evals=10)\n",
        "# print('best:')\n",
        "# print(best)"
      ]
    },
    {
      "cell_type": "code",
      "execution_count": 22,
      "metadata": {
        "id": "AGVNEFRAGayv",
        "outputId": "5257f657-a6c6-47b8-a7c7-dcfb8b35558a",
        "colab": {
          "base_uri": "https://localhost:8080/"
        }
      },
      "outputs": [
        {
          "output_type": "execute_result",
          "data": {
            "text/plain": [
              "92.64"
            ]
          },
          "metadata": {},
          "execution_count": 22
        }
      ],
      "source": [
        "acc_test_LGB_Classifier = round(LGB_Classifier.score(test, target_test) * 100, 2)\n",
        "acc_test_LGB_Classifier"
      ]
    },
    {
      "cell_type": "code",
      "execution_count": 23,
      "metadata": {
        "id": "f8HWFt0EGayw"
      },
      "outputs": [],
      "source": [
        "fig =  plt.figure(figsize = (15,15))\n",
        "axes = fig.add_subplot(111)\n",
        "lgb.plot_importance(LGB_Classifier,ax = axes,height = 0.5)\n",
        "plt.show();\n",
        "plt.close()"
      ]
    },
    {
      "cell_type": "code",
      "source": [
        "# Print the Confusion Matrix and slice it into four pieces\n",
        "y_pred = LGB_Classifier.predict(test)\n",
        "\n",
        "from sklearn.metrics import confusion_matrix\n",
        "\n",
        "cm = confusion_matrix(target_test, y_pred)\n",
        "\n",
        "print('Confusion matrix\\n\\n', cm)\n",
        "\n",
        "print('\\nTrue Positives(TP) = ', cm[0,0])\n",
        "\n",
        "print('\\nTrue Negatives(TN) = ', cm[1,1])\n",
        "\n",
        "print('\\nFalse Positives(FP) = ', cm[0,1])\n",
        "\n",
        "print('\\nFalse Negatives(FN) = ', cm[1,0])\n",
        "\n",
        "from sklearn.metrics import classification_report\n",
        "\n",
        "print(classification_report(target_test, y_pred))\n",
        "\n",
        "# visualize confusion matrix with seaborn heatmap\n",
        "import seaborn as sns\n",
        "cm_matrix = pd.DataFrame(data=cm, columns=['Actual Positive:1', 'Actual Negative:0'], \n",
        "                                 index=['Predict Positive:1', 'Predict Negative:0'])\n",
        "\n",
        "sns.heatmap(cm_matrix, annot=True, fmt='d', cmap='YlGnBu')\n",
        "print(\"--------------------------------------------------------------------------------------\")\n",
        "\n",
        "from sklearn.metrics import roc_curve\n",
        "\n",
        "\n",
        "def plot_roc_curve(fpr, tpr, label=None):\n",
        "    plt.plot(fpr, tpr, linewidth=2, label=label)\n",
        "    plt.plot([0, 1], [0, 1], \"k--\")\n",
        "    plt.axis([0, 1, 0, 1])\n",
        "    plt.xlabel('False Positive Rate')\n",
        "    plt.ylabel('True Positive Rate')\n",
        "    plt.title('ROC Curve')\n",
        "\n",
        "\n"
      ],
      "metadata": {
        "colab": {
          "base_uri": "https://localhost:8080/",
          "height": 664
        },
        "id": "Tib5lnHVhexn",
        "outputId": "46e24e43-d444-4568-bbda-c93e47fcc387"
      },
      "execution_count": 57,
      "outputs": [
        {
          "output_type": "stream",
          "name": "stdout",
          "text": [
            "Confusion matrix\n",
            "\n",
            " [[387  41]\n",
            " [ 21 393]]\n",
            "\n",
            "True Positives(TP) =  387\n",
            "\n",
            "True Negatives(TN) =  393\n",
            "\n",
            "False Positives(FP) =  41\n",
            "\n",
            "False Negatives(FN) =  21\n",
            "              precision    recall  f1-score   support\n",
            "\n",
            "          MS       0.95      0.90      0.93       428\n",
            "         NMO       0.91      0.95      0.93       414\n",
            "\n",
            "    accuracy                           0.93       842\n",
            "   macro avg       0.93      0.93      0.93       842\n",
            "weighted avg       0.93      0.93      0.93       842\n",
            "\n",
            "--------------------------------------------------------------------------------------\n"
          ]
        },
        {
          "output_type": "display_data",
          "data": {
            "text/plain": [
              "<Figure size 432x288 with 2 Axes>"
            ],
            "image/png": "[encoded data removed]"
          },
          "metadata": {
            "needs_background": "light"
          }
        }
      ]
    },
    {
      "cell_type": "markdown",
      "metadata": {
        "id": "vzgOKCpEGayw"
      },
      "source": [
        "### 5.12 GradientBoostingClassifier <a class=\"anchor\" id=\"5.12\"></a>\n",
        "\n",
        "[Back to Table of Contents](#0.1)"
      ]
    },
    {
      "cell_type": "markdown",
      "metadata": {
        "id": "e1MYNVWAGayw"
      },
      "source": [
        "Thanks to https://www.kaggle.com/kabure/titanic-eda-model-pipeline-keras-nn"
      ]
    },
    {
      "cell_type": "markdown",
      "metadata": {
        "id": "uehuSf03Gayw"
      },
      "source": [
        "**Gradient Boosting** builds an additive model in a forward stage-wise fashion; it allows for the optimization of arbitrary differentiable loss functions. In each stage n_classes_ regression trees are fit on the negative gradient of the binomial or multinomial deviance loss function. Binary classification is a special case where only a single regression tree is induced. The features are always randomly permuted at each split. Therefore, the best found split may vary, even with the same training data and max_features=n_features, if the improvement of the criterion is identical for several splits enumerated during the search of the best split. To obtain a deterministic behaviour during fitting, random_state has to be fixed. Reference [sklearn documentation](https://scikit-learn.org/stable/modules/generated/sklearn.ensemble.GradientBoostingClassifier.html)."
      ]
    },
    {
      "cell_type": "code",
      "execution_count": null,
      "metadata": {
        "colab": {
          "base_uri": "https://localhost:8080/"
        },
        "id": "eySWiUA-Gayw",
        "outputId": "269469c7-9dae-4d4e-e62b-e2e1d107c0ac"
      },
      "outputs": [
        {
          "output_type": "stream",
          "name": "stdout",
          "text": [
            "0.8758230888794687\n",
            "{'max_depth': 4, 'n_estimators': 108}\n",
            "0.9084975978521971\n",
            "{'max_depth': 5, 'n_estimators': 162}\n",
            "0.8404664759078706\n",
            "{'max_depth': 3, 'n_estimators': 138}\n",
            "0.9186016320474778\n",
            "{'max_depth': 7, 'n_estimators': 155}\n",
            "0.8217491521831285\n",
            "{'max_depth': 2, 'n_estimators': 260}\n",
            "0.9108767839480005\n",
            "{'max_depth': 6, 'n_estimators': 180}\n",
            "0.9281121944326692\n",
            "{'max_depth': 9, 'n_estimators': 194}\n",
            "0.9177087749046207\n",
            "{'max_depth': 6, 'n_estimators': 247}\n",
            "0.9212713720503037\n",
            "{'max_depth': 7, 'n_estimators': 201}\n",
            "0.7260889147944044\n",
            "{'max_depth': 2, 'n_estimators': 31}\n",
            "100%|██████████| 10/10 [34:21<00:00, 206.15s/it, best loss: 0.7260889147944044]\n",
            "best:\n",
            "{'max_depth': 0, 'n_estimators': 29}\n"
          ]
        }
      ],
      "source": [
        "def hyperopt_gb_score(params):\n",
        "    clf = GradientBoostingClassifier(**params)\n",
        "    current_score = cross_val_score(clf, train, target, cv=10).mean()\n",
        "    print(current_score, params)\n",
        "    return current_score \n",
        " \n",
        "space_gb = {\n",
        "            'n_estimators': hp.choice('n_estimators', range(2, 300)),\n",
        "            'max_depth': hp.choice('max_depth', np.arange(2, 10, dtype=int))            \n",
        "        }\n",
        " \n",
        "best = fmin(fn=hyperopt_gb_score, space=space_gb, algo=tpe.suggest, max_evals=10)\n",
        "print('best:')\n",
        "print(best)"
      ]
    },
    {
      "cell_type": "code",
      "execution_count": null,
      "metadata": {
        "id": "9jHtRA6-Gayx",
        "colab": {
          "base_uri": "https://localhost:8080/"
        },
        "outputId": "5bf47d31-6f83-450a-8d66-1328ad5d62fe"
      },
      "outputs": [
        {
          "output_type": "execute_result",
          "data": {
            "text/plain": [
              "{'max_depth': 2, 'n_estimators': 31}"
            ]
          },
          "metadata": {},
          "execution_count": 45
        }
      ],
      "source": [
        "params = space_eval(space_gb, best)\n",
        "params"
      ]
    },
    {
      "cell_type": "code",
      "execution_count": 58,
      "metadata": {
        "id": "OVWowxYbGayx",
        "colab": {
          "base_uri": "https://localhost:8080/"
        },
        "outputId": "f96d1dd3-2f78-4b59-ab30-08c38dc28101"
      },
      "outputs": [
        {
          "output_type": "execute_result",
          "data": {
            "text/plain": [
              "100.0"
            ]
          },
          "metadata": {},
          "execution_count": 58
        }
      ],
      "source": [
        "# Gradient Boosting Classifier\n",
        "\n",
        "gradient_boosting = GradientBoostingClassifier(**{'max_depth': 9, 'n_estimators': 194})\n",
        "gradient_boosting.fit(train, target)\n",
        "acc_gradient_boosting = round(gradient_boosting.score(train, target) * 100, 2)\n",
        "acc_gradient_boosting"
      ]
    },
    {
      "cell_type": "code",
      "execution_count": 59,
      "metadata": {
        "id": "HNWVPdRQGayx",
        "colab": {
          "base_uri": "https://localhost:8080/"
        },
        "outputId": "1bbfcafe-140b-4070-88c6-85591100bb9d"
      },
      "outputs": [
        {
          "output_type": "execute_result",
          "data": {
            "text/plain": [
              "94.3"
            ]
          },
          "metadata": {},
          "execution_count": 59
        }
      ],
      "source": [
        "acc_test_gradient_boosting = round(gradient_boosting.score(test, target_test) * 100, 2)\n",
        "acc_test_gradient_boosting"
      ]
    },
    {
      "cell_type": "code",
      "source": [
        "# Print the Confusion Matrix and slice it into four pieces\n",
        "y_pred = gradient_boosting.predict(test)\n",
        "\n",
        "from sklearn.metrics import confusion_matrix\n",
        "\n",
        "cm = confusion_matrix(target_test, y_pred)\n",
        "\n",
        "print('Confusion matrix\\n\\n', cm)\n",
        "\n",
        "print('\\nTrue Positives(TP) = ', cm[0,0])\n",
        "\n",
        "print('\\nTrue Negatives(TN) = ', cm[1,1])\n",
        "\n",
        "print('\\nFalse Positives(FP) = ', cm[0,1])\n",
        "\n",
        "print('\\nFalse Negatives(FN) = ', cm[1,0])\n",
        "\n",
        "from sklearn.metrics import classification_report\n",
        "\n",
        "print(classification_report(target_test, y_pred))\n",
        "\n",
        "# visualize confusion matrix with seaborn heatmap\n",
        "import seaborn as sns\n",
        "cm_matrix = pd.DataFrame(data=cm, columns=['Actual Positive:1', 'Actual Negative:0'], \n",
        "                                 index=['Predict Positive:1', 'Predict Negative:0'])\n",
        "\n",
        "sns.heatmap(cm_matrix, annot=True, fmt='d', cmap='YlGnBu')\n",
        "print(\"--------------------------------------------------------------------------------------\")\n",
        "\n",
        "from sklearn.metrics import roc_curve\n",
        "\n",
        "\n",
        "def plot_roc_curve(fpr, tpr, label=None):\n",
        "    plt.plot(fpr, tpr, linewidth=2, label=label)\n",
        "    plt.plot([0, 1], [0, 1], \"k--\")\n",
        "    plt.axis([0, 1, 0, 1])\n",
        "    plt.xlabel('False Positive Rate')\n",
        "    plt.ylabel('True Positive Rate')\n",
        "    plt.title('ROC Curve')\n",
        "\n",
        "\n"
      ],
      "metadata": {
        "colab": {
          "base_uri": "https://localhost:8080/",
          "height": 664
        },
        "id": "7YGnt1s8iuJ_",
        "outputId": "a082dd56-4b26-4bc8-f893-b6db161bd45d"
      },
      "execution_count": 60,
      "outputs": [
        {
          "output_type": "stream",
          "name": "stdout",
          "text": [
            "Confusion matrix\n",
            "\n",
            " [[398  30]\n",
            " [ 18 396]]\n",
            "\n",
            "True Positives(TP) =  398\n",
            "\n",
            "True Negatives(TN) =  396\n",
            "\n",
            "False Positives(FP) =  30\n",
            "\n",
            "False Negatives(FN) =  18\n",
            "              precision    recall  f1-score   support\n",
            "\n",
            "          MS       0.96      0.93      0.94       428\n",
            "         NMO       0.93      0.96      0.94       414\n",
            "\n",
            "    accuracy                           0.94       842\n",
            "   macro avg       0.94      0.94      0.94       842\n",
            "weighted avg       0.94      0.94      0.94       842\n",
            "\n",
            "--------------------------------------------------------------------------------------\n"
          ]
        },
        {
          "output_type": "display_data",
          "data": {
            "text/plain": [
              "<Figure size 432x288 with 2 Axes>"
            ],
            "image/png": "[encoded data removed]"
          },
          "metadata": {
            "needs_background": "light"
          }
        }
      ]
    },
    {
      "cell_type": "markdown",
      "metadata": {
        "id": "eS-swvP4Gayy"
      },
      "source": [
        "### 5.13 RidgeClassifier <a class=\"anchor\" id=\"5.13\"></a>\n",
        "\n",
        "[Back to Table of Contents](#0.1)"
      ]
    },
    {
      "cell_type": "markdown",
      "metadata": {
        "id": "l-bLqL0lGayy"
      },
      "source": [
        "Thanks to https://www.kaggle.com/kabure/titanic-eda-model-pipeline-keras-nn"
      ]
    },
    {
      "cell_type": "markdown",
      "metadata": {
        "id": "oFzmO43NGayy"
      },
      "source": [
        "Tikhonov Regularization, colloquially known as **Ridge Regression**, is the most commonly used regression algorithm to approximate an answer for an equation with no unique solution. This type of problem is very common in machine learning tasks, where the \"best\" solution must be chosen using limited data. If a unique solution exists, algorithm will return the optimal value. However, if multiple solutions exist, it may choose any of them. Reference [Brilliant.org](https://brilliant.org/wiki/ridge-regression/)."
      ]
    },
    {
      "cell_type": "code",
      "execution_count": null,
      "metadata": {
        "id": "0Wk0g-jBGayy",
        "outputId": "3226777b-620d-4770-c10a-0a84509da2a8",
        "colab": {
          "base_uri": "https://localhost:8080/"
        }
      },
      "outputs": [
        {
          "output_type": "execute_result",
          "data": {
            "text/plain": [
              "77.09"
            ]
          },
          "metadata": {},
          "execution_count": 49
        }
      ],
      "source": [
        "# Ridge Classifier\n",
        "\n",
        "ridge_classifier = RidgeClassifier()\n",
        "ridge_classifier.fit(train, target)\n",
        "acc_ridge_classifier = round(ridge_classifier.score(train, target) * 100, 2)\n",
        "acc_ridge_classifier"
      ]
    },
    {
      "cell_type": "code",
      "execution_count": null,
      "metadata": {
        "id": "gruOcJXPGayy",
        "outputId": "a9a1fe23-11f8-498d-ac03-837ca82c928f",
        "colab": {
          "base_uri": "https://localhost:8080/"
        }
      },
      "outputs": [
        {
          "output_type": "execute_result",
          "data": {
            "text/plain": [
              "73.4"
            ]
          },
          "metadata": {},
          "execution_count": 50
        }
      ],
      "source": [
        "acc_test_ridge_classifier = round(ridge_classifier.score(test, target_test) * 100, 2)\n",
        "acc_test_ridge_classifier"
      ]
    },
    {
      "cell_type": "code",
      "source": [
        "# Print the Confusion Matrix and slice it into four pieces\n",
        "y_pred = ridge_classifier.predict(test)\n",
        "\n",
        "from sklearn.metrics import confusion_matrix\n",
        "\n",
        "cm = confusion_matrix(target_test, y_pred)\n",
        "\n",
        "print('Confusion matrix\\n\\n', cm)\n",
        "\n",
        "print('\\nTrue Positives(TP) = ', cm[0,0])\n",
        "\n",
        "print('\\nTrue Negatives(TN) = ', cm[1,1])\n",
        "\n",
        "print('\\nFalse Positives(FP) = ', cm[0,1])\n",
        "\n",
        "print('\\nFalse Negatives(FN) = ', cm[1,0])\n",
        "\n",
        "from sklearn.metrics import classification_report\n",
        "\n",
        "print(classification_report(target_test, y_pred))\n",
        "\n",
        "# visualize confusion matrix with seaborn heatmap\n",
        "import seaborn as sns\n",
        "cm_matrix = pd.DataFrame(data=cm, columns=['Actual Positive:1', 'Actual Negative:0'], \n",
        "                                 index=['Predict Positive:1', 'Predict Negative:0'])\n",
        "\n",
        "sns.heatmap(cm_matrix, annot=True, fmt='d', cmap='YlGnBu')\n",
        "print(\"--------------------------------------------------------------------------------------\")\n",
        "\n",
        "from sklearn.metrics import roc_curve\n",
        "\n",
        "\n",
        "def plot_roc_curve(fpr, tpr, label=None):\n",
        "    plt.plot(fpr, tpr, linewidth=2, label=label)\n",
        "    plt.plot([0, 1], [0, 1], \"k--\")\n",
        "    plt.axis([0, 1, 0, 1])\n",
        "    plt.xlabel('False Positive Rate')\n",
        "    plt.ylabel('True Positive Rate')\n",
        "    plt.title('ROC Curve')\n",
        "\n",
        "\n"
      ],
      "metadata": {
        "colab": {
          "base_uri": "https://localhost:8080/",
          "height": 664
        },
        "id": "ixHxVq2ZmI4O",
        "outputId": "d3320fee-bb75-405d-a253-3753b53bb99f"
      },
      "execution_count": null,
      "outputs": [
        {
          "output_type": "stream",
          "name": "stdout",
          "text": [
            "Confusion matrix\n",
            "\n",
            " [[290 138]\n",
            " [ 86 328]]\n",
            "\n",
            "True Positives(TP) =  290\n",
            "\n",
            "True Negatives(TN) =  328\n",
            "\n",
            "False Positives(FP) =  138\n",
            "\n",
            "False Negatives(FN) =  86\n",
            "              precision    recall  f1-score   support\n",
            "\n",
            "          MS       0.77      0.68      0.72       428\n",
            "         NMO       0.70      0.79      0.75       414\n",
            "\n",
            "    accuracy                           0.73       842\n",
            "   macro avg       0.74      0.73      0.73       842\n",
            "weighted avg       0.74      0.73      0.73       842\n",
            "\n",
            "--------------------------------------------------------------------------------------\n"
          ]
        },
        {
          "output_type": "display_data",
          "data": {
            "text/plain": [
              "<Figure size 432x288 with 2 Axes>"
            ],
            "image/png": "[encoded data removed]"
          },
          "metadata": {
            "needs_background": "light"
          }
        }
      ]
    },
    {
      "cell_type": "markdown",
      "metadata": {
        "id": "t1OS9HoiGayz"
      },
      "source": [
        "### 5.15 ExtraTreesClassifier <a class=\"anchor\" id=\"5.15\"></a>\n",
        "\n",
        "[Back to Table of Contents](#0.1)"
      ]
    },
    {
      "cell_type": "markdown",
      "metadata": {
        "id": "VjxIpoWPGayz"
      },
      "source": [
        "Thanks to https://www.kaggle.com/kabure/titanic-eda-model-pipeline-keras-nn"
      ]
    },
    {
      "cell_type": "markdown",
      "metadata": {
        "id": "Q33SHnxmGayz"
      },
      "source": [
        "**ExtraTreesClassifier** implements a meta estimator that fits a number of randomized decision trees (a.k.a. extra-trees) on various sub-samples of the dataset and uses averaging to improve the predictive accuracy and control over-fitting. The default values for the parameters controlling the size of the trees (e.g. max_depth, min_samples_leaf, etc.) lead to fully grown and unpruned trees which can potentially be very large on some data sets. To reduce memory consumption, the complexity and size of the trees should be controlled by setting those parameter values. Reference [sklearn documentation](https://scikit-learn.org/stable/modules/generated/sklearn.ensemble.ExtraTreesClassifier.html). \n",
        "\n",
        "In extremely randomized trees, randomness goes one step further in the way splits are computed. As in random forests, a random subset of candidate features is used, but instead of looking for the most discriminative thresholds, thresholds are drawn at random for each candidate feature and the best of these randomly-generated thresholds is picked as the splitting rule. This usually allows to reduce the variance of the model a bit more, at the expense of a slightly greater increase in bias. Reference [sklearn documentation](https://scikit-learn.org/stable/modules/ensemble.html#Extremely%20Randomized%20Trees)."
      ]
    },
    {
      "cell_type": "code",
      "execution_count": null,
      "metadata": {
        "id": "c_WKpF8rGay0",
        "outputId": "4be86186-a043-4bbe-f0e7-74f8bbf8f57e",
        "colab": {
          "base_uri": "https://localhost:8080/"
        }
      },
      "outputs": [
        {
          "output_type": "stream",
          "name": "stdout",
          "text": [
            "0.7038001624982337\n",
            "{'max_depth': 2, 'max_features': None, 'min_samples_leaf': 1, 'n_estimators': 738}\n",
            "0.7997650840751731\n",
            "{'max_depth': 7, 'max_features': None, 'min_samples_leaf': 4, 'n_estimators': 847}\n",
            "0.7831249116857425\n",
            "{'max_depth': 6, 'max_features': None, 'min_samples_leaf': 3, 'n_estimators': 800}\n",
            "0.7837183834958317\n",
            "{'max_depth': 6, 'max_features': None, 'min_samples_leaf': 1, 'n_estimators': 580}\n",
            "0.8529479299138053\n",
            "{'max_depth': 10, 'max_features': None, 'min_samples_leaf': 3, 'n_estimators': 200}\n",
            "0.7189540059347181\n",
            "{'max_depth': 3, 'max_features': None, 'min_samples_leaf': 4, 'n_estimators': 773}\n",
            "0.8009502614102022\n",
            "{'max_depth': 7, 'max_features': None, 'min_samples_leaf': 4, 'n_estimators': 257}\n",
            "0.81699431256182\n",
            "{'max_depth': 8, 'max_features': None, 'min_samples_leaf': 3, 'n_estimators': 816}\n",
            "0.8003550233149641\n",
            "{'max_depth': 7, 'max_features': None, 'min_samples_leaf': 3, 'n_estimators': 372}\n",
            "0.8339268051434224\n",
            "{'max_depth': 9, 'max_features': None, 'min_samples_leaf': 3, 'n_estimators': 400}\n",
            "100%|██████████| 10/10 [08:35<00:00, 51.58s/it, best loss: 0.7038001624982337]\n",
            "best:\n",
            "{'max_depth': 0, 'min_samples_leaf': 0, 'n_estimators': 638}\n"
          ]
        }
      ],
      "source": [
        "def hyperopt_etc_score(params):\n",
        "    clf = ExtraTreesClassifier(**params)\n",
        "    current_score = cross_val_score(clf, train, target, cv=10).mean()\n",
        "    print(current_score, params)\n",
        "    return current_score \n",
        " \n",
        "space_etc = {\n",
        "            'n_estimators': hp.choice('n_estimators', range(100, 1000)),\n",
        "            'max_features': hp.choice('max_features', np.arange(2, 17, dtype=int)),\n",
        "            'min_samples_leaf': hp.choice('min_samples_leaf', np.arange(1, 5, dtype=int)),\n",
        "            'max_depth':  hp.choice('max_depth', np.arange(2, 12, dtype=int)),\n",
        "            'max_features': None # for small number of features\n",
        "        }\n",
        " \n",
        "best = fmin(fn=hyperopt_etc_score, space=space_etc, algo=tpe.suggest, max_evals=10)\n",
        "print('best:')\n",
        "print(best)"
      ]
    },
    {
      "cell_type": "code",
      "execution_count": null,
      "metadata": {
        "id": "Uv2ziJE0Gay0",
        "outputId": "3bd551df-28f4-479f-e19e-cdd025705405",
        "colab": {
          "base_uri": "https://localhost:8080/"
        }
      },
      "outputs": [
        {
          "output_type": "execute_result",
          "data": {
            "text/plain": [
              "{'max_depth': 2,\n",
              " 'max_features': None,\n",
              " 'min_samples_leaf': 1,\n",
              " 'n_estimators': 738}"
            ]
          },
          "metadata": {},
          "execution_count": 53
        }
      ],
      "source": [
        "params = space_eval(space_etc, best)\n",
        "params"
      ]
    },
    {
      "cell_type": "code",
      "execution_count": 61,
      "metadata": {
        "id": "vVaYnupmGay0",
        "outputId": "08f3cbab-eaf4-4311-e41d-77bf325922fe",
        "colab": {
          "base_uri": "https://localhost:8080/"
        }
      },
      "outputs": [
        {
          "output_type": "execute_result",
          "data": {
            "text/plain": [
              "93.79"
            ]
          },
          "metadata": {},
          "execution_count": 61
        }
      ],
      "source": [
        "# Extra Trees Classifier\n",
        "\n",
        "extra_trees_classifier = ExtraTreesClassifier(**{'max_depth': 10, 'max_features': None, 'min_samples_leaf': 3, 'n_estimators': 200})\n",
        "extra_trees_classifier.fit(train, target)\n",
        "acc_etc = round(extra_trees_classifier.score(train, target) * 100, 2)\n",
        "acc_etc"
      ]
    },
    {
      "cell_type": "code",
      "execution_count": 62,
      "metadata": {
        "id": "v13VVbQAGay0",
        "outputId": "0fda7d94-b701-4051-f515-3549fad43755",
        "colab": {
          "base_uri": "https://localhost:8080/"
        }
      },
      "outputs": [
        {
          "output_type": "execute_result",
          "data": {
            "text/plain": [
              "83.49"
            ]
          },
          "metadata": {},
          "execution_count": 62
        }
      ],
      "source": [
        "acc_test_etc = round(extra_trees_classifier.score(test, target_test) * 100, 2)\n",
        "acc_test_etc"
      ]
    },
    {
      "cell_type": "code",
      "source": [
        "# Print the Confusion Matrix and slice it into four pieces\n",
        "y_pred = extra_trees_classifier.predict(test)\n",
        "\n",
        "from sklearn.metrics import confusion_matrix\n",
        "\n",
        "cm = confusion_matrix(target_test, y_pred)\n",
        "\n",
        "print('Confusion matrix\\n\\n', cm)\n",
        "\n",
        "print('\\nTrue Positives(TP) = ', cm[0,0])\n",
        "\n",
        "print('\\nTrue Negatives(TN) = ', cm[1,1])\n",
        "\n",
        "print('\\nFalse Positives(FP) = ', cm[0,1])\n",
        "\n",
        "print('\\nFalse Negatives(FN) = ', cm[1,0])\n",
        "\n",
        "from sklearn.metrics import classification_report\n",
        "\n",
        "print(classification_report(target_test, y_pred))\n",
        "\n",
        "# visualize confusion matrix with seaborn heatmap\n",
        "import seaborn as sns\n",
        "cm_matrix = pd.DataFrame(data=cm, columns=['Actual Positive:1', 'Actual Negative:0'], \n",
        "                                 index=['Predict Positive:1', 'Predict Negative:0'])\n",
        "\n",
        "sns.heatmap(cm_matrix, annot=True, fmt='d', cmap='YlGnBu')\n",
        "print(\"--------------------------------------------------------------------------------------\")\n",
        "\n",
        "from sklearn.metrics import roc_curve\n",
        "\n",
        "\n",
        "def plot_roc_curve(fpr, tpr, label=None):\n",
        "    plt.plot(fpr, tpr, linewidth=2, label=label)\n",
        "    plt.plot([0, 1], [0, 1], \"k--\")\n",
        "    plt.axis([0, 1, 0, 1])\n",
        "    plt.xlabel('False Positive Rate')\n",
        "    plt.ylabel('True Positive Rate')\n",
        "    plt.title('ROC Curve')\n",
        "\n",
        "\n"
      ],
      "metadata": {
        "colab": {
          "base_uri": "https://localhost:8080/",
          "height": 664
        },
        "id": "Gkf17aPoolKO",
        "outputId": "994e6d76-bd9e-4353-be02-6cf68fa52515"
      },
      "execution_count": 63,
      "outputs": [
        {
          "output_type": "stream",
          "name": "stdout",
          "text": [
            "Confusion matrix\n",
            "\n",
            " [[306 122]\n",
            " [ 17 397]]\n",
            "\n",
            "True Positives(TP) =  306\n",
            "\n",
            "True Negatives(TN) =  397\n",
            "\n",
            "False Positives(FP) =  122\n",
            "\n",
            "False Negatives(FN) =  17\n",
            "              precision    recall  f1-score   support\n",
            "\n",
            "          MS       0.95      0.71      0.81       428\n",
            "         NMO       0.76      0.96      0.85       414\n",
            "\n",
            "    accuracy                           0.83       842\n",
            "   macro avg       0.86      0.84      0.83       842\n",
            "weighted avg       0.86      0.83      0.83       842\n",
            "\n",
            "--------------------------------------------------------------------------------------\n"
          ]
        },
        {
          "output_type": "display_data",
          "data": {
            "text/plain": [
              "<Figure size 432x288 with 2 Axes>"
            ],
            "image/png": "[encoded data removed]"
          },
          "metadata": {
            "needs_background": "light"
          }
        }
      ]
    },
    {
      "cell_type": "markdown",
      "metadata": {
        "id": "e5VIEQ6LGay3"
      },
      "source": [
        "### 5.18 AdaBoost Classifier <a class=\"anchor\" id=\"5.18\"></a>\n",
        "\n",
        "[Back to Table of Contents](#0.1)"
      ]
    },
    {
      "cell_type": "markdown",
      "metadata": {
        "id": "5tqnzTqrGay3"
      },
      "source": [
        "Thanks to https://scikit-learn.org/stable/modules/ensemble.html#adaboost"
      ]
    },
    {
      "cell_type": "markdown",
      "metadata": {
        "id": "vFXFWRvLGay3"
      },
      "source": [
        "The core principle of **AdaBoost** is to fit a sequence of weak learners (i.e., models that are only slightly better than random guessing, such as small decision trees) on repeatedly modified versions of the data. The predictions from all of them are then combined through a weighted majority vote (or sum) to produce the final prediction. The data modifications at each so-called boosting iteration consist of applying N weights to each of the training samples. Initially, those weights are all set to 1/N, so that the first step simply trains a weak learner on the original data. For each successive iteration, the sample weights are individually modified and the learning algorithm is reapplied to the reweighted data. At a given step, those training examples that were incorrectly predicted by the boosted model induced at the previous step have their weights increased, whereas the weights are decreased for those that were predicted correctly. As iterations proceed, examples that are difficult to predict receive ever-increasing influence. Each subsequent weak learner is thereby forced to concentrate on the examples that are missed by the previous ones in the sequence. Reference [sklearn documentation](https://scikit-learn.org/stable/modules/ensemble.html#adaboost)."
      ]
    },
    {
      "cell_type": "code",
      "execution_count": 12,
      "metadata": {
        "id": "4G2dsNlrGay3",
        "outputId": "fbe24155-4270-436f-da9d-0665fa5e88a4",
        "colab": {
          "base_uri": "https://localhost:8080/"
        }
      },
      "outputs": [
        {
          "output_type": "stream",
          "name": "stdout",
          "text": [
            "0.7299517804154302\n",
            "{'learning_rate': 0.0181, 'n_estimators': 653}\n",
            "0.7403534336583298\n",
            "{'learning_rate': 0.041800000000000004, 'n_estimators': 337}\n",
            "0.7561060477603504\n",
            "{'learning_rate': 0.0351, 'n_estimators': 902}\n",
            "0.7391656068955774\n",
            "{'learning_rate': 0.018600000000000002, 'n_estimators': 788}\n",
            "0.698465981348029\n",
            "{'learning_rate': 0.0327, 'n_estimators': 96}\n",
            "0.6845008478168716\n",
            "{'learning_rate': 0.0018000000000000002, 'n_estimators': 416}\n",
            "0.7459993641373464\n",
            "{'learning_rate': 0.0193, 'n_estimators': 956}\n",
            "0.6839056097216335\n",
            "{'learning_rate': 0.006200000000000001, 'n_estimators': 108}\n",
            "0.7014412886816448\n",
            "{'learning_rate': 0.034, 'n_estimators': 102}\n",
            "0.7584772855729829\n",
            "{'learning_rate': 0.042100000000000005, 'n_estimators': 809}\n",
            "100%|██████████| 10/10 [29:53<00:00, 179.38s/it, best loss: 0.6839056097216335]\n",
            "best:\n",
            "{'learning_rate': 0.006200000000000001, 'n_estimators': 58}\n"
          ]
        }
      ],
      "source": [
        "def hyperopt_ab_score(params):\n",
        "    clf = AdaBoostClassifier(**params)\n",
        "    current_score = cross_val_score(clf, train, target, cv=10).mean()\n",
        "    print(current_score, params)\n",
        "    return current_score \n",
        " \n",
        "space_ab = {\n",
        "            'n_estimators': hp.choice('n_estimators', range(50, 1000)),\n",
        "            'learning_rate': hp.quniform('learning_rate', 0, 0.05, 0.0001)       \n",
        "        }\n",
        " \n",
        "best = fmin(fn=hyperopt_ab_score, space=space_ab, algo=tpe.suggest, max_evals=10)\n",
        "print('best:')\n",
        "print(best)"
      ]
    },
    {
      "cell_type": "code",
      "execution_count": 13,
      "metadata": {
        "id": "_5VpWWxbGay4",
        "colab": {
          "base_uri": "https://localhost:8080/"
        },
        "outputId": "78c452e9-ebf8-460d-e8d6-2dc913b4b797"
      },
      "outputs": [
        {
          "output_type": "execute_result",
          "data": {
            "text/plain": [
              "{'learning_rate': 0.006200000000000001, 'n_estimators': 108}"
            ]
          },
          "metadata": {},
          "execution_count": 13
        }
      ],
      "source": [
        "params = space_eval(space_ab, best)\n",
        "params"
      ]
    },
    {
      "cell_type": "code",
      "execution_count": 14,
      "metadata": {
        "id": "fBt-eIabGay4",
        "colab": {
          "base_uri": "https://localhost:8080/"
        },
        "outputId": "f4c0f5cf-00a7-4e97-8564-c60a95f09a46"
      },
      "outputs": [
        {
          "output_type": "execute_result",
          "data": {
            "text/plain": [
              "82.14"
            ]
          },
          "metadata": {},
          "execution_count": 14
        }
      ],
      "source": [
        "# AdaBoost Classifier\n",
        "\n",
        "Ada_Boost = AdaBoostClassifier(**{'learning_rate': 0.046400000000000004, 'n_estimators': 819}\n",
        ")\n",
        "Ada_Boost.fit(train, target)\n",
        "Ada_Boost.score(train, target)\n",
        "acc_AdaBoost = round(Ada_Boost.score(train, target) * 100, 2)\n",
        "acc_AdaBoost"
      ]
    },
    {
      "cell_type": "code",
      "execution_count": 15,
      "metadata": {
        "id": "6AgMWeFzGay4",
        "colab": {
          "base_uri": "https://localhost:8080/"
        },
        "outputId": "107fbf8a-2e8e-4a91-ebfb-fc18be4dd09b"
      },
      "outputs": [
        {
          "output_type": "execute_result",
          "data": {
            "text/plain": [
              "75.18"
            ]
          },
          "metadata": {},
          "execution_count": 15
        }
      ],
      "source": [
        "acc_test_AdaBoost = round(Ada_Boost.score(test, target_test) * 100, 2)\n",
        "acc_test_AdaBoost"
      ]
    },
    {
      "cell_type": "code",
      "source": [
        "# Print the Confusion Matrix and slice it into four pieces\n",
        "y_pred = Ada_Boost.predict(test)\n",
        "\n",
        "from sklearn.metrics import confusion_matrix\n",
        "\n",
        "cm = confusion_matrix(target_test, y_pred)\n",
        "\n",
        "print('Confusion matrix\\n\\n', cm)\n",
        "\n",
        "print('\\nTrue Positives(TP) = ', cm[0,0])\n",
        "\n",
        "print('\\nTrue Negatives(TN) = ', cm[1,1])\n",
        "\n",
        "print('\\nFalse Positives(FP) = ', cm[0,1])\n",
        "\n",
        "print('\\nFalse Negatives(FN) = ', cm[1,0])\n",
        "\n",
        "from sklearn.metrics import classification_report\n",
        "\n",
        "print(classification_report(target_test, y_pred))\n",
        "\n",
        "# visualize confusion matrix with seaborn heatmap\n",
        "import seaborn as sns\n",
        "cm_matrix = pd.DataFrame(data=cm, columns=['Actual Positive:1', 'Actual Negative:0'], \n",
        "                                 index=['Predict Positive:1', 'Predict Negative:0'])\n",
        "\n",
        "sns.heatmap(cm_matrix, annot=True, fmt='d', cmap='YlGnBu')\n",
        "print(\"--------------------------------------------------------------------------------------\")\n",
        "\n",
        "from sklearn.metrics import roc_curve\n",
        "\n",
        "\n",
        "def plot_roc_curve(fpr, tpr, label=None):\n",
        "    plt.plot(fpr, tpr, linewidth=2, label=label)\n",
        "    plt.plot([0, 1], [0, 1], \"k--\")\n",
        "    plt.axis([0, 1, 0, 1])\n",
        "    plt.xlabel('False Positive Rate')\n",
        "    plt.ylabel('True Positive Rate')\n",
        "    plt.title('ROC Curve')\n",
        "\n",
        "\n"
      ],
      "metadata": {
        "id": "gZ31t1nTu-SG",
        "colab": {
          "base_uri": "https://localhost:8080/",
          "height": 664
        },
        "outputId": "7b3fbc6d-529d-4616-9f07-aab986935be2"
      },
      "execution_count": 64,
      "outputs": [
        {
          "output_type": "stream",
          "name": "stdout",
          "text": [
            "Confusion matrix\n",
            "\n",
            " [[291 137]\n",
            " [ 72 342]]\n",
            "\n",
            "True Positives(TP) =  291\n",
            "\n",
            "True Negatives(TN) =  342\n",
            "\n",
            "False Positives(FP) =  137\n",
            "\n",
            "False Negatives(FN) =  72\n",
            "              precision    recall  f1-score   support\n",
            "\n",
            "          MS       0.80      0.68      0.74       428\n",
            "         NMO       0.71      0.83      0.77       414\n",
            "\n",
            "    accuracy                           0.75       842\n",
            "   macro avg       0.76      0.75      0.75       842\n",
            "weighted avg       0.76      0.75      0.75       842\n",
            "\n",
            "--------------------------------------------------------------------------------------\n"
          ]
        },
        {
          "output_type": "display_data",
          "data": {
            "text/plain": [
              "<Figure size 432x288 with 2 Axes>"
            ],
            "image/png": "[encoded data removed]"
          },
          "metadata": {
            "needs_background": "light"
          }
        }
      ]
    },
    {
      "cell_type": "markdown",
      "metadata": {
        "id": "BvJO9kuIGay8"
      },
      "source": [
        "## 6. Models evaluation <a class=\"anchor\" id=\"6\"></a>\n",
        "\n",
        "[Back to Table of Contents](#0.1)"
      ]
    },
    {
      "cell_type": "markdown",
      "metadata": {
        "id": "tI2dmLxZGay8"
      },
      "source": [
        "We can now rank our evaluation of all the models to choose the best one for our problem."
      ]
    },
    {
      "cell_type": "code",
      "execution_count": 65,
      "metadata": {
        "id": "H66CAJUOGay8",
        "colab": {
          "base_uri": "https://localhost:8080/",
          "height": 243
        },
        "outputId": "bb3d6648-ed29-4149-8841-b0764f038fb0"
      },
      "outputs": [
        {
          "output_type": "error",
          "ename": "NameError",
          "evalue": "ignored",
          "traceback": [
            "\u001b[0;31m---------------------------------------------------------------------------\u001b[0m",
            "\u001b[0;31mNameError\u001b[0m                                 Traceback (most recent call last)",
            "\u001b[0;32m<ipython-input-65-5cec5e6dfc13>\u001b[0m in \u001b[0;36m<module>\u001b[0;34m\u001b[0m\n\u001b[1;32m      8\u001b[0m     'Score_train': [acc_log, acc_svc, acc_knn, acc_gaussian, \n\u001b[1;32m      9\u001b[0m               \u001b[0macc_perceptron\u001b[0m\u001b[0;34m,\u001b[0m \u001b[0macc_sgd\u001b[0m\u001b[0;34m,\u001b[0m\u001b[0;34m\u001b[0m\u001b[0;34m\u001b[0m\u001b[0m\n\u001b[0;32m---> 10\u001b[0;31m               \u001b[0macc_decision_tree\u001b[0m\u001b[0;34m,\u001b[0m \u001b[0macc_random_forest\u001b[0m\u001b[0;34m,\u001b[0m \u001b[0macc_LGB_Classifier\u001b[0m\u001b[0;34m,\u001b[0m\u001b[0;34m\u001b[0m\u001b[0;34m\u001b[0m\u001b[0m\n\u001b[0m\u001b[1;32m     11\u001b[0m               \u001b[0macc_gradient_boosting\u001b[0m\u001b[0;34m,\u001b[0m \u001b[0macc_ridge_classifier\u001b[0m\u001b[0;34m,\u001b[0m \u001b[0macc_etc\u001b[0m\u001b[0;34m,\u001b[0m\u001b[0;34m\u001b[0m\u001b[0;34m\u001b[0m\u001b[0m\n\u001b[1;32m     12\u001b[0m               acc_AdaBoost],\n",
            "\u001b[0;31mNameError\u001b[0m: name 'acc_random_forest' is not defined"
          ]
        }
      ],
      "source": [
        "models = pd.DataFrame({\n",
        "    'Model': ['Logistic Regression', 'Support Vector Machines', 'k-Nearest Neighbors', 'Naive Bayes', \n",
        "              'Perceptron', 'Stochastic Gradient Decent', \n",
        "              'Decision Tree Classifier', 'Random Forest',  'LGBMClassifier',\n",
        "              'GradientBoostingClassifier', 'RidgeClassifier', 'ExtraTreesClassifier', \n",
        "              'AdaBoostClassifier'],\n",
        "    \n",
        "    'Score_train': [acc_log, acc_svc, acc_knn, acc_gaussian, \n",
        "              acc_perceptron, acc_sgd, \n",
        "              acc_decision_tree, acc_random_forest, acc_LGB_Classifier,\n",
        "              acc_gradient_boosting, acc_ridge_classifier, acc_etc, \n",
        "              acc_AdaBoost],\n",
        "    'Score_test': [acc_test_log, acc_test_svc,  acc_test_knn, acc_test_gaussian, \n",
        "              acc_test_perceptron, acc_test_sgd, \n",
        "              acc_test_decision_tree, acc_test_random_forest, acc_test_LGB_Classifier,\n",
        "              acc_test_gradient_boosting, acc_test_ridge_classifier, acc_test_etc, \n",
        "              acc_test_AdaBoost]\n",
        "                    })"
      ]
    },
    {
      "cell_type": "code",
      "execution_count": null,
      "metadata": {
        "id": "JsseJXPMGay9"
      },
      "outputs": [],
      "source": [
        "models.sort_values(by=['Score_test', 'Score_train'], ascending=False)"
      ]
    },
    {
      "cell_type": "code",
      "execution_count": null,
      "metadata": {
        "id": "vmC7rbrOGay-"
      },
      "outputs": [],
      "source": [
        "# Plot\n",
        "plt.figure(figsize=[25,6])\n",
        "xx = models['Model']\n",
        "plt.tick_params(labelsize=14)\n",
        "plt.plot(xx, models['Score_train'], label = 'Score_train')\n",
        "plt.plot(xx, models['Score_test'], label = 'Score_test')\n",
        "plt.legend()\n",
        "plt.title('Score of 20 popular models for train and test datasets')\n",
        "plt.xlabel('Models')\n",
        "plt.ylabel('Score, %')\n",
        "plt.xticks(xx, rotation='vertical')\n",
        "plt.savefig('graph.png')\n",
        "plt.show()"
      ]
    },
    {
      "cell_type": "markdown",
      "metadata": {
        "id": "NyJCd0DhGay-"
      },
      "source": [
        "I hope you find this kernel useful and enjoyable."
      ]
    },
    {
      "cell_type": "markdown",
      "metadata": {
        "id": "fPHN4LVoGay-"
      },
      "source": [
        "Your comments and feedback are most welcome."
      ]
    },
    {
      "cell_type": "markdown",
      "metadata": {
        "id": "1pNc_xEOGay-"
      },
      "source": [
        "[Go to Top](#0)"
      ]
    }
  ],
  "metadata": {
    "kernelspec": {
      "display_name": "Python 3",
      "language": "python",
      "name": "python3"
    },
    "language_info": {
      "codemirror_mode": {
        "name": "ipython",
        "version": 3
      },
      "file_extension": ".py",
      "mimetype": "text/x-python",
      "name": "python",
      "nbconvert_exporter": "python",
      "pygments_lexer": "ipython3",
      "version": "3.6.6"
    },
    "colab": {
      "provenance": []
    },
    "accelerator": "GPU",
    "gpuClass": "standard"
  },
  "nbformat": 4,
  "nbformat_minor": 0
}