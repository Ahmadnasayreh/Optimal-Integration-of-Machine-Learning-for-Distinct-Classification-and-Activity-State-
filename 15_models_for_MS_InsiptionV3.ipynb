{
  "cells": [
    {
      "cell_type": "markdown",
      "metadata": {
        "id": "nB6MkwKfGaye"
      },
      "source": [
        "## 1. Import libraries <a class=\"anchor\" id=\"1\"></a>\n",
        "\n",
        "[Back to Table of Contents](#0.1)"
      ]
    },
    {
      "cell_type": "code",
      "execution_count": 89,
      "metadata": {
        "_cell_guid": "b1076dfc-b9ad-4769-8c92-a6c4dae69d19",
        "_uuid": "8f2839f25d086af736a60e9eeb907d3b93b6e0e5",
        "id": "wau0Bxx1Gaye"
      },
      "outputs": [],
      "source": [
        "import numpy as np\n",
        "import pandas as pd\n",
        "import matplotlib.pyplot as plt\n",
        "%matplotlib inline\n",
        "\n",
        "# preprocessing\n",
        "from sklearn.preprocessing import LabelEncoder\n",
        "from sklearn.model_selection import train_test_split, cross_val_score, GridSearchCV\n",
        "import pandas_profiling as pp\n",
        "\n",
        "# models\n",
        "from sklearn.linear_model import LogisticRegression, Perceptron, RidgeClassifier, SGDClassifier\n",
        "from sklearn.svm import SVC, LinearSVC\n",
        "from sklearn.ensemble import RandomForestClassifier, GradientBoostingClassifier, ExtraTreesClassifier \n",
        "from sklearn.ensemble import BaggingClassifier, AdaBoostClassifier, VotingClassifier \n",
        "from sklearn.neighbors import KNeighborsClassifier\n",
        "from sklearn.naive_bayes import GaussianNB\n",
        "from sklearn.tree import DecisionTreeClassifier\n",
        "from sklearn import metrics\n",
        "import xgboost as xgb\n",
        "from xgboost import XGBClassifier\n",
        "import lightgbm as lgb\n",
        "from lightgbm import LGBMClassifier\n",
        "\n",
        "# NN models\n",
        "import keras\n",
        "from keras.models import Sequential\n",
        "from keras.layers import Dense, Dropout\n",
        "from keras import optimizers\n",
        "from keras.wrappers.scikit_learn import KerasClassifier\n",
        "from keras.callbacks import EarlyStopping, ModelCheckpoint\n",
        "\n",
        "# model tuning\n",
        "from hyperopt import STATUS_OK, Trials, fmin, hp, tpe, space_eval\n",
        "\n",
        "# import warnings filter\n",
        "from warnings import simplefilter\n",
        "# ignore all future warnings\n",
        "simplefilter(action='ignore', category=FutureWarning)"
      ]
    },
    {
      "cell_type": "markdown",
      "metadata": {
        "id": "SAAXY6kPGayh"
      },
      "source": [
        "## 2. Download datasets <a class=\"anchor\" id=\"2\"></a>\n",
        "\n",
        "[Back to Table of Contents](#0.1)"
      ]
    },
    {
      "cell_type": "code",
      "execution_count": 90,
      "metadata": {
        "id": "gQmkxDTbGayh"
      },
      "outputs": [],
      "source": [
        "data = pd.read_csv(\"//content/MS_NMO_INCEPTIONV3_AUG.csv\")"
      ]
    },
    {
      "cell_type": "code",
      "execution_count": 91,
      "metadata": {
        "colab": {
          "base_uri": "https://localhost:8080/",
          "height": 237
        },
        "id": "ryILdWo8Gayi",
        "outputId": "e6ddd942-4202-4ad0-f1cc-03380c778677"
      },
      "outputs": [
        {
          "output_type": "execute_result",
          "data": {
            "text/plain": [
              "        PC1       PC2       PC3       PC4       PC5       PC6       PC7  \\\n",
              "0  0.760382  0.093005 -0.023852 -0.557780  0.250498 -0.052870  0.021842   \n",
              "1  0.731019 -0.089039 -0.094062 -0.404580  0.239859  0.143784 -0.211292   \n",
              "2  0.682183 -0.634392 -0.209868  0.101061  0.050575  0.371701 -0.212174   \n",
              "\n",
              "        PC8       PC9      PC10  ...      PC67      PC68      PC69      PC70  \\\n",
              "0 -0.022000  0.267746 -0.089050  ... -0.265619 -0.467540 -0.214353 -0.139336   \n",
              "1  0.112680  0.127726  0.071070  ... -0.286999 -0.178591 -0.223775  0.072440   \n",
              "2  0.036982  0.124532 -0.120152  ...  0.188439 -0.360678  0.074817 -0.246371   \n",
              "\n",
              "       PC71      PC72      PC73      PC74      PC75  category  \n",
              "0 -0.241507 -0.955506 -0.332278 -0.860489 -0.534234        MS  \n",
              "1 -0.448085 -0.865943 -0.123504 -0.768515 -0.219314        MS  \n",
              "2 -0.161964 -0.471346  0.169266  0.039045 -0.580925        MS  \n",
              "\n",
              "[3 rows x 76 columns]"
            ],
            "text/html": [
              "\n",
              "  <div id=\"df-05ef6d4d-a7bd-45fa-8ffc-bfaabe973d8a\">\n",
              "    <div class=\"colab-df-container\">\n",
              "      <div>\n",
              "<style scoped>\n",
              "    .dataframe tbody tr th:only-of-type {\n",
              "        vertical-align: middle;\n",
              "    }\n",
              "\n",
              "    .dataframe tbody tr th {\n",
              "        vertical-align: top;\n",
              "    }\n",
              "\n",
              "    .dataframe thead th {\n",
              "        text-align: right;\n",
              "    }\n",
              "</style>\n",
              "<table border=\"1\" class=\"dataframe\">\n",
              "  <thead>\n",
              "    <tr style=\"text-align: right;\">\n",
              "      <th></th>\n",
              "      <th>PC1</th>\n",
              "      <th>PC2</th>\n",
              "      <th>PC3</th>\n",
              "      <th>PC4</th>\n",
              "      <th>PC5</th>\n",
              "      <th>PC6</th>\n",
              "      <th>PC7</th>\n",
              "      <th>PC8</th>\n",
              "      <th>PC9</th>\n",
              "      <th>PC10</th>\n",
              "      <th>...</th>\n",
              "      <th>PC67</th>\n",
              "      <th>PC68</th>\n",
              "      <th>PC69</th>\n",
              "      <th>PC70</th>\n",
              "      <th>PC71</th>\n",
              "      <th>PC72</th>\n",
              "      <th>PC73</th>\n",
              "      <th>PC74</th>\n",
              "      <th>PC75</th>\n",
              "      <th>category</th>\n",
              "    </tr>\n",
              "  </thead>\n",
              "  <tbody>\n",
              "    <tr>\n",
              "      <th>0</th>\n",
              "      <td>0.760382</td>\n",
              "      <td>0.093005</td>\n",
              "      <td>-0.023852</td>\n",
              "      <td>-0.557780</td>\n",
              "      <td>0.250498</td>\n",
              "      <td>-0.052870</td>\n",
              "      <td>0.021842</td>\n",
              "      <td>-0.022000</td>\n",
              "      <td>0.267746</td>\n",
              "      <td>-0.089050</td>\n",
              "      <td>...</td>\n",
              "      <td>-0.265619</td>\n",
              "      <td>-0.467540</td>\n",
              "      <td>-0.214353</td>\n",
              "      <td>-0.139336</td>\n",
              "      <td>-0.241507</td>\n",
              "      <td>-0.955506</td>\n",
              "      <td>-0.332278</td>\n",
              "      <td>-0.860489</td>\n",
              "      <td>-0.534234</td>\n",
              "      <td>MS</td>\n",
              "    </tr>\n",
              "    <tr>\n",
              "      <th>1</th>\n",
              "      <td>0.731019</td>\n",
              "      <td>-0.089039</td>\n",
              "      <td>-0.094062</td>\n",
              "      <td>-0.404580</td>\n",
              "      <td>0.239859</td>\n",
              "      <td>0.143784</td>\n",
              "      <td>-0.211292</td>\n",
              "      <td>0.112680</td>\n",
              "      <td>0.127726</td>\n",
              "      <td>0.071070</td>\n",
              "      <td>...</td>\n",
              "      <td>-0.286999</td>\n",
              "      <td>-0.178591</td>\n",
              "      <td>-0.223775</td>\n",
              "      <td>0.072440</td>\n",
              "      <td>-0.448085</td>\n",
              "      <td>-0.865943</td>\n",
              "      <td>-0.123504</td>\n",
              "      <td>-0.768515</td>\n",
              "      <td>-0.219314</td>\n",
              "      <td>MS</td>\n",
              "    </tr>\n",
              "    <tr>\n",
              "      <th>2</th>\n",
              "      <td>0.682183</td>\n",
              "      <td>-0.634392</td>\n",
              "      <td>-0.209868</td>\n",
              "      <td>0.101061</td>\n",
              "      <td>0.050575</td>\n",
              "      <td>0.371701</td>\n",
              "      <td>-0.212174</td>\n",
              "      <td>0.036982</td>\n",
              "      <td>0.124532</td>\n",
              "      <td>-0.120152</td>\n",
              "      <td>...</td>\n",
              "      <td>0.188439</td>\n",
              "      <td>-0.360678</td>\n",
              "      <td>0.074817</td>\n",
              "      <td>-0.246371</td>\n",
              "      <td>-0.161964</td>\n",
              "      <td>-0.471346</td>\n",
              "      <td>0.169266</td>\n",
              "      <td>0.039045</td>\n",
              "      <td>-0.580925</td>\n",
              "      <td>MS</td>\n",
              "    </tr>\n",
              "  </tbody>\n",
              "</table>\n",
              "<p>3 rows × 76 columns</p>\n",
              "</div>\n",
              "      <button class=\"colab-df-convert\" onclick=\"convertToInteractive('df-05ef6d4d-a7bd-45fa-8ffc-bfaabe973d8a')\"\n",
              "              title=\"Convert this dataframe to an interactive table.\"\n",
              "              style=\"display:none;\">\n",
              "        \n",
              "  <svg xmlns=\"http://www.w3.org/2000/svg\" height=\"24px\"viewBox=\"0 0 24 24\"\n",
              "       width=\"24px\">\n",
              "    <path d=\"M0 0h24v24H0V0z\" fill=\"none\"/>\n",
              "    <path d=\"M18.56 5.44l.94 2.06.94-2.06 2.06-.94-2.06-.94-.94-2.06-.94 2.06-2.06.94zm-11 1L8.5 8.5l.94-2.06 2.06-.94-2.06-.94L8.5 2.5l-.94 2.06-2.06.94zm10 10l.94 2.06.94-2.06 2.06-.94-2.06-.94-.94-2.06-.94 2.06-2.06.94z\"/><path d=\"M17.41 7.96l-1.37-1.37c-.4-.4-.92-.59-1.43-.59-.52 0-1.04.2-1.43.59L10.3 9.45l-7.72 7.72c-.78.78-.78 2.05 0 2.83L4 21.41c.39.39.9.59 1.41.59.51 0 1.02-.2 1.41-.59l7.78-7.78 2.81-2.81c.8-.78.8-2.07 0-2.86zM5.41 20L4 18.59l7.72-7.72 1.47 1.35L5.41 20z\"/>\n",
              "  </svg>\n",
              "      </button>\n",
              "      \n",
              "  <style>\n",
              "    .colab-df-container {\n",
              "      display:flex;\n",
              "      flex-wrap:wrap;\n",
              "      gap: 12px;\n",
              "    }\n",
              "\n",
              "    .colab-df-convert {\n",
              "      background-color: #E8F0FE;\n",
              "      border: none;\n",
              "      border-radius: 50%;\n",
              "      cursor: pointer;\n",
              "      display: none;\n",
              "      fill: #1967D2;\n",
              "      height: 32px;\n",
              "      padding: 0 0 0 0;\n",
              "      width: 32px;\n",
              "    }\n",
              "\n",
              "    .colab-df-convert:hover {\n",
              "      background-color: #E2EBFA;\n",
              "      box-shadow: 0px 1px 2px rgba(60, 64, 67, 0.3), 0px 1px 3px 1px rgba(60, 64, 67, 0.15);\n",
              "      fill: #174EA6;\n",
              "    }\n",
              "\n",
              "    [theme=dark] .colab-df-convert {\n",
              "      background-color: #3B4455;\n",
              "      fill: #D2E3FC;\n",
              "    }\n",
              "\n",
              "    [theme=dark] .colab-df-convert:hover {\n",
              "      background-color: #434B5C;\n",
              "      box-shadow: 0px 1px 3px 1px rgba(0, 0, 0, 0.15);\n",
              "      filter: drop-shadow(0px 1px 2px rgba(0, 0, 0, 0.3));\n",
              "      fill: #FFFFFF;\n",
              "    }\n",
              "  </style>\n",
              "\n",
              "      <script>\n",
              "        const buttonEl =\n",
              "          document.querySelector('#df-05ef6d4d-a7bd-45fa-8ffc-bfaabe973d8a button.colab-df-convert');\n",
              "        buttonEl.style.display =\n",
              "          google.colab.kernel.accessAllowed ? 'block' : 'none';\n",
              "\n",
              "        async function convertToInteractive(key) {\n",
              "          const element = document.querySelector('#df-05ef6d4d-a7bd-45fa-8ffc-bfaabe973d8a');\n",
              "          const dataTable =\n",
              "            await google.colab.kernel.invokeFunction('convertToInteractive',\n",
              "                                                     [key], {});\n",
              "          if (!dataTable) return;\n",
              "\n",
              "          const docLinkHtml = 'Like what you see? Visit the ' +\n",
              "            '<a target=\"_blank\" href=https://colab.research.google.com/notebooks/data_table.ipynb>data table notebook</a>'\n",
              "            + ' to learn more about interactive tables.';\n",
              "          element.innerHTML = '';\n",
              "          dataTable['output_type'] = 'display_data';\n",
              "          await google.colab.output.renderOutput(dataTable, element);\n",
              "          const docLink = document.createElement('div');\n",
              "          docLink.innerHTML = docLinkHtml;\n",
              "          element.appendChild(docLink);\n",
              "        }\n",
              "      </script>\n",
              "    </div>\n",
              "  </div>\n",
              "  "
            ]
          },
          "metadata": {},
          "execution_count": 91
        }
      ],
      "source": [
        "data.head(3)"
      ]
    },
    {
      "cell_type": "code",
      "execution_count": 92,
      "metadata": {
        "colab": {
          "base_uri": "https://localhost:8080/"
        },
        "id": "iVMw9X1dGayi",
        "outputId": "7cada3dd-c23f-45aa-d2cf-21fc5442ecd0"
      },
      "outputs": [
        {
          "output_type": "stream",
          "name": "stdout",
          "text": [
            "<class 'pandas.core.frame.DataFrame'>\n",
            "RangeIndex: 4208 entries, 0 to 4207\n",
            "Data columns (total 76 columns):\n",
            " #   Column    Non-Null Count  Dtype  \n",
            "---  ------    --------------  -----  \n",
            " 0   PC1       4208 non-null   float64\n",
            " 1   PC2       4208 non-null   float64\n",
            " 2   PC3       4208 non-null   float64\n",
            " 3   PC4       4208 non-null   float64\n",
            " 4   PC5       4208 non-null   float64\n",
            " 5   PC6       4208 non-null   float64\n",
            " 6   PC7       4208 non-null   float64\n",
            " 7   PC8       4208 non-null   float64\n",
            " 8   PC9       4208 non-null   float64\n",
            " 9   PC10      4208 non-null   float64\n",
            " 10  PC11      4208 non-null   float64\n",
            " 11  PC12      4208 non-null   float64\n",
            " 12  PC13      4208 non-null   float64\n",
            " 13  PC14      4208 non-null   float64\n",
            " 14  PC15      4208 non-null   float64\n",
            " 15  PC16      4208 non-null   float64\n",
            " 16  PC17      4208 non-null   float64\n",
            " 17  PC18      4208 non-null   float64\n",
            " 18  PC19      4208 non-null   float64\n",
            " 19  PC20      4208 non-null   float64\n",
            " 20  PC21      4208 non-null   float64\n",
            " 21  PC22      4208 non-null   float64\n",
            " 22  PC23      4208 non-null   float64\n",
            " 23  PC24      4208 non-null   float64\n",
            " 24  PC25      4208 non-null   float64\n",
            " 25  PC26      4208 non-null   float64\n",
            " 26  PC27      4208 non-null   float64\n",
            " 27  PC28      4208 non-null   float64\n",
            " 28  PC29      4208 non-null   float64\n",
            " 29  PC30      4208 non-null   float64\n",
            " 30  PC31      4208 non-null   float64\n",
            " 31  PC32      4208 non-null   float64\n",
            " 32  PC33      4208 non-null   float64\n",
            " 33  PC34      4208 non-null   float64\n",
            " 34  PC35      4208 non-null   float64\n",
            " 35  PC36      4208 non-null   float64\n",
            " 36  PC37      4208 non-null   float64\n",
            " 37  PC38      4208 non-null   float64\n",
            " 38  PC39      4208 non-null   float64\n",
            " 39  PC40      4208 non-null   float64\n",
            " 40  PC41      4208 non-null   float64\n",
            " 41  PC42      4208 non-null   float64\n",
            " 42  PC43      4208 non-null   float64\n",
            " 43  PC44      4208 non-null   float64\n",
            " 44  PC45      4208 non-null   float64\n",
            " 45  PC46      4208 non-null   float64\n",
            " 46  PC47      4208 non-null   float64\n",
            " 47  PC48      4208 non-null   float64\n",
            " 48  PC49      4208 non-null   float64\n",
            " 49  PC50      4208 non-null   float64\n",
            " 50  PC51      4208 non-null   float64\n",
            " 51  PC52      4208 non-null   float64\n",
            " 52  PC53      4208 non-null   float64\n",
            " 53  PC54      4208 non-null   float64\n",
            " 54  PC55      4208 non-null   float64\n",
            " 55  PC56      4208 non-null   float64\n",
            " 56  PC57      4208 non-null   float64\n",
            " 57  PC58      4208 non-null   float64\n",
            " 58  PC59      4208 non-null   float64\n",
            " 59  PC60      4208 non-null   float64\n",
            " 60  PC61      4208 non-null   float64\n",
            " 61  PC62      4208 non-null   float64\n",
            " 62  PC63      4208 non-null   float64\n",
            " 63  PC64      4208 non-null   float64\n",
            " 64  PC65      4208 non-null   float64\n",
            " 65  PC66      4208 non-null   float64\n",
            " 66  PC67      4208 non-null   float64\n",
            " 67  PC68      4208 non-null   float64\n",
            " 68  PC69      4208 non-null   float64\n",
            " 69  PC70      4208 non-null   float64\n",
            " 70  PC71      4208 non-null   float64\n",
            " 71  PC72      4208 non-null   float64\n",
            " 72  PC73      4208 non-null   float64\n",
            " 73  PC74      4208 non-null   float64\n",
            " 74  PC75      4208 non-null   float64\n",
            " 75  category  4208 non-null   object \n",
            "dtypes: float64(75), object(1)\n",
            "memory usage: 2.4+ MB\n"
          ]
        }
      ],
      "source": [
        "data.info()"
      ]
    },
    {
      "cell_type": "code",
      "execution_count": 93,
      "metadata": {
        "id": "xtq24beBGayk"
      },
      "outputs": [],
      "source": [
        "target_name = 'category'\n",
        "data_target = data[target_name]\n",
        "data = data.drop([target_name], axis=1)"
      ]
    },
    {
      "cell_type": "markdown",
      "metadata": {
        "id": "AINlmClvGayk"
      },
      "source": [
        "I split data on 30% in the test dataset, the remaining 70% - in the training dataset"
      ]
    },
    {
      "cell_type": "code",
      "execution_count": 94,
      "metadata": {
        "id": "fi3TumBUGayk"
      },
      "outputs": [],
      "source": [
        "train, test, target, target_test = train_test_split(data, data_target, test_size=0.2, random_state=0)"
      ]
    },
    {
      "cell_type": "code",
      "execution_count": 95,
      "metadata": {
        "colab": {
          "base_uri": "https://localhost:8080/",
          "height": 237
        },
        "id": "y_hN9tyeGayk",
        "outputId": "7a53b3b5-b945-47d9-eaf2-f3e83332979d"
      },
      "outputs": [
        {
          "output_type": "execute_result",
          "data": {
            "text/plain": [
              "           PC1       PC2       PC3       PC4       PC5       PC6       PC7  \\\n",
              "3539 -0.340586  0.132726 -0.026622 -0.531214  0.286404 -0.590843  0.049760   \n",
              "3747 -0.654673 -0.306038  0.391779  0.111070  0.149242 -0.124868 -0.017459   \n",
              "1287 -0.209111 -0.032181 -0.405759  0.614328 -0.546019 -0.451863  0.221056   \n",
              "\n",
              "           PC8       PC9      PC10  ...      PC66      PC67      PC68  \\\n",
              "3539 -0.442345  0.065789 -0.787264  ... -0.184219  0.011339 -0.197281   \n",
              "3747  0.064638  0.209691 -0.019918  ... -0.073685  0.134303  0.028191   \n",
              "1287 -0.143602  0.010901 -0.225066  ...  0.288215 -0.187684 -0.215837   \n",
              "\n",
              "          PC69      PC70      PC71      PC72      PC73      PC74      PC75  \n",
              "3539 -0.093069 -0.251382  0.099981 -0.240620  0.103094 -0.058364  0.133500  \n",
              "3747  0.136350  0.212588 -0.433244  0.065039 -0.455924 -0.216393 -0.224684  \n",
              "1287 -0.133266  0.111592 -0.330817 -0.386252 -0.517628  0.114164 -0.543223  \n",
              "\n",
              "[3 rows x 75 columns]"
            ],
            "text/html": [
              "\n",
              "  <div id=\"df-38af1475-3553-417d-94f3-dc108fbdc7e2\">\n",
              "    <div class=\"colab-df-container\">\n",
              "      <div>\n",
              "<style scoped>\n",
              "    .dataframe tbody tr th:only-of-type {\n",
              "        vertical-align: middle;\n",
              "    }\n",
              "\n",
              "    .dataframe tbody tr th {\n",
              "        vertical-align: top;\n",
              "    }\n",
              "\n",
              "    .dataframe thead th {\n",
              "        text-align: right;\n",
              "    }\n",
              "</style>\n",
              "<table border=\"1\" class=\"dataframe\">\n",
              "  <thead>\n",
              "    <tr style=\"text-align: right;\">\n",
              "      <th></th>\n",
              "      <th>PC1</th>\n",
              "      <th>PC2</th>\n",
              "      <th>PC3</th>\n",
              "      <th>PC4</th>\n",
              "      <th>PC5</th>\n",
              "      <th>PC6</th>\n",
              "      <th>PC7</th>\n",
              "      <th>PC8</th>\n",
              "      <th>PC9</th>\n",
              "      <th>PC10</th>\n",
              "      <th>...</th>\n",
              "      <th>PC66</th>\n",
              "      <th>PC67</th>\n",
              "      <th>PC68</th>\n",
              "      <th>PC69</th>\n",
              "      <th>PC70</th>\n",
              "      <th>PC71</th>\n",
              "      <th>PC72</th>\n",
              "      <th>PC73</th>\n",
              "      <th>PC74</th>\n",
              "      <th>PC75</th>\n",
              "    </tr>\n",
              "  </thead>\n",
              "  <tbody>\n",
              "    <tr>\n",
              "      <th>3539</th>\n",
              "      <td>-0.340586</td>\n",
              "      <td>0.132726</td>\n",
              "      <td>-0.026622</td>\n",
              "      <td>-0.531214</td>\n",
              "      <td>0.286404</td>\n",
              "      <td>-0.590843</td>\n",
              "      <td>0.049760</td>\n",
              "      <td>-0.442345</td>\n",
              "      <td>0.065789</td>\n",
              "      <td>-0.787264</td>\n",
              "      <td>...</td>\n",
              "      <td>-0.184219</td>\n",
              "      <td>0.011339</td>\n",
              "      <td>-0.197281</td>\n",
              "      <td>-0.093069</td>\n",
              "      <td>-0.251382</td>\n",
              "      <td>0.099981</td>\n",
              "      <td>-0.240620</td>\n",
              "      <td>0.103094</td>\n",
              "      <td>-0.058364</td>\n",
              "      <td>0.133500</td>\n",
              "    </tr>\n",
              "    <tr>\n",
              "      <th>3747</th>\n",
              "      <td>-0.654673</td>\n",
              "      <td>-0.306038</td>\n",
              "      <td>0.391779</td>\n",
              "      <td>0.111070</td>\n",
              "      <td>0.149242</td>\n",
              "      <td>-0.124868</td>\n",
              "      <td>-0.017459</td>\n",
              "      <td>0.064638</td>\n",
              "      <td>0.209691</td>\n",
              "      <td>-0.019918</td>\n",
              "      <td>...</td>\n",
              "      <td>-0.073685</td>\n",
              "      <td>0.134303</td>\n",
              "      <td>0.028191</td>\n",
              "      <td>0.136350</td>\n",
              "      <td>0.212588</td>\n",
              "      <td>-0.433244</td>\n",
              "      <td>0.065039</td>\n",
              "      <td>-0.455924</td>\n",
              "      <td>-0.216393</td>\n",
              "      <td>-0.224684</td>\n",
              "    </tr>\n",
              "    <tr>\n",
              "      <th>1287</th>\n",
              "      <td>-0.209111</td>\n",
              "      <td>-0.032181</td>\n",
              "      <td>-0.405759</td>\n",
              "      <td>0.614328</td>\n",
              "      <td>-0.546019</td>\n",
              "      <td>-0.451863</td>\n",
              "      <td>0.221056</td>\n",
              "      <td>-0.143602</td>\n",
              "      <td>0.010901</td>\n",
              "      <td>-0.225066</td>\n",
              "      <td>...</td>\n",
              "      <td>0.288215</td>\n",
              "      <td>-0.187684</td>\n",
              "      <td>-0.215837</td>\n",
              "      <td>-0.133266</td>\n",
              "      <td>0.111592</td>\n",
              "      <td>-0.330817</td>\n",
              "      <td>-0.386252</td>\n",
              "      <td>-0.517628</td>\n",
              "      <td>0.114164</td>\n",
              "      <td>-0.543223</td>\n",
              "    </tr>\n",
              "  </tbody>\n",
              "</table>\n",
              "<p>3 rows × 75 columns</p>\n",
              "</div>\n",
              "      <button class=\"colab-df-convert\" onclick=\"convertToInteractive('df-38af1475-3553-417d-94f3-dc108fbdc7e2')\"\n",
              "              title=\"Convert this dataframe to an interactive table.\"\n",
              "              style=\"display:none;\">\n",
              "        \n",
              "  <svg xmlns=\"http://www.w3.org/2000/svg\" height=\"24px\"viewBox=\"0 0 24 24\"\n",
              "       width=\"24px\">\n",
              "    <path d=\"M0 0h24v24H0V0z\" fill=\"none\"/>\n",
              "    <path d=\"M18.56 5.44l.94 2.06.94-2.06 2.06-.94-2.06-.94-.94-2.06-.94 2.06-2.06.94zm-11 1L8.5 8.5l.94-2.06 2.06-.94-2.06-.94L8.5 2.5l-.94 2.06-2.06.94zm10 10l.94 2.06.94-2.06 2.06-.94-2.06-.94-.94-2.06-.94 2.06-2.06.94z\"/><path d=\"M17.41 7.96l-1.37-1.37c-.4-.4-.92-.59-1.43-.59-.52 0-1.04.2-1.43.59L10.3 9.45l-7.72 7.72c-.78.78-.78 2.05 0 2.83L4 21.41c.39.39.9.59 1.41.59.51 0 1.02-.2 1.41-.59l7.78-7.78 2.81-2.81c.8-.78.8-2.07 0-2.86zM5.41 20L4 18.59l7.72-7.72 1.47 1.35L5.41 20z\"/>\n",
              "  </svg>\n",
              "      </button>\n",
              "      \n",
              "  <style>\n",
              "    .colab-df-container {\n",
              "      display:flex;\n",
              "      flex-wrap:wrap;\n",
              "      gap: 12px;\n",
              "    }\n",
              "\n",
              "    .colab-df-convert {\n",
              "      background-color: #E8F0FE;\n",
              "      border: none;\n",
              "      border-radius: 50%;\n",
              "      cursor: pointer;\n",
              "      display: none;\n",
              "      fill: #1967D2;\n",
              "      height: 32px;\n",
              "      padding: 0 0 0 0;\n",
              "      width: 32px;\n",
              "    }\n",
              "\n",
              "    .colab-df-convert:hover {\n",
              "      background-color: #E2EBFA;\n",
              "      box-shadow: 0px 1px 2px rgba(60, 64, 67, 0.3), 0px 1px 3px 1px rgba(60, 64, 67, 0.15);\n",
              "      fill: #174EA6;\n",
              "    }\n",
              "\n",
              "    [theme=dark] .colab-df-convert {\n",
              "      background-color: #3B4455;\n",
              "      fill: #D2E3FC;\n",
              "    }\n",
              "\n",
              "    [theme=dark] .colab-df-convert:hover {\n",
              "      background-color: #434B5C;\n",
              "      box-shadow: 0px 1px 3px 1px rgba(0, 0, 0, 0.15);\n",
              "      filter: drop-shadow(0px 1px 2px rgba(0, 0, 0, 0.3));\n",
              "      fill: #FFFFFF;\n",
              "    }\n",
              "  </style>\n",
              "\n",
              "      <script>\n",
              "        const buttonEl =\n",
              "          document.querySelector('#df-38af1475-3553-417d-94f3-dc108fbdc7e2 button.colab-df-convert');\n",
              "        buttonEl.style.display =\n",
              "          google.colab.kernel.accessAllowed ? 'block' : 'none';\n",
              "\n",
              "        async function convertToInteractive(key) {\n",
              "          const element = document.querySelector('#df-38af1475-3553-417d-94f3-dc108fbdc7e2');\n",
              "          const dataTable =\n",
              "            await google.colab.kernel.invokeFunction('convertToInteractive',\n",
              "                                                     [key], {});\n",
              "          if (!dataTable) return;\n",
              "\n",
              "          const docLinkHtml = 'Like what you see? Visit the ' +\n",
              "            '<a target=\"_blank\" href=https://colab.research.google.com/notebooks/data_table.ipynb>data table notebook</a>'\n",
              "            + ' to learn more about interactive tables.';\n",
              "          element.innerHTML = '';\n",
              "          dataTable['output_type'] = 'display_data';\n",
              "          await google.colab.output.renderOutput(dataTable, element);\n",
              "          const docLink = document.createElement('div');\n",
              "          docLink.innerHTML = docLinkHtml;\n",
              "          element.appendChild(docLink);\n",
              "        }\n",
              "      </script>\n",
              "    </div>\n",
              "  </div>\n",
              "  "
            ]
          },
          "metadata": {},
          "execution_count": 95
        }
      ],
      "source": [
        "train.head(3)"
      ]
    },
    {
      "cell_type": "code",
      "execution_count": 96,
      "metadata": {
        "colab": {
          "base_uri": "https://localhost:8080/",
          "height": 237
        },
        "id": "D1StT7W7Gayl",
        "outputId": "1730922d-bf94-4137-a3a1-4ee3f2c755d1"
      },
      "outputs": [
        {
          "output_type": "execute_result",
          "data": {
            "text/plain": [
              "           PC1       PC2       PC3       PC4       PC5       PC6       PC7  \\\n",
              "3430 -0.419927  0.425164  0.676169 -0.417151 -0.205480  0.354341  0.038365   \n",
              "2131  0.478894 -0.516352  0.058218 -0.303112 -0.232997 -0.059777 -0.042481   \n",
              "2680  0.427132 -0.414933  0.118218 -0.243217  0.073145 -0.081017 -0.675197   \n",
              "\n",
              "           PC8       PC9      PC10  ...      PC66      PC67      PC68  \\\n",
              "3430  0.466729  0.442089 -0.506157  ... -0.259842  0.058502 -0.221405   \n",
              "2131 -0.232191 -0.007518 -0.292218  ... -0.112413 -0.402072  0.060442   \n",
              "2680  0.230141 -0.362049 -0.121214  ... -0.299639 -0.397121 -0.338465   \n",
              "\n",
              "          PC69      PC70      PC71      PC72      PC73      PC74      PC75  \n",
              "3430  0.066990  0.033829 -0.234557 -0.131743 -0.111427  0.805651 -0.175402  \n",
              "2131 -0.058187 -0.242823  0.035788  0.046500 -0.172279 -0.465900 -0.523740  \n",
              "2680 -0.376661  0.318593 -0.056434 -0.064130  0.163273 -0.119843 -0.003801  \n",
              "\n",
              "[3 rows x 75 columns]"
            ],
            "text/html": [
              "\n",
              "  <div id=\"df-2b308833-fe4c-44ea-8ff1-03e691e5bff8\">\n",
              "    <div class=\"colab-df-container\">\n",
              "      <div>\n",
              "<style scoped>\n",
              "    .dataframe tbody tr th:only-of-type {\n",
              "        vertical-align: middle;\n",
              "    }\n",
              "\n",
              "    .dataframe tbody tr th {\n",
              "        vertical-align: top;\n",
              "    }\n",
              "\n",
              "    .dataframe thead th {\n",
              "        text-align: right;\n",
              "    }\n",
              "</style>\n",
              "<table border=\"1\" class=\"dataframe\">\n",
              "  <thead>\n",
              "    <tr style=\"text-align: right;\">\n",
              "      <th></th>\n",
              "      <th>PC1</th>\n",
              "      <th>PC2</th>\n",
              "      <th>PC3</th>\n",
              "      <th>PC4</th>\n",
              "      <th>PC5</th>\n",
              "      <th>PC6</th>\n",
              "      <th>PC7</th>\n",
              "      <th>PC8</th>\n",
              "      <th>PC9</th>\n",
              "      <th>PC10</th>\n",
              "      <th>...</th>\n",
              "      <th>PC66</th>\n",
              "      <th>PC67</th>\n",
              "      <th>PC68</th>\n",
              "      <th>PC69</th>\n",
              "      <th>PC70</th>\n",
              "      <th>PC71</th>\n",
              "      <th>PC72</th>\n",
              "      <th>PC73</th>\n",
              "      <th>PC74</th>\n",
              "      <th>PC75</th>\n",
              "    </tr>\n",
              "  </thead>\n",
              "  <tbody>\n",
              "    <tr>\n",
              "      <th>3430</th>\n",
              "      <td>-0.419927</td>\n",
              "      <td>0.425164</td>\n",
              "      <td>0.676169</td>\n",
              "      <td>-0.417151</td>\n",
              "      <td>-0.205480</td>\n",
              "      <td>0.354341</td>\n",
              "      <td>0.038365</td>\n",
              "      <td>0.466729</td>\n",
              "      <td>0.442089</td>\n",
              "      <td>-0.506157</td>\n",
              "      <td>...</td>\n",
              "      <td>-0.259842</td>\n",
              "      <td>0.058502</td>\n",
              "      <td>-0.221405</td>\n",
              "      <td>0.066990</td>\n",
              "      <td>0.033829</td>\n",
              "      <td>-0.234557</td>\n",
              "      <td>-0.131743</td>\n",
              "      <td>-0.111427</td>\n",
              "      <td>0.805651</td>\n",
              "      <td>-0.175402</td>\n",
              "    </tr>\n",
              "    <tr>\n",
              "      <th>2131</th>\n",
              "      <td>0.478894</td>\n",
              "      <td>-0.516352</td>\n",
              "      <td>0.058218</td>\n",
              "      <td>-0.303112</td>\n",
              "      <td>-0.232997</td>\n",
              "      <td>-0.059777</td>\n",
              "      <td>-0.042481</td>\n",
              "      <td>-0.232191</td>\n",
              "      <td>-0.007518</td>\n",
              "      <td>-0.292218</td>\n",
              "      <td>...</td>\n",
              "      <td>-0.112413</td>\n",
              "      <td>-0.402072</td>\n",
              "      <td>0.060442</td>\n",
              "      <td>-0.058187</td>\n",
              "      <td>-0.242823</td>\n",
              "      <td>0.035788</td>\n",
              "      <td>0.046500</td>\n",
              "      <td>-0.172279</td>\n",
              "      <td>-0.465900</td>\n",
              "      <td>-0.523740</td>\n",
              "    </tr>\n",
              "    <tr>\n",
              "      <th>2680</th>\n",
              "      <td>0.427132</td>\n",
              "      <td>-0.414933</td>\n",
              "      <td>0.118218</td>\n",
              "      <td>-0.243217</td>\n",
              "      <td>0.073145</td>\n",
              "      <td>-0.081017</td>\n",
              "      <td>-0.675197</td>\n",
              "      <td>0.230141</td>\n",
              "      <td>-0.362049</td>\n",
              "      <td>-0.121214</td>\n",
              "      <td>...</td>\n",
              "      <td>-0.299639</td>\n",
              "      <td>-0.397121</td>\n",
              "      <td>-0.338465</td>\n",
              "      <td>-0.376661</td>\n",
              "      <td>0.318593</td>\n",
              "      <td>-0.056434</td>\n",
              "      <td>-0.064130</td>\n",
              "      <td>0.163273</td>\n",
              "      <td>-0.119843</td>\n",
              "      <td>-0.003801</td>\n",
              "    </tr>\n",
              "  </tbody>\n",
              "</table>\n",
              "<p>3 rows × 75 columns</p>\n",
              "</div>\n",
              "      <button class=\"colab-df-convert\" onclick=\"convertToInteractive('df-2b308833-fe4c-44ea-8ff1-03e691e5bff8')\"\n",
              "              title=\"Convert this dataframe to an interactive table.\"\n",
              "              style=\"display:none;\">\n",
              "        \n",
              "  <svg xmlns=\"http://www.w3.org/2000/svg\" height=\"24px\"viewBox=\"0 0 24 24\"\n",
              "       width=\"24px\">\n",
              "    <path d=\"M0 0h24v24H0V0z\" fill=\"none\"/>\n",
              "    <path d=\"M18.56 5.44l.94 2.06.94-2.06 2.06-.94-2.06-.94-.94-2.06-.94 2.06-2.06.94zm-11 1L8.5 8.5l.94-2.06 2.06-.94-2.06-.94L8.5 2.5l-.94 2.06-2.06.94zm10 10l.94 2.06.94-2.06 2.06-.94-2.06-.94-.94-2.06-.94 2.06-2.06.94z\"/><path d=\"M17.41 7.96l-1.37-1.37c-.4-.4-.92-.59-1.43-.59-.52 0-1.04.2-1.43.59L10.3 9.45l-7.72 7.72c-.78.78-.78 2.05 0 2.83L4 21.41c.39.39.9.59 1.41.59.51 0 1.02-.2 1.41-.59l7.78-7.78 2.81-2.81c.8-.78.8-2.07 0-2.86zM5.41 20L4 18.59l7.72-7.72 1.47 1.35L5.41 20z\"/>\n",
              "  </svg>\n",
              "      </button>\n",
              "      \n",
              "  <style>\n",
              "    .colab-df-container {\n",
              "      display:flex;\n",
              "      flex-wrap:wrap;\n",
              "      gap: 12px;\n",
              "    }\n",
              "\n",
              "    .colab-df-convert {\n",
              "      background-color: #E8F0FE;\n",
              "      border: none;\n",
              "      border-radius: 50%;\n",
              "      cursor: pointer;\n",
              "      display: none;\n",
              "      fill: #1967D2;\n",
              "      height: 32px;\n",
              "      padding: 0 0 0 0;\n",
              "      width: 32px;\n",
              "    }\n",
              "\n",
              "    .colab-df-convert:hover {\n",
              "      background-color: #E2EBFA;\n",
              "      box-shadow: 0px 1px 2px rgba(60, 64, 67, 0.3), 0px 1px 3px 1px rgba(60, 64, 67, 0.15);\n",
              "      fill: #174EA6;\n",
              "    }\n",
              "\n",
              "    [theme=dark] .colab-df-convert {\n",
              "      background-color: #3B4455;\n",
              "      fill: #D2E3FC;\n",
              "    }\n",
              "\n",
              "    [theme=dark] .colab-df-convert:hover {\n",
              "      background-color: #434B5C;\n",
              "      box-shadow: 0px 1px 3px 1px rgba(0, 0, 0, 0.15);\n",
              "      filter: drop-shadow(0px 1px 2px rgba(0, 0, 0, 0.3));\n",
              "      fill: #FFFFFF;\n",
              "    }\n",
              "  </style>\n",
              "\n",
              "      <script>\n",
              "        const buttonEl =\n",
              "          document.querySelector('#df-2b308833-fe4c-44ea-8ff1-03e691e5bff8 button.colab-df-convert');\n",
              "        buttonEl.style.display =\n",
              "          google.colab.kernel.accessAllowed ? 'block' : 'none';\n",
              "\n",
              "        async function convertToInteractive(key) {\n",
              "          const element = document.querySelector('#df-2b308833-fe4c-44ea-8ff1-03e691e5bff8');\n",
              "          const dataTable =\n",
              "            await google.colab.kernel.invokeFunction('convertToInteractive',\n",
              "                                                     [key], {});\n",
              "          if (!dataTable) return;\n",
              "\n",
              "          const docLinkHtml = 'Like what you see? Visit the ' +\n",
              "            '<a target=\"_blank\" href=https://colab.research.google.com/notebooks/data_table.ipynb>data table notebook</a>'\n",
              "            + ' to learn more about interactive tables.';\n",
              "          element.innerHTML = '';\n",
              "          dataTable['output_type'] = 'display_data';\n",
              "          await google.colab.output.renderOutput(dataTable, element);\n",
              "          const docLink = document.createElement('div');\n",
              "          docLink.innerHTML = docLinkHtml;\n",
              "          element.appendChild(docLink);\n",
              "        }\n",
              "      </script>\n",
              "    </div>\n",
              "  </div>\n",
              "  "
            ]
          },
          "metadata": {},
          "execution_count": 96
        }
      ],
      "source": [
        "test.head(3)"
      ]
    },
    {
      "cell_type": "code",
      "execution_count": 97,
      "metadata": {
        "colab": {
          "base_uri": "https://localhost:8080/"
        },
        "id": "hL0sA4jMGayl",
        "outputId": "2b9e3a68-bf18-4f5b-bc4d-59d705c5db4f"
      },
      "outputs": [
        {
          "output_type": "stream",
          "name": "stdout",
          "text": [
            "<class 'pandas.core.frame.DataFrame'>\n",
            "Int64Index: 3366 entries, 3539 to 2732\n",
            "Data columns (total 75 columns):\n",
            " #   Column  Non-Null Count  Dtype  \n",
            "---  ------  --------------  -----  \n",
            " 0   PC1     3366 non-null   float64\n",
            " 1   PC2     3366 non-null   float64\n",
            " 2   PC3     3366 non-null   float64\n",
            " 3   PC4     3366 non-null   float64\n",
            " 4   PC5     3366 non-null   float64\n",
            " 5   PC6     3366 non-null   float64\n",
            " 6   PC7     3366 non-null   float64\n",
            " 7   PC8     3366 non-null   float64\n",
            " 8   PC9     3366 non-null   float64\n",
            " 9   PC10    3366 non-null   float64\n",
            " 10  PC11    3366 non-null   float64\n",
            " 11  PC12    3366 non-null   float64\n",
            " 12  PC13    3366 non-null   float64\n",
            " 13  PC14    3366 non-null   float64\n",
            " 14  PC15    3366 non-null   float64\n",
            " 15  PC16    3366 non-null   float64\n",
            " 16  PC17    3366 non-null   float64\n",
            " 17  PC18    3366 non-null   float64\n",
            " 18  PC19    3366 non-null   float64\n",
            " 19  PC20    3366 non-null   float64\n",
            " 20  PC21    3366 non-null   float64\n",
            " 21  PC22    3366 non-null   float64\n",
            " 22  PC23    3366 non-null   float64\n",
            " 23  PC24    3366 non-null   float64\n",
            " 24  PC25    3366 non-null   float64\n",
            " 25  PC26    3366 non-null   float64\n",
            " 26  PC27    3366 non-null   float64\n",
            " 27  PC28    3366 non-null   float64\n",
            " 28  PC29    3366 non-null   float64\n",
            " 29  PC30    3366 non-null   float64\n",
            " 30  PC31    3366 non-null   float64\n",
            " 31  PC32    3366 non-null   float64\n",
            " 32  PC33    3366 non-null   float64\n",
            " 33  PC34    3366 non-null   float64\n",
            " 34  PC35    3366 non-null   float64\n",
            " 35  PC36    3366 non-null   float64\n",
            " 36  PC37    3366 non-null   float64\n",
            " 37  PC38    3366 non-null   float64\n",
            " 38  PC39    3366 non-null   float64\n",
            " 39  PC40    3366 non-null   float64\n",
            " 40  PC41    3366 non-null   float64\n",
            " 41  PC42    3366 non-null   float64\n",
            " 42  PC43    3366 non-null   float64\n",
            " 43  PC44    3366 non-null   float64\n",
            " 44  PC45    3366 non-null   float64\n",
            " 45  PC46    3366 non-null   float64\n",
            " 46  PC47    3366 non-null   float64\n",
            " 47  PC48    3366 non-null   float64\n",
            " 48  PC49    3366 non-null   float64\n",
            " 49  PC50    3366 non-null   float64\n",
            " 50  PC51    3366 non-null   float64\n",
            " 51  PC52    3366 non-null   float64\n",
            " 52  PC53    3366 non-null   float64\n",
            " 53  PC54    3366 non-null   float64\n",
            " 54  PC55    3366 non-null   float64\n",
            " 55  PC56    3366 non-null   float64\n",
            " 56  PC57    3366 non-null   float64\n",
            " 57  PC58    3366 non-null   float64\n",
            " 58  PC59    3366 non-null   float64\n",
            " 59  PC60    3366 non-null   float64\n",
            " 60  PC61    3366 non-null   float64\n",
            " 61  PC62    3366 non-null   float64\n",
            " 62  PC63    3366 non-null   float64\n",
            " 63  PC64    3366 non-null   float64\n",
            " 64  PC65    3366 non-null   float64\n",
            " 65  PC66    3366 non-null   float64\n",
            " 66  PC67    3366 non-null   float64\n",
            " 67  PC68    3366 non-null   float64\n",
            " 68  PC69    3366 non-null   float64\n",
            " 69  PC70    3366 non-null   float64\n",
            " 70  PC71    3366 non-null   float64\n",
            " 71  PC72    3366 non-null   float64\n",
            " 72  PC73    3366 non-null   float64\n",
            " 73  PC74    3366 non-null   float64\n",
            " 74  PC75    3366 non-null   float64\n",
            "dtypes: float64(75)\n",
            "memory usage: 2.0 MB\n"
          ]
        }
      ],
      "source": [
        "train.info()"
      ]
    },
    {
      "cell_type": "code",
      "execution_count": 98,
      "metadata": {
        "colab": {
          "base_uri": "https://localhost:8080/"
        },
        "id": "Ke3GnpEXGayl",
        "outputId": "749d3a75-c85c-4917-e04f-b80f895a94d9"
      },
      "outputs": [
        {
          "output_type": "stream",
          "name": "stdout",
          "text": [
            "<class 'pandas.core.frame.DataFrame'>\n",
            "Int64Index: 842 entries, 3430 to 2741\n",
            "Data columns (total 75 columns):\n",
            " #   Column  Non-Null Count  Dtype  \n",
            "---  ------  --------------  -----  \n",
            " 0   PC1     842 non-null    float64\n",
            " 1   PC2     842 non-null    float64\n",
            " 2   PC3     842 non-null    float64\n",
            " 3   PC4     842 non-null    float64\n",
            " 4   PC5     842 non-null    float64\n",
            " 5   PC6     842 non-null    float64\n",
            " 6   PC7     842 non-null    float64\n",
            " 7   PC8     842 non-null    float64\n",
            " 8   PC9     842 non-null    float64\n",
            " 9   PC10    842 non-null    float64\n",
            " 10  PC11    842 non-null    float64\n",
            " 11  PC12    842 non-null    float64\n",
            " 12  PC13    842 non-null    float64\n",
            " 13  PC14    842 non-null    float64\n",
            " 14  PC15    842 non-null    float64\n",
            " 15  PC16    842 non-null    float64\n",
            " 16  PC17    842 non-null    float64\n",
            " 17  PC18    842 non-null    float64\n",
            " 18  PC19    842 non-null    float64\n",
            " 19  PC20    842 non-null    float64\n",
            " 20  PC21    842 non-null    float64\n",
            " 21  PC22    842 non-null    float64\n",
            " 22  PC23    842 non-null    float64\n",
            " 23  PC24    842 non-null    float64\n",
            " 24  PC25    842 non-null    float64\n",
            " 25  PC26    842 non-null    float64\n",
            " 26  PC27    842 non-null    float64\n",
            " 27  PC28    842 non-null    float64\n",
            " 28  PC29    842 non-null    float64\n",
            " 29  PC30    842 non-null    float64\n",
            " 30  PC31    842 non-null    float64\n",
            " 31  PC32    842 non-null    float64\n",
            " 32  PC33    842 non-null    float64\n",
            " 33  PC34    842 non-null    float64\n",
            " 34  PC35    842 non-null    float64\n",
            " 35  PC36    842 non-null    float64\n",
            " 36  PC37    842 non-null    float64\n",
            " 37  PC38    842 non-null    float64\n",
            " 38  PC39    842 non-null    float64\n",
            " 39  PC40    842 non-null    float64\n",
            " 40  PC41    842 non-null    float64\n",
            " 41  PC42    842 non-null    float64\n",
            " 42  PC43    842 non-null    float64\n",
            " 43  PC44    842 non-null    float64\n",
            " 44  PC45    842 non-null    float64\n",
            " 45  PC46    842 non-null    float64\n",
            " 46  PC47    842 non-null    float64\n",
            " 47  PC48    842 non-null    float64\n",
            " 48  PC49    842 non-null    float64\n",
            " 49  PC50    842 non-null    float64\n",
            " 50  PC51    842 non-null    float64\n",
            " 51  PC52    842 non-null    float64\n",
            " 52  PC53    842 non-null    float64\n",
            " 53  PC54    842 non-null    float64\n",
            " 54  PC55    842 non-null    float64\n",
            " 55  PC56    842 non-null    float64\n",
            " 56  PC57    842 non-null    float64\n",
            " 57  PC58    842 non-null    float64\n",
            " 58  PC59    842 non-null    float64\n",
            " 59  PC60    842 non-null    float64\n",
            " 60  PC61    842 non-null    float64\n",
            " 61  PC62    842 non-null    float64\n",
            " 62  PC63    842 non-null    float64\n",
            " 63  PC64    842 non-null    float64\n",
            " 64  PC65    842 non-null    float64\n",
            " 65  PC66    842 non-null    float64\n",
            " 66  PC67    842 non-null    float64\n",
            " 67  PC68    842 non-null    float64\n",
            " 68  PC69    842 non-null    float64\n",
            " 69  PC70    842 non-null    float64\n",
            " 70  PC71    842 non-null    float64\n",
            " 71  PC72    842 non-null    float64\n",
            " 72  PC73    842 non-null    float64\n",
            " 73  PC74    842 non-null    float64\n",
            " 74  PC75    842 non-null    float64\n",
            "dtypes: float64(75)\n",
            "memory usage: 499.9 KB\n"
          ]
        }
      ],
      "source": [
        "test.info()"
      ]
    },
    {
      "cell_type": "code",
      "execution_count": 99,
      "metadata": {
        "id": "mRm6hqgNGayl"
      },
      "outputs": [],
      "source": [
        "#%% split training set to validation set\n",
        "Xtrain, Xval, Ztrain, Zval = train_test_split(train, target, test_size=0.2, random_state=0)"
      ]
    },
    {
      "cell_type": "markdown",
      "metadata": {
        "id": "-ag_T1qFGaym"
      },
      "source": [
        "## 5. Tuning models and test for all features <a class=\"anchor\" id=\"5\"></a>\n",
        "\n",
        "[Back to Table of Contents](#0.1)"
      ]
    },
    {
      "cell_type": "markdown",
      "metadata": {
        "id": "v9QQ7VDCGaym"
      },
      "source": [
        "### 5.1 Logistic Regression <a class=\"anchor\" id=\"5.1\"></a>\n",
        "\n",
        "[Back to Table of Contents](#0.1)"
      ]
    },
    {
      "cell_type": "markdown",
      "metadata": {
        "id": "58rTFnspGaym"
      },
      "source": [
        "Thanks to https://www.kaggle.com/startupsci/titanic-data-science-solutions"
      ]
    },
    {
      "cell_type": "markdown",
      "metadata": {
        "id": "B3k6jSqIGaym"
      },
      "source": [
        "**Logistic Regression** is a useful model to run early in the workflow. Logistic regression measures the relationship between the categorical dependent variable (feature) and one or more independent variables (features) by estimating probabilities using a logistic function, which is the cumulative logistic distribution. Reference [Wikipedia](https://en.wikipedia.org/wiki/Logistic_regression).\n",
        "\n",
        "Note the confidence score generated by the model based on our training dataset."
      ]
    },
    {
      "cell_type": "code",
      "execution_count": 100,
      "metadata": {
        "colab": {
          "base_uri": "https://localhost:8080/"
        },
        "id": "p_M1nuLTGaym",
        "outputId": "8e06ccfb-28dc-43ee-f645-afcd992ac149"
      },
      "outputs": [
        {
          "output_type": "execute_result",
          "data": {
            "text/plain": [
              "77.18"
            ]
          },
          "metadata": {},
          "execution_count": 100
        }
      ],
      "source": [
        "# Logistic Regression\n",
        "\n",
        "logreg = LogisticRegression()\n",
        "logreg.fit(train, target)\n",
        "acc_log = round(logreg.score(train, target) * 100, 2)\n",
        "acc_log"
      ]
    },
    {
      "cell_type": "code",
      "execution_count": 101,
      "metadata": {
        "colab": {
          "base_uri": "https://localhost:8080/"
        },
        "id": "r-BxWKrnGayn",
        "outputId": "b50995fb-1407-459b-c0c3-013d9e3ac458"
      },
      "outputs": [
        {
          "output_type": "execute_result",
          "data": {
            "text/plain": [
              "78.15"
            ]
          },
          "metadata": {},
          "execution_count": 101
        }
      ],
      "source": [
        "acc_test_log = round(logreg.score(test, target_test) * 100, 2)\n",
        "acc_test_log"
      ]
    },
    {
      "cell_type": "code",
      "source": [
        "# Print the Confusion Matrix and slice it into four pieces\n",
        "y_pred = logreg.predict(test)\n",
        "\n",
        "from sklearn.metrics import confusion_matrix\n",
        "\n",
        "cm = confusion_matrix(target_test, y_pred)\n",
        "\n",
        "print('Confusion matrix\\n\\n', cm)\n",
        "\n",
        "print('\\nTrue Positives(TP) = ', cm[0,0])\n",
        "\n",
        "print('\\nTrue Negatives(TN) = ', cm[1,1])\n",
        "\n",
        "print('\\nFalse Positives(FP) = ', cm[0,1])\n",
        "\n",
        "print('\\nFalse Negatives(FN) = ', cm[1,0])\n",
        "\n",
        "from sklearn.metrics import classification_report\n",
        "\n",
        "print(classification_report(target_test, y_pred))\n",
        "\n",
        "# visualize confusion matrix with seaborn heatmap\n",
        "import seaborn as sns\n",
        "cm_matrix = pd.DataFrame(data=cm, columns=['Actual Positive:1', 'Actual Negative:0'], \n",
        "                                 index=['Predict Positive:1', 'Predict Negative:0'])\n",
        "\n",
        "sns.heatmap(cm_matrix, annot=True, fmt='d', cmap='YlGnBu')\n",
        "print(\"--------------------------------------------------------------------------------------\")\n",
        "\n",
        "from sklearn.metrics import roc_curve\n",
        "\n",
        "\n",
        "def plot_roc_curve(fpr, tpr, label=None):\n",
        "    plt.plot(fpr, tpr, linewidth=2, label=label)\n",
        "    plt.plot([0, 1], [0, 1], \"k--\")\n",
        "    plt.axis([0, 1, 0, 1])\n",
        "    plt.xlabel('False Positive Rate')\n",
        "    plt.ylabel('True Positive Rate')\n",
        "    plt.title('ROC Curve')\n",
        "\n",
        "\n"
      ],
      "metadata": {
        "colab": {
          "base_uri": "https://localhost:8080/",
          "height": 666
        },
        "id": "JxPrYoCFesB_",
        "outputId": "1da4af04-cc10-47eb-cca1-d0409befbc5c"
      },
      "execution_count": 102,
      "outputs": [
        {
          "output_type": "stream",
          "name": "stdout",
          "text": [
            "Confusion matrix\n",
            "\n",
            " [[325 103]\n",
            " [ 81 333]]\n",
            "\n",
            "True Positives(TP) =  325\n",
            "\n",
            "True Negatives(TN) =  333\n",
            "\n",
            "False Positives(FP) =  103\n",
            "\n",
            "False Negatives(FN) =  81\n",
            "              precision    recall  f1-score   support\n",
            "\n",
            "          MS       0.80      0.76      0.78       428\n",
            "         NMO       0.76      0.80      0.78       414\n",
            "\n",
            "    accuracy                           0.78       842\n",
            "   macro avg       0.78      0.78      0.78       842\n",
            "weighted avg       0.78      0.78      0.78       842\n",
            "\n",
            "--------------------------------------------------------------------------------------\n"
          ]
        },
        {
          "output_type": "display_data",
          "data": {
            "text/plain": [
              "<Figure size 432x288 with 2 Axes>"
            ],
            "image/png": "[encoded data removed]"
          },
          "metadata": {
            "needs_background": "light"
          }
        }
      ]
    },
    {
      "cell_type": "markdown",
      "metadata": {
        "id": "VFjnqVr0Gayn"
      },
      "source": [
        "We can use Logistic Regression to validate our assumptions and decisions for feature creating and completing goals. This can be done by calculating the coefficient of the features in the decision function.\n",
        "\n",
        "Positive coefficients increase the log-odds of the response (and thus increase the probability), and negative coefficients decrease the log-odds of the response (and thus decrease the probability).\n",
        "\n",
        "- *gluc* is highest coefficient\n",
        "- *height*, *smoke* are largest numbers by absolute value."
      ]
    },
    {
      "cell_type": "markdown",
      "metadata": {
        "id": "4IrB50y6Gayn"
      },
      "source": [
        "### 5.2 Support Vector Machines <a class=\"anchor\" id=\"5.2\"></a>\n",
        "\n",
        "[Back to Table of Contents](#0.1)"
      ]
    },
    {
      "cell_type": "markdown",
      "metadata": {
        "id": "zP7qQ7Q0Gayn"
      },
      "source": [
        "Thanks to https://www.kaggle.com/startupsci/titanic-data-science-solutions"
      ]
    },
    {
      "cell_type": "markdown",
      "metadata": {
        "id": "TbbWhRp8Gayn"
      },
      "source": [
        "**Support Vector Machines** are supervised learning models with associated learning algorithms that analyze data used for classification and regression analysis. Given a set of training samples, each marked as belonging to one or the other of two categories, an SVM training algorithm builds a model that assigns new test samples to one category or the other, making it a non-probabilistic binary linear classifier. Reference [Wikipedia](https://en.wikipedia.org/wiki/Support_vector_machine)."
      ]
    },
    {
      "cell_type": "code",
      "execution_count": 103,
      "metadata": {
        "colab": {
          "base_uri": "https://localhost:8080/"
        },
        "id": "BIyP6cxHGayo",
        "outputId": "a2d43a99-5151-49bc-b0bc-ba81552136a0"
      },
      "outputs": [
        {
          "output_type": "execute_result",
          "data": {
            "text/plain": [
              "96.91"
            ]
          },
          "metadata": {},
          "execution_count": 103
        }
      ],
      "source": [
        "# Support Vector Machines\n",
        "\n",
        "svc = SVC()\n",
        "svc.fit(train, target)\n",
        "acc_svc = round(svc.score(train, target) * 100, 2)\n",
        "acc_svc"
      ]
    },
    {
      "cell_type": "code",
      "execution_count": 104,
      "metadata": {
        "colab": {
          "base_uri": "https://localhost:8080/"
        },
        "id": "k5vofFTbGayo",
        "outputId": "47c208b7-bc2b-4e29-df26-a69aa2312a6d"
      },
      "outputs": [
        {
          "output_type": "execute_result",
          "data": {
            "text/plain": [
              "92.64"
            ]
          },
          "metadata": {},
          "execution_count": 104
        }
      ],
      "source": [
        "acc_test_svc = round(svc.score(test, target_test) * 100, 2)\n",
        "acc_test_svc"
      ]
    },
    {
      "cell_type": "code",
      "source": [
        "# Print the Confusion Matrix and slice it into four pieces\n",
        "y_pred = svc.predict(test)\n",
        "\n",
        "from sklearn.metrics import confusion_matrix\n",
        "\n",
        "cm = confusion_matrix(target_test, y_pred)\n",
        "\n",
        "print('Confusion matrix\\n\\n', cm)\n",
        "\n",
        "print('\\nTrue Positives(TP) = ', cm[0,0])\n",
        "\n",
        "print('\\nTrue Negatives(TN) = ', cm[1,1])\n",
        "\n",
        "print('\\nFalse Positives(FP) = ', cm[0,1])\n",
        "\n",
        "print('\\nFalse Negatives(FN) = ', cm[1,0])\n",
        "\n",
        "from sklearn.metrics import classification_report\n",
        "\n",
        "print(classification_report(target_test, y_pred))\n",
        "\n",
        "# visualize confusion matrix with seaborn heatmap\n",
        "import seaborn as sns\n",
        "cm_matrix = pd.DataFrame(data=cm, columns=['Actual Positive:1', 'Actual Negative:0'], \n",
        "                                 index=['Predict Positive:1', 'Predict Negative:0'])\n",
        "\n",
        "sns.heatmap(cm_matrix, annot=True, fmt='d', cmap='YlGnBu')\n",
        "print(\"--------------------------------------------------------------------------------------\")\n",
        "\n",
        "from sklearn.metrics import roc_curve\n",
        "\n",
        "\n",
        "def plot_roc_curve(fpr, tpr, label=None):\n",
        "    plt.plot(fpr, tpr, linewidth=2, label=label)\n",
        "    plt.plot([0, 1], [0, 1], \"k--\")\n",
        "    plt.axis([0, 1, 0, 1])\n",
        "    plt.xlabel('False Positive Rate')\n",
        "    plt.ylabel('True Positive Rate')\n",
        "    plt.title('ROC Curve')\n",
        "\n",
        "\n"
      ],
      "metadata": {
        "colab": {
          "base_uri": "https://localhost:8080/",
          "height": 670
        },
        "id": "9J0gpSvOe9TX",
        "outputId": "137cab95-6769-48f1-c479-a1dc697b1489"
      },
      "execution_count": 105,
      "outputs": [
        {
          "output_type": "stream",
          "name": "stdout",
          "text": [
            "Confusion matrix\n",
            "\n",
            " [[379  49]\n",
            " [ 13 401]]\n",
            "\n",
            "True Positives(TP) =  379\n",
            "\n",
            "True Negatives(TN) =  401\n",
            "\n",
            "False Positives(FP) =  49\n",
            "\n",
            "False Negatives(FN) =  13\n",
            "              precision    recall  f1-score   support\n",
            "\n",
            "          MS       0.97      0.89      0.92       428\n",
            "         NMO       0.89      0.97      0.93       414\n",
            "\n",
            "    accuracy                           0.93       842\n",
            "   macro avg       0.93      0.93      0.93       842\n",
            "weighted avg       0.93      0.93      0.93       842\n",
            "\n",
            "--------------------------------------------------------------------------------------\n"
          ]
        },
        {
          "output_type": "display_data",
          "data": {
            "text/plain": [
              "<Figure size 432x288 with 2 Axes>"
            ],
            "image/png": "[encoded data removed]"
          },
          "metadata": {
            "needs_background": "light"
          }
        }
      ]
    },
    {
      "cell_type": "markdown",
      "metadata": {
        "id": "DnAEI0FrGayp"
      },
      "source": [
        "### 5.4 k-Nearest Neighbors algorithm <a class=\"anchor\" id=\"5.4\"></a>\n",
        "\n",
        "[Back to Table of Contents](#0.1)"
      ]
    },
    {
      "cell_type": "markdown",
      "metadata": {
        "id": "9WA3cbRWGayp"
      },
      "source": [
        "Thanks to https://www.kaggle.com/startupsci/titanic-data-science-solutions"
      ]
    },
    {
      "cell_type": "markdown",
      "metadata": {
        "id": "flvJtu0hGayp"
      },
      "source": [
        "In pattern recognition, the **k-Nearest Neighbors algorithm** (or k-NN for short) is a non-parametric method used for classification and regression. A sample is classified by a majority vote of its neighbors, with the sample being assigned to the class most common among its k nearest neighbors (k is a positive integer, typically small). Reference [Wikipedia](https://en.wikipedia.org/wiki/K-nearest_neighbors_algorithm)."
      ]
    },
    {
      "cell_type": "code",
      "execution_count": 106,
      "metadata": {
        "colab": {
          "base_uri": "https://localhost:8080/"
        },
        "id": "FIsUo_gTGayp",
        "outputId": "cd5d6f5a-a562-4162-e0fa-42bc392c11d4"
      },
      "outputs": [
        {
          "output_type": "stream",
          "name": "stdout",
          "text": [
            "98.72 {'n_neighbors': 2}\n"
          ]
        }
      ],
      "source": [
        "# k-Nearest Neighbors algorithm\n",
        "\n",
        "knn = GridSearchCV(estimator=KNeighborsClassifier(), param_grid={'n_neighbors': [2, 3]}, cv=10).fit(train, target)\n",
        "acc_knn = round(knn.score(train, target) * 100, 2)\n",
        "print(acc_knn, knn.best_params_)"
      ]
    },
    {
      "cell_type": "code",
      "execution_count": 107,
      "metadata": {
        "colab": {
          "base_uri": "https://localhost:8080/"
        },
        "id": "1D0rvDM3Gayp",
        "outputId": "b6b63ddb-6fe7-4747-e572-f367581e4219"
      },
      "outputs": [
        {
          "output_type": "execute_result",
          "data": {
            "text/plain": [
              "93.23"
            ]
          },
          "metadata": {},
          "execution_count": 107
        }
      ],
      "source": [
        "acc_test_knn = round(knn.score(test, target_test) * 100, 2)\n",
        "acc_test_knn"
      ]
    },
    {
      "cell_type": "code",
      "source": [
        "# Print the Confusion Matrix and slice it into four pieces\n",
        "y_pred = knn.predict(test)\n",
        "\n",
        "from sklearn.metrics import confusion_matrix\n",
        "\n",
        "cm = confusion_matrix(target_test, y_pred)\n",
        "\n",
        "print('Confusion matrix\\n\\n', cm)\n",
        "\n",
        "print('\\nTrue Positives(TP) = ', cm[0,0])\n",
        "\n",
        "print('\\nTrue Negatives(TN) = ', cm[1,1])\n",
        "\n",
        "print('\\nFalse Positives(FP) = ', cm[0,1])\n",
        "\n",
        "print('\\nFalse Negatives(FN) = ', cm[1,0])\n",
        "\n",
        "from sklearn.metrics import classification_report\n",
        "\n",
        "print(classification_report(target_test, y_pred))\n",
        "\n",
        "# visualize confusion matrix with seaborn heatmap\n",
        "import seaborn as sns\n",
        "cm_matrix = pd.DataFrame(data=cm, columns=['Actual Positive:1', 'Actual Negative:0'], \n",
        "                                 index=['Predict Positive:1', 'Predict Negative:0'])\n",
        "\n",
        "sns.heatmap(cm_matrix, annot=True, fmt='d', cmap='YlGnBu')\n",
        "print(\"--------------------------------------------------------------------------------------\")\n",
        "\n",
        "from sklearn.metrics import roc_curve\n",
        "\n",
        "\n",
        "def plot_roc_curve(fpr, tpr, label=None):\n",
        "    plt.plot(fpr, tpr, linewidth=2, label=label)\n",
        "    plt.plot([0, 1], [0, 1], \"k--\")\n",
        "    plt.axis([0, 1, 0, 1])\n",
        "    plt.xlabel('False Positive Rate')\n",
        "    plt.ylabel('True Positive Rate')\n",
        "    plt.title('ROC Curve')\n",
        "\n",
        "\n"
      ],
      "metadata": {
        "colab": {
          "base_uri": "https://localhost:8080/",
          "height": 666
        },
        "id": "SAQXV1TqfKfQ",
        "outputId": "929877f9-f5e7-408e-acca-b3a73638bbbf"
      },
      "execution_count": 108,
      "outputs": [
        {
          "output_type": "stream",
          "name": "stdout",
          "text": [
            "Confusion matrix\n",
            "\n",
            " [[408  20]\n",
            " [ 37 377]]\n",
            "\n",
            "True Positives(TP) =  408\n",
            "\n",
            "True Negatives(TN) =  377\n",
            "\n",
            "False Positives(FP) =  20\n",
            "\n",
            "False Negatives(FN) =  37\n",
            "              precision    recall  f1-score   support\n",
            "\n",
            "          MS       0.92      0.95      0.93       428\n",
            "         NMO       0.95      0.91      0.93       414\n",
            "\n",
            "    accuracy                           0.93       842\n",
            "   macro avg       0.93      0.93      0.93       842\n",
            "weighted avg       0.93      0.93      0.93       842\n",
            "\n",
            "--------------------------------------------------------------------------------------\n"
          ]
        },
        {
          "output_type": "display_data",
          "data": {
            "text/plain": [
              "<Figure size 432x288 with 2 Axes>"
            ],
            "image/png": "[encoded data removed]"
          },
          "metadata": {
            "needs_background": "light"
          }
        }
      ]
    },
    {
      "cell_type": "markdown",
      "metadata": {
        "id": "m4wXReuvGayp"
      },
      "source": [
        "### 5.5 Naive Bayes <a class=\"anchor\" id=\"5.5\"></a>\n",
        "\n",
        "[Back to Table of Contents](#0.1)"
      ]
    },
    {
      "cell_type": "markdown",
      "metadata": {
        "id": "4eOBZG2sGayp"
      },
      "source": [
        "Thanks to https://www.kaggle.com/startupsci/titanic-data-science-solutions"
      ]
    },
    {
      "cell_type": "markdown",
      "metadata": {
        "id": "QEfHhDuiGayq"
      },
      "source": [
        "In machine learning, **Naive Bayes classifiers** are a family of simple probabilistic classifiers based on applying Bayes' theorem with strong (naive) independence assumptions between the features. Naive Bayes classifiers are highly scalable, requiring a number of parameters linear in the number of variables (features) in a learning problem. Reference [Wikipedia](https://en.wikipedia.org/wiki/Naive_Bayes_classifier)."
      ]
    },
    {
      "cell_type": "code",
      "execution_count": 109,
      "metadata": {
        "colab": {
          "base_uri": "https://localhost:8080/"
        },
        "id": "_tXxbPzxGayq",
        "outputId": "4d0baeb7-6921-4168-bce0-472258787797"
      },
      "outputs": [
        {
          "output_type": "execute_result",
          "data": {
            "text/plain": [
              "71.0"
            ]
          },
          "metadata": {},
          "execution_count": 109
        }
      ],
      "source": [
        "# Gaussian Naive Bayes\n",
        "\n",
        "gaussian = GaussianNB()\n",
        "gaussian.fit(train, target)\n",
        "acc_gaussian = round(gaussian.score(train, target) * 100, 2)\n",
        "acc_gaussian"
      ]
    },
    {
      "cell_type": "code",
      "execution_count": 110,
      "metadata": {
        "colab": {
          "base_uri": "https://localhost:8080/"
        },
        "id": "oGhFXxIwGayq",
        "outputId": "9386bb1e-971f-451e-8ea6-0d0d9d098b73"
      },
      "outputs": [
        {
          "output_type": "execute_result",
          "data": {
            "text/plain": [
              "70.55"
            ]
          },
          "metadata": {},
          "execution_count": 110
        }
      ],
      "source": [
        "acc_test_gaussian = round(gaussian.score(test, target_test) * 100, 2)\n",
        "acc_test_gaussian"
      ]
    },
    {
      "cell_type": "code",
      "source": [
        "# Print the Confusion Matrix and slice it into four pieces\n",
        "y_pred = gaussian.predict(test)\n",
        "\n",
        "from sklearn.metrics import confusion_matrix\n",
        "\n",
        "cm = confusion_matrix(target_test, y_pred)\n",
        "\n",
        "print('Confusion matrix\\n\\n', cm)\n",
        "\n",
        "print('\\nTrue Positives(TP) = ', cm[0,0])\n",
        "\n",
        "print('\\nTrue Negatives(TN) = ', cm[1,1])\n",
        "\n",
        "print('\\nFalse Positives(FP) = ', cm[0,1])\n",
        "\n",
        "print('\\nFalse Negatives(FN) = ', cm[1,0])\n",
        "\n",
        "from sklearn.metrics import classification_report\n",
        "\n",
        "print(classification_report(target_test, y_pred))\n",
        "\n",
        "# visualize confusion matrix with seaborn heatmap\n",
        "import seaborn as sns\n",
        "cm_matrix = pd.DataFrame(data=cm, columns=['Actual Positive:1', 'Actual Negative:0'], \n",
        "                                 index=['Predict Positive:1', 'Predict Negative:0'])\n",
        "\n",
        "sns.heatmap(cm_matrix, annot=True, fmt='d', cmap='YlGnBu')\n",
        "print(\"--------------------------------------------------------------------------------------\")\n",
        "\n",
        "from sklearn.metrics import roc_curve\n",
        "\n",
        "\n",
        "def plot_roc_curve(fpr, tpr, label=None):\n",
        "    plt.plot(fpr, tpr, linewidth=2, label=label)\n",
        "    plt.plot([0, 1], [0, 1], \"k--\")\n",
        "    plt.axis([0, 1, 0, 1])\n",
        "    plt.xlabel('False Positive Rate')\n",
        "    plt.ylabel('True Positive Rate')\n",
        "    plt.title('ROC Curve')\n",
        "\n",
        "\n"
      ],
      "metadata": {
        "colab": {
          "base_uri": "https://localhost:8080/",
          "height": 666
        },
        "id": "kvFRyDtAfQYo",
        "outputId": "e6356ad2-6728-4f4a-f8bd-e8cdfb23b950"
      },
      "execution_count": 111,
      "outputs": [
        {
          "output_type": "stream",
          "name": "stdout",
          "text": [
            "Confusion matrix\n",
            "\n",
            " [[274 154]\n",
            " [ 94 320]]\n",
            "\n",
            "True Positives(TP) =  274\n",
            "\n",
            "True Negatives(TN) =  320\n",
            "\n",
            "False Positives(FP) =  154\n",
            "\n",
            "False Negatives(FN) =  94\n",
            "              precision    recall  f1-score   support\n",
            "\n",
            "          MS       0.74      0.64      0.69       428\n",
            "         NMO       0.68      0.77      0.72       414\n",
            "\n",
            "    accuracy                           0.71       842\n",
            "   macro avg       0.71      0.71      0.70       842\n",
            "weighted avg       0.71      0.71      0.70       842\n",
            "\n",
            "--------------------------------------------------------------------------------------\n"
          ]
        },
        {
          "output_type": "display_data",
          "data": {
            "text/plain": [
              "<Figure size 432x288 with 2 Axes>"
            ],
            "image/png": "[encoded data removed]"
          },
          "metadata": {
            "needs_background": "light"
          }
        }
      ]
    },
    {
      "cell_type": "markdown",
      "metadata": {
        "id": "S1fyJ16eGayq"
      },
      "source": [
        "### 5.6 Perceptron <a class=\"anchor\" id=\"5.6\"></a>\n",
        "\n",
        "[Back to Table of Contents](#0.1)"
      ]
    },
    {
      "cell_type": "markdown",
      "metadata": {
        "id": "1K4pveIzGayq"
      },
      "source": [
        "Thanks to https://www.kaggle.com/startupsci/titanic-data-science-solutions"
      ]
    },
    {
      "cell_type": "markdown",
      "metadata": {
        "id": "lX-2MVAaGayq"
      },
      "source": [
        "The **Perceptron** is an algorithm for supervised learning of binary classifiers (functions that can decide whether an input, represented by a vector of numbers, belongs to some specific class or not). It is a type of linear classifier, i.e. a classification algorithm that makes its predictions based on a linear predictor function combining a set of weights with the feature vector. The algorithm allows for online learning, in that it processes elements in the training set one at a time. Reference [Wikipedia](https://en.wikipedia.org/wiki/Perceptron)."
      ]
    },
    {
      "cell_type": "code",
      "execution_count": 112,
      "metadata": {
        "colab": {
          "base_uri": "https://localhost:8080/"
        },
        "id": "5b40Uim2Gayq",
        "outputId": "a86272c3-e79d-462a-9bad-a6f36400676c"
      },
      "outputs": [
        {
          "output_type": "execute_result",
          "data": {
            "text/plain": [
              "68.89"
            ]
          },
          "metadata": {},
          "execution_count": 112
        }
      ],
      "source": [
        "# Perceptron\n",
        "\n",
        "perceptron = Perceptron()\n",
        "perceptron.fit(train, target)\n",
        "acc_perceptron = round(perceptron.score(train, target) * 100, 2)\n",
        "acc_perceptron"
      ]
    },
    {
      "cell_type": "code",
      "execution_count": 113,
      "metadata": {
        "colab": {
          "base_uri": "https://localhost:8080/"
        },
        "id": "zkgjHYpYGayq",
        "outputId": "f9aa6611-82c9-407b-8735-1906e7f83963"
      },
      "outputs": [
        {
          "output_type": "execute_result",
          "data": {
            "text/plain": [
              "68.88"
            ]
          },
          "metadata": {},
          "execution_count": 113
        }
      ],
      "source": [
        "acc_test_perceptron = round(perceptron.score(test, target_test) * 100, 2)\n",
        "acc_test_perceptron"
      ]
    },
    {
      "cell_type": "code",
      "source": [
        "# Print the Confusion Matrix and slice it into four pieces\n",
        "y_pred = perceptron.predict(test)\n",
        "\n",
        "from sklearn.metrics import confusion_matrix\n",
        "\n",
        "cm = confusion_matrix(target_test, y_pred)\n",
        "\n",
        "print('Confusion matrix\\n\\n', cm)\n",
        "\n",
        "print('\\nTrue Positives(TP) = ', cm[0,0])\n",
        "\n",
        "print('\\nTrue Negatives(TN) = ', cm[1,1])\n",
        "\n",
        "print('\\nFalse Positives(FP) = ', cm[0,1])\n",
        "\n",
        "print('\\nFalse Negatives(FN) = ', cm[1,0])\n",
        "\n",
        "from sklearn.metrics import classification_report\n",
        "\n",
        "print(classification_report(target_test, y_pred))\n",
        "\n",
        "# visualize confusion matrix with seaborn heatmap\n",
        "import seaborn as sns\n",
        "cm_matrix = pd.DataFrame(data=cm, columns=['Actual Positive:1', 'Actual Negative:0'], \n",
        "                                 index=['Predict Positive:1', 'Predict Negative:0'])\n",
        "\n",
        "sns.heatmap(cm_matrix, annot=True, fmt='d', cmap='YlGnBu')\n",
        "print(\"--------------------------------------------------------------------------------------\")\n",
        "\n",
        "from sklearn.metrics import roc_curve\n",
        "\n",
        "\n",
        "def plot_roc_curve(fpr, tpr, label=None):\n",
        "    plt.plot(fpr, tpr, linewidth=2, label=label)\n",
        "    plt.plot([0, 1], [0, 1], \"k--\")\n",
        "    plt.axis([0, 1, 0, 1])\n",
        "    plt.xlabel('False Positive Rate')\n",
        "    plt.ylabel('True Positive Rate')\n",
        "    plt.title('ROC Curve')\n",
        "\n",
        "\n"
      ],
      "metadata": {
        "colab": {
          "base_uri": "https://localhost:8080/",
          "height": 666
        },
        "id": "rmhAAMCAfWfn",
        "outputId": "0d398027-55be-4d0f-de6d-02362dc3eda6"
      },
      "execution_count": 114,
      "outputs": [
        {
          "output_type": "stream",
          "name": "stdout",
          "text": [
            "Confusion matrix\n",
            "\n",
            " [[314 114]\n",
            " [148 266]]\n",
            "\n",
            "True Positives(TP) =  314\n",
            "\n",
            "True Negatives(TN) =  266\n",
            "\n",
            "False Positives(FP) =  114\n",
            "\n",
            "False Negatives(FN) =  148\n",
            "              precision    recall  f1-score   support\n",
            "\n",
            "          MS       0.68      0.73      0.71       428\n",
            "         NMO       0.70      0.64      0.67       414\n",
            "\n",
            "    accuracy                           0.69       842\n",
            "   macro avg       0.69      0.69      0.69       842\n",
            "weighted avg       0.69      0.69      0.69       842\n",
            "\n",
            "--------------------------------------------------------------------------------------\n"
          ]
        },
        {
          "output_type": "display_data",
          "data": {
            "text/plain": [
              "<Figure size 432x288 with 2 Axes>"
            ],
            "image/png": "[encoded data removed]"
          },
          "metadata": {
            "needs_background": "light"
          }
        }
      ]
    },
    {
      "cell_type": "markdown",
      "metadata": {
        "id": "7pki7NBGGayr"
      },
      "source": [
        "### 5.7 Stochastic Gradient Descent <a class=\"anchor\" id=\"5.7\"></a>\n",
        "\n",
        "[Back to Table of Contents](#0.1)"
      ]
    },
    {
      "cell_type": "markdown",
      "metadata": {
        "id": "zDUGk44jGayr"
      },
      "source": [
        "Thanks to https://www.kaggle.com/startupsci/titanic-data-science-solutions"
      ]
    },
    {
      "cell_type": "markdown",
      "metadata": {
        "id": "ZzhH_YD2Gayr"
      },
      "source": [
        "**Stochastic gradient descent** (often abbreviated **SGD**) is an iterative method for optimizing an objective function with suitable smoothness properties (e.g. differentiable or subdifferentiable). It can be regarded as a stochastic approximation of gradient descent optimization, since it replaces the actual gradient (calculated from the entire data set) by an estimate thereof (calculated from a randomly selected subset of the data). Especially in big data applications this reduces the computational burden, achieving faster iterations in trade for a slightly lower convergence rate. Reference [Wikipedia](https://en.wikipedia.org/wiki/Stochastic_gradient_descent)."
      ]
    },
    {
      "cell_type": "code",
      "execution_count": 115,
      "metadata": {
        "colab": {
          "base_uri": "https://localhost:8080/"
        },
        "id": "ZEpD2zJ5Gayr",
        "outputId": "23a32b2c-b0e4-4b64-f836-bac30d43fa21"
      },
      "outputs": [
        {
          "output_type": "execute_result",
          "data": {
            "text/plain": [
              "77.12"
            ]
          },
          "metadata": {},
          "execution_count": 115
        }
      ],
      "source": [
        "# Stochastic Gradient Descent\n",
        "\n",
        "sgd = SGDClassifier()\n",
        "sgd.fit(train, target)\n",
        "acc_sgd = round(sgd.score(train, target) * 100, 2)\n",
        "acc_sgd"
      ]
    },
    {
      "cell_type": "code",
      "execution_count": 116,
      "metadata": {
        "colab": {
          "base_uri": "https://localhost:8080/"
        },
        "id": "nIurpWUUGayr",
        "outputId": "21614d1c-85ec-4c27-dc73-fdedb98e9c6f"
      },
      "outputs": [
        {
          "output_type": "execute_result",
          "data": {
            "text/plain": [
              "77.08"
            ]
          },
          "metadata": {},
          "execution_count": 116
        }
      ],
      "source": [
        "acc_test_sgd = round(sgd.score(test, target_test) * 100, 2)\n",
        "acc_test_sgd"
      ]
    },
    {
      "cell_type": "code",
      "source": [
        "# Print the Confusion Matrix and slice it into four pieces\n",
        "y_pred = sgd.predict(test)\n",
        "\n",
        "from sklearn.metrics import confusion_matrix\n",
        "\n",
        "cm = confusion_matrix(target_test, y_pred)\n",
        "\n",
        "print('Confusion matrix\\n\\n', cm)\n",
        "\n",
        "print('\\nTrue Positives(TP) = ', cm[0,0])\n",
        "\n",
        "print('\\nTrue Negatives(TN) = ', cm[1,1])\n",
        "\n",
        "print('\\nFalse Positives(FP) = ', cm[0,1])\n",
        "\n",
        "print('\\nFalse Negatives(FN) = ', cm[1,0])\n",
        "\n",
        "from sklearn.metrics import classification_report\n",
        "\n",
        "print(classification_report(target_test, y_pred))\n",
        "\n",
        "# visualize confusion matrix with seaborn heatmap\n",
        "import seaborn as sns\n",
        "cm_matrix = pd.DataFrame(data=cm, columns=['Actual Positive:1', 'Actual Negative:0'], \n",
        "                                 index=['Predict Positive:1', 'Predict Negative:0'])\n",
        "\n",
        "sns.heatmap(cm_matrix, annot=True, fmt='d', cmap='YlGnBu')\n",
        "print(\"--------------------------------------------------------------------------------------\")\n",
        "\n",
        "from sklearn.metrics import roc_curve\n",
        "\n",
        "\n",
        "def plot_roc_curve(fpr, tpr, label=None):\n",
        "    plt.plot(fpr, tpr, linewidth=2, label=label)\n",
        "    plt.plot([0, 1], [0, 1], \"k--\")\n",
        "    plt.axis([0, 1, 0, 1])\n",
        "    plt.xlabel('False Positive Rate')\n",
        "    plt.ylabel('True Positive Rate')\n",
        "    plt.title('ROC Curve')\n",
        "\n",
        "\n"
      ],
      "metadata": {
        "colab": {
          "base_uri": "https://localhost:8080/",
          "height": 666
        },
        "id": "PpIRZ3K6ffHX",
        "outputId": "58feac92-d949-4345-8ca8-4ef512504636"
      },
      "execution_count": 117,
      "outputs": [
        {
          "output_type": "stream",
          "name": "stdout",
          "text": [
            "Confusion matrix\n",
            "\n",
            " [[333  95]\n",
            " [ 98 316]]\n",
            "\n",
            "True Positives(TP) =  333\n",
            "\n",
            "True Negatives(TN) =  316\n",
            "\n",
            "False Positives(FP) =  95\n",
            "\n",
            "False Negatives(FN) =  98\n",
            "              precision    recall  f1-score   support\n",
            "\n",
            "          MS       0.77      0.78      0.78       428\n",
            "         NMO       0.77      0.76      0.77       414\n",
            "\n",
            "    accuracy                           0.77       842\n",
            "   macro avg       0.77      0.77      0.77       842\n",
            "weighted avg       0.77      0.77      0.77       842\n",
            "\n",
            "--------------------------------------------------------------------------------------\n"
          ]
        },
        {
          "output_type": "display_data",
          "data": {
            "text/plain": [
              "<Figure size 432x288 with 2 Axes>"
            ],
            "image/png": "[encoded data removed]"
          },
          "metadata": {
            "needs_background": "light"
          }
        }
      ]
    },
    {
      "cell_type": "markdown",
      "metadata": {
        "id": "8cqvfYmsGayr"
      },
      "source": [
        "### 5.8 Decision Tree Classifier <a class=\"anchor\" id=\"5.8\"></a>\n",
        "\n",
        "[Back to Table of Contents](#0.1)"
      ]
    },
    {
      "cell_type": "markdown",
      "metadata": {
        "id": "Aho76NBqGayr"
      },
      "source": [
        "Thanks to https://www.kaggle.com/startupsci/titanic-data-science-solutions"
      ]
    },
    {
      "cell_type": "markdown",
      "metadata": {
        "id": "rrcUxyc2Gayr"
      },
      "source": [
        "This model uses a **Decision Tree** as a predictive model which maps features (tree branches) to conclusions about the target value (tree leaves). Tree models where the target variable can take a finite set of values are called classification trees; in these tree structures, leaves represent class labels and branches represent conjunctions of features that lead to those class labels. Decision trees where the target variable can take continuous values (typically real numbers) are called regression trees. Reference [Wikipedia](https://en.wikipedia.org/wiki/Decision_tree_learning)."
      ]
    },
    {
      "cell_type": "code",
      "execution_count": 118,
      "metadata": {
        "colab": {
          "base_uri": "https://localhost:8080/"
        },
        "id": "D_D1B70HGays",
        "outputId": "97566fb4-52d4-4f8d-bdd9-27d45de04c2b"
      },
      "outputs": [
        {
          "output_type": "execute_result",
          "data": {
            "text/plain": [
              "100.0"
            ]
          },
          "metadata": {},
          "execution_count": 118
        }
      ],
      "source": [
        "# Decision Tree Classifier\n",
        "\n",
        "decision_tree = DecisionTreeClassifier()\n",
        "decision_tree.fit(train, target)\n",
        "acc_decision_tree = round(decision_tree.score(train, target) * 100, 2)\n",
        "acc_decision_tree"
      ]
    },
    {
      "cell_type": "code",
      "execution_count": 119,
      "metadata": {
        "colab": {
          "base_uri": "https://localhost:8080/"
        },
        "id": "vYgPboaTGays",
        "outputId": "00a0cf93-8c4f-44f0-8c90-9f228c94b029"
      },
      "outputs": [
        {
          "output_type": "execute_result",
          "data": {
            "text/plain": [
              "71.38"
            ]
          },
          "metadata": {},
          "execution_count": 119
        }
      ],
      "source": [
        "acc_test_decision_tree = round(decision_tree.score(test, target_test) * 100, 2)\n",
        "acc_test_decision_tree"
      ]
    },
    {
      "cell_type": "code",
      "source": [
        "# Print the Confusion Matrix and slice it into four pieces\n",
        "y_pred = decision_tree.predict(test)\n",
        "\n",
        "from sklearn.metrics import confusion_matrix\n",
        "\n",
        "cm = confusion_matrix(target_test, y_pred)\n",
        "\n",
        "print('Confusion matrix\\n\\n', cm)\n",
        "\n",
        "print('\\nTrue Positives(TP) = ', cm[0,0])\n",
        "\n",
        "print('\\nTrue Negatives(TN) = ', cm[1,1])\n",
        "\n",
        "print('\\nFalse Positives(FP) = ', cm[0,1])\n",
        "\n",
        "print('\\nFalse Negatives(FN) = ', cm[1,0])\n",
        "\n",
        "from sklearn.metrics import classification_report\n",
        "\n",
        "print(classification_report(target_test, y_pred))\n",
        "\n",
        "# visualize confusion matrix with seaborn heatmap\n",
        "import seaborn as sns\n",
        "cm_matrix = pd.DataFrame(data=cm, columns=['Actual Positive:1', 'Actual Negative:0'], \n",
        "                                 index=['Predict Positive:1', 'Predict Negative:0'])\n",
        "\n",
        "sns.heatmap(cm_matrix, annot=True, fmt='d', cmap='YlGnBu')\n",
        "print(\"--------------------------------------------------------------------------------------\")\n",
        "\n",
        "from sklearn.metrics import roc_curve\n",
        "\n",
        "\n",
        "def plot_roc_curve(fpr, tpr, label=None):\n",
        "    plt.plot(fpr, tpr, linewidth=2, label=label)\n",
        "    plt.plot([0, 1], [0, 1], \"k--\")\n",
        "    plt.axis([0, 1, 0, 1])\n",
        "    plt.xlabel('False Positive Rate')\n",
        "    plt.ylabel('True Positive Rate')\n",
        "    plt.title('ROC Curve')\n",
        "\n",
        "\n"
      ],
      "metadata": {
        "colab": {
          "base_uri": "https://localhost:8080/",
          "height": 666
        },
        "id": "P_hjDY5-fjT_",
        "outputId": "ba77effb-ae14-44af-9ace-0427854f1ff7"
      },
      "execution_count": 120,
      "outputs": [
        {
          "output_type": "stream",
          "name": "stdout",
          "text": [
            "Confusion matrix\n",
            "\n",
            " [[307 121]\n",
            " [120 294]]\n",
            "\n",
            "True Positives(TP) =  307\n",
            "\n",
            "True Negatives(TN) =  294\n",
            "\n",
            "False Positives(FP) =  121\n",
            "\n",
            "False Negatives(FN) =  120\n",
            "              precision    recall  f1-score   support\n",
            "\n",
            "          MS       0.72      0.72      0.72       428\n",
            "         NMO       0.71      0.71      0.71       414\n",
            "\n",
            "    accuracy                           0.71       842\n",
            "   macro avg       0.71      0.71      0.71       842\n",
            "weighted avg       0.71      0.71      0.71       842\n",
            "\n",
            "--------------------------------------------------------------------------------------\n"
          ]
        },
        {
          "output_type": "display_data",
          "data": {
            "text/plain": [
              "<Figure size 432x288 with 2 Axes>"
            ],
            "image/png": "[encoded data removed]"
          },
          "metadata": {
            "needs_background": "light"
          }
        }
      ]
    },
    {
      "cell_type": "markdown",
      "metadata": {
        "id": "w12UGihXGays"
      },
      "source": [
        "### 5.9 Random Forests <a class=\"anchor\" id=\"5.9\"></a>\n",
        "\n",
        "[Back to Table of Contents](#0.1)"
      ]
    },
    {
      "cell_type": "markdown",
      "metadata": {
        "id": "MExShB_7Gays"
      },
      "source": [
        "Thanks to https://www.kaggle.com/startupsci/titanic-data-science-solutions"
      ]
    },
    {
      "cell_type": "markdown",
      "metadata": {
        "id": "YMQUainLGays"
      },
      "source": [
        "**Random Forests** is one of the most popular model. Random forests or random decision forests are an ensemble learning method for classification, regression and other tasks, that operate by constructing a multitude of decision trees (n_estimators= [20, 300]) at training time and outputting the class that is the mode of the classes (classification) or mean prediction (regression) of the individual trees. Reference [Wikipedia](https://en.wikipedia.org/wiki/Random_forest)."
      ]
    },
    {
      "cell_type": "code",
      "execution_count": 121,
      "metadata": {
        "colab": {
          "base_uri": "https://localhost:8080/"
        },
        "id": "PYDDh71rGays",
        "outputId": "4409ca4c-a741-4080-d7ba-206970cd0d92"
      },
      "outputs": [
        {
          "output_type": "stream",
          "name": "stdout",
          "text": [
            "100.0 {'n_estimators': 300}\n"
          ]
        }
      ],
      "source": [
        "# Random Forest\n",
        "\n",
        "random_forest = GridSearchCV(estimator=RandomForestClassifier(), param_grid={'n_estimators': [20, 300]}, cv=5).fit(train, target)\n",
        "random_forest.fit(train, target)\n",
        "acc_random_forest = round(random_forest.score(train, target) * 100, 2)\n",
        "print(acc_random_forest,random_forest.best_params_)"
      ]
    },
    {
      "cell_type": "code",
      "execution_count": 122,
      "metadata": {
        "colab": {
          "base_uri": "https://localhost:8080/"
        },
        "id": "HRyirLACGays",
        "outputId": "57a29cf3-8015-42f1-e6de-3845f1507e2c"
      },
      "outputs": [
        {
          "output_type": "execute_result",
          "data": {
            "text/plain": [
              "87.89"
            ]
          },
          "metadata": {},
          "execution_count": 122
        }
      ],
      "source": [
        "acc_test_random_forest = round(random_forest.score(test, target_test) * 100, 2)\n",
        "acc_test_random_forest"
      ]
    },
    {
      "cell_type": "code",
      "source": [
        "# Print the Confusion Matrix and slice it into four pieces\n",
        "y_pred = random_forest.predict(test)\n",
        "\n",
        "from sklearn.metrics import confusion_matrix\n",
        "\n",
        "cm = confusion_matrix(target_test, y_pred)\n",
        "\n",
        "print('Confusion matrix\\n\\n', cm)\n",
        "\n",
        "print('\\nTrue Positives(TP) = ', cm[0,0])\n",
        "\n",
        "print('\\nTrue Negatives(TN) = ', cm[1,1])\n",
        "\n",
        "print('\\nFalse Positives(FP) = ', cm[0,1])\n",
        "\n",
        "print('\\nFalse Negatives(FN) = ', cm[1,0])\n",
        "\n",
        "from sklearn.metrics import classification_report\n",
        "\n",
        "print(classification_report(target_test, y_pred))\n",
        "\n",
        "# visualize confusion matrix with seaborn heatmap\n",
        "import seaborn as sns\n",
        "cm_matrix = pd.DataFrame(data=cm, columns=['Actual Positive:1', 'Actual Negative:0'], \n",
        "                                 index=['Predict Positive:1', 'Predict Negative:0'])\n",
        "\n",
        "sns.heatmap(cm_matrix, annot=True, fmt='d', cmap='YlGnBu')\n",
        "print(\"--------------------------------------------------------------------------------------\")\n",
        "\n",
        "from sklearn.metrics import roc_curve\n",
        "\n",
        "\n",
        "def plot_roc_curve(fpr, tpr, label=None):\n",
        "    plt.plot(fpr, tpr, linewidth=2, label=label)\n",
        "    plt.plot([0, 1], [0, 1], \"k--\")\n",
        "    plt.axis([0, 1, 0, 1])\n",
        "    plt.xlabel('False Positive Rate')\n",
        "    plt.ylabel('True Positive Rate')\n",
        "    plt.title('ROC Curve')\n",
        "\n",
        "\n"
      ],
      "metadata": {
        "colab": {
          "base_uri": "https://localhost:8080/",
          "height": 666
        },
        "id": "bApNERgUf1N_",
        "outputId": "2a9f2e35-1e59-4b2e-ab26-105f716838c9"
      },
      "execution_count": 123,
      "outputs": [
        {
          "output_type": "stream",
          "name": "stdout",
          "text": [
            "Confusion matrix\n",
            "\n",
            " [[358  70]\n",
            " [ 32 382]]\n",
            "\n",
            "True Positives(TP) =  358\n",
            "\n",
            "True Negatives(TN) =  382\n",
            "\n",
            "False Positives(FP) =  70\n",
            "\n",
            "False Negatives(FN) =  32\n",
            "              precision    recall  f1-score   support\n",
            "\n",
            "          MS       0.92      0.84      0.88       428\n",
            "         NMO       0.85      0.92      0.88       414\n",
            "\n",
            "    accuracy                           0.88       842\n",
            "   macro avg       0.88      0.88      0.88       842\n",
            "weighted avg       0.88      0.88      0.88       842\n",
            "\n",
            "--------------------------------------------------------------------------------------\n"
          ]
        },
        {
          "output_type": "display_data",
          "data": {
            "text/plain": [
              "<Figure size 432x288 with 2 Axes>"
            ],
            "image/png": "[encoded data removed]"
          },
          "metadata": {
            "needs_background": "light"
          }
        }
      ]
    },
    {
      "cell_type": "markdown",
      "metadata": {
        "id": "sjJpLLrCGayu"
      },
      "source": [
        "### 5.11 LGBM Classifier <a class=\"anchor\" id=\"5.11\"></a>\n",
        "\n",
        "[Back to Table of Contents](#0.1)"
      ]
    },
    {
      "cell_type": "markdown",
      "metadata": {
        "id": "wb2cWTElGayu"
      },
      "source": [
        "Light GBM is a fast, distributed, high-performance gradient boosting framework based on decision tree algorithms. It splits the tree leaf wise with the best fit whereas other boosting algorithms split the tree depth wise or level wise rather than leaf-wise. So when growing on the same leaf in Light GBM, the leaf-wise algorithm can reduce more loss than the level-wise algorithm and hence results in much better accuracy which can rarely be achieved by any of the existing boosting algorithms. Also, it is surprisingly very fast, hence the word ‘Light’. Reference [Analytics Vidhya](https://www.analyticsvidhya.com/blog/2017/06/which-algorithm-takes-the-crown-light-gbm-vs-xgboost/)."
      ]
    },
    {
      "cell_type": "markdown",
      "metadata": {
        "id": "UstrFpzPGayv"
      },
      "source": [
        "We will tuning the hyperparameters of the LGBMClassifier model using the HyperOpt and 10-fold crossvalidation"
      ]
    },
    {
      "cell_type": "code",
      "execution_count": 124,
      "metadata": {
        "id": "xw5obOmaGayv",
        "outputId": "1703854c-179f-484a-ee94-8368851bf46f",
        "colab": {
          "base_uri": "https://localhost:8080/"
        }
      },
      "outputs": [
        {
          "output_type": "stream",
          "name": "stdout",
          "text": [
            "0.8624355305920588\n",
            "{'boosting_type': 'gbdt', 'colsample_bytree': 0.605, 'learning_rate': 0.034, 'max_depth': 6, 'min_child_weight': 3.6750000000000003, 'n_estimators': 925, 'num_leaves': 622, 'objective': 'binary'}\n",
            "0.8478813409636852\n",
            "{'boosting_type': 'gbdt', 'colsample_bytree': 0.97, 'learning_rate': 0.041, 'max_depth': 4, 'min_child_weight': 8.05, 'n_estimators': 829, 'num_leaves': 3578, 'objective': 'binary'}\n",
            "0.8362945103857568\n",
            "{'boosting_type': 'gbdt', 'colsample_bytree': 0.985, 'learning_rate': 0.0465, 'max_depth': 5, 'min_child_weight': 8.450000000000001, 'n_estimators': 620, 'num_leaves': 10, 'objective': 'binary'}\n",
            "0.8047989967500353\n",
            "{'boosting_type': 'gbdt', 'colsample_bytree': 0.75, 'learning_rate': 0.039400000000000004, 'max_depth': 3, 'min_child_weight': 5.9, 'n_estimators': 356, 'num_leaves': 4070, 'objective': 'binary'}\n",
            "0.778679171965522\n",
            "{'boosting_type': 'gbdt', 'colsample_bytree': 0.845, 'learning_rate': 0.0033, 'max_depth': 8, 'min_child_weight': 4.625, 'n_estimators': 238, 'num_leaves': 3472, 'objective': 'binary'}\n",
            "0.8116424685601243\n",
            "{'boosting_type': 'gbdt', 'colsample_bytree': 0.9450000000000001, 'learning_rate': 0.0053, 'max_depth': 5, 'min_child_weight': 2.2, 'n_estimators': 993, 'num_leaves': 1350, 'objective': 'binary'}\n",
            "0.8273783029532288\n",
            "{'boosting_type': 'gbdt', 'colsample_bytree': 0.9500000000000001, 'learning_rate': 0.0257, 'max_depth': 10, 'min_child_weight': 8.1, 'n_estimators': 164, 'num_leaves': 148, 'objective': 'binary'}\n",
            "0.7656077787197966\n",
            "{'boosting_type': 'gbdt', 'colsample_bytree': 0.79, 'learning_rate': 0.006, 'max_depth': 6, 'min_child_weight': 5.8500000000000005, 'n_estimators': 156, 'num_leaves': 3876, 'objective': 'binary'}\n",
            "0.8618420587819697\n",
            "{'boosting_type': 'gbdt', 'colsample_bytree': 0.655, 'learning_rate': 0.0386, 'max_depth': 10, 'min_child_weight': 8.700000000000001, 'n_estimators': 816, 'num_leaves': 1068, 'objective': 'binary'}\n",
            "0.8570872191606614\n",
            "{'boosting_type': 'gbdt', 'colsample_bytree': 0.91, 'learning_rate': 0.048400000000000006, 'max_depth': 10, 'min_child_weight': 4.5, 'n_estimators': 632, 'num_leaves': 3528, 'objective': 'binary'}\n",
            "100%|██████████| 10/10 [08:31<00:00, 51.19s/it, best loss: 0.7656077787197966]\n",
            "best:\n",
            "{'colsample_bytree': 0.79, 'learning_rate': 0.006, 'max_depth': 4, 'min_child_weight': 5.8500000000000005, 'n_estimators': 56, 'num_leaves': 1936}\n"
          ]
        }
      ],
      "source": [
        "def hyperopt_lgb_score(params):\n",
        "    clf = LGBMClassifier(**params)\n",
        "    current_score = cross_val_score(clf, train, target, cv=10).mean()\n",
        "    print(current_score, params)\n",
        "    return current_score \n",
        " \n",
        "space_lgb = {\n",
        "            'learning_rate': hp.quniform('learning_rate', 0, 0.05, 0.0001),\n",
        "            'n_estimators': hp.choice('n_estimators', range(100, 1000)),\n",
        "            'max_depth':  hp.choice('max_depth', np.arange(2, 12, dtype=int)),\n",
        "            'num_leaves': hp.choice('num_leaves', 2*np.arange(2, 2**11, dtype=int)),\n",
        "            'min_child_weight': hp.quniform('min_child_weight', 1, 9, 0.025),\n",
        "            'colsample_bytree': hp.quniform('colsample_bytree', 0.5, 1, 0.005),\n",
        "            'objective': 'binary',\n",
        "            'boosting_type': 'gbdt',\n",
        "            }\n",
        " \n",
        "best = fmin(fn=hyperopt_lgb_score, space=space_lgb, algo=tpe.suggest, max_evals=10)\n",
        "print('best:')\n",
        "print(best)"
      ]
    },
    {
      "cell_type": "code",
      "execution_count": 125,
      "metadata": {
        "id": "_2cVjogdGayv",
        "outputId": "13bf2a32-6d25-4c6e-977d-421f64bcb105",
        "colab": {
          "base_uri": "https://localhost:8080/"
        }
      },
      "outputs": [
        {
          "output_type": "execute_result",
          "data": {
            "text/plain": [
              "{'boosting_type': 'gbdt',\n",
              " 'colsample_bytree': 0.79,\n",
              " 'learning_rate': 0.006,\n",
              " 'max_depth': 6,\n",
              " 'min_child_weight': 5.8500000000000005,\n",
              " 'n_estimators': 156,\n",
              " 'num_leaves': 3876,\n",
              " 'objective': 'binary'}"
            ]
          },
          "metadata": {},
          "execution_count": 125
        }
      ],
      "source": [
        "params = space_eval(space_lgb, best)\n",
        "params"
      ]
    },
    {
      "cell_type": "code",
      "execution_count": 149,
      "metadata": {
        "id": "aH_zHNFCGayv",
        "outputId": "54f57f2c-1e8e-49e0-e648-f003df448e58",
        "colab": {
          "base_uri": "https://localhost:8080/"
        }
      },
      "outputs": [
        {
          "output_type": "execute_result",
          "data": {
            "text/plain": [
              "100.0"
            ]
          },
          "metadata": {},
          "execution_count": 149
        }
      ],
      "source": [
        "LGB_Classifier = LGBMClassifier(**{'boosting_type': 'gbdt', 'colsample_bytree': 0.655, 'learning_rate': 0.0386, 'max_depth': 10, 'min_child_weight': 8.700000000000001, 'n_estimators': 816, 'num_leaves': 1068, 'objective': 'binary'})\n",
        "LGB_Classifier.fit(train, target)\n",
        "acc_LGB_Classifier = round(LGB_Classifier.score(train, target) * 100, 2)\n",
        "acc_LGB_Classifier"
      ]
    },
    {
      "cell_type": "code",
      "execution_count": 150,
      "metadata": {
        "id": "AGVNEFRAGayv",
        "outputId": "8e58bc4a-ae7a-4219-c70b-3dc7cb56c715",
        "colab": {
          "base_uri": "https://localhost:8080/"
        }
      },
      "outputs": [
        {
          "output_type": "execute_result",
          "data": {
            "text/plain": [
              "89.79"
            ]
          },
          "metadata": {},
          "execution_count": 150
        }
      ],
      "source": [
        "acc_test_LGB_Classifier = round(LGB_Classifier.score(test, target_test) * 100, 2)\n",
        "acc_test_LGB_Classifier"
      ]
    },
    {
      "cell_type": "code",
      "execution_count": 151,
      "metadata": {
        "id": "f8HWFt0EGayw",
        "outputId": "e5c44a59-bde9-4c62-9d4d-af82e9eedb14",
        "colab": {
          "base_uri": "https://localhost:8080/",
          "height": 893
        }
      },
      "outputs": [
        {
          "output_type": "display_data",
          "data": {
            "text/plain": [
              "<Figure size 1080x1080 with 1 Axes>"
            ],
            "image/png": "[encoded data removed]"
          },
          "metadata": {
            "needs_background": "light"
          }
        }
      ],
      "source": [
        "fig =  plt.figure(figsize = (15,15))\n",
        "axes = fig.add_subplot(111)\n",
        "lgb.plot_importance(LGB_Classifier,ax = axes,height = 0.5)\n",
        "plt.show();\n",
        "plt.close()"
      ]
    },
    {
      "cell_type": "code",
      "source": [
        "# Print the Confusion Matrix and slice it into four pieces\n",
        "y_pred = LGB_Classifier.predict(test)\n",
        "\n",
        "from sklearn.metrics import confusion_matrix\n",
        "\n",
        "cm = confusion_matrix(target_test, y_pred)\n",
        "\n",
        "print('Confusion matrix\\n\\n', cm)\n",
        "\n",
        "print('\\nTrue Positives(TP) = ', cm[0,0])\n",
        "\n",
        "print('\\nTrue Negatives(TN) = ', cm[1,1])\n",
        "\n",
        "print('\\nFalse Positives(FP) = ', cm[0,1])\n",
        "\n",
        "print('\\nFalse Negatives(FN) = ', cm[1,0])\n",
        "\n",
        "from sklearn.metrics import classification_report\n",
        "\n",
        "print(classification_report(target_test, y_pred))\n",
        "\n",
        "# visualize confusion matrix with seaborn heatmap\n",
        "import seaborn as sns\n",
        "cm_matrix = pd.DataFrame(data=cm, columns=['Actual Positive:1', 'Actual Negative:0'], \n",
        "                                 index=['Predict Positive:1', 'Predict Negative:0'])\n",
        "\n",
        "sns.heatmap(cm_matrix, annot=True, fmt='d', cmap='YlGnBu')\n",
        "print(\"--------------------------------------------------------------------------------------\")\n",
        "\n",
        "from sklearn.metrics import roc_curve\n",
        "\n",
        "\n",
        "def plot_roc_curve(fpr, tpr, label=None):\n",
        "    plt.plot(fpr, tpr, linewidth=2, label=label)\n",
        "    plt.plot([0, 1], [0, 1], \"k--\")\n",
        "    plt.axis([0, 1, 0, 1])\n",
        "    plt.xlabel('False Positive Rate')\n",
        "    plt.ylabel('True Positive Rate')\n",
        "    plt.title('ROC Curve')\n",
        "\n",
        "\n"
      ],
      "metadata": {
        "colab": {
          "base_uri": "https://localhost:8080/",
          "height": 666
        },
        "id": "Tib5lnHVhexn",
        "outputId": "5ad44536-f912-48dc-90b5-c9a56a4835df"
      },
      "execution_count": 152,
      "outputs": [
        {
          "output_type": "stream",
          "name": "stdout",
          "text": [
            "Confusion matrix\n",
            "\n",
            " [[376  52]\n",
            " [ 34 380]]\n",
            "\n",
            "True Positives(TP) =  376\n",
            "\n",
            "True Negatives(TN) =  380\n",
            "\n",
            "False Positives(FP) =  52\n",
            "\n",
            "False Negatives(FN) =  34\n",
            "              precision    recall  f1-score   support\n",
            "\n",
            "          MS       0.92      0.88      0.90       428\n",
            "         NMO       0.88      0.92      0.90       414\n",
            "\n",
            "    accuracy                           0.90       842\n",
            "   macro avg       0.90      0.90      0.90       842\n",
            "weighted avg       0.90      0.90      0.90       842\n",
            "\n",
            "--------------------------------------------------------------------------------------\n"
          ]
        },
        {
          "output_type": "display_data",
          "data": {
            "text/plain": [
              "<Figure size 432x288 with 2 Axes>"
            ],
            "image/png": "[encoded data removed]"
          },
          "metadata": {
            "needs_background": "light"
          }
        }
      ]
    },
    {
      "cell_type": "markdown",
      "metadata": {
        "id": "vzgOKCpEGayw"
      },
      "source": [
        "### 5.12 GradientBoostingClassifier <a class=\"anchor\" id=\"5.12\"></a>\n",
        "\n",
        "[Back to Table of Contents](#0.1)"
      ]
    },
    {
      "cell_type": "markdown",
      "metadata": {
        "id": "e1MYNVWAGayw"
      },
      "source": [
        "Thanks to https://www.kaggle.com/kabure/titanic-eda-model-pipeline-keras-nn"
      ]
    },
    {
      "cell_type": "markdown",
      "metadata": {
        "id": "uehuSf03Gayw"
      },
      "source": [
        "**Gradient Boosting** builds an additive model in a forward stage-wise fashion; it allows for the optimization of arbitrary differentiable loss functions. In each stage n_classes_ regression trees are fit on the negative gradient of the binomial or multinomial deviance loss function. Binary classification is a special case where only a single regression tree is induced. The features are always randomly permuted at each split. Therefore, the best found split may vary, even with the same training data and max_features=n_features, if the improvement of the criterion is identical for several splits enumerated during the search of the best split. To obtain a deterministic behaviour during fitting, random_state has to be fixed. Reference [sklearn documentation](https://scikit-learn.org/stable/modules/generated/sklearn.ensemble.GradientBoostingClassifier.html)."
      ]
    },
    {
      "cell_type": "code",
      "execution_count": 130,
      "metadata": {
        "colab": {
          "base_uri": "https://localhost:8080/"
        },
        "id": "eySWiUA-Gayw",
        "outputId": "d0a2758b-979a-4d38-a2a9-d5137767d3cc"
      },
      "outputs": [
        {
          "output_type": "stream",
          "name": "stdout",
          "text": [
            "0.8475881376289388\n",
            "{'max_depth': 6, 'n_estimators': 126}\n",
            "0.852334145824502\n",
            "{'max_depth': 7, 'n_estimators': 121}\n",
            "0.8475819556309171\n",
            "{'max_depth': 5, 'n_estimators': 222}\n",
            "0.7828087466440582\n",
            "{'max_depth': 2, 'n_estimators': 290}\n",
            "0.8229228486646886\n",
            "{'max_depth': 4, 'n_estimators': 152}\n",
            "0.8416375229617069\n",
            "{'max_depth': 6, 'n_estimators': 96}\n",
            "0.7747942277801327\n",
            "{'max_depth': 2, 'n_estimators': 189}\n",
            "0.7759749894022892\n",
            "{'max_depth': 2, 'n_estimators': 230}\n",
            "0.8446154797230465\n",
            "{'max_depth': 8, 'n_estimators': 76}\n",
            "0.8467032287692525\n",
            "{'max_depth': 6, 'n_estimators': 112}\n",
            "100%|██████████| 10/10 [31:44<00:00, 190.48s/it, best loss: 0.7747942277801327]\n",
            "best:\n",
            "{'max_depth': 0, 'n_estimators': 187}\n"
          ]
        }
      ],
      "source": [
        "def hyperopt_gb_score(params):\n",
        "    clf = GradientBoostingClassifier(**params)\n",
        "    current_score = cross_val_score(clf, train, target, cv=10).mean()\n",
        "    print(current_score, params)\n",
        "    return current_score \n",
        " \n",
        "space_gb = {\n",
        "            'n_estimators': hp.choice('n_estimators', range(2, 300)),\n",
        "            'max_depth': hp.choice('max_depth', np.arange(2, 10, dtype=int))            \n",
        "        }\n",
        " \n",
        "best = fmin(fn=hyperopt_gb_score, space=space_gb, algo=tpe.suggest, max_evals=10)\n",
        "print('best:')\n",
        "print(best)"
      ]
    },
    {
      "cell_type": "code",
      "execution_count": 131,
      "metadata": {
        "id": "9jHtRA6-Gayx",
        "colab": {
          "base_uri": "https://localhost:8080/"
        },
        "outputId": "220a2f12-8ce7-4521-fabd-53f9073e20eb"
      },
      "outputs": [
        {
          "output_type": "execute_result",
          "data": {
            "text/plain": [
              "{'max_depth': 2, 'n_estimators': 189}"
            ]
          },
          "metadata": {},
          "execution_count": 131
        }
      ],
      "source": [
        "params = space_eval(space_gb, best)\n",
        "params"
      ]
    },
    {
      "cell_type": "code",
      "execution_count": 153,
      "metadata": {
        "id": "OVWowxYbGayx",
        "colab": {
          "base_uri": "https://localhost:8080/"
        },
        "outputId": "77a9edb3-ad3d-40b5-f7cb-3a5af409edbc"
      },
      "outputs": [
        {
          "output_type": "execute_result",
          "data": {
            "text/plain": [
              "100.0"
            ]
          },
          "metadata": {},
          "execution_count": 153
        }
      ],
      "source": [
        "# Gradient Boosting Classifier\n",
        "\n",
        "gradient_boosting = GradientBoostingClassifier(**{'max_depth': 7, 'n_estimators': 121})\n",
        "gradient_boosting.fit(train, target)\n",
        "acc_gradient_boosting = round(gradient_boosting.score(train, target) * 100, 2)\n",
        "acc_gradient_boosting"
      ]
    },
    {
      "cell_type": "code",
      "execution_count": 154,
      "metadata": {
        "id": "HNWVPdRQGayx",
        "colab": {
          "base_uri": "https://localhost:8080/"
        },
        "outputId": "13a46b4e-764a-4ccc-8345-d93f5145b397"
      },
      "outputs": [
        {
          "output_type": "execute_result",
          "data": {
            "text/plain": [
              "88.95"
            ]
          },
          "metadata": {},
          "execution_count": 154
        }
      ],
      "source": [
        "acc_test_gradient_boosting = round(gradient_boosting.score(test, target_test) * 100, 2)\n",
        "acc_test_gradient_boosting"
      ]
    },
    {
      "cell_type": "code",
      "source": [
        "# Print the Confusion Matrix and slice it into four pieces\n",
        "y_pred = gradient_boosting.predict(test)\n",
        "\n",
        "from sklearn.metrics import confusion_matrix\n",
        "\n",
        "cm = confusion_matrix(target_test, y_pred)\n",
        "\n",
        "print('Confusion matrix\\n\\n', cm)\n",
        "\n",
        "print('\\nTrue Positives(TP) = ', cm[0,0])\n",
        "\n",
        "print('\\nTrue Negatives(TN) = ', cm[1,1])\n",
        "\n",
        "print('\\nFalse Positives(FP) = ', cm[0,1])\n",
        "\n",
        "print('\\nFalse Negatives(FN) = ', cm[1,0])\n",
        "\n",
        "from sklearn.metrics import classification_report\n",
        "\n",
        "print(classification_report(target_test, y_pred))\n",
        "\n",
        "# visualize confusion matrix with seaborn heatmap\n",
        "import seaborn as sns\n",
        "cm_matrix = pd.DataFrame(data=cm, columns=['Actual Positive:1', 'Actual Negative:0'], \n",
        "                                 index=['Predict Positive:1', 'Predict Negative:0'])\n",
        "\n",
        "sns.heatmap(cm_matrix, annot=True, fmt='d', cmap='YlGnBu')\n",
        "print(\"--------------------------------------------------------------------------------------\")\n",
        "\n",
        "from sklearn.metrics import roc_curve\n",
        "\n",
        "\n",
        "def plot_roc_curve(fpr, tpr, label=None):\n",
        "    plt.plot(fpr, tpr, linewidth=2, label=label)\n",
        "    plt.plot([0, 1], [0, 1], \"k--\")\n",
        "    plt.axis([0, 1, 0, 1])\n",
        "    plt.xlabel('False Positive Rate')\n",
        "    plt.ylabel('True Positive Rate')\n",
        "    plt.title('ROC Curve')\n",
        "\n",
        "\n"
      ],
      "metadata": {
        "colab": {
          "base_uri": "https://localhost:8080/",
          "height": 666
        },
        "id": "7YGnt1s8iuJ_",
        "outputId": "c7926209-fe3c-45ae-c58b-9012b81808eb"
      },
      "execution_count": 155,
      "outputs": [
        {
          "output_type": "stream",
          "name": "stdout",
          "text": [
            "Confusion matrix\n",
            "\n",
            " [[368  60]\n",
            " [ 33 381]]\n",
            "\n",
            "True Positives(TP) =  368\n",
            "\n",
            "True Negatives(TN) =  381\n",
            "\n",
            "False Positives(FP) =  60\n",
            "\n",
            "False Negatives(FN) =  33\n",
            "              precision    recall  f1-score   support\n",
            "\n",
            "          MS       0.92      0.86      0.89       428\n",
            "         NMO       0.86      0.92      0.89       414\n",
            "\n",
            "    accuracy                           0.89       842\n",
            "   macro avg       0.89      0.89      0.89       842\n",
            "weighted avg       0.89      0.89      0.89       842\n",
            "\n",
            "--------------------------------------------------------------------------------------\n"
          ]
        },
        {
          "output_type": "display_data",
          "data": {
            "text/plain": [
              "<Figure size 432x288 with 2 Axes>"
            ],
            "image/png": "[encoded data removed]"
          },
          "metadata": {
            "needs_background": "light"
          }
        }
      ]
    },
    {
      "cell_type": "markdown",
      "metadata": {
        "id": "eS-swvP4Gayy"
      },
      "source": [
        "### 5.13 RidgeClassifier <a class=\"anchor\" id=\"5.13\"></a>\n",
        "\n",
        "[Back to Table of Contents](#0.1)"
      ]
    },
    {
      "cell_type": "markdown",
      "metadata": {
        "id": "l-bLqL0lGayy"
      },
      "source": [
        "Thanks to https://www.kaggle.com/kabure/titanic-eda-model-pipeline-keras-nn"
      ]
    },
    {
      "cell_type": "markdown",
      "metadata": {
        "id": "oFzmO43NGayy"
      },
      "source": [
        "Tikhonov Regularization, colloquially known as **Ridge Regression**, is the most commonly used regression algorithm to approximate an answer for an equation with no unique solution. This type of problem is very common in machine learning tasks, where the \"best\" solution must be chosen using limited data. If a unique solution exists, algorithm will return the optimal value. However, if multiple solutions exist, it may choose any of them. Reference [Brilliant.org](https://brilliant.org/wiki/ridge-regression/)."
      ]
    },
    {
      "cell_type": "code",
      "execution_count": 135,
      "metadata": {
        "id": "0Wk0g-jBGayy",
        "outputId": "b1c53ef5-b5b0-42fc-a4f6-6bdc45314cc6",
        "colab": {
          "base_uri": "https://localhost:8080/"
        }
      },
      "outputs": [
        {
          "output_type": "execute_result",
          "data": {
            "text/plain": [
              "77.09"
            ]
          },
          "metadata": {},
          "execution_count": 135
        }
      ],
      "source": [
        "# Ridge Classifier\n",
        "\n",
        "ridge_classifier = RidgeClassifier()\n",
        "ridge_classifier.fit(train, target)\n",
        "acc_ridge_classifier = round(ridge_classifier.score(train, target) * 100, 2)\n",
        "acc_ridge_classifier"
      ]
    },
    {
      "cell_type": "code",
      "execution_count": 136,
      "metadata": {
        "id": "gruOcJXPGayy",
        "outputId": "07399141-f5a5-4782-ac46-656463ac79ec",
        "colab": {
          "base_uri": "https://localhost:8080/"
        }
      },
      "outputs": [
        {
          "output_type": "execute_result",
          "data": {
            "text/plain": [
              "77.55"
            ]
          },
          "metadata": {},
          "execution_count": 136
        }
      ],
      "source": [
        "acc_test_ridge_classifier = round(ridge_classifier.score(test, target_test) * 100, 2)\n",
        "acc_test_ridge_classifier"
      ]
    },
    {
      "cell_type": "code",
      "source": [
        "# Print the Confusion Matrix and slice it into four pieces\n",
        "y_pred = ridge_classifier.predict(test)\n",
        "\n",
        "from sklearn.metrics import confusion_matrix\n",
        "\n",
        "cm = confusion_matrix(target_test, y_pred)\n",
        "\n",
        "print('Confusion matrix\\n\\n', cm)\n",
        "\n",
        "print('\\nTrue Positives(TP) = ', cm[0,0])\n",
        "\n",
        "print('\\nTrue Negatives(TN) = ', cm[1,1])\n",
        "\n",
        "print('\\nFalse Positives(FP) = ', cm[0,1])\n",
        "\n",
        "print('\\nFalse Negatives(FN) = ', cm[1,0])\n",
        "\n",
        "from sklearn.metrics import classification_report\n",
        "\n",
        "print(classification_report(target_test, y_pred))\n",
        "\n",
        "# visualize confusion matrix with seaborn heatmap\n",
        "import seaborn as sns\n",
        "cm_matrix = pd.DataFrame(data=cm, columns=['Actual Positive:1', 'Actual Negative:0'], \n",
        "                                 index=['Predict Positive:1', 'Predict Negative:0'])\n",
        "\n",
        "sns.heatmap(cm_matrix, annot=True, fmt='d', cmap='YlGnBu')\n",
        "print(\"--------------------------------------------------------------------------------------\")\n",
        "\n",
        "from sklearn.metrics import roc_curve\n",
        "\n",
        "\n",
        "def plot_roc_curve(fpr, tpr, label=None):\n",
        "    plt.plot(fpr, tpr, linewidth=2, label=label)\n",
        "    plt.plot([0, 1], [0, 1], \"k--\")\n",
        "    plt.axis([0, 1, 0, 1])\n",
        "    plt.xlabel('False Positive Rate')\n",
        "    plt.ylabel('True Positive Rate')\n",
        "    plt.title('ROC Curve')\n",
        "\n",
        "\n"
      ],
      "metadata": {
        "colab": {
          "base_uri": "https://localhost:8080/",
          "height": 666
        },
        "id": "ixHxVq2ZmI4O",
        "outputId": "a0d78941-53f0-41b9-d1f3-1f5f9179e71b"
      },
      "execution_count": 137,
      "outputs": [
        {
          "output_type": "stream",
          "name": "stdout",
          "text": [
            "Confusion matrix\n",
            "\n",
            " [[310 118]\n",
            " [ 71 343]]\n",
            "\n",
            "True Positives(TP) =  310\n",
            "\n",
            "True Negatives(TN) =  343\n",
            "\n",
            "False Positives(FP) =  118\n",
            "\n",
            "False Negatives(FN) =  71\n",
            "              precision    recall  f1-score   support\n",
            "\n",
            "          MS       0.81      0.72      0.77       428\n",
            "         NMO       0.74      0.83      0.78       414\n",
            "\n",
            "    accuracy                           0.78       842\n",
            "   macro avg       0.78      0.78      0.78       842\n",
            "weighted avg       0.78      0.78      0.78       842\n",
            "\n",
            "--------------------------------------------------------------------------------------\n"
          ]
        },
        {
          "output_type": "display_data",
          "data": {
            "text/plain": [
              "<Figure size 432x288 with 2 Axes>"
            ],
            "image/png": "[encoded data removed]"
          },
          "metadata": {
            "needs_background": "light"
          }
        }
      ]
    },
    {
      "cell_type": "markdown",
      "metadata": {
        "id": "t1OS9HoiGayz"
      },
      "source": [
        "### 5.15 ExtraTreesClassifier <a class=\"anchor\" id=\"5.15\"></a>\n",
        "\n",
        "[Back to Table of Contents](#0.1)"
      ]
    },
    {
      "cell_type": "markdown",
      "metadata": {
        "id": "VjxIpoWPGayz"
      },
      "source": [
        "Thanks to https://www.kaggle.com/kabure/titanic-eda-model-pipeline-keras-nn"
      ]
    },
    {
      "cell_type": "markdown",
      "metadata": {
        "id": "Q33SHnxmGayz"
      },
      "source": [
        "**ExtraTreesClassifier** implements a meta estimator that fits a number of randomized decision trees (a.k.a. extra-trees) on various sub-samples of the dataset and uses averaging to improve the predictive accuracy and control over-fitting. The default values for the parameters controlling the size of the trees (e.g. max_depth, min_samples_leaf, etc.) lead to fully grown and unpruned trees which can potentially be very large on some data sets. To reduce memory consumption, the complexity and size of the trees should be controlled by setting those parameter values. Reference [sklearn documentation](https://scikit-learn.org/stable/modules/generated/sklearn.ensemble.ExtraTreesClassifier.html). \n",
        "\n",
        "In extremely randomized trees, randomness goes one step further in the way splits are computed. As in random forests, a random subset of candidate features is used, but instead of looking for the most discriminative thresholds, thresholds are drawn at random for each candidate feature and the best of these randomly-generated thresholds is picked as the splitting rule. This usually allows to reduce the variance of the model a bit more, at the expense of a slightly greater increase in bias. Reference [sklearn documentation](https://scikit-learn.org/stable/modules/ensemble.html#Extremely%20Randomized%20Trees)."
      ]
    },
    {
      "cell_type": "code",
      "execution_count": 138,
      "metadata": {
        "id": "c_WKpF8rGay0",
        "outputId": "5cc7ee4d-8293-435e-d0dc-d49a2eeb7870",
        "colab": {
          "base_uri": "https://localhost:8080/"
        }
      },
      "outputs": [
        {
          "output_type": "stream",
          "name": "stdout",
          "text": [
            "0.7822320545428854\n",
            "{'max_depth': 6, 'max_features': None, 'min_samples_leaf': 2, 'n_estimators': 735}\n",
            "0.8196649357072205\n",
            "{'max_depth': 8, 'max_features': None, 'min_samples_leaf': 2, 'n_estimators': 415}\n",
            "0.742419987282747\n",
            "{'max_depth': 4, 'max_features': None, 'min_samples_leaf': 2, 'n_estimators': 336}\n",
            "0.7798555178748057\n",
            "{'max_depth': 6, 'max_features': None, 'min_samples_leaf': 4, 'n_estimators': 530}\n",
            "0.8131323300833687\n",
            "{'max_depth': 8, 'max_features': None, 'min_samples_leaf': 2, 'n_estimators': 583}\n",
            "0.76143139748481\n",
            "{'max_depth': 5, 'max_features': None, 'min_samples_leaf': 2, 'n_estimators': 550}\n",
            "0.8315485021901937\n",
            "{'max_depth': 10, 'max_features': None, 'min_samples_leaf': 4, 'n_estimators': 233}\n",
            "0.8404567613395507\n",
            "{'max_depth': 11, 'max_features': None, 'min_samples_leaf': 2, 'n_estimators': 126}\n",
            "0.8003488413169422\n",
            "{'max_depth': 7, 'max_features': None, 'min_samples_leaf': 2, 'n_estimators': 931}\n",
            "0.8232301822806274\n",
            "{'max_depth': 9, 'max_features': None, 'min_samples_leaf': 3, 'n_estimators': 520}\n",
            "100%|██████████| 10/10 [12:20<00:00, 74.10s/it, best loss: 0.742419987282747]\n",
            "best:\n",
            "{'max_depth': 2, 'min_samples_leaf': 1, 'n_estimators': 236}\n"
          ]
        }
      ],
      "source": [
        "def hyperopt_etc_score(params):\n",
        "    clf = ExtraTreesClassifier(**params)\n",
        "    current_score = cross_val_score(clf, train, target, cv=10).mean()\n",
        "    print(current_score, params)\n",
        "    return current_score \n",
        " \n",
        "space_etc = {\n",
        "            'n_estimators': hp.choice('n_estimators', range(100, 1000)),\n",
        "            'max_features': hp.choice('max_features', np.arange(2, 17, dtype=int)),\n",
        "            'min_samples_leaf': hp.choice('min_samples_leaf', np.arange(1, 5, dtype=int)),\n",
        "            'max_depth':  hp.choice('max_depth', np.arange(2, 12, dtype=int)),\n",
        "            'max_features': None # for small number of features\n",
        "        }\n",
        " \n",
        "best = fmin(fn=hyperopt_etc_score, space=space_etc, algo=tpe.suggest, max_evals=10)\n",
        "print('best:')\n",
        "print(best)"
      ]
    },
    {
      "cell_type": "code",
      "execution_count": 139,
      "metadata": {
        "id": "Uv2ziJE0Gay0",
        "outputId": "d38c7978-eced-45f5-8066-ba55bbcd74e1",
        "colab": {
          "base_uri": "https://localhost:8080/"
        }
      },
      "outputs": [
        {
          "output_type": "execute_result",
          "data": {
            "text/plain": [
              "{'max_depth': 4,\n",
              " 'max_features': None,\n",
              " 'min_samples_leaf': 2,\n",
              " 'n_estimators': 336}"
            ]
          },
          "metadata": {},
          "execution_count": 139
        }
      ],
      "source": [
        "params = space_eval(space_etc, best)\n",
        "params"
      ]
    },
    {
      "cell_type": "code",
      "execution_count": 156,
      "metadata": {
        "id": "vVaYnupmGay0",
        "outputId": "bbe95108-d54d-4cf4-86cb-f4401c454e7a",
        "colab": {
          "base_uri": "https://localhost:8080/"
        }
      },
      "outputs": [
        {
          "output_type": "execute_result",
          "data": {
            "text/plain": [
              "98.78"
            ]
          },
          "metadata": {},
          "execution_count": 156
        }
      ],
      "source": [
        "# Extra Trees Classifier\n",
        "\n",
        "extra_trees_classifier = ExtraTreesClassifier(**{'max_depth': 11, 'max_features': None, 'min_samples_leaf': 2, 'n_estimators': 126})\n",
        "extra_trees_classifier.fit(train, target)\n",
        "acc_etc = round(extra_trees_classifier.score(train, target) * 100, 2)\n",
        "acc_etc"
      ]
    },
    {
      "cell_type": "code",
      "execution_count": 157,
      "metadata": {
        "id": "v13VVbQAGay0",
        "outputId": "6fffe1b8-3307-489d-dc51-c46e6c57647f",
        "colab": {
          "base_uri": "https://localhost:8080/"
        }
      },
      "outputs": [
        {
          "output_type": "execute_result",
          "data": {
            "text/plain": [
              "86.1"
            ]
          },
          "metadata": {},
          "execution_count": 157
        }
      ],
      "source": [
        "acc_test_etc = round(extra_trees_classifier.score(test, target_test) * 100, 2)\n",
        "acc_test_etc"
      ]
    },
    {
      "cell_type": "code",
      "source": [
        "# Print the Confusion Matrix and slice it into four pieces\n",
        "y_pred = extra_trees_classifier.predict(test)\n",
        "\n",
        "from sklearn.metrics import confusion_matrix\n",
        "\n",
        "cm = confusion_matrix(target_test, y_pred)\n",
        "\n",
        "print('Confusion matrix\\n\\n', cm)\n",
        "\n",
        "print('\\nTrue Positives(TP) = ', cm[0,0])\n",
        "\n",
        "print('\\nTrue Negatives(TN) = ', cm[1,1])\n",
        "\n",
        "print('\\nFalse Positives(FP) = ', cm[0,1])\n",
        "\n",
        "print('\\nFalse Negatives(FN) = ', cm[1,0])\n",
        "\n",
        "from sklearn.metrics import classification_report\n",
        "\n",
        "print(classification_report(target_test, y_pred))\n",
        "\n",
        "# visualize confusion matrix with seaborn heatmap\n",
        "import seaborn as sns\n",
        "cm_matrix = pd.DataFrame(data=cm, columns=['Actual Positive:1', 'Actual Negative:0'], \n",
        "                                 index=['Predict Positive:1', 'Predict Negative:0'])\n",
        "\n",
        "sns.heatmap(cm_matrix, annot=True, fmt='d', cmap='YlGnBu')\n",
        "print(\"--------------------------------------------------------------------------------------\")\n",
        "\n",
        "from sklearn.metrics import roc_curve\n",
        "\n",
        "\n",
        "def plot_roc_curve(fpr, tpr, label=None):\n",
        "    plt.plot(fpr, tpr, linewidth=2, label=label)\n",
        "    plt.plot([0, 1], [0, 1], \"k--\")\n",
        "    plt.axis([0, 1, 0, 1])\n",
        "    plt.xlabel('False Positive Rate')\n",
        "    plt.ylabel('True Positive Rate')\n",
        "    plt.title('ROC Curve')\n",
        "\n",
        "\n"
      ],
      "metadata": {
        "colab": {
          "base_uri": "https://localhost:8080/",
          "height": 666
        },
        "id": "Gkf17aPoolKO",
        "outputId": "90dedf9d-e36e-4346-d157-b86a303cbb8c"
      },
      "execution_count": 158,
      "outputs": [
        {
          "output_type": "stream",
          "name": "stdout",
          "text": [
            "Confusion matrix\n",
            "\n",
            " [[336  92]\n",
            " [ 25 389]]\n",
            "\n",
            "True Positives(TP) =  336\n",
            "\n",
            "True Negatives(TN) =  389\n",
            "\n",
            "False Positives(FP) =  92\n",
            "\n",
            "False Negatives(FN) =  25\n",
            "              precision    recall  f1-score   support\n",
            "\n",
            "          MS       0.93      0.79      0.85       428\n",
            "         NMO       0.81      0.94      0.87       414\n",
            "\n",
            "    accuracy                           0.86       842\n",
            "   macro avg       0.87      0.86      0.86       842\n",
            "weighted avg       0.87      0.86      0.86       842\n",
            "\n",
            "--------------------------------------------------------------------------------------\n"
          ]
        },
        {
          "output_type": "display_data",
          "data": {
            "text/plain": [
              "<Figure size 432x288 with 2 Axes>"
            ],
            "image/png": "[encoded data removed]"
          },
          "metadata": {
            "needs_background": "light"
          }
        }
      ]
    },
    {
      "cell_type": "markdown",
      "metadata": {
        "id": "e5VIEQ6LGay3"
      },
      "source": [
        "### 5.18 AdaBoost Classifier <a class=\"anchor\" id=\"5.18\"></a>\n",
        "\n",
        "[Back to Table of Contents](#0.1)"
      ]
    },
    {
      "cell_type": "markdown",
      "metadata": {
        "id": "5tqnzTqrGay3"
      },
      "source": [
        "Thanks to https://scikit-learn.org/stable/modules/ensemble.html#adaboost"
      ]
    },
    {
      "cell_type": "markdown",
      "metadata": {
        "id": "vFXFWRvLGay3"
      },
      "source": [
        "The core principle of **AdaBoost** is to fit a sequence of weak learners (i.e., models that are only slightly better than random guessing, such as small decision trees) on repeatedly modified versions of the data. The predictions from all of them are then combined through a weighted majority vote (or sum) to produce the final prediction. The data modifications at each so-called boosting iteration consist of applying N weights to each of the training samples. Initially, those weights are all set to 1/N, so that the first step simply trains a weak learner on the original data. For each successive iteration, the sample weights are individually modified and the learning algorithm is reapplied to the reweighted data. At a given step, those training examples that were incorrectly predicted by the boosted model induced at the previous step have their weights increased, whereas the weights are decreased for those that were predicted correctly. As iterations proceed, examples that are difficult to predict receive ever-increasing influence. Each subsequent weak learner is thereby forced to concentrate on the examples that are missed by the previous ones in the sequence. Reference [sklearn documentation](https://scikit-learn.org/stable/modules/ensemble.html#adaboost)."
      ]
    },
    {
      "cell_type": "code",
      "execution_count": 143,
      "metadata": {
        "id": "4G2dsNlrGay3",
        "outputId": "904676dc-be4b-4fef-e5d9-e16d4517ab61",
        "colab": {
          "base_uri": "https://localhost:8080/"
        }
      },
      "outputs": [
        {
          "output_type": "stream",
          "name": "stdout",
          "text": [
            "0.7064778507842306\n",
            "{'learning_rate': 0.020200000000000003, 'n_estimators': 615}\n",
            "0.6645824501907588\n",
            "{'learning_rate': 0.003, 'n_estimators': 640}\n",
            "0.6898341458245019\n",
            "{'learning_rate': 0.0059, 'n_estimators': 718}\n",
            "0.7112335735481137\n",
            "{'learning_rate': 0.013800000000000002, 'n_estimators': 992}\n",
            "0.5855473717676981\n",
            "{'learning_rate': 0.0005, 'n_estimators': 78}\n",
            "0.7275593471810089\n",
            "{'learning_rate': 0.0453, 'n_estimators': 625}\n",
            "0.7052944397343508\n",
            "{'learning_rate': 0.0318, 'n_estimators': 333}\n",
            "0.6467588667514483\n",
            "{'learning_rate': 0.0014, 'n_estimators': 933}\n",
            "0.7159857637416984\n",
            "{'learning_rate': 0.0324, 'n_estimators': 454}\n",
            "0.6990603363006924\n",
            "{'learning_rate': 0.012400000000000001, 'n_estimators': 614}\n",
            "100%|██████████| 10/10 [41:41<00:00, 250.16s/it, best loss: 0.5855473717676981]\n",
            "best:\n",
            "{'learning_rate': 0.0005, 'n_estimators': 28}\n"
          ]
        }
      ],
      "source": [
        "def hyperopt_ab_score(params):\n",
        "    clf = AdaBoostClassifier(**params)\n",
        "    current_score = cross_val_score(clf, train, target, cv=10).mean()\n",
        "    print(current_score, params)\n",
        "    return current_score \n",
        "\n",
        "space_ab = {\n",
        "            'n_estimators': hp.choice('n_estimators', range(50, 1000)),\n",
        "            'learning_rate': hp.quniform('learning_rate', 0, 0.05, 0.0001)       \n",
        "        }\n",
        "\n",
        "best = fmin(fn=hyperopt_ab_score, space=space_ab, algo=tpe.suggest, max_evals=10)\n",
        "print('best:')\n",
        "print(best)"
      ]
    },
    {
      "cell_type": "code",
      "execution_count": 144,
      "metadata": {
        "id": "_5VpWWxbGay4",
        "colab": {
          "base_uri": "https://localhost:8080/"
        },
        "outputId": "37276b68-86f1-42a6-846c-f7308d083500"
      },
      "outputs": [
        {
          "output_type": "execute_result",
          "data": {
            "text/plain": [
              "{'learning_rate': 0.0005, 'n_estimators': 78}"
            ]
          },
          "metadata": {},
          "execution_count": 144
        }
      ],
      "source": [
        "params = space_eval(space_ab, best)\n",
        "params"
      ]
    },
    {
      "cell_type": "code",
      "execution_count": 159,
      "metadata": {
        "id": "fBt-eIabGay4",
        "colab": {
          "base_uri": "https://localhost:8080/"
        },
        "outputId": "c33ba47a-234f-46a6-a5d4-667077bfee0a"
      },
      "outputs": [
        {
          "output_type": "execute_result",
          "data": {
            "text/plain": [
              "78.58"
            ]
          },
          "metadata": {},
          "execution_count": 159
        }
      ],
      "source": [
        "# AdaBoost Classifier\n",
        "\n",
        "Ada_Boost = AdaBoostClassifier(**{'learning_rate': 0.0453, 'n_estimators': 625})\n",
        "Ada_Boost.fit(train, target)\n",
        "Ada_Boost.score(train, target)\n",
        "acc_AdaBoost = round(Ada_Boost.score(train, target) * 100, 2)\n",
        "acc_AdaBoost"
      ]
    },
    {
      "cell_type": "code",
      "execution_count": 160,
      "metadata": {
        "id": "6AgMWeFzGay4",
        "colab": {
          "base_uri": "https://localhost:8080/"
        },
        "outputId": "351394ab-82a3-4950-a945-cb1f96286491"
      },
      "outputs": [
        {
          "output_type": "execute_result",
          "data": {
            "text/plain": [
              "75.06"
            ]
          },
          "metadata": {},
          "execution_count": 160
        }
      ],
      "source": [
        "acc_test_Ada_Boost = round(Ada_Boost.score(test, target_test) * 100, 2)\n",
        "acc_test_Ada_Boost"
      ]
    },
    {
      "cell_type": "code",
      "source": [
        "# Print the Confusion Matrix and slice it into four pieces\n",
        "y_pred = Ada_Boost.predict(test)\n",
        "\n",
        "from sklearn.metrics import confusion_matrix\n",
        "\n",
        "cm = confusion_matrix(target_test, y_pred)\n",
        "\n",
        "print('Confusion matrix\\n\\n', cm)\n",
        "\n",
        "print('\\nTrue Positives(TP) = ', cm[0,0])\n",
        "\n",
        "print('\\nTrue Negatives(TN) = ', cm[1,1])\n",
        "\n",
        "print('\\nFalse Positives(FP) = ', cm[0,1])\n",
        "\n",
        "print('\\nFalse Negatives(FN) = ', cm[1,0])\n",
        "\n",
        "from sklearn.metrics import classification_report\n",
        "\n",
        "print(classification_report(target_test, y_pred))\n",
        "\n",
        "# visualize confusion matrix with seaborn heatmap\n",
        "import seaborn as sns\n",
        "cm_matrix = pd.DataFrame(data=cm, columns=['Actual Positive:1', 'Actual Negative:0'], \n",
        "                                 index=['Predict Positive:1', 'Predict Negative:0'])\n",
        "\n",
        "sns.heatmap(cm_matrix, annot=True, fmt='d', cmap='YlGnBu')\n",
        "print(\"--------------------------------------------------------------------------------------\")\n",
        "\n",
        "from sklearn.metrics import roc_curve\n",
        "\n",
        "\n",
        "def plot_roc_curve(fpr, tpr, label=None):\n",
        "    plt.plot(fpr, tpr, linewidth=2, label=label)\n",
        "    plt.plot([0, 1], [0, 1], \"k--\")\n",
        "    plt.axis([0, 1, 0, 1])\n",
        "    plt.xlabel('False Positive Rate')\n",
        "    plt.ylabel('True Positive Rate')\n",
        "    plt.title('ROC Curve')\n",
        "\n",
        "\n"
      ],
      "metadata": {
        "id": "gZ31t1nTu-SG",
        "colab": {
          "base_uri": "https://localhost:8080/",
          "height": 666
        },
        "outputId": "dcfd417a-8821-4628-faba-d23221650b75"
      },
      "execution_count": 161,
      "outputs": [
        {
          "output_type": "stream",
          "name": "stdout",
          "text": [
            "Confusion matrix\n",
            "\n",
            " [[316 112]\n",
            " [ 98 316]]\n",
            "\n",
            "True Positives(TP) =  316\n",
            "\n",
            "True Negatives(TN) =  316\n",
            "\n",
            "False Positives(FP) =  112\n",
            "\n",
            "False Negatives(FN) =  98\n",
            "              precision    recall  f1-score   support\n",
            "\n",
            "          MS       0.76      0.74      0.75       428\n",
            "         NMO       0.74      0.76      0.75       414\n",
            "\n",
            "    accuracy                           0.75       842\n",
            "   macro avg       0.75      0.75      0.75       842\n",
            "weighted avg       0.75      0.75      0.75       842\n",
            "\n",
            "--------------------------------------------------------------------------------------\n"
          ]
        },
        {
          "output_type": "display_data",
          "data": {
            "text/plain": [
              "<Figure size 432x288 with 2 Axes>"
            ],
            "image/png": "[encoded data removed]"
          },
          "metadata": {
            "needs_background": "light"
          }
        }
      ]
    },
    {
      "cell_type": "markdown",
      "metadata": {
        "id": "BvJO9kuIGay8"
      },
      "source": [
        "## 6. Models evaluation <a class=\"anchor\" id=\"6\"></a>\n",
        "\n",
        "[Back to Table of Contents](#0.1)"
      ]
    },
    {
      "cell_type": "markdown",
      "metadata": {
        "id": "tI2dmLxZGay8"
      },
      "source": [
        "We can now rank our evaluation of all the models to choose the best one for our problem."
      ]
    },
    {
      "cell_type": "code",
      "execution_count": 162,
      "metadata": {
        "id": "H66CAJUOGay8"
      },
      "outputs": [],
      "source": [
        "models = pd.DataFrame({\n",
        "    'Model': ['Logistic Regression', 'Support Vector Machines', 'k-Nearest Neighbors', 'Naive Bayes', \n",
        "              'Perceptron', 'Stochastic Gradient Decent', \n",
        "              'Decision Tree Classifier', 'Random Forest',  'LGBMClassifier',\n",
        "              'GradientBoostingClassifier', 'RidgeClassifier', 'ExtraTreesClassifier', \n",
        "              'AdaBoostClassifier'],\n",
        "    \n",
        "    'Score_train': [acc_log, acc_svc, acc_knn, acc_gaussian, \n",
        "              acc_perceptron, acc_sgd, \n",
        "              acc_decision_tree, acc_random_forest, acc_LGB_Classifier,\n",
        "              acc_gradient_boosting, acc_ridge_classifier, acc_etc, \n",
        "              acc_AdaBoost],\n",
        "    'Score_test': [acc_test_log, acc_test_svc,  acc_test_knn, acc_test_gaussian, \n",
        "              acc_test_perceptron, acc_test_sgd, \n",
        "              acc_test_decision_tree, acc_test_random_forest, acc_test_LGB_Classifier,\n",
        "              acc_test_gradient_boosting, acc_test_ridge_classifier, acc_test_etc, \n",
        "              acc_test_Ada_Boost]\n",
        "                    })"
      ]
    },
    {
      "cell_type": "code",
      "execution_count": 163,
      "metadata": {
        "id": "JsseJXPMGay9",
        "colab": {
          "base_uri": "https://localhost:8080/",
          "height": 457
        },
        "outputId": "3da542a1-6bd0-42e5-9dbb-e2f5a44db4e9"
      },
      "outputs": [
        {
          "output_type": "execute_result",
          "data": {
            "text/plain": [
              "                         Model  Score_train  Score_test\n",
              "2          k-Nearest Neighbors        98.72       93.23\n",
              "1      Support Vector Machines        96.91       92.64\n",
              "8               LGBMClassifier       100.00       89.79\n",
              "9   GradientBoostingClassifier       100.00       88.95\n",
              "7                Random Forest       100.00       87.89\n",
              "11        ExtraTreesClassifier        98.78       86.10\n",
              "0          Logistic Regression        77.18       78.15\n",
              "10             RidgeClassifier        77.09       77.55\n",
              "5   Stochastic Gradient Decent        77.12       77.08\n",
              "12          AdaBoostClassifier        78.58       75.06\n",
              "6     Decision Tree Classifier       100.00       71.38\n",
              "3                  Naive Bayes        71.00       70.55\n",
              "4                   Perceptron        68.89       68.88"
            ],
            "text/html": [
              "\n",
              "  <div id=\"df-7b2f5900-3bdf-420a-ac1b-ca65f1461948\">\n",
              "    <div class=\"colab-df-container\">\n",
              "      <div>\n",
              "<style scoped>\n",
              "    .dataframe tbody tr th:only-of-type {\n",
              "        vertical-align: middle;\n",
              "    }\n",
              "\n",
              "    .dataframe tbody tr th {\n",
              "        vertical-align: top;\n",
              "    }\n",
              "\n",
              "    .dataframe thead th {\n",
              "        text-align: right;\n",
              "    }\n",
              "</style>\n",
              "<table border=\"1\" class=\"dataframe\">\n",
              "  <thead>\n",
              "    <tr style=\"text-align: right;\">\n",
              "      <th></th>\n",
              "      <th>Model</th>\n",
              "      <th>Score_train</th>\n",
              "      <th>Score_test</th>\n",
              "    </tr>\n",
              "  </thead>\n",
              "  <tbody>\n",
              "    <tr>\n",
              "      <th>2</th>\n",
              "      <td>k-Nearest Neighbors</td>\n",
              "      <td>98.72</td>\n",
              "      <td>93.23</td>\n",
              "    </tr>\n",
              "    <tr>\n",
              "      <th>1</th>\n",
              "      <td>Support Vector Machines</td>\n",
              "      <td>96.91</td>\n",
              "      <td>92.64</td>\n",
              "    </tr>\n",
              "    <tr>\n",
              "      <th>8</th>\n",
              "      <td>LGBMClassifier</td>\n",
              "      <td>100.00</td>\n",
              "      <td>89.79</td>\n",
              "    </tr>\n",
              "    <tr>\n",
              "      <th>9</th>\n",
              "      <td>GradientBoostingClassifier</td>\n",
              "      <td>100.00</td>\n",
              "      <td>88.95</td>\n",
              "    </tr>\n",
              "    <tr>\n",
              "      <th>7</th>\n",
              "      <td>Random Forest</td>\n",
              "      <td>100.00</td>\n",
              "      <td>87.89</td>\n",
              "    </tr>\n",
              "    <tr>\n",
              "      <th>11</th>\n",
              "      <td>ExtraTreesClassifier</td>\n",
              "      <td>98.78</td>\n",
              "      <td>86.10</td>\n",
              "    </tr>\n",
              "    <tr>\n",
              "      <th>0</th>\n",
              "      <td>Logistic Regression</td>\n",
              "      <td>77.18</td>\n",
              "      <td>78.15</td>\n",
              "    </tr>\n",
              "    <tr>\n",
              "      <th>10</th>\n",
              "      <td>RidgeClassifier</td>\n",
              "      <td>77.09</td>\n",
              "      <td>77.55</td>\n",
              "    </tr>\n",
              "    <tr>\n",
              "      <th>5</th>\n",
              "      <td>Stochastic Gradient Decent</td>\n",
              "      <td>77.12</td>\n",
              "      <td>77.08</td>\n",
              "    </tr>\n",
              "    <tr>\n",
              "      <th>12</th>\n",
              "      <td>AdaBoostClassifier</td>\n",
              "      <td>78.58</td>\n",
              "      <td>75.06</td>\n",
              "    </tr>\n",
              "    <tr>\n",
              "      <th>6</th>\n",
              "      <td>Decision Tree Classifier</td>\n",
              "      <td>100.00</td>\n",
              "      <td>71.38</td>\n",
              "    </tr>\n",
              "    <tr>\n",
              "      <th>3</th>\n",
              "      <td>Naive Bayes</td>\n",
              "      <td>71.00</td>\n",
              "      <td>70.55</td>\n",
              "    </tr>\n",
              "    <tr>\n",
              "      <th>4</th>\n",
              "      <td>Perceptron</td>\n",
              "      <td>68.89</td>\n",
              "      <td>68.88</td>\n",
              "    </tr>\n",
              "  </tbody>\n",
              "</table>\n",
              "</div>\n",
              "      <button class=\"colab-df-convert\" onclick=\"convertToInteractive('df-7b2f5900-3bdf-420a-ac1b-ca65f1461948')\"\n",
              "              title=\"Convert this dataframe to an interactive table.\"\n",
              "              style=\"display:none;\">\n",
              "        \n",
              "  <svg xmlns=\"http://www.w3.org/2000/svg\" height=\"24px\"viewBox=\"0 0 24 24\"\n",
              "       width=\"24px\">\n",
              "    <path d=\"M0 0h24v24H0V0z\" fill=\"none\"/>\n",
              "    <path d=\"M18.56 5.44l.94 2.06.94-2.06 2.06-.94-2.06-.94-.94-2.06-.94 2.06-2.06.94zm-11 1L8.5 8.5l.94-2.06 2.06-.94-2.06-.94L8.5 2.5l-.94 2.06-2.06.94zm10 10l.94 2.06.94-2.06 2.06-.94-2.06-.94-.94-2.06-.94 2.06-2.06.94z\"/><path d=\"M17.41 7.96l-1.37-1.37c-.4-.4-.92-.59-1.43-.59-.52 0-1.04.2-1.43.59L10.3 9.45l-7.72 7.72c-.78.78-.78 2.05 0 2.83L4 21.41c.39.39.9.59 1.41.59.51 0 1.02-.2 1.41-.59l7.78-7.78 2.81-2.81c.8-.78.8-2.07 0-2.86zM5.41 20L4 18.59l7.72-7.72 1.47 1.35L5.41 20z\"/>\n",
              "  </svg>\n",
              "      </button>\n",
              "      \n",
              "  <style>\n",
              "    .colab-df-container {\n",
              "      display:flex;\n",
              "      flex-wrap:wrap;\n",
              "      gap: 12px;\n",
              "    }\n",
              "\n",
              "    .colab-df-convert {\n",
              "      background-color: #E8F0FE;\n",
              "      border: none;\n",
              "      border-radius: 50%;\n",
              "      cursor: pointer;\n",
              "      display: none;\n",
              "      fill: #1967D2;\n",
              "      height: 32px;\n",
              "      padding: 0 0 0 0;\n",
              "      width: 32px;\n",
              "    }\n",
              "\n",
              "    .colab-df-convert:hover {\n",
              "      background-color: #E2EBFA;\n",
              "      box-shadow: 0px 1px 2px rgba(60, 64, 67, 0.3), 0px 1px 3px 1px rgba(60, 64, 67, 0.15);\n",
              "      fill: #174EA6;\n",
              "    }\n",
              "\n",
              "    [theme=dark] .colab-df-convert {\n",
              "      background-color: #3B4455;\n",
              "      fill: #D2E3FC;\n",
              "    }\n",
              "\n",
              "    [theme=dark] .colab-df-convert:hover {\n",
              "      background-color: #434B5C;\n",
              "      box-shadow: 0px 1px 3px 1px rgba(0, 0, 0, 0.15);\n",
              "      filter: drop-shadow(0px 1px 2px rgba(0, 0, 0, 0.3));\n",
              "      fill: #FFFFFF;\n",
              "    }\n",
              "  </style>\n",
              "\n",
              "      <script>\n",
              "        const buttonEl =\n",
              "          document.querySelector('#df-7b2f5900-3bdf-420a-ac1b-ca65f1461948 button.colab-df-convert');\n",
              "        buttonEl.style.display =\n",
              "          google.colab.kernel.accessAllowed ? 'block' : 'none';\n",
              "\n",
              "        async function convertToInteractive(key) {\n",
              "          const element = document.querySelector('#df-7b2f5900-3bdf-420a-ac1b-ca65f1461948');\n",
              "          const dataTable =\n",
              "            await google.colab.kernel.invokeFunction('convertToInteractive',\n",
              "                                                     [key], {});\n",
              "          if (!dataTable) return;\n",
              "\n",
              "          const docLinkHtml = 'Like what you see? Visit the ' +\n",
              "            '<a target=\"_blank\" href=https://colab.research.google.com/notebooks/data_table.ipynb>data table notebook</a>'\n",
              "            + ' to learn more about interactive tables.';\n",
              "          element.innerHTML = '';\n",
              "          dataTable['output_type'] = 'display_data';\n",
              "          await google.colab.output.renderOutput(dataTable, element);\n",
              "          const docLink = document.createElement('div');\n",
              "          docLink.innerHTML = docLinkHtml;\n",
              "          element.appendChild(docLink);\n",
              "        }\n",
              "      </script>\n",
              "    </div>\n",
              "  </div>\n",
              "  "
            ]
          },
          "metadata": {},
          "execution_count": 163
        }
      ],
      "source": [
        "models.sort_values(by=['Score_test', 'Score_train'], ascending=False)"
      ]
    },
    {
      "cell_type": "code",
      "execution_count": 164,
      "metadata": {
        "id": "vmC7rbrOGay-",
        "colab": {
          "base_uri": "https://localhost:8080/",
          "height": 520
        },
        "outputId": "09c24266-3ef2-4959-e62d-7c81a7791a7d"
      },
      "outputs": [
        {
          "output_type": "display_data",
          "data": {
            "text/plain": [
              "<Figure size 1800x432 with 1 Axes>"
            ],
            "image/png": "[encoded data removed]"
          },
          "metadata": {
            "needs_background": "light"
          }
        }
      ],
      "source": [
        "# Plot\n",
        "plt.figure(figsize=[25,6])\n",
        "xx = models['Model']\n",
        "plt.tick_params(labelsize=14)\n",
        "plt.plot(xx, models['Score_train'], label = 'Score_train')\n",
        "plt.plot(xx, models['Score_test'], label = 'Score_test')\n",
        "plt.legend()\n",
        "plt.title('Score of 20 popular models for train and test datasets')\n",
        "plt.xlabel('Models')\n",
        "plt.ylabel('Score, %')\n",
        "plt.xticks(xx, rotation='vertical')\n",
        "plt.savefig('graph.png')\n",
        "plt.show()"
      ]
    },
    {
      "cell_type": "code",
      "source": [],
      "metadata": {
        "id": "b5XP6VHcdV64"
      },
      "execution_count": null,
      "outputs": []
    }
  ],
  "metadata": {
    "kernelspec": {
      "display_name": "Python 3",
      "language": "python",
      "name": "python3"
    },
    "language_info": {
      "codemirror_mode": {
        "name": "ipython",
        "version": 3
      },
      "file_extension": ".py",
      "mimetype": "text/x-python",
      "name": "python",
      "nbconvert_exporter": "python",
      "pygments_lexer": "ipython3",
      "version": "3.6.6"
    },
    "colab": {
      "provenance": []
    },
    "accelerator": "GPU",
    "gpuClass": "standard"
  },
  "nbformat": 4,
  "nbformat_minor": 0
}