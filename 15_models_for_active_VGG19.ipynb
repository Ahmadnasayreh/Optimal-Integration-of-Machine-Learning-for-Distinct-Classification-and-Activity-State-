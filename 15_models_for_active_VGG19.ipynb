{
  "cells": [
    {
      "cell_type": "markdown",
      "metadata": {
        "id": "nB6MkwKfGaye"
      },
      "source": [
        "## 1. Import libraries <a class=\"anchor\" id=\"1\"></a>\n",
        "\n",
        "[Back to Table of Contents](#0.1)"
      ]
    },
    {
      "cell_type": "code",
      "execution_count": 37,
      "metadata": {
        "_cell_guid": "b1076dfc-b9ad-4769-8c92-a6c4dae69d19",
        "_uuid": "8f2839f25d086af736a60e9eeb907d3b93b6e0e5",
        "id": "wau0Bxx1Gaye"
      },
      "outputs": [],
      "source": [
        "import numpy as np\n",
        "import pandas as pd\n",
        "import matplotlib.pyplot as plt\n",
        "%matplotlib inline\n",
        "\n",
        "# preprocessing\n",
        "from sklearn.preprocessing import LabelEncoder\n",
        "from sklearn.model_selection import train_test_split, cross_val_score, GridSearchCV\n",
        "import pandas_profiling as pp\n",
        "\n",
        "# models\n",
        "from sklearn.linear_model import LogisticRegression, Perceptron, RidgeClassifier, SGDClassifier\n",
        "from sklearn.svm import SVC, LinearSVC\n",
        "from sklearn.ensemble import RandomForestClassifier, GradientBoostingClassifier, ExtraTreesClassifier \n",
        "from sklearn.ensemble import BaggingClassifier, AdaBoostClassifier, VotingClassifier \n",
        "from sklearn.neighbors import KNeighborsClassifier\n",
        "from sklearn.naive_bayes import GaussianNB\n",
        "from sklearn.tree import DecisionTreeClassifier\n",
        "from sklearn import metrics\n",
        "import xgboost as xgb\n",
        "from xgboost import XGBClassifier\n",
        "import lightgbm as lgb\n",
        "from lightgbm import LGBMClassifier\n",
        "\n",
        "# NN models\n",
        "import keras\n",
        "from keras.models import Sequential\n",
        "from keras.layers import Dense, Dropout\n",
        "from keras import optimizers\n",
        "from keras.wrappers.scikit_learn import KerasClassifier\n",
        "from keras.callbacks import EarlyStopping, ModelCheckpoint\n",
        "\n",
        "# model tuning\n",
        "from hyperopt import STATUS_OK, Trials, fmin, hp, tpe, space_eval\n",
        "\n",
        "# import warnings filter\n",
        "from warnings import simplefilter\n",
        "# ignore all future warnings\n",
        "simplefilter(action='ignore', category=FutureWarning)"
      ]
    },
    {
      "cell_type": "markdown",
      "metadata": {
        "id": "SAAXY6kPGayh"
      },
      "source": [
        "## 2. Download datasets <a class=\"anchor\" id=\"2\"></a>\n",
        "\n",
        "[Back to Table of Contents](#0.1)"
      ]
    },
    {
      "cell_type": "code",
      "execution_count": 38,
      "metadata": {
        "id": "gQmkxDTbGayh"
      },
      "outputs": [],
      "source": [
        "data = pd.read_csv(\"/content/ac_inac_vgg19_Aug.csv\")"
      ]
    },
    {
      "cell_type": "code",
      "execution_count": 39,
      "metadata": {
        "colab": {
          "base_uri": "https://localhost:8080/",
          "height": 237
        },
        "id": "ryILdWo8Gayi",
        "outputId": "33876de4-3b2a-433d-d425-bafc6834a610"
      },
      "outputs": [
        {
          "output_type": "execute_result",
          "data": {
            "text/plain": [
              "        PC1       PC2       PC3       PC4       PC5       PC6       PC7  \\\n",
              "0  0.572503 -0.145943 -0.351875  0.022737  0.347238 -0.175279 -0.267142   \n",
              "1  0.562829  0.042653 -0.600093 -0.056949  0.128849 -0.176874 -0.563654   \n",
              "2  0.578450 -0.177877 -0.453150  0.270051  0.083621 -0.311422 -0.313145   \n",
              "\n",
              "        PC8       PC9      PC10  ...      PC67      PC68      PC69      PC70  \\\n",
              "0 -0.529872  0.290529 -0.403909  ...  0.006454  0.173435 -0.373274 -0.211265   \n",
              "1 -0.317280  0.165151 -0.177681  ...  0.159129  0.129004 -0.489110 -0.293186   \n",
              "2  0.034852  0.017913  0.071805  ... -0.124577  0.009829  0.368783  0.407004   \n",
              "\n",
              "       PC71      PC72      PC73      PC74      PC75  category  \n",
              "0  0.627034 -0.225573 -0.097942 -0.072187 -0.206618        ac  \n",
              "1  0.171391 -0.366325  0.027279 -0.101691 -0.350630        ac  \n",
              "2  0.017101 -0.099237  0.527528 -0.056118  0.107552        ac  \n",
              "\n",
              "[3 rows x 76 columns]"
            ],
            "text/html": [
              "\n",
              "  <div id=\"df-6f236ed6-d656-4916-823b-d5886260c88a\">\n",
              "    <div class=\"colab-df-container\">\n",
              "      <div>\n",
              "<style scoped>\n",
              "    .dataframe tbody tr th:only-of-type {\n",
              "        vertical-align: middle;\n",
              "    }\n",
              "\n",
              "    .dataframe tbody tr th {\n",
              "        vertical-align: top;\n",
              "    }\n",
              "\n",
              "    .dataframe thead th {\n",
              "        text-align: right;\n",
              "    }\n",
              "</style>\n",
              "<table border=\"1\" class=\"dataframe\">\n",
              "  <thead>\n",
              "    <tr style=\"text-align: right;\">\n",
              "      <th></th>\n",
              "      <th>PC1</th>\n",
              "      <th>PC2</th>\n",
              "      <th>PC3</th>\n",
              "      <th>PC4</th>\n",
              "      <th>PC5</th>\n",
              "      <th>PC6</th>\n",
              "      <th>PC7</th>\n",
              "      <th>PC8</th>\n",
              "      <th>PC9</th>\n",
              "      <th>PC10</th>\n",
              "      <th>...</th>\n",
              "      <th>PC67</th>\n",
              "      <th>PC68</th>\n",
              "      <th>PC69</th>\n",
              "      <th>PC70</th>\n",
              "      <th>PC71</th>\n",
              "      <th>PC72</th>\n",
              "      <th>PC73</th>\n",
              "      <th>PC74</th>\n",
              "      <th>PC75</th>\n",
              "      <th>category</th>\n",
              "    </tr>\n",
              "  </thead>\n",
              "  <tbody>\n",
              "    <tr>\n",
              "      <th>0</th>\n",
              "      <td>0.572503</td>\n",
              "      <td>-0.145943</td>\n",
              "      <td>-0.351875</td>\n",
              "      <td>0.022737</td>\n",
              "      <td>0.347238</td>\n",
              "      <td>-0.175279</td>\n",
              "      <td>-0.267142</td>\n",
              "      <td>-0.529872</td>\n",
              "      <td>0.290529</td>\n",
              "      <td>-0.403909</td>\n",
              "      <td>...</td>\n",
              "      <td>0.006454</td>\n",
              "      <td>0.173435</td>\n",
              "      <td>-0.373274</td>\n",
              "      <td>-0.211265</td>\n",
              "      <td>0.627034</td>\n",
              "      <td>-0.225573</td>\n",
              "      <td>-0.097942</td>\n",
              "      <td>-0.072187</td>\n",
              "      <td>-0.206618</td>\n",
              "      <td>ac</td>\n",
              "    </tr>\n",
              "    <tr>\n",
              "      <th>1</th>\n",
              "      <td>0.562829</td>\n",
              "      <td>0.042653</td>\n",
              "      <td>-0.600093</td>\n",
              "      <td>-0.056949</td>\n",
              "      <td>0.128849</td>\n",
              "      <td>-0.176874</td>\n",
              "      <td>-0.563654</td>\n",
              "      <td>-0.317280</td>\n",
              "      <td>0.165151</td>\n",
              "      <td>-0.177681</td>\n",
              "      <td>...</td>\n",
              "      <td>0.159129</td>\n",
              "      <td>0.129004</td>\n",
              "      <td>-0.489110</td>\n",
              "      <td>-0.293186</td>\n",
              "      <td>0.171391</td>\n",
              "      <td>-0.366325</td>\n",
              "      <td>0.027279</td>\n",
              "      <td>-0.101691</td>\n",
              "      <td>-0.350630</td>\n",
              "      <td>ac</td>\n",
              "    </tr>\n",
              "    <tr>\n",
              "      <th>2</th>\n",
              "      <td>0.578450</td>\n",
              "      <td>-0.177877</td>\n",
              "      <td>-0.453150</td>\n",
              "      <td>0.270051</td>\n",
              "      <td>0.083621</td>\n",
              "      <td>-0.311422</td>\n",
              "      <td>-0.313145</td>\n",
              "      <td>0.034852</td>\n",
              "      <td>0.017913</td>\n",
              "      <td>0.071805</td>\n",
              "      <td>...</td>\n",
              "      <td>-0.124577</td>\n",
              "      <td>0.009829</td>\n",
              "      <td>0.368783</td>\n",
              "      <td>0.407004</td>\n",
              "      <td>0.017101</td>\n",
              "      <td>-0.099237</td>\n",
              "      <td>0.527528</td>\n",
              "      <td>-0.056118</td>\n",
              "      <td>0.107552</td>\n",
              "      <td>ac</td>\n",
              "    </tr>\n",
              "  </tbody>\n",
              "</table>\n",
              "<p>3 rows × 76 columns</p>\n",
              "</div>\n",
              "      <button class=\"colab-df-convert\" onclick=\"convertToInteractive('df-6f236ed6-d656-4916-823b-d5886260c88a')\"\n",
              "              title=\"Convert this dataframe to an interactive table.\"\n",
              "              style=\"display:none;\">\n",
              "        \n",
              "  <svg xmlns=\"http://www.w3.org/2000/svg\" height=\"24px\"viewBox=\"0 0 24 24\"\n",
              "       width=\"24px\">\n",
              "    <path d=\"M0 0h24v24H0V0z\" fill=\"none\"/>\n",
              "    <path d=\"M18.56 5.44l.94 2.06.94-2.06 2.06-.94-2.06-.94-.94-2.06-.94 2.06-2.06.94zm-11 1L8.5 8.5l.94-2.06 2.06-.94-2.06-.94L8.5 2.5l-.94 2.06-2.06.94zm10 10l.94 2.06.94-2.06 2.06-.94-2.06-.94-.94-2.06-.94 2.06-2.06.94z\"/><path d=\"M17.41 7.96l-1.37-1.37c-.4-.4-.92-.59-1.43-.59-.52 0-1.04.2-1.43.59L10.3 9.45l-7.72 7.72c-.78.78-.78 2.05 0 2.83L4 21.41c.39.39.9.59 1.41.59.51 0 1.02-.2 1.41-.59l7.78-7.78 2.81-2.81c.8-.78.8-2.07 0-2.86zM5.41 20L4 18.59l7.72-7.72 1.47 1.35L5.41 20z\"/>\n",
              "  </svg>\n",
              "      </button>\n",
              "      \n",
              "  <style>\n",
              "    .colab-df-container {\n",
              "      display:flex;\n",
              "      flex-wrap:wrap;\n",
              "      gap: 12px;\n",
              "    }\n",
              "\n",
              "    .colab-df-convert {\n",
              "      background-color: #E8F0FE;\n",
              "      border: none;\n",
              "      border-radius: 50%;\n",
              "      cursor: pointer;\n",
              "      display: none;\n",
              "      fill: #1967D2;\n",
              "      height: 32px;\n",
              "      padding: 0 0 0 0;\n",
              "      width: 32px;\n",
              "    }\n",
              "\n",
              "    .colab-df-convert:hover {\n",
              "      background-color: #E2EBFA;\n",
              "      box-shadow: 0px 1px 2px rgba(60, 64, 67, 0.3), 0px 1px 3px 1px rgba(60, 64, 67, 0.15);\n",
              "      fill: #174EA6;\n",
              "    }\n",
              "\n",
              "    [theme=dark] .colab-df-convert {\n",
              "      background-color: #3B4455;\n",
              "      fill: #D2E3FC;\n",
              "    }\n",
              "\n",
              "    [theme=dark] .colab-df-convert:hover {\n",
              "      background-color: #434B5C;\n",
              "      box-shadow: 0px 1px 3px 1px rgba(0, 0, 0, 0.15);\n",
              "      filter: drop-shadow(0px 1px 2px rgba(0, 0, 0, 0.3));\n",
              "      fill: #FFFFFF;\n",
              "    }\n",
              "  </style>\n",
              "\n",
              "      <script>\n",
              "        const buttonEl =\n",
              "          document.querySelector('#df-6f236ed6-d656-4916-823b-d5886260c88a button.colab-df-convert');\n",
              "        buttonEl.style.display =\n",
              "          google.colab.kernel.accessAllowed ? 'block' : 'none';\n",
              "\n",
              "        async function convertToInteractive(key) {\n",
              "          const element = document.querySelector('#df-6f236ed6-d656-4916-823b-d5886260c88a');\n",
              "          const dataTable =\n",
              "            await google.colab.kernel.invokeFunction('convertToInteractive',\n",
              "                                                     [key], {});\n",
              "          if (!dataTable) return;\n",
              "\n",
              "          const docLinkHtml = 'Like what you see? Visit the ' +\n",
              "            '<a target=\"_blank\" href=https://colab.research.google.com/notebooks/data_table.ipynb>data table notebook</a>'\n",
              "            + ' to learn more about interactive tables.';\n",
              "          element.innerHTML = '';\n",
              "          dataTable['output_type'] = 'display_data';\n",
              "          await google.colab.output.renderOutput(dataTable, element);\n",
              "          const docLink = document.createElement('div');\n",
              "          docLink.innerHTML = docLinkHtml;\n",
              "          element.appendChild(docLink);\n",
              "        }\n",
              "      </script>\n",
              "    </div>\n",
              "  </div>\n",
              "  "
            ]
          },
          "metadata": {},
          "execution_count": 39
        }
      ],
      "source": [
        "data.head(3)"
      ]
    },
    {
      "cell_type": "code",
      "execution_count": 40,
      "metadata": {
        "colab": {
          "base_uri": "https://localhost:8080/"
        },
        "id": "iVMw9X1dGayi",
        "outputId": "481a1c45-4010-4991-87dc-14294ec0ad64"
      },
      "outputs": [
        {
          "output_type": "stream",
          "name": "stdout",
          "text": [
            "<class 'pandas.core.frame.DataFrame'>\n",
            "RangeIndex: 2120 entries, 0 to 2119\n",
            "Data columns (total 76 columns):\n",
            " #   Column    Non-Null Count  Dtype  \n",
            "---  ------    --------------  -----  \n",
            " 0   PC1       2120 non-null   float64\n",
            " 1   PC2       2120 non-null   float64\n",
            " 2   PC3       2120 non-null   float64\n",
            " 3   PC4       2120 non-null   float64\n",
            " 4   PC5       2120 non-null   float64\n",
            " 5   PC6       2120 non-null   float64\n",
            " 6   PC7       2120 non-null   float64\n",
            " 7   PC8       2120 non-null   float64\n",
            " 8   PC9       2120 non-null   float64\n",
            " 9   PC10      2120 non-null   float64\n",
            " 10  PC11      2120 non-null   float64\n",
            " 11  PC12      2120 non-null   float64\n",
            " 12  PC13      2120 non-null   float64\n",
            " 13  PC14      2120 non-null   float64\n",
            " 14  PC15      2120 non-null   float64\n",
            " 15  PC16      2120 non-null   float64\n",
            " 16  PC17      2120 non-null   float64\n",
            " 17  PC18      2120 non-null   float64\n",
            " 18  PC19      2120 non-null   float64\n",
            " 19  PC20      2120 non-null   float64\n",
            " 20  PC21      2120 non-null   float64\n",
            " 21  PC22      2120 non-null   float64\n",
            " 22  PC23      2120 non-null   float64\n",
            " 23  PC24      2120 non-null   float64\n",
            " 24  PC25      2120 non-null   float64\n",
            " 25  PC26      2120 non-null   float64\n",
            " 26  PC27      2120 non-null   float64\n",
            " 27  PC28      2120 non-null   float64\n",
            " 28  PC29      2120 non-null   float64\n",
            " 29  PC30      2120 non-null   float64\n",
            " 30  PC31      2120 non-null   float64\n",
            " 31  PC32      2120 non-null   float64\n",
            " 32  PC33      2120 non-null   float64\n",
            " 33  PC34      2120 non-null   float64\n",
            " 34  PC35      2120 non-null   float64\n",
            " 35  PC36      2120 non-null   float64\n",
            " 36  PC37      2120 non-null   float64\n",
            " 37  PC38      2120 non-null   float64\n",
            " 38  PC39      2120 non-null   float64\n",
            " 39  PC40      2120 non-null   float64\n",
            " 40  PC41      2120 non-null   float64\n",
            " 41  PC42      2120 non-null   float64\n",
            " 42  PC43      2120 non-null   float64\n",
            " 43  PC44      2120 non-null   float64\n",
            " 44  PC45      2120 non-null   float64\n",
            " 45  PC46      2120 non-null   float64\n",
            " 46  PC47      2120 non-null   float64\n",
            " 47  PC48      2120 non-null   float64\n",
            " 48  PC49      2120 non-null   float64\n",
            " 49  PC50      2120 non-null   float64\n",
            " 50  PC51      2120 non-null   float64\n",
            " 51  PC52      2120 non-null   float64\n",
            " 52  PC53      2120 non-null   float64\n",
            " 53  PC54      2120 non-null   float64\n",
            " 54  PC55      2120 non-null   float64\n",
            " 55  PC56      2120 non-null   float64\n",
            " 56  PC57      2120 non-null   float64\n",
            " 57  PC58      2120 non-null   float64\n",
            " 58  PC59      2120 non-null   float64\n",
            " 59  PC60      2120 non-null   float64\n",
            " 60  PC61      2120 non-null   float64\n",
            " 61  PC62      2120 non-null   float64\n",
            " 62  PC63      2120 non-null   float64\n",
            " 63  PC64      2120 non-null   float64\n",
            " 64  PC65      2120 non-null   float64\n",
            " 65  PC66      2120 non-null   float64\n",
            " 66  PC67      2120 non-null   float64\n",
            " 67  PC68      2120 non-null   float64\n",
            " 68  PC69      2120 non-null   float64\n",
            " 69  PC70      2120 non-null   float64\n",
            " 70  PC71      2120 non-null   float64\n",
            " 71  PC72      2120 non-null   float64\n",
            " 72  PC73      2120 non-null   float64\n",
            " 73  PC74      2120 non-null   float64\n",
            " 74  PC75      2120 non-null   float64\n",
            " 75  category  2120 non-null   object \n",
            "dtypes: float64(75), object(1)\n",
            "memory usage: 1.2+ MB\n"
          ]
        }
      ],
      "source": [
        "data.info()"
      ]
    },
    {
      "cell_type": "code",
      "execution_count": 41,
      "metadata": {
        "id": "xtq24beBGayk"
      },
      "outputs": [],
      "source": [
        "target_name = 'category'\n",
        "data_target = data[target_name]\n",
        "data = data.drop([target_name], axis=1)"
      ]
    },
    {
      "cell_type": "markdown",
      "metadata": {
        "id": "AINlmClvGayk"
      },
      "source": [
        "I split data on 30% in the test dataset, the remaining 70% - in the training dataset"
      ]
    },
    {
      "cell_type": "code",
      "execution_count": 42,
      "metadata": {
        "id": "fi3TumBUGayk"
      },
      "outputs": [],
      "source": [
        "train, test, target, target_test = train_test_split(data, data_target, test_size=0.2, random_state=0)"
      ]
    },
    {
      "cell_type": "code",
      "execution_count": 43,
      "metadata": {
        "colab": {
          "base_uri": "https://localhost:8080/",
          "height": 237
        },
        "id": "y_hN9tyeGayk",
        "outputId": "1d64375e-0d88-4deb-8e71-d686bf8fb105"
      },
      "outputs": [
        {
          "output_type": "execute_result",
          "data": {
            "text/plain": [
              "           PC1       PC2       PC3       PC4       PC5       PC6       PC7  \\\n",
              "684  -0.337174 -0.698046  0.811147  0.113914 -0.339549 -0.174425 -0.145557   \n",
              "1683 -0.397907 -0.617182 -0.109881 -0.429684  0.147054 -0.033615 -0.449364   \n",
              "267   0.135528 -0.149714 -0.283959  0.486384 -0.473544 -0.469907  0.112625   \n",
              "\n",
              "           PC8       PC9      PC10  ...      PC66      PC67      PC68  \\\n",
              "684   0.377993  0.098851  0.060460  ...  0.013833  0.079706 -0.136511   \n",
              "1683 -0.074778 -0.026445 -0.285557  ...  0.058956  0.075760 -0.255853   \n",
              "267   0.131704 -0.032107 -0.084287  ...  0.001964 -0.241684  0.241221   \n",
              "\n",
              "          PC69      PC70      PC71      PC72      PC73      PC74      PC75  \n",
              "684  -0.058302  0.207837 -0.401226  0.096636 -0.782875 -0.312755  0.689822  \n",
              "1683 -0.117312  0.219025 -0.035655 -0.237109 -0.348139 -0.177207 -0.338576  \n",
              "267  -0.049566  0.098395  0.170217 -0.388836 -0.135472 -0.245632  0.017374  \n",
              "\n",
              "[3 rows x 75 columns]"
            ],
            "text/html": [
              "\n",
              "  <div id=\"df-b19e7feb-4bc5-46cf-ab9c-49b9f7d6cb3a\">\n",
              "    <div class=\"colab-df-container\">\n",
              "      <div>\n",
              "<style scoped>\n",
              "    .dataframe tbody tr th:only-of-type {\n",
              "        vertical-align: middle;\n",
              "    }\n",
              "\n",
              "    .dataframe tbody tr th {\n",
              "        vertical-align: top;\n",
              "    }\n",
              "\n",
              "    .dataframe thead th {\n",
              "        text-align: right;\n",
              "    }\n",
              "</style>\n",
              "<table border=\"1\" class=\"dataframe\">\n",
              "  <thead>\n",
              "    <tr style=\"text-align: right;\">\n",
              "      <th></th>\n",
              "      <th>PC1</th>\n",
              "      <th>PC2</th>\n",
              "      <th>PC3</th>\n",
              "      <th>PC4</th>\n",
              "      <th>PC5</th>\n",
              "      <th>PC6</th>\n",
              "      <th>PC7</th>\n",
              "      <th>PC8</th>\n",
              "      <th>PC9</th>\n",
              "      <th>PC10</th>\n",
              "      <th>...</th>\n",
              "      <th>PC66</th>\n",
              "      <th>PC67</th>\n",
              "      <th>PC68</th>\n",
              "      <th>PC69</th>\n",
              "      <th>PC70</th>\n",
              "      <th>PC71</th>\n",
              "      <th>PC72</th>\n",
              "      <th>PC73</th>\n",
              "      <th>PC74</th>\n",
              "      <th>PC75</th>\n",
              "    </tr>\n",
              "  </thead>\n",
              "  <tbody>\n",
              "    <tr>\n",
              "      <th>684</th>\n",
              "      <td>-0.337174</td>\n",
              "      <td>-0.698046</td>\n",
              "      <td>0.811147</td>\n",
              "      <td>0.113914</td>\n",
              "      <td>-0.339549</td>\n",
              "      <td>-0.174425</td>\n",
              "      <td>-0.145557</td>\n",
              "      <td>0.377993</td>\n",
              "      <td>0.098851</td>\n",
              "      <td>0.060460</td>\n",
              "      <td>...</td>\n",
              "      <td>0.013833</td>\n",
              "      <td>0.079706</td>\n",
              "      <td>-0.136511</td>\n",
              "      <td>-0.058302</td>\n",
              "      <td>0.207837</td>\n",
              "      <td>-0.401226</td>\n",
              "      <td>0.096636</td>\n",
              "      <td>-0.782875</td>\n",
              "      <td>-0.312755</td>\n",
              "      <td>0.689822</td>\n",
              "    </tr>\n",
              "    <tr>\n",
              "      <th>1683</th>\n",
              "      <td>-0.397907</td>\n",
              "      <td>-0.617182</td>\n",
              "      <td>-0.109881</td>\n",
              "      <td>-0.429684</td>\n",
              "      <td>0.147054</td>\n",
              "      <td>-0.033615</td>\n",
              "      <td>-0.449364</td>\n",
              "      <td>-0.074778</td>\n",
              "      <td>-0.026445</td>\n",
              "      <td>-0.285557</td>\n",
              "      <td>...</td>\n",
              "      <td>0.058956</td>\n",
              "      <td>0.075760</td>\n",
              "      <td>-0.255853</td>\n",
              "      <td>-0.117312</td>\n",
              "      <td>0.219025</td>\n",
              "      <td>-0.035655</td>\n",
              "      <td>-0.237109</td>\n",
              "      <td>-0.348139</td>\n",
              "      <td>-0.177207</td>\n",
              "      <td>-0.338576</td>\n",
              "    </tr>\n",
              "    <tr>\n",
              "      <th>267</th>\n",
              "      <td>0.135528</td>\n",
              "      <td>-0.149714</td>\n",
              "      <td>-0.283959</td>\n",
              "      <td>0.486384</td>\n",
              "      <td>-0.473544</td>\n",
              "      <td>-0.469907</td>\n",
              "      <td>0.112625</td>\n",
              "      <td>0.131704</td>\n",
              "      <td>-0.032107</td>\n",
              "      <td>-0.084287</td>\n",
              "      <td>...</td>\n",
              "      <td>0.001964</td>\n",
              "      <td>-0.241684</td>\n",
              "      <td>0.241221</td>\n",
              "      <td>-0.049566</td>\n",
              "      <td>0.098395</td>\n",
              "      <td>0.170217</td>\n",
              "      <td>-0.388836</td>\n",
              "      <td>-0.135472</td>\n",
              "      <td>-0.245632</td>\n",
              "      <td>0.017374</td>\n",
              "    </tr>\n",
              "  </tbody>\n",
              "</table>\n",
              "<p>3 rows × 75 columns</p>\n",
              "</div>\n",
              "      <button class=\"colab-df-convert\" onclick=\"convertToInteractive('df-b19e7feb-4bc5-46cf-ab9c-49b9f7d6cb3a')\"\n",
              "              title=\"Convert this dataframe to an interactive table.\"\n",
              "              style=\"display:none;\">\n",
              "        \n",
              "  <svg xmlns=\"http://www.w3.org/2000/svg\" height=\"24px\"viewBox=\"0 0 24 24\"\n",
              "       width=\"24px\">\n",
              "    <path d=\"M0 0h24v24H0V0z\" fill=\"none\"/>\n",
              "    <path d=\"M18.56 5.44l.94 2.06.94-2.06 2.06-.94-2.06-.94-.94-2.06-.94 2.06-2.06.94zm-11 1L8.5 8.5l.94-2.06 2.06-.94-2.06-.94L8.5 2.5l-.94 2.06-2.06.94zm10 10l.94 2.06.94-2.06 2.06-.94-2.06-.94-.94-2.06-.94 2.06-2.06.94z\"/><path d=\"M17.41 7.96l-1.37-1.37c-.4-.4-.92-.59-1.43-.59-.52 0-1.04.2-1.43.59L10.3 9.45l-7.72 7.72c-.78.78-.78 2.05 0 2.83L4 21.41c.39.39.9.59 1.41.59.51 0 1.02-.2 1.41-.59l7.78-7.78 2.81-2.81c.8-.78.8-2.07 0-2.86zM5.41 20L4 18.59l7.72-7.72 1.47 1.35L5.41 20z\"/>\n",
              "  </svg>\n",
              "      </button>\n",
              "      \n",
              "  <style>\n",
              "    .colab-df-container {\n",
              "      display:flex;\n",
              "      flex-wrap:wrap;\n",
              "      gap: 12px;\n",
              "    }\n",
              "\n",
              "    .colab-df-convert {\n",
              "      background-color: #E8F0FE;\n",
              "      border: none;\n",
              "      border-radius: 50%;\n",
              "      cursor: pointer;\n",
              "      display: none;\n",
              "      fill: #1967D2;\n",
              "      height: 32px;\n",
              "      padding: 0 0 0 0;\n",
              "      width: 32px;\n",
              "    }\n",
              "\n",
              "    .colab-df-convert:hover {\n",
              "      background-color: #E2EBFA;\n",
              "      box-shadow: 0px 1px 2px rgba(60, 64, 67, 0.3), 0px 1px 3px 1px rgba(60, 64, 67, 0.15);\n",
              "      fill: #174EA6;\n",
              "    }\n",
              "\n",
              "    [theme=dark] .colab-df-convert {\n",
              "      background-color: #3B4455;\n",
              "      fill: #D2E3FC;\n",
              "    }\n",
              "\n",
              "    [theme=dark] .colab-df-convert:hover {\n",
              "      background-color: #434B5C;\n",
              "      box-shadow: 0px 1px 3px 1px rgba(0, 0, 0, 0.15);\n",
              "      filter: drop-shadow(0px 1px 2px rgba(0, 0, 0, 0.3));\n",
              "      fill: #FFFFFF;\n",
              "    }\n",
              "  </style>\n",
              "\n",
              "      <script>\n",
              "        const buttonEl =\n",
              "          document.querySelector('#df-b19e7feb-4bc5-46cf-ab9c-49b9f7d6cb3a button.colab-df-convert');\n",
              "        buttonEl.style.display =\n",
              "          google.colab.kernel.accessAllowed ? 'block' : 'none';\n",
              "\n",
              "        async function convertToInteractive(key) {\n",
              "          const element = document.querySelector('#df-b19e7feb-4bc5-46cf-ab9c-49b9f7d6cb3a');\n",
              "          const dataTable =\n",
              "            await google.colab.kernel.invokeFunction('convertToInteractive',\n",
              "                                                     [key], {});\n",
              "          if (!dataTable) return;\n",
              "\n",
              "          const docLinkHtml = 'Like what you see? Visit the ' +\n",
              "            '<a target=\"_blank\" href=https://colab.research.google.com/notebooks/data_table.ipynb>data table notebook</a>'\n",
              "            + ' to learn more about interactive tables.';\n",
              "          element.innerHTML = '';\n",
              "          dataTable['output_type'] = 'display_data';\n",
              "          await google.colab.output.renderOutput(dataTable, element);\n",
              "          const docLink = document.createElement('div');\n",
              "          docLink.innerHTML = docLinkHtml;\n",
              "          element.appendChild(docLink);\n",
              "        }\n",
              "      </script>\n",
              "    </div>\n",
              "  </div>\n",
              "  "
            ]
          },
          "metadata": {},
          "execution_count": 43
        }
      ],
      "source": [
        "train.head(3)"
      ]
    },
    {
      "cell_type": "code",
      "execution_count": 44,
      "metadata": {
        "colab": {
          "base_uri": "https://localhost:8080/",
          "height": 237
        },
        "id": "D1StT7W7Gayl",
        "outputId": "e68b99eb-b42f-4879-d855-e1e62ebc7c28"
      },
      "outputs": [
        {
          "output_type": "execute_result",
          "data": {
            "text/plain": [
              "           PC1       PC2       PC3       PC4       PC5       PC6       PC7  \\\n",
              "405  -0.366799 -0.314604  0.247460  0.465335 -0.581839 -0.642838 -0.210046   \n",
              "1702 -0.044270  0.304360  0.220541 -0.280175 -0.562625  0.513022 -0.155743   \n",
              "813  -0.190597 -0.181912 -0.259698 -0.120032 -0.514117 -0.097240 -0.018211   \n",
              "\n",
              "           PC8       PC9      PC10  ...      PC66      PC67      PC68  \\\n",
              "405  -0.033562 -0.674323  0.036261  ...  0.312401 -0.239852 -0.413374   \n",
              "1702  0.328730 -0.194925 -0.501571  ... -0.052749 -0.068435 -0.301566   \n",
              "813   0.100304  0.092559  0.155443  ... -0.145389 -0.349919 -0.237233   \n",
              "\n",
              "          PC69      PC70      PC71      PC72      PC73      PC74      PC75  \n",
              "405  -0.338357 -0.098824 -0.377201 -0.009042 -0.445215 -0.155011  0.265602  \n",
              "1702 -0.180523  0.586952 -0.358506 -0.152949 -0.388712 -0.090362  0.183965  \n",
              "813   0.228790 -0.488377  0.228124  0.156445  0.112579 -0.343755 -0.190604  \n",
              "\n",
              "[3 rows x 75 columns]"
            ],
            "text/html": [
              "\n",
              "  <div id=\"df-a4ee6c8c-cef1-41a1-a365-397abbe349b5\">\n",
              "    <div class=\"colab-df-container\">\n",
              "      <div>\n",
              "<style scoped>\n",
              "    .dataframe tbody tr th:only-of-type {\n",
              "        vertical-align: middle;\n",
              "    }\n",
              "\n",
              "    .dataframe tbody tr th {\n",
              "        vertical-align: top;\n",
              "    }\n",
              "\n",
              "    .dataframe thead th {\n",
              "        text-align: right;\n",
              "    }\n",
              "</style>\n",
              "<table border=\"1\" class=\"dataframe\">\n",
              "  <thead>\n",
              "    <tr style=\"text-align: right;\">\n",
              "      <th></th>\n",
              "      <th>PC1</th>\n",
              "      <th>PC2</th>\n",
              "      <th>PC3</th>\n",
              "      <th>PC4</th>\n",
              "      <th>PC5</th>\n",
              "      <th>PC6</th>\n",
              "      <th>PC7</th>\n",
              "      <th>PC8</th>\n",
              "      <th>PC9</th>\n",
              "      <th>PC10</th>\n",
              "      <th>...</th>\n",
              "      <th>PC66</th>\n",
              "      <th>PC67</th>\n",
              "      <th>PC68</th>\n",
              "      <th>PC69</th>\n",
              "      <th>PC70</th>\n",
              "      <th>PC71</th>\n",
              "      <th>PC72</th>\n",
              "      <th>PC73</th>\n",
              "      <th>PC74</th>\n",
              "      <th>PC75</th>\n",
              "    </tr>\n",
              "  </thead>\n",
              "  <tbody>\n",
              "    <tr>\n",
              "      <th>405</th>\n",
              "      <td>-0.366799</td>\n",
              "      <td>-0.314604</td>\n",
              "      <td>0.247460</td>\n",
              "      <td>0.465335</td>\n",
              "      <td>-0.581839</td>\n",
              "      <td>-0.642838</td>\n",
              "      <td>-0.210046</td>\n",
              "      <td>-0.033562</td>\n",
              "      <td>-0.674323</td>\n",
              "      <td>0.036261</td>\n",
              "      <td>...</td>\n",
              "      <td>0.312401</td>\n",
              "      <td>-0.239852</td>\n",
              "      <td>-0.413374</td>\n",
              "      <td>-0.338357</td>\n",
              "      <td>-0.098824</td>\n",
              "      <td>-0.377201</td>\n",
              "      <td>-0.009042</td>\n",
              "      <td>-0.445215</td>\n",
              "      <td>-0.155011</td>\n",
              "      <td>0.265602</td>\n",
              "    </tr>\n",
              "    <tr>\n",
              "      <th>1702</th>\n",
              "      <td>-0.044270</td>\n",
              "      <td>0.304360</td>\n",
              "      <td>0.220541</td>\n",
              "      <td>-0.280175</td>\n",
              "      <td>-0.562625</td>\n",
              "      <td>0.513022</td>\n",
              "      <td>-0.155743</td>\n",
              "      <td>0.328730</td>\n",
              "      <td>-0.194925</td>\n",
              "      <td>-0.501571</td>\n",
              "      <td>...</td>\n",
              "      <td>-0.052749</td>\n",
              "      <td>-0.068435</td>\n",
              "      <td>-0.301566</td>\n",
              "      <td>-0.180523</td>\n",
              "      <td>0.586952</td>\n",
              "      <td>-0.358506</td>\n",
              "      <td>-0.152949</td>\n",
              "      <td>-0.388712</td>\n",
              "      <td>-0.090362</td>\n",
              "      <td>0.183965</td>\n",
              "    </tr>\n",
              "    <tr>\n",
              "      <th>813</th>\n",
              "      <td>-0.190597</td>\n",
              "      <td>-0.181912</td>\n",
              "      <td>-0.259698</td>\n",
              "      <td>-0.120032</td>\n",
              "      <td>-0.514117</td>\n",
              "      <td>-0.097240</td>\n",
              "      <td>-0.018211</td>\n",
              "      <td>0.100304</td>\n",
              "      <td>0.092559</td>\n",
              "      <td>0.155443</td>\n",
              "      <td>...</td>\n",
              "      <td>-0.145389</td>\n",
              "      <td>-0.349919</td>\n",
              "      <td>-0.237233</td>\n",
              "      <td>0.228790</td>\n",
              "      <td>-0.488377</td>\n",
              "      <td>0.228124</td>\n",
              "      <td>0.156445</td>\n",
              "      <td>0.112579</td>\n",
              "      <td>-0.343755</td>\n",
              "      <td>-0.190604</td>\n",
              "    </tr>\n",
              "  </tbody>\n",
              "</table>\n",
              "<p>3 rows × 75 columns</p>\n",
              "</div>\n",
              "      <button class=\"colab-df-convert\" onclick=\"convertToInteractive('df-a4ee6c8c-cef1-41a1-a365-397abbe349b5')\"\n",
              "              title=\"Convert this dataframe to an interactive table.\"\n",
              "              style=\"display:none;\">\n",
              "        \n",
              "  <svg xmlns=\"http://www.w3.org/2000/svg\" height=\"24px\"viewBox=\"0 0 24 24\"\n",
              "       width=\"24px\">\n",
              "    <path d=\"M0 0h24v24H0V0z\" fill=\"none\"/>\n",
              "    <path d=\"M18.56 5.44l.94 2.06.94-2.06 2.06-.94-2.06-.94-.94-2.06-.94 2.06-2.06.94zm-11 1L8.5 8.5l.94-2.06 2.06-.94-2.06-.94L8.5 2.5l-.94 2.06-2.06.94zm10 10l.94 2.06.94-2.06 2.06-.94-2.06-.94-.94-2.06-.94 2.06-2.06.94z\"/><path d=\"M17.41 7.96l-1.37-1.37c-.4-.4-.92-.59-1.43-.59-.52 0-1.04.2-1.43.59L10.3 9.45l-7.72 7.72c-.78.78-.78 2.05 0 2.83L4 21.41c.39.39.9.59 1.41.59.51 0 1.02-.2 1.41-.59l7.78-7.78 2.81-2.81c.8-.78.8-2.07 0-2.86zM5.41 20L4 18.59l7.72-7.72 1.47 1.35L5.41 20z\"/>\n",
              "  </svg>\n",
              "      </button>\n",
              "      \n",
              "  <style>\n",
              "    .colab-df-container {\n",
              "      display:flex;\n",
              "      flex-wrap:wrap;\n",
              "      gap: 12px;\n",
              "    }\n",
              "\n",
              "    .colab-df-convert {\n",
              "      background-color: #E8F0FE;\n",
              "      border: none;\n",
              "      border-radius: 50%;\n",
              "      cursor: pointer;\n",
              "      display: none;\n",
              "      fill: #1967D2;\n",
              "      height: 32px;\n",
              "      padding: 0 0 0 0;\n",
              "      width: 32px;\n",
              "    }\n",
              "\n",
              "    .colab-df-convert:hover {\n",
              "      background-color: #E2EBFA;\n",
              "      box-shadow: 0px 1px 2px rgba(60, 64, 67, 0.3), 0px 1px 3px 1px rgba(60, 64, 67, 0.15);\n",
              "      fill: #174EA6;\n",
              "    }\n",
              "\n",
              "    [theme=dark] .colab-df-convert {\n",
              "      background-color: #3B4455;\n",
              "      fill: #D2E3FC;\n",
              "    }\n",
              "\n",
              "    [theme=dark] .colab-df-convert:hover {\n",
              "      background-color: #434B5C;\n",
              "      box-shadow: 0px 1px 3px 1px rgba(0, 0, 0, 0.15);\n",
              "      filter: drop-shadow(0px 1px 2px rgba(0, 0, 0, 0.3));\n",
              "      fill: #FFFFFF;\n",
              "    }\n",
              "  </style>\n",
              "\n",
              "      <script>\n",
              "        const buttonEl =\n",
              "          document.querySelector('#df-a4ee6c8c-cef1-41a1-a365-397abbe349b5 button.colab-df-convert');\n",
              "        buttonEl.style.display =\n",
              "          google.colab.kernel.accessAllowed ? 'block' : 'none';\n",
              "\n",
              "        async function convertToInteractive(key) {\n",
              "          const element = document.querySelector('#df-a4ee6c8c-cef1-41a1-a365-397abbe349b5');\n",
              "          const dataTable =\n",
              "            await google.colab.kernel.invokeFunction('convertToInteractive',\n",
              "                                                     [key], {});\n",
              "          if (!dataTable) return;\n",
              "\n",
              "          const docLinkHtml = 'Like what you see? Visit the ' +\n",
              "            '<a target=\"_blank\" href=https://colab.research.google.com/notebooks/data_table.ipynb>data table notebook</a>'\n",
              "            + ' to learn more about interactive tables.';\n",
              "          element.innerHTML = '';\n",
              "          dataTable['output_type'] = 'display_data';\n",
              "          await google.colab.output.renderOutput(dataTable, element);\n",
              "          const docLink = document.createElement('div');\n",
              "          docLink.innerHTML = docLinkHtml;\n",
              "          element.appendChild(docLink);\n",
              "        }\n",
              "      </script>\n",
              "    </div>\n",
              "  </div>\n",
              "  "
            ]
          },
          "metadata": {},
          "execution_count": 44
        }
      ],
      "source": [
        "test.head(3)"
      ]
    },
    {
      "cell_type": "code",
      "execution_count": 45,
      "metadata": {
        "colab": {
          "base_uri": "https://localhost:8080/"
        },
        "id": "hL0sA4jMGayl",
        "outputId": "c1b4339d-f346-49d5-c8c5-244e5dd90737"
      },
      "outputs": [
        {
          "output_type": "stream",
          "name": "stdout",
          "text": [
            "<class 'pandas.core.frame.DataFrame'>\n",
            "Int64Index: 1696 entries, 684 to 1653\n",
            "Data columns (total 75 columns):\n",
            " #   Column  Non-Null Count  Dtype  \n",
            "---  ------  --------------  -----  \n",
            " 0   PC1     1696 non-null   float64\n",
            " 1   PC2     1696 non-null   float64\n",
            " 2   PC3     1696 non-null   float64\n",
            " 3   PC4     1696 non-null   float64\n",
            " 4   PC5     1696 non-null   float64\n",
            " 5   PC6     1696 non-null   float64\n",
            " 6   PC7     1696 non-null   float64\n",
            " 7   PC8     1696 non-null   float64\n",
            " 8   PC9     1696 non-null   float64\n",
            " 9   PC10    1696 non-null   float64\n",
            " 10  PC11    1696 non-null   float64\n",
            " 11  PC12    1696 non-null   float64\n",
            " 12  PC13    1696 non-null   float64\n",
            " 13  PC14    1696 non-null   float64\n",
            " 14  PC15    1696 non-null   float64\n",
            " 15  PC16    1696 non-null   float64\n",
            " 16  PC17    1696 non-null   float64\n",
            " 17  PC18    1696 non-null   float64\n",
            " 18  PC19    1696 non-null   float64\n",
            " 19  PC20    1696 non-null   float64\n",
            " 20  PC21    1696 non-null   float64\n",
            " 21  PC22    1696 non-null   float64\n",
            " 22  PC23    1696 non-null   float64\n",
            " 23  PC24    1696 non-null   float64\n",
            " 24  PC25    1696 non-null   float64\n",
            " 25  PC26    1696 non-null   float64\n",
            " 26  PC27    1696 non-null   float64\n",
            " 27  PC28    1696 non-null   float64\n",
            " 28  PC29    1696 non-null   float64\n",
            " 29  PC30    1696 non-null   float64\n",
            " 30  PC31    1696 non-null   float64\n",
            " 31  PC32    1696 non-null   float64\n",
            " 32  PC33    1696 non-null   float64\n",
            " 33  PC34    1696 non-null   float64\n",
            " 34  PC35    1696 non-null   float64\n",
            " 35  PC36    1696 non-null   float64\n",
            " 36  PC37    1696 non-null   float64\n",
            " 37  PC38    1696 non-null   float64\n",
            " 38  PC39    1696 non-null   float64\n",
            " 39  PC40    1696 non-null   float64\n",
            " 40  PC41    1696 non-null   float64\n",
            " 41  PC42    1696 non-null   float64\n",
            " 42  PC43    1696 non-null   float64\n",
            " 43  PC44    1696 non-null   float64\n",
            " 44  PC45    1696 non-null   float64\n",
            " 45  PC46    1696 non-null   float64\n",
            " 46  PC47    1696 non-null   float64\n",
            " 47  PC48    1696 non-null   float64\n",
            " 48  PC49    1696 non-null   float64\n",
            " 49  PC50    1696 non-null   float64\n",
            " 50  PC51    1696 non-null   float64\n",
            " 51  PC52    1696 non-null   float64\n",
            " 52  PC53    1696 non-null   float64\n",
            " 53  PC54    1696 non-null   float64\n",
            " 54  PC55    1696 non-null   float64\n",
            " 55  PC56    1696 non-null   float64\n",
            " 56  PC57    1696 non-null   float64\n",
            " 57  PC58    1696 non-null   float64\n",
            " 58  PC59    1696 non-null   float64\n",
            " 59  PC60    1696 non-null   float64\n",
            " 60  PC61    1696 non-null   float64\n",
            " 61  PC62    1696 non-null   float64\n",
            " 62  PC63    1696 non-null   float64\n",
            " 63  PC64    1696 non-null   float64\n",
            " 64  PC65    1696 non-null   float64\n",
            " 65  PC66    1696 non-null   float64\n",
            " 66  PC67    1696 non-null   float64\n",
            " 67  PC68    1696 non-null   float64\n",
            " 68  PC69    1696 non-null   float64\n",
            " 69  PC70    1696 non-null   float64\n",
            " 70  PC71    1696 non-null   float64\n",
            " 71  PC72    1696 non-null   float64\n",
            " 72  PC73    1696 non-null   float64\n",
            " 73  PC74    1696 non-null   float64\n",
            " 74  PC75    1696 non-null   float64\n",
            "dtypes: float64(75)\n",
            "memory usage: 1007.0 KB\n"
          ]
        }
      ],
      "source": [
        "train.info()"
      ]
    },
    {
      "cell_type": "code",
      "execution_count": 46,
      "metadata": {
        "colab": {
          "base_uri": "https://localhost:8080/"
        },
        "id": "Ke3GnpEXGayl",
        "outputId": "3efed870-3920-4f5b-807d-f220ab9ed605"
      },
      "outputs": [
        {
          "output_type": "stream",
          "name": "stdout",
          "text": [
            "<class 'pandas.core.frame.DataFrame'>\n",
            "Int64Index: 424 entries, 405 to 1240\n",
            "Data columns (total 75 columns):\n",
            " #   Column  Non-Null Count  Dtype  \n",
            "---  ------  --------------  -----  \n",
            " 0   PC1     424 non-null    float64\n",
            " 1   PC2     424 non-null    float64\n",
            " 2   PC3     424 non-null    float64\n",
            " 3   PC4     424 non-null    float64\n",
            " 4   PC5     424 non-null    float64\n",
            " 5   PC6     424 non-null    float64\n",
            " 6   PC7     424 non-null    float64\n",
            " 7   PC8     424 non-null    float64\n",
            " 8   PC9     424 non-null    float64\n",
            " 9   PC10    424 non-null    float64\n",
            " 10  PC11    424 non-null    float64\n",
            " 11  PC12    424 non-null    float64\n",
            " 12  PC13    424 non-null    float64\n",
            " 13  PC14    424 non-null    float64\n",
            " 14  PC15    424 non-null    float64\n",
            " 15  PC16    424 non-null    float64\n",
            " 16  PC17    424 non-null    float64\n",
            " 17  PC18    424 non-null    float64\n",
            " 18  PC19    424 non-null    float64\n",
            " 19  PC20    424 non-null    float64\n",
            " 20  PC21    424 non-null    float64\n",
            " 21  PC22    424 non-null    float64\n",
            " 22  PC23    424 non-null    float64\n",
            " 23  PC24    424 non-null    float64\n",
            " 24  PC25    424 non-null    float64\n",
            " 25  PC26    424 non-null    float64\n",
            " 26  PC27    424 non-null    float64\n",
            " 27  PC28    424 non-null    float64\n",
            " 28  PC29    424 non-null    float64\n",
            " 29  PC30    424 non-null    float64\n",
            " 30  PC31    424 non-null    float64\n",
            " 31  PC32    424 non-null    float64\n",
            " 32  PC33    424 non-null    float64\n",
            " 33  PC34    424 non-null    float64\n",
            " 34  PC35    424 non-null    float64\n",
            " 35  PC36    424 non-null    float64\n",
            " 36  PC37    424 non-null    float64\n",
            " 37  PC38    424 non-null    float64\n",
            " 38  PC39    424 non-null    float64\n",
            " 39  PC40    424 non-null    float64\n",
            " 40  PC41    424 non-null    float64\n",
            " 41  PC42    424 non-null    float64\n",
            " 42  PC43    424 non-null    float64\n",
            " 43  PC44    424 non-null    float64\n",
            " 44  PC45    424 non-null    float64\n",
            " 45  PC46    424 non-null    float64\n",
            " 46  PC47    424 non-null    float64\n",
            " 47  PC48    424 non-null    float64\n",
            " 48  PC49    424 non-null    float64\n",
            " 49  PC50    424 non-null    float64\n",
            " 50  PC51    424 non-null    float64\n",
            " 51  PC52    424 non-null    float64\n",
            " 52  PC53    424 non-null    float64\n",
            " 53  PC54    424 non-null    float64\n",
            " 54  PC55    424 non-null    float64\n",
            " 55  PC56    424 non-null    float64\n",
            " 56  PC57    424 non-null    float64\n",
            " 57  PC58    424 non-null    float64\n",
            " 58  PC59    424 non-null    float64\n",
            " 59  PC60    424 non-null    float64\n",
            " 60  PC61    424 non-null    float64\n",
            " 61  PC62    424 non-null    float64\n",
            " 62  PC63    424 non-null    float64\n",
            " 63  PC64    424 non-null    float64\n",
            " 64  PC65    424 non-null    float64\n",
            " 65  PC66    424 non-null    float64\n",
            " 66  PC67    424 non-null    float64\n",
            " 67  PC68    424 non-null    float64\n",
            " 68  PC69    424 non-null    float64\n",
            " 69  PC70    424 non-null    float64\n",
            " 70  PC71    424 non-null    float64\n",
            " 71  PC72    424 non-null    float64\n",
            " 72  PC73    424 non-null    float64\n",
            " 73  PC74    424 non-null    float64\n",
            " 74  PC75    424 non-null    float64\n",
            "dtypes: float64(75)\n",
            "memory usage: 251.8 KB\n"
          ]
        }
      ],
      "source": [
        "test.info()"
      ]
    },
    {
      "cell_type": "code",
      "execution_count": 47,
      "metadata": {
        "id": "mRm6hqgNGayl"
      },
      "outputs": [],
      "source": [
        "#%% split training set to validation set\n",
        "Xtrain, Xval, Ztrain, Zval = train_test_split(train, target, test_size=0.2, random_state=0)"
      ]
    },
    {
      "cell_type": "markdown",
      "metadata": {
        "id": "-ag_T1qFGaym"
      },
      "source": [
        "## 5. Tuning models and test for all features <a class=\"anchor\" id=\"5\"></a>\n",
        "\n",
        "[Back to Table of Contents](#0.1)"
      ]
    },
    {
      "cell_type": "markdown",
      "metadata": {
        "id": "v9QQ7VDCGaym"
      },
      "source": [
        "### 5.1 Logistic Regression <a class=\"anchor\" id=\"5.1\"></a>\n",
        "\n",
        "[Back to Table of Contents](#0.1)"
      ]
    },
    {
      "cell_type": "markdown",
      "metadata": {
        "id": "58rTFnspGaym"
      },
      "source": [
        "Thanks to https://www.kaggle.com/startupsci/titanic-data-science-solutions"
      ]
    },
    {
      "cell_type": "markdown",
      "metadata": {
        "id": "B3k6jSqIGaym"
      },
      "source": [
        "**Logistic Regression** is a useful model to run early in the workflow. Logistic regression measures the relationship between the categorical dependent variable (feature) and one or more independent variables (features) by estimating probabilities using a logistic function, which is the cumulative logistic distribution. Reference [Wikipedia](https://en.wikipedia.org/wiki/Logistic_regression).\n",
        "\n",
        "Note the confidence score generated by the model based on our training dataset."
      ]
    },
    {
      "cell_type": "code",
      "execution_count": 48,
      "metadata": {
        "colab": {
          "base_uri": "https://localhost:8080/"
        },
        "id": "p_M1nuLTGaym",
        "outputId": "bccb76fb-a683-4c6b-fd1b-674819a7f5d1"
      },
      "outputs": [
        {
          "output_type": "execute_result",
          "data": {
            "text/plain": [
              "88.92"
            ]
          },
          "metadata": {},
          "execution_count": 48
        }
      ],
      "source": [
        "# Logistic Regression\n",
        "\n",
        "logreg = LogisticRegression()\n",
        "logreg.fit(train, target)\n",
        "acc_log = round(logreg.score(train, target) * 100, 2)\n",
        "acc_log"
      ]
    },
    {
      "cell_type": "code",
      "execution_count": 49,
      "metadata": {
        "colab": {
          "base_uri": "https://localhost:8080/"
        },
        "id": "r-BxWKrnGayn",
        "outputId": "c6743395-5076-4d36-b231-297b4cc4d3ca"
      },
      "outputs": [
        {
          "output_type": "execute_result",
          "data": {
            "text/plain": [
              "88.92"
            ]
          },
          "metadata": {},
          "execution_count": 49
        }
      ],
      "source": [
        "acc_test_log = round(logreg.score(test, target_test) * 100, 2)\n",
        "acc_test_log"
      ]
    },
    {
      "cell_type": "code",
      "source": [
        "# Print the Confusion Matrix and slice it into four pieces\n",
        "y_pred = logreg.predict(test)\n",
        "\n",
        "from sklearn.metrics import confusion_matrix\n",
        "\n",
        "cm = confusion_matrix(target_test, y_pred)\n",
        "\n",
        "print('Confusion matrix\\n\\n', cm)\n",
        "\n",
        "print('\\nTrue Positives(TP) = ', cm[0,0])\n",
        "\n",
        "print('\\nTrue Negatives(TN) = ', cm[1,1])\n",
        "\n",
        "print('\\nFalse Positives(FP) = ', cm[0,1])\n",
        "\n",
        "print('\\nFalse Negatives(FN) = ', cm[1,0])\n",
        "\n",
        "from sklearn.metrics import classification_report\n",
        "\n",
        "print(classification_report(target_test, y_pred))\n",
        "\n",
        "# visualize confusion matrix with seaborn heatmap\n",
        "import seaborn as sns\n",
        "cm_matrix = pd.DataFrame(data=cm, columns=['Actual Positive:1', 'Actual Negative:0'], \n",
        "                                 index=['Predict Positive:1', 'Predict Negative:0'])\n",
        "\n",
        "sns.heatmap(cm_matrix, annot=True, fmt='d', cmap='YlGnBu')\n",
        "print(\"--------------------------------------------------------------------------------------\")\n",
        "\n",
        "from sklearn.metrics import roc_curve\n",
        "\n",
        "\n",
        "def plot_roc_curve(fpr, tpr, label=None):\n",
        "    plt.plot(fpr, tpr, linewidth=2, label=label)\n",
        "    plt.plot([0, 1], [0, 1], \"k--\")\n",
        "    plt.axis([0, 1, 0, 1])\n",
        "    plt.xlabel('False Positive Rate')\n",
        "    plt.ylabel('True Positive Rate')\n",
        "    plt.title('ROC Curve')\n",
        "\n",
        "\n"
      ],
      "metadata": {
        "colab": {
          "base_uri": "https://localhost:8080/",
          "height": 666
        },
        "id": "JxPrYoCFesB_",
        "outputId": "c7bd0f0a-2594-4c3b-8489-808da08f1746"
      },
      "execution_count": 50,
      "outputs": [
        {
          "output_type": "stream",
          "name": "stdout",
          "text": [
            "Confusion matrix\n",
            "\n",
            " [[179  28]\n",
            " [ 19 198]]\n",
            "\n",
            "True Positives(TP) =  179\n",
            "\n",
            "True Negatives(TN) =  198\n",
            "\n",
            "False Positives(FP) =  28\n",
            "\n",
            "False Negatives(FN) =  19\n",
            "              precision    recall  f1-score   support\n",
            "\n",
            "          ac       0.90      0.86      0.88       207\n",
            "        inac       0.88      0.91      0.89       217\n",
            "\n",
            "    accuracy                           0.89       424\n",
            "   macro avg       0.89      0.89      0.89       424\n",
            "weighted avg       0.89      0.89      0.89       424\n",
            "\n",
            "--------------------------------------------------------------------------------------\n"
          ]
        },
        {
          "output_type": "display_data",
          "data": {
            "text/plain": [
              "<Figure size 432x288 with 2 Axes>"
            ],
            "image/png": "[encoded data removed]"
          },
          "metadata": {
            "needs_background": "light"
          }
        }
      ]
    },
    {
      "cell_type": "markdown",
      "metadata": {
        "id": "VFjnqVr0Gayn"
      },
      "source": [
        "We can use Logistic Regression to validate our assumptions and decisions for feature creating and completing goals. This can be done by calculating the coefficient of the features in the decision function.\n",
        "\n",
        "Positive coefficients increase the log-odds of the response (and thus increase the probability), and negative coefficients decrease the log-odds of the response (and thus decrease the probability).\n",
        "\n",
        "- *gluc* is highest coefficient\n",
        "- *height*, *smoke* are largest numbers by absolute value."
      ]
    },
    {
      "cell_type": "markdown",
      "metadata": {
        "id": "4IrB50y6Gayn"
      },
      "source": [
        "### 5.2 Support Vector Machines <a class=\"anchor\" id=\"5.2\"></a>\n",
        "\n",
        "[Back to Table of Contents](#0.1)"
      ]
    },
    {
      "cell_type": "markdown",
      "metadata": {
        "id": "zP7qQ7Q0Gayn"
      },
      "source": [
        "Thanks to https://www.kaggle.com/startupsci/titanic-data-science-solutions"
      ]
    },
    {
      "cell_type": "markdown",
      "metadata": {
        "id": "TbbWhRp8Gayn"
      },
      "source": [
        "**Support Vector Machines** are supervised learning models with associated learning algorithms that analyze data used for classification and regression analysis. Given a set of training samples, each marked as belonging to one or the other of two categories, an SVM training algorithm builds a model that assigns new test samples to one category or the other, making it a non-probabilistic binary linear classifier. Reference [Wikipedia](https://en.wikipedia.org/wiki/Support_vector_machine)."
      ]
    },
    {
      "cell_type": "code",
      "execution_count": 51,
      "metadata": {
        "colab": {
          "base_uri": "https://localhost:8080/"
        },
        "id": "BIyP6cxHGayo",
        "outputId": "4ddb942e-87f5-46d0-c0a9-238e84e10298"
      },
      "outputs": [
        {
          "output_type": "execute_result",
          "data": {
            "text/plain": [
              "99.59"
            ]
          },
          "metadata": {},
          "execution_count": 51
        }
      ],
      "source": [
        "# Support Vector Machines\n",
        "\n",
        "svc = SVC()\n",
        "svc.fit(train, target)\n",
        "acc_svc = round(svc.score(train, target) * 100, 2)\n",
        "acc_svc"
      ]
    },
    {
      "cell_type": "code",
      "execution_count": 52,
      "metadata": {
        "colab": {
          "base_uri": "https://localhost:8080/"
        },
        "id": "k5vofFTbGayo",
        "outputId": "fa56bb86-d1f4-4575-a434-9adc9f37238e"
      },
      "outputs": [
        {
          "output_type": "execute_result",
          "data": {
            "text/plain": [
              "97.88"
            ]
          },
          "metadata": {},
          "execution_count": 52
        }
      ],
      "source": [
        "acc_test_svc = round(svc.score(test, target_test) * 100, 2)\n",
        "acc_test_svc"
      ]
    },
    {
      "cell_type": "code",
      "source": [
        "# Print the Confusion Matrix and slice it into four pieces\n",
        "y_pred = svc.predict(test)\n",
        "\n",
        "from sklearn.metrics import confusion_matrix\n",
        "\n",
        "cm = confusion_matrix(target_test, y_pred)\n",
        "\n",
        "print('Confusion matrix\\n\\n', cm)\n",
        "\n",
        "print('\\nTrue Positives(TP) = ', cm[0,0])\n",
        "\n",
        "print('\\nTrue Negatives(TN) = ', cm[1,1])\n",
        "\n",
        "print('\\nFalse Positives(FP) = ', cm[0,1])\n",
        "\n",
        "print('\\nFalse Negatives(FN) = ', cm[1,0])\n",
        "\n",
        "from sklearn.metrics import classification_report\n",
        "\n",
        "print(classification_report(target_test, y_pred))\n",
        "\n",
        "# visualize confusion matrix with seaborn heatmap\n",
        "import seaborn as sns\n",
        "cm_matrix = pd.DataFrame(data=cm, columns=['Actual Positive:1', 'Actual Negative:0'], \n",
        "                                 index=['Predict Positive:1', 'Predict Negative:0'])\n",
        "\n",
        "sns.heatmap(cm_matrix, annot=True, fmt='d', cmap='YlGnBu')\n",
        "print(\"--------------------------------------------------------------------------------------\")\n",
        "\n",
        "from sklearn.metrics import roc_curve\n",
        "\n",
        "\n",
        "def plot_roc_curve(fpr, tpr, label=None):\n",
        "    plt.plot(fpr, tpr, linewidth=2, label=label)\n",
        "    plt.plot([0, 1], [0, 1], \"k--\")\n",
        "    plt.axis([0, 1, 0, 1])\n",
        "    plt.xlabel('False Positive Rate')\n",
        "    plt.ylabel('True Positive Rate')\n",
        "    plt.title('ROC Curve')\n",
        "\n",
        "\n"
      ],
      "metadata": {
        "colab": {
          "base_uri": "https://localhost:8080/",
          "height": 666
        },
        "id": "9J0gpSvOe9TX",
        "outputId": "990dcb02-a513-4bdd-fa1f-2f52b67d9208"
      },
      "execution_count": 53,
      "outputs": [
        {
          "output_type": "stream",
          "name": "stdout",
          "text": [
            "Confusion matrix\n",
            "\n",
            " [[200   7]\n",
            " [  2 215]]\n",
            "\n",
            "True Positives(TP) =  200\n",
            "\n",
            "True Negatives(TN) =  215\n",
            "\n",
            "False Positives(FP) =  7\n",
            "\n",
            "False Negatives(FN) =  2\n",
            "              precision    recall  f1-score   support\n",
            "\n",
            "          ac       0.99      0.97      0.98       207\n",
            "        inac       0.97      0.99      0.98       217\n",
            "\n",
            "    accuracy                           0.98       424\n",
            "   macro avg       0.98      0.98      0.98       424\n",
            "weighted avg       0.98      0.98      0.98       424\n",
            "\n",
            "--------------------------------------------------------------------------------------\n"
          ]
        },
        {
          "output_type": "display_data",
          "data": {
            "text/plain": [
              "<Figure size 432x288 with 2 Axes>"
            ],
            "image/png": "[encoded data removed]"
          },
          "metadata": {
            "needs_background": "light"
          }
        }
      ]
    },
    {
      "cell_type": "markdown",
      "metadata": {
        "id": "DnAEI0FrGayp"
      },
      "source": [
        "### 5.4 k-Nearest Neighbors algorithm <a class=\"anchor\" id=\"5.4\"></a>\n",
        "\n",
        "[Back to Table of Contents](#0.1)"
      ]
    },
    {
      "cell_type": "markdown",
      "metadata": {
        "id": "9WA3cbRWGayp"
      },
      "source": [
        "Thanks to https://www.kaggle.com/startupsci/titanic-data-science-solutions"
      ]
    },
    {
      "cell_type": "markdown",
      "metadata": {
        "id": "flvJtu0hGayp"
      },
      "source": [
        "In pattern recognition, the **k-Nearest Neighbors algorithm** (or k-NN for short) is a non-parametric method used for classification and regression. A sample is classified by a majority vote of its neighbors, with the sample being assigned to the class most common among its k nearest neighbors (k is a positive integer, typically small). Reference [Wikipedia](https://en.wikipedia.org/wiki/K-nearest_neighbors_algorithm)."
      ]
    },
    {
      "cell_type": "code",
      "execution_count": 54,
      "metadata": {
        "colab": {
          "base_uri": "https://localhost:8080/"
        },
        "id": "FIsUo_gTGayp",
        "outputId": "fbb85f06-f8a2-43ad-b451-94fdaa04845c"
      },
      "outputs": [
        {
          "output_type": "stream",
          "name": "stdout",
          "text": [
            "99.12 {'n_neighbors': 3}\n"
          ]
        }
      ],
      "source": [
        "# k-Nearest Neighbors algorithm\n",
        "\n",
        "knn = GridSearchCV(estimator=KNeighborsClassifier(), param_grid={'n_neighbors': [2, 3]}, cv=10).fit(train, target)\n",
        "acc_knn = round(knn.score(train, target) * 100, 2)\n",
        "print(acc_knn, knn.best_params_)"
      ]
    },
    {
      "cell_type": "code",
      "execution_count": 55,
      "metadata": {
        "colab": {
          "base_uri": "https://localhost:8080/"
        },
        "id": "1D0rvDM3Gayp",
        "outputId": "b592ae62-c0dc-4b51-f859-ab2bb3218623"
      },
      "outputs": [
        {
          "output_type": "execute_result",
          "data": {
            "text/plain": [
              "97.41"
            ]
          },
          "metadata": {},
          "execution_count": 55
        }
      ],
      "source": [
        "acc_test_knn = round(knn.score(test, target_test) * 100, 2)\n",
        "acc_test_knn"
      ]
    },
    {
      "cell_type": "code",
      "source": [
        "# Print the Confusion Matrix and slice it into four pieces\n",
        "y_pred = knn.predict(test)\n",
        "\n",
        "from sklearn.metrics import confusion_matrix\n",
        "\n",
        "cm = confusion_matrix(target_test, y_pred)\n",
        "\n",
        "print('Confusion matrix\\n\\n', cm)\n",
        "\n",
        "print('\\nTrue Positives(TP) = ', cm[0,0])\n",
        "\n",
        "print('\\nTrue Negatives(TN) = ', cm[1,1])\n",
        "\n",
        "print('\\nFalse Positives(FP) = ', cm[0,1])\n",
        "\n",
        "print('\\nFalse Negatives(FN) = ', cm[1,0])\n",
        "\n",
        "from sklearn.metrics import classification_report\n",
        "\n",
        "print(classification_report(target_test, y_pred))\n",
        "\n",
        "# visualize confusion matrix with seaborn heatmap\n",
        "import seaborn as sns\n",
        "cm_matrix = pd.DataFrame(data=cm, columns=['Actual Positive:1', 'Actual Negative:0'], \n",
        "                                 index=['Predict Positive:1', 'Predict Negative:0'])\n",
        "\n",
        "sns.heatmap(cm_matrix, annot=True, fmt='d', cmap='YlGnBu')\n",
        "print(\"--------------------------------------------------------------------------------------\")\n",
        "\n",
        "from sklearn.metrics import roc_curve\n",
        "\n",
        "\n",
        "def plot_roc_curve(fpr, tpr, label=None):\n",
        "    plt.plot(fpr, tpr, linewidth=2, label=label)\n",
        "    plt.plot([0, 1], [0, 1], \"k--\")\n",
        "    plt.axis([0, 1, 0, 1])\n",
        "    plt.xlabel('False Positive Rate')\n",
        "    plt.ylabel('True Positive Rate')\n",
        "    plt.title('ROC Curve')\n",
        "\n",
        "\n"
      ],
      "metadata": {
        "colab": {
          "base_uri": "https://localhost:8080/",
          "height": 666
        },
        "id": "SAQXV1TqfKfQ",
        "outputId": "69567c8f-4265-45de-e28d-76bb08f40389"
      },
      "execution_count": 56,
      "outputs": [
        {
          "output_type": "stream",
          "name": "stdout",
          "text": [
            "Confusion matrix\n",
            "\n",
            " [[198   9]\n",
            " [  2 215]]\n",
            "\n",
            "True Positives(TP) =  198\n",
            "\n",
            "True Negatives(TN) =  215\n",
            "\n",
            "False Positives(FP) =  9\n",
            "\n",
            "False Negatives(FN) =  2\n",
            "              precision    recall  f1-score   support\n",
            "\n",
            "          ac       0.99      0.96      0.97       207\n",
            "        inac       0.96      0.99      0.98       217\n",
            "\n",
            "    accuracy                           0.97       424\n",
            "   macro avg       0.97      0.97      0.97       424\n",
            "weighted avg       0.97      0.97      0.97       424\n",
            "\n",
            "--------------------------------------------------------------------------------------\n"
          ]
        },
        {
          "output_type": "display_data",
          "data": {
            "text/plain": [
              "<Figure size 432x288 with 2 Axes>"
            ],
            "image/png": "[encoded data removed]"
          },
          "metadata": {
            "needs_background": "light"
          }
        }
      ]
    },
    {
      "cell_type": "markdown",
      "metadata": {
        "id": "m4wXReuvGayp"
      },
      "source": [
        "### 5.5 Naive Bayes <a class=\"anchor\" id=\"5.5\"></a>\n",
        "\n",
        "[Back to Table of Contents](#0.1)"
      ]
    },
    {
      "cell_type": "markdown",
      "metadata": {
        "id": "4eOBZG2sGayp"
      },
      "source": [
        "Thanks to https://www.kaggle.com/startupsci/titanic-data-science-solutions"
      ]
    },
    {
      "cell_type": "markdown",
      "metadata": {
        "id": "QEfHhDuiGayq"
      },
      "source": [
        "In machine learning, **Naive Bayes classifiers** are a family of simple probabilistic classifiers based on applying Bayes' theorem with strong (naive) independence assumptions between the features. Naive Bayes classifiers are highly scalable, requiring a number of parameters linear in the number of variables (features) in a learning problem. Reference [Wikipedia](https://en.wikipedia.org/wiki/Naive_Bayes_classifier)."
      ]
    },
    {
      "cell_type": "code",
      "execution_count": 57,
      "metadata": {
        "colab": {
          "base_uri": "https://localhost:8080/"
        },
        "id": "_tXxbPzxGayq",
        "outputId": "9f17192e-2539-41bc-f3b8-d3da44373008"
      },
      "outputs": [
        {
          "output_type": "execute_result",
          "data": {
            "text/plain": [
              "82.72"
            ]
          },
          "metadata": {},
          "execution_count": 57
        }
      ],
      "source": [
        "# Gaussian Naive Bayes\n",
        "\n",
        "gaussian = GaussianNB()\n",
        "gaussian.fit(train, target)\n",
        "acc_gaussian = round(gaussian.score(train, target) * 100, 2)\n",
        "acc_gaussian"
      ]
    },
    {
      "cell_type": "code",
      "execution_count": 58,
      "metadata": {
        "colab": {
          "base_uri": "https://localhost:8080/"
        },
        "id": "oGhFXxIwGayq",
        "outputId": "d6734157-7e43-4256-fcab-6b992cbabe3b"
      },
      "outputs": [
        {
          "output_type": "execute_result",
          "data": {
            "text/plain": [
              "83.25"
            ]
          },
          "metadata": {},
          "execution_count": 58
        }
      ],
      "source": [
        "acc_test_gaussian = round(gaussian.score(test, target_test) * 100, 2)\n",
        "acc_test_gaussian"
      ]
    },
    {
      "cell_type": "code",
      "source": [
        "# Print the Confusion Matrix and slice it into four pieces\n",
        "y_pred = gaussian.predict(test)\n",
        "\n",
        "from sklearn.metrics import confusion_matrix\n",
        "\n",
        "cm = confusion_matrix(target_test, y_pred)\n",
        "\n",
        "print('Confusion matrix\\n\\n', cm)\n",
        "\n",
        "print('\\nTrue Positives(TP) = ', cm[0,0])\n",
        "\n",
        "print('\\nTrue Negatives(TN) = ', cm[1,1])\n",
        "\n",
        "print('\\nFalse Positives(FP) = ', cm[0,1])\n",
        "\n",
        "print('\\nFalse Negatives(FN) = ', cm[1,0])\n",
        "\n",
        "from sklearn.metrics import classification_report\n",
        "\n",
        "print(classification_report(target_test, y_pred))\n",
        "\n",
        "# visualize confusion matrix with seaborn heatmap\n",
        "import seaborn as sns\n",
        "cm_matrix = pd.DataFrame(data=cm, columns=['Actual Positive:1', 'Actual Negative:0'], \n",
        "                                 index=['Predict Positive:1', 'Predict Negative:0'])\n",
        "\n",
        "sns.heatmap(cm_matrix, annot=True, fmt='d', cmap='YlGnBu')\n",
        "print(\"--------------------------------------------------------------------------------------\")\n",
        "\n",
        "from sklearn.metrics import roc_curve\n",
        "\n",
        "\n",
        "def plot_roc_curve(fpr, tpr, label=None):\n",
        "    plt.plot(fpr, tpr, linewidth=2, label=label)\n",
        "    plt.plot([0, 1], [0, 1], \"k--\")\n",
        "    plt.axis([0, 1, 0, 1])\n",
        "    plt.xlabel('False Positive Rate')\n",
        "    plt.ylabel('True Positive Rate')\n",
        "    plt.title('ROC Curve')\n",
        "\n",
        "\n"
      ],
      "metadata": {
        "colab": {
          "base_uri": "https://localhost:8080/",
          "height": 666
        },
        "id": "kvFRyDtAfQYo",
        "outputId": "38638347-e073-4324-ce46-1b1c11db88ca"
      },
      "execution_count": 59,
      "outputs": [
        {
          "output_type": "stream",
          "name": "stdout",
          "text": [
            "Confusion matrix\n",
            "\n",
            " [[163  44]\n",
            " [ 27 190]]\n",
            "\n",
            "True Positives(TP) =  163\n",
            "\n",
            "True Negatives(TN) =  190\n",
            "\n",
            "False Positives(FP) =  44\n",
            "\n",
            "False Negatives(FN) =  27\n",
            "              precision    recall  f1-score   support\n",
            "\n",
            "          ac       0.86      0.79      0.82       207\n",
            "        inac       0.81      0.88      0.84       217\n",
            "\n",
            "    accuracy                           0.83       424\n",
            "   macro avg       0.83      0.83      0.83       424\n",
            "weighted avg       0.83      0.83      0.83       424\n",
            "\n",
            "--------------------------------------------------------------------------------------\n"
          ]
        },
        {
          "output_type": "display_data",
          "data": {
            "text/plain": [
              "<Figure size 432x288 with 2 Axes>"
            ],
            "image/png": "[encoded data removed]"
          },
          "metadata": {
            "needs_background": "light"
          }
        }
      ]
    },
    {
      "cell_type": "markdown",
      "metadata": {
        "id": "S1fyJ16eGayq"
      },
      "source": [
        "### 5.6 Perceptron <a class=\"anchor\" id=\"5.6\"></a>\n",
        "\n",
        "[Back to Table of Contents](#0.1)"
      ]
    },
    {
      "cell_type": "markdown",
      "metadata": {
        "id": "1K4pveIzGayq"
      },
      "source": [
        "Thanks to https://www.kaggle.com/startupsci/titanic-data-science-solutions"
      ]
    },
    {
      "cell_type": "markdown",
      "metadata": {
        "id": "lX-2MVAaGayq"
      },
      "source": [
        "The **Perceptron** is an algorithm for supervised learning of binary classifiers (functions that can decide whether an input, represented by a vector of numbers, belongs to some specific class or not). It is a type of linear classifier, i.e. a classification algorithm that makes its predictions based on a linear predictor function combining a set of weights with the feature vector. The algorithm allows for online learning, in that it processes elements in the training set one at a time. Reference [Wikipedia](https://en.wikipedia.org/wiki/Perceptron)."
      ]
    },
    {
      "cell_type": "code",
      "execution_count": 60,
      "metadata": {
        "colab": {
          "base_uri": "https://localhost:8080/"
        },
        "id": "5b40Uim2Gayq",
        "outputId": "4908bd4e-3c5d-4228-9655-f78a613a7e3b"
      },
      "outputs": [
        {
          "output_type": "execute_result",
          "data": {
            "text/plain": [
              "86.62"
            ]
          },
          "metadata": {},
          "execution_count": 60
        }
      ],
      "source": [
        "# Perceptron\n",
        "\n",
        "perceptron = Perceptron()\n",
        "perceptron.fit(train, target)\n",
        "acc_perceptron = round(perceptron.score(train, target) * 100, 2)\n",
        "acc_perceptron"
      ]
    },
    {
      "cell_type": "code",
      "execution_count": 61,
      "metadata": {
        "colab": {
          "base_uri": "https://localhost:8080/"
        },
        "id": "zkgjHYpYGayq",
        "outputId": "98f3444c-80fd-404e-8ee2-10a7095a0bef"
      },
      "outputs": [
        {
          "output_type": "execute_result",
          "data": {
            "text/plain": [
              "87.03"
            ]
          },
          "metadata": {},
          "execution_count": 61
        }
      ],
      "source": [
        "acc_test_perceptron = round(perceptron.score(test, target_test) * 100, 2)\n",
        "acc_test_perceptron"
      ]
    },
    {
      "cell_type": "code",
      "source": [
        "# Print the Confusion Matrix and slice it into four pieces\n",
        "y_pred = perceptron.predict(test)\n",
        "\n",
        "from sklearn.metrics import confusion_matrix\n",
        "\n",
        "cm = confusion_matrix(target_test, y_pred)\n",
        "\n",
        "print('Confusion matrix\\n\\n', cm)\n",
        "\n",
        "print('\\nTrue Positives(TP) = ', cm[0,0])\n",
        "\n",
        "print('\\nTrue Negatives(TN) = ', cm[1,1])\n",
        "\n",
        "print('\\nFalse Positives(FP) = ', cm[0,1])\n",
        "\n",
        "print('\\nFalse Negatives(FN) = ', cm[1,0])\n",
        "\n",
        "from sklearn.metrics import classification_report\n",
        "\n",
        "print(classification_report(target_test, y_pred))\n",
        "\n",
        "# visualize confusion matrix with seaborn heatmap\n",
        "import seaborn as sns\n",
        "cm_matrix = pd.DataFrame(data=cm, columns=['Actual Positive:1', 'Actual Negative:0'], \n",
        "                                 index=['Predict Positive:1', 'Predict Negative:0'])\n",
        "\n",
        "sns.heatmap(cm_matrix, annot=True, fmt='d', cmap='YlGnBu')\n",
        "print(\"--------------------------------------------------------------------------------------\")\n",
        "\n",
        "from sklearn.metrics import roc_curve\n",
        "\n",
        "\n",
        "def plot_roc_curve(fpr, tpr, label=None):\n",
        "    plt.plot(fpr, tpr, linewidth=2, label=label)\n",
        "    plt.plot([0, 1], [0, 1], \"k--\")\n",
        "    plt.axis([0, 1, 0, 1])\n",
        "    plt.xlabel('False Positive Rate')\n",
        "    plt.ylabel('True Positive Rate')\n",
        "    plt.title('ROC Curve')\n",
        "\n",
        "\n"
      ],
      "metadata": {
        "colab": {
          "base_uri": "https://localhost:8080/",
          "height": 666
        },
        "id": "rmhAAMCAfWfn",
        "outputId": "ccc7148f-caf0-4e3a-c851-97629e94caff"
      },
      "execution_count": 62,
      "outputs": [
        {
          "output_type": "stream",
          "name": "stdout",
          "text": [
            "Confusion matrix\n",
            "\n",
            " [[177  30]\n",
            " [ 25 192]]\n",
            "\n",
            "True Positives(TP) =  177\n",
            "\n",
            "True Negatives(TN) =  192\n",
            "\n",
            "False Positives(FP) =  30\n",
            "\n",
            "False Negatives(FN) =  25\n",
            "              precision    recall  f1-score   support\n",
            "\n",
            "          ac       0.88      0.86      0.87       207\n",
            "        inac       0.86      0.88      0.87       217\n",
            "\n",
            "    accuracy                           0.87       424\n",
            "   macro avg       0.87      0.87      0.87       424\n",
            "weighted avg       0.87      0.87      0.87       424\n",
            "\n",
            "--------------------------------------------------------------------------------------\n"
          ]
        },
        {
          "output_type": "display_data",
          "data": {
            "text/plain": [
              "<Figure size 432x288 with 2 Axes>"
            ],
            "image/png": "[encoded data removed]"
          },
          "metadata": {
            "needs_background": "light"
          }
        }
      ]
    },
    {
      "cell_type": "markdown",
      "metadata": {
        "id": "7pki7NBGGayr"
      },
      "source": [
        "### 5.7 Stochastic Gradient Descent <a class=\"anchor\" id=\"5.7\"></a>\n",
        "\n",
        "[Back to Table of Contents](#0.1)"
      ]
    },
    {
      "cell_type": "markdown",
      "metadata": {
        "id": "zDUGk44jGayr"
      },
      "source": [
        "Thanks to https://www.kaggle.com/startupsci/titanic-data-science-solutions"
      ]
    },
    {
      "cell_type": "markdown",
      "metadata": {
        "id": "ZzhH_YD2Gayr"
      },
      "source": [
        "**Stochastic gradient descent** (often abbreviated **SGD**) is an iterative method for optimizing an objective function with suitable smoothness properties (e.g. differentiable or subdifferentiable). It can be regarded as a stochastic approximation of gradient descent optimization, since it replaces the actual gradient (calculated from the entire data set) by an estimate thereof (calculated from a randomly selected subset of the data). Especially in big data applications this reduces the computational burden, achieving faster iterations in trade for a slightly lower convergence rate. Reference [Wikipedia](https://en.wikipedia.org/wiki/Stochastic_gradient_descent)."
      ]
    },
    {
      "cell_type": "code",
      "execution_count": 63,
      "metadata": {
        "colab": {
          "base_uri": "https://localhost:8080/"
        },
        "id": "ZEpD2zJ5Gayr",
        "outputId": "22044503-3c8c-41af-a27f-4ec42e25a046"
      },
      "outputs": [
        {
          "output_type": "execute_result",
          "data": {
            "text/plain": [
              "88.86"
            ]
          },
          "metadata": {},
          "execution_count": 63
        }
      ],
      "source": [
        "# Stochastic Gradient Descent\n",
        "\n",
        "sgd = SGDClassifier()\n",
        "sgd.fit(train, target)\n",
        "acc_sgd = round(sgd.score(train, target) * 100, 2)\n",
        "acc_sgd"
      ]
    },
    {
      "cell_type": "code",
      "execution_count": 64,
      "metadata": {
        "colab": {
          "base_uri": "https://localhost:8080/"
        },
        "id": "nIurpWUUGayr",
        "outputId": "1dada0e2-dd54-4ef1-f41e-5d335f4dcd83"
      },
      "outputs": [
        {
          "output_type": "execute_result",
          "data": {
            "text/plain": [
              "87.5"
            ]
          },
          "metadata": {},
          "execution_count": 64
        }
      ],
      "source": [
        "acc_test_sgd = round(sgd.score(test, target_test) * 100, 2)\n",
        "acc_test_sgd"
      ]
    },
    {
      "cell_type": "code",
      "source": [
        "# Print the Confusion Matrix and slice it into four pieces\n",
        "y_pred = sgd.predict(test)\n",
        "\n",
        "from sklearn.metrics import confusion_matrix\n",
        "\n",
        "cm = confusion_matrix(target_test, y_pred)\n",
        "\n",
        "print('Confusion matrix\\n\\n', cm)\n",
        "\n",
        "print('\\nTrue Positives(TP) = ', cm[0,0])\n",
        "\n",
        "print('\\nTrue Negatives(TN) = ', cm[1,1])\n",
        "\n",
        "print('\\nFalse Positives(FP) = ', cm[0,1])\n",
        "\n",
        "print('\\nFalse Negatives(FN) = ', cm[1,0])\n",
        "\n",
        "from sklearn.metrics import classification_report\n",
        "\n",
        "print(classification_report(target_test, y_pred))\n",
        "\n",
        "# visualize confusion matrix with seaborn heatmap\n",
        "import seaborn as sns\n",
        "cm_matrix = pd.DataFrame(data=cm, columns=['Actual Positive:1', 'Actual Negative:0'], \n",
        "                                 index=['Predict Positive:1', 'Predict Negative:0'])\n",
        "\n",
        "sns.heatmap(cm_matrix, annot=True, fmt='d', cmap='YlGnBu')\n",
        "print(\"--------------------------------------------------------------------------------------\")\n",
        "\n",
        "from sklearn.metrics import roc_curve\n",
        "\n",
        "\n",
        "def plot_roc_curve(fpr, tpr, label=None):\n",
        "    plt.plot(fpr, tpr, linewidth=2, label=label)\n",
        "    plt.plot([0, 1], [0, 1], \"k--\")\n",
        "    plt.axis([0, 1, 0, 1])\n",
        "    plt.xlabel('False Positive Rate')\n",
        "    plt.ylabel('True Positive Rate')\n",
        "    plt.title('ROC Curve')\n",
        "\n",
        "\n"
      ],
      "metadata": {
        "colab": {
          "base_uri": "https://localhost:8080/",
          "height": 666
        },
        "id": "PpIRZ3K6ffHX",
        "outputId": "86fbe7f2-6810-48d7-c987-412c1c3eda4b"
      },
      "execution_count": 65,
      "outputs": [
        {
          "output_type": "stream",
          "name": "stdout",
          "text": [
            "Confusion matrix\n",
            "\n",
            " [[182  25]\n",
            " [ 28 189]]\n",
            "\n",
            "True Positives(TP) =  182\n",
            "\n",
            "True Negatives(TN) =  189\n",
            "\n",
            "False Positives(FP) =  25\n",
            "\n",
            "False Negatives(FN) =  28\n",
            "              precision    recall  f1-score   support\n",
            "\n",
            "          ac       0.87      0.88      0.87       207\n",
            "        inac       0.88      0.87      0.88       217\n",
            "\n",
            "    accuracy                           0.88       424\n",
            "   macro avg       0.87      0.88      0.87       424\n",
            "weighted avg       0.88      0.88      0.88       424\n",
            "\n",
            "--------------------------------------------------------------------------------------\n"
          ]
        },
        {
          "output_type": "display_data",
          "data": {
            "text/plain": [
              "<Figure size 432x288 with 2 Axes>"
            ],
            "image/png": "[encoded data removed]"
          },
          "metadata": {
            "needs_background": "light"
          }
        }
      ]
    },
    {
      "cell_type": "markdown",
      "metadata": {
        "id": "8cqvfYmsGayr"
      },
      "source": [
        "### 5.8 Decision Tree Classifier <a class=\"anchor\" id=\"5.8\"></a>\n",
        "\n",
        "[Back to Table of Contents](#0.1)"
      ]
    },
    {
      "cell_type": "markdown",
      "metadata": {
        "id": "Aho76NBqGayr"
      },
      "source": [
        "Thanks to https://www.kaggle.com/startupsci/titanic-data-science-solutions"
      ]
    },
    {
      "cell_type": "markdown",
      "metadata": {
        "id": "rrcUxyc2Gayr"
      },
      "source": [
        "This model uses a **Decision Tree** as a predictive model which maps features (tree branches) to conclusions about the target value (tree leaves). Tree models where the target variable can take a finite set of values are called classification trees; in these tree structures, leaves represent class labels and branches represent conjunctions of features that lead to those class labels. Decision trees where the target variable can take continuous values (typically real numbers) are called regression trees. Reference [Wikipedia](https://en.wikipedia.org/wiki/Decision_tree_learning)."
      ]
    },
    {
      "cell_type": "code",
      "execution_count": 66,
      "metadata": {
        "colab": {
          "base_uri": "https://localhost:8080/"
        },
        "id": "D_D1B70HGays",
        "outputId": "b9417c1b-6f33-4e39-d3ca-6ae6afe78275"
      },
      "outputs": [
        {
          "output_type": "execute_result",
          "data": {
            "text/plain": [
              "100.0"
            ]
          },
          "metadata": {},
          "execution_count": 66
        }
      ],
      "source": [
        "# Decision Tree Classifier\n",
        "\n",
        "decision_tree = DecisionTreeClassifier()\n",
        "decision_tree.fit(train, target)\n",
        "acc_decision_tree = round(decision_tree.score(train, target) * 100, 2)\n",
        "acc_decision_tree"
      ]
    },
    {
      "cell_type": "code",
      "execution_count": 67,
      "metadata": {
        "colab": {
          "base_uri": "https://localhost:8080/"
        },
        "id": "vYgPboaTGays",
        "outputId": "1f00c069-a540-4696-fd6e-9a3c87c39a02"
      },
      "outputs": [
        {
          "output_type": "execute_result",
          "data": {
            "text/plain": [
              "79.95"
            ]
          },
          "metadata": {},
          "execution_count": 67
        }
      ],
      "source": [
        "acc_test_decision_tree = round(decision_tree.score(test, target_test) * 100, 2)\n",
        "acc_test_decision_tree"
      ]
    },
    {
      "cell_type": "code",
      "source": [
        "# Print the Confusion Matrix and slice it into four pieces\n",
        "y_pred = decision_tree.predict(test)\n",
        "\n",
        "from sklearn.metrics import confusion_matrix\n",
        "\n",
        "cm = confusion_matrix(target_test, y_pred)\n",
        "\n",
        "print('Confusion matrix\\n\\n', cm)\n",
        "\n",
        "print('\\nTrue Positives(TP) = ', cm[0,0])\n",
        "\n",
        "print('\\nTrue Negatives(TN) = ', cm[1,1])\n",
        "\n",
        "print('\\nFalse Positives(FP) = ', cm[0,1])\n",
        "\n",
        "print('\\nFalse Negatives(FN) = ', cm[1,0])\n",
        "\n",
        "from sklearn.metrics import classification_report\n",
        "\n",
        "print(classification_report(target_test, y_pred))\n",
        "\n",
        "# visualize confusion matrix with seaborn heatmap\n",
        "import seaborn as sns\n",
        "cm_matrix = pd.DataFrame(data=cm, columns=['Actual Positive:1', 'Actual Negative:0'], \n",
        "                                 index=['Predict Positive:1', 'Predict Negative:0'])\n",
        "\n",
        "sns.heatmap(cm_matrix, annot=True, fmt='d', cmap='YlGnBu')\n",
        "print(\"--------------------------------------------------------------------------------------\")\n",
        "\n",
        "from sklearn.metrics import roc_curve\n",
        "\n",
        "\n",
        "def plot_roc_curve(fpr, tpr, label=None):\n",
        "    plt.plot(fpr, tpr, linewidth=2, label=label)\n",
        "    plt.plot([0, 1], [0, 1], \"k--\")\n",
        "    plt.axis([0, 1, 0, 1])\n",
        "    plt.xlabel('False Positive Rate')\n",
        "    plt.ylabel('True Positive Rate')\n",
        "    plt.title('ROC Curve')\n",
        "\n",
        "\n"
      ],
      "metadata": {
        "colab": {
          "base_uri": "https://localhost:8080/",
          "height": 666
        },
        "id": "P_hjDY5-fjT_",
        "outputId": "ccecc389-dc0f-4a46-b09c-f4415f3eed73"
      },
      "execution_count": 68,
      "outputs": [
        {
          "output_type": "stream",
          "name": "stdout",
          "text": [
            "Confusion matrix\n",
            "\n",
            " [[164  43]\n",
            " [ 42 175]]\n",
            "\n",
            "True Positives(TP) =  164\n",
            "\n",
            "True Negatives(TN) =  175\n",
            "\n",
            "False Positives(FP) =  43\n",
            "\n",
            "False Negatives(FN) =  42\n",
            "              precision    recall  f1-score   support\n",
            "\n",
            "          ac       0.80      0.79      0.79       207\n",
            "        inac       0.80      0.81      0.80       217\n",
            "\n",
            "    accuracy                           0.80       424\n",
            "   macro avg       0.80      0.80      0.80       424\n",
            "weighted avg       0.80      0.80      0.80       424\n",
            "\n",
            "--------------------------------------------------------------------------------------\n"
          ]
        },
        {
          "output_type": "display_data",
          "data": {
            "text/plain": [
              "<Figure size 432x288 with 2 Axes>"
            ],
            "image/png": "[encoded data removed]"
          },
          "metadata": {
            "needs_background": "light"
          }
        }
      ]
    },
    {
      "cell_type": "markdown",
      "metadata": {
        "id": "w12UGihXGays"
      },
      "source": [
        "### 5.9 Random Forests <a class=\"anchor\" id=\"5.9\"></a>\n",
        "\n",
        "[Back to Table of Contents](#0.1)"
      ]
    },
    {
      "cell_type": "markdown",
      "metadata": {
        "id": "MExShB_7Gays"
      },
      "source": [
        "Thanks to https://www.kaggle.com/startupsci/titanic-data-science-solutions"
      ]
    },
    {
      "cell_type": "markdown",
      "metadata": {
        "id": "YMQUainLGays"
      },
      "source": [
        "**Random Forests** is one of the most popular model. Random forests or random decision forests are an ensemble learning method for classification, regression and other tasks, that operate by constructing a multitude of decision trees (n_estimators= [100, 300]) at training time and outputting the class that is the mode of the classes (classification) or mean prediction (regression) of the individual trees. Reference [Wikipedia](https://en.wikipedia.org/wiki/Random_forest)."
      ]
    },
    {
      "cell_type": "code",
      "execution_count": 69,
      "metadata": {
        "colab": {
          "base_uri": "https://localhost:8080/"
        },
        "id": "PYDDh71rGays",
        "outputId": "cc78498a-ccb9-4290-eca9-7ea3115fd4a8"
      },
      "outputs": [
        {
          "output_type": "stream",
          "name": "stdout",
          "text": [
            "100.0 {'n_estimators': 300}\n"
          ]
        }
      ],
      "source": [
        "# Random Forest\n",
        "\n",
        "random_forest = GridSearchCV(estimator=RandomForestClassifier(), param_grid={'n_estimators': [20, 300]}, cv=5).fit(train, target)\n",
        "random_forest.fit(train, target)\n",
        "acc_random_forest = round(random_forest.score(train, target) * 100, 2)\n",
        "print(acc_random_forest,random_forest.best_params_)"
      ]
    },
    {
      "cell_type": "code",
      "execution_count": 70,
      "metadata": {
        "colab": {
          "base_uri": "https://localhost:8080/"
        },
        "id": "HRyirLACGays",
        "outputId": "f3442678-3fae-47d8-acd4-67cf376b5ab6"
      },
      "outputs": [
        {
          "output_type": "execute_result",
          "data": {
            "text/plain": [
              "95.52"
            ]
          },
          "metadata": {},
          "execution_count": 70
        }
      ],
      "source": [
        "acc_test_random_forest = round(random_forest.score(test, target_test) * 100, 2)\n",
        "acc_test_random_forest"
      ]
    },
    {
      "cell_type": "code",
      "source": [
        "# Print the Confusion Matrix and slice it into four pieces\n",
        "y_pred = random_forest.predict(test)\n",
        "\n",
        "from sklearn.metrics import confusion_matrix\n",
        "\n",
        "cm = confusion_matrix(target_test, y_pred)\n",
        "\n",
        "print('Confusion matrix\\n\\n', cm)\n",
        "\n",
        "print('\\nTrue Positives(TP) = ', cm[0,0])\n",
        "\n",
        "print('\\nTrue Negatives(TN) = ', cm[1,1])\n",
        "\n",
        "print('\\nFalse Positives(FP) = ', cm[0,1])\n",
        "\n",
        "print('\\nFalse Negatives(FN) = ', cm[1,0])\n",
        "\n",
        "from sklearn.metrics import classification_report\n",
        "\n",
        "print(classification_report(target_test, y_pred))\n",
        "\n",
        "# visualize confusion matrix with seaborn heatmap\n",
        "import seaborn as sns\n",
        "cm_matrix = pd.DataFrame(data=cm, columns=['Actual Positive:1', 'Actual Negative:0'], \n",
        "                                 index=['Predict Positive:1', 'Predict Negative:0'])\n",
        "\n",
        "sns.heatmap(cm_matrix, annot=True, fmt='d', cmap='YlGnBu')\n",
        "print(\"--------------------------------------------------------------------------------------\")\n",
        "\n",
        "from sklearn.metrics import roc_curve\n",
        "\n",
        "\n",
        "def plot_roc_curve(fpr, tpr, label=None):\n",
        "    plt.plot(fpr, tpr, linewidth=2, label=label)\n",
        "    plt.plot([0, 1], [0, 1], \"k--\")\n",
        "    plt.axis([0, 1, 0, 1])\n",
        "    plt.xlabel('False Positive Rate')\n",
        "    plt.ylabel('True Positive Rate')\n",
        "    plt.title('ROC Curve')\n",
        "\n",
        "\n"
      ],
      "metadata": {
        "colab": {
          "base_uri": "https://localhost:8080/",
          "height": 666
        },
        "id": "bApNERgUf1N_",
        "outputId": "d533b0c0-df4c-4966-c56e-bbf34d4b1d37"
      },
      "execution_count": 71,
      "outputs": [
        {
          "output_type": "stream",
          "name": "stdout",
          "text": [
            "Confusion matrix\n",
            "\n",
            " [[196  11]\n",
            " [  8 209]]\n",
            "\n",
            "True Positives(TP) =  196\n",
            "\n",
            "True Negatives(TN) =  209\n",
            "\n",
            "False Positives(FP) =  11\n",
            "\n",
            "False Negatives(FN) =  8\n",
            "              precision    recall  f1-score   support\n",
            "\n",
            "          ac       0.96      0.95      0.95       207\n",
            "        inac       0.95      0.96      0.96       217\n",
            "\n",
            "    accuracy                           0.96       424\n",
            "   macro avg       0.96      0.95      0.96       424\n",
            "weighted avg       0.96      0.96      0.96       424\n",
            "\n",
            "--------------------------------------------------------------------------------------\n"
          ]
        },
        {
          "output_type": "display_data",
          "data": {
            "text/plain": [
              "<Figure size 432x288 with 2 Axes>"
            ],
            "image/png": "[encoded data removed]"
          },
          "metadata": {
            "needs_background": "light"
          }
        }
      ]
    },
    {
      "cell_type": "markdown",
      "metadata": {
        "id": "sjJpLLrCGayu"
      },
      "source": [
        "### 5.11 LGBM Classifier <a class=\"anchor\" id=\"5.11\"></a>\n",
        "\n",
        "[Back to Table of Contents](#0.1)"
      ]
    },
    {
      "cell_type": "markdown",
      "metadata": {
        "id": "wb2cWTElGayu"
      },
      "source": [
        "Light GBM is a fast, distributed, high-performance gradient boosting framework based on decision tree algorithms. It splits the tree leaf wise with the best fit whereas other boosting algorithms split the tree depth wise or level wise rather than leaf-wise. So when growing on the same leaf in Light GBM, the leaf-wise algorithm can reduce more loss than the level-wise algorithm and hence results in much better accuracy which can rarely be achieved by any of the existing boosting algorithms. Also, it is surprisingly very fast, hence the word ‘Light’. Reference [Analytics Vidhya](https://www.analyticsvidhya.com/blog/2017/06/which-algorithm-takes-the-crown-light-gbm-vs-xgboost/)."
      ]
    },
    {
      "cell_type": "markdown",
      "metadata": {
        "id": "UstrFpzPGayv"
      },
      "source": [
        "We will tuning the hyperparameters of the LGBMClassifier model using the HyperOpt and 10-fold crossvalidation"
      ]
    },
    {
      "cell_type": "code",
      "execution_count": 72,
      "metadata": {
        "id": "xw5obOmaGayv",
        "outputId": "9de2c4b0-1461-4d3a-9e6d-0e4af66091b0",
        "colab": {
          "base_uri": "https://localhost:8080/"
        }
      },
      "outputs": [
        {
          "output_type": "stream",
          "name": "stdout",
          "text": [
            "0.9333762617473026\n",
            "{'boosting_type': 'gbdt', 'colsample_bytree': 0.6950000000000001, 'learning_rate': 0.0454, 'max_depth': 9, 'min_child_weight': 5.75, 'n_estimators': 151, 'num_leaves': 536, 'objective': 'binary'}\n",
            "0.9445736164288199\n",
            "{'boosting_type': 'gbdt', 'colsample_bytree': 0.87, 'learning_rate': 0.02, 'max_depth': 5, 'min_child_weight': 4.025, 'n_estimators': 770, 'num_leaves': 3806, 'objective': 'binary'}\n",
            "0.9133031674208144\n",
            "{'boosting_type': 'gbdt', 'colsample_bytree': 0.9500000000000001, 'learning_rate': 0.0171, 'max_depth': 6, 'min_child_weight': 1.7750000000000001, 'n_estimators': 168, 'num_leaves': 1850, 'objective': 'binary'}\n",
            "0.9392690567351203\n",
            "{'boosting_type': 'gbdt', 'colsample_bytree': 0.6900000000000001, 'learning_rate': 0.0415, 'max_depth': 5, 'min_child_weight': 7.0, 'n_estimators': 430, 'num_leaves': 1670, 'objective': 'binary'}\n",
            "0.933954054994779\n",
            "{'boosting_type': 'gbdt', 'colsample_bytree': 0.675, 'learning_rate': 0.039400000000000004, 'max_depth': 7, 'min_child_weight': 7.7250000000000005, 'n_estimators': 746, 'num_leaves': 264, 'objective': 'binary'}\n",
            "0.9510720501218237\n",
            "{'boosting_type': 'gbdt', 'colsample_bytree': 0.665, 'learning_rate': 0.0412, 'max_depth': 7, 'min_child_weight': 1.0250000000000001, 'n_estimators': 918, 'num_leaves': 3728, 'objective': 'binary'}\n",
            "0.9369056735120083\n",
            "{'boosting_type': 'gbdt', 'colsample_bytree': 0.64, 'learning_rate': 0.045200000000000004, 'max_depth': 6, 'min_child_weight': 4.25, 'n_estimators': 150, 'num_leaves': 3264, 'objective': 'binary'}\n",
            "0.859648451096415\n",
            "{'boosting_type': 'gbdt', 'colsample_bytree': 0.55, 'learning_rate': 0.0324, 'max_depth': 2, 'min_child_weight': 8.35, 'n_estimators': 253, 'num_leaves': 3822, 'objective': 'binary'}\n",
            "0.9321823877479986\n",
            "{'boosting_type': 'gbdt', 'colsample_bytree': 0.645, 'learning_rate': 0.007500000000000001, 'max_depth': 8, 'min_child_weight': 4.025, 'n_estimators': 407, 'num_leaves': 3112, 'objective': 'binary'}\n",
            "0.9333623390184476\n",
            "{'boosting_type': 'gbdt', 'colsample_bytree': 0.72, 'learning_rate': 0.047, 'max_depth': 9, 'min_child_weight': 5.025, 'n_estimators': 106, 'num_leaves': 3764, 'objective': 'binary'}\n",
            "100%|██████████| 10/10 [03:58<00:00, 23.84s/it, best loss: 0.859648451096415]\n",
            "best:\n",
            "{'colsample_bytree': 0.55, 'learning_rate': 0.0324, 'max_depth': 0, 'min_child_weight': 8.35, 'n_estimators': 153, 'num_leaves': 1909}\n"
          ]
        }
      ],
      "source": [
        "def hyperopt_lgb_score(params):\n",
        "    clf = LGBMClassifier(**params)\n",
        "    current_score = cross_val_score(clf, train, target, cv=10).mean()\n",
        "    print(current_score, params)\n",
        "    return current_score \n",
        " \n",
        "space_lgb = {\n",
        "            'learning_rate': hp.quniform('learning_rate', 0, 0.05, 0.0001),\n",
        "            'n_estimators': hp.choice('n_estimators', range(100, 1000)),\n",
        "            'max_depth':  hp.choice('max_depth', np.arange(2, 12, dtype=int)),\n",
        "            'num_leaves': hp.choice('num_leaves', 2*np.arange(2, 2**11, dtype=int)),\n",
        "            'min_child_weight': hp.quniform('min_child_weight', 1, 9, 0.025),\n",
        "            'colsample_bytree': hp.quniform('colsample_bytree', 0.5, 1, 0.005),\n",
        "            'objective': 'binary',\n",
        "            'boosting_type': 'gbdt',\n",
        "            }\n",
        " \n",
        "best = fmin(fn=hyperopt_lgb_score, space=space_lgb, algo=tpe.suggest, max_evals=10)\n",
        "print('best:')\n",
        "print(best)"
      ]
    },
    {
      "cell_type": "code",
      "execution_count": 73,
      "metadata": {
        "id": "_2cVjogdGayv",
        "outputId": "8945e0b9-68ba-4459-dc4a-7fe1e395e4fc",
        "colab": {
          "base_uri": "https://localhost:8080/"
        }
      },
      "outputs": [
        {
          "output_type": "execute_result",
          "data": {
            "text/plain": [
              "{'boosting_type': 'gbdt',\n",
              " 'colsample_bytree': 0.55,\n",
              " 'learning_rate': 0.0324,\n",
              " 'max_depth': 2,\n",
              " 'min_child_weight': 8.35,\n",
              " 'n_estimators': 253,\n",
              " 'num_leaves': 3822,\n",
              " 'objective': 'binary'}"
            ]
          },
          "metadata": {},
          "execution_count": 73
        }
      ],
      "source": [
        "params = space_eval(space_lgb, best)\n",
        "params"
      ]
    },
    {
      "cell_type": "code",
      "execution_count": 99,
      "metadata": {
        "id": "aH_zHNFCGayv",
        "outputId": "a2833994-e8a5-4987-815a-564d61e6ddbf",
        "colab": {
          "base_uri": "https://localhost:8080/"
        }
      },
      "outputs": [
        {
          "output_type": "execute_result",
          "data": {
            "text/plain": [
              "100.0"
            ]
          },
          "metadata": {},
          "execution_count": 99
        }
      ],
      "source": [
        "LGB_Classifier = LGBMClassifier(**{'boosting_type': 'gbdt', 'colsample_bytree': 0.675, 'learning_rate': 0.039400000000000004, 'max_depth': 7, 'min_child_weight': 7.7250000000000005, 'n_estimators': 746, 'num_leaves': 264, 'objective': 'binary'}\n",
        ")\n",
        "LGB_Classifier.fit(train, target)\n",
        "acc_LGB_Classifier = round(LGB_Classifier.score(train, target) * 100, 2)\n",
        "acc_LGB_Classifier"
      ]
    },
    {
      "cell_type": "code",
      "execution_count": 100,
      "metadata": {
        "id": "AGVNEFRAGayv",
        "outputId": "ac70c1de-7bf6-4dfe-e3ee-4a66fc82a9fb",
        "colab": {
          "base_uri": "https://localhost:8080/"
        }
      },
      "outputs": [
        {
          "output_type": "execute_result",
          "data": {
            "text/plain": [
              "95.75"
            ]
          },
          "metadata": {},
          "execution_count": 100
        }
      ],
      "source": [
        "acc_test_LGB_Classifier = round(LGB_Classifier.score(test, target_test) * 100, 2)\n",
        "acc_test_LGB_Classifier"
      ]
    },
    {
      "cell_type": "code",
      "execution_count": 101,
      "metadata": {
        "id": "f8HWFt0EGayw",
        "outputId": "3853c155-36eb-44dc-a218-2a03519255c7",
        "colab": {
          "base_uri": "https://localhost:8080/",
          "height": 893
        }
      },
      "outputs": [
        {
          "output_type": "display_data",
          "data": {
            "text/plain": [
              "<Figure size 1080x1080 with 1 Axes>"
            ],
            "image/png": "[encoded data removed]"
          },
          "metadata": {
            "needs_background": "light"
          }
        }
      ],
      "source": [
        "fig =  plt.figure(figsize = (15,15))\n",
        "axes = fig.add_subplot(111)\n",
        "lgb.plot_importance(LGB_Classifier,ax = axes,height = 0.5)\n",
        "plt.show();\n",
        "plt.close()"
      ]
    },
    {
      "cell_type": "code",
      "source": [
        "# Print the Confusion Matrix and slice it into four pieces\n",
        "y_pred = LGB_Classifier.predict(test)\n",
        "\n",
        "from sklearn.metrics import confusion_matrix\n",
        "\n",
        "cm = confusion_matrix(target_test, y_pred)\n",
        "\n",
        "print('Confusion matrix\\n\\n', cm)\n",
        "\n",
        "print('\\nTrue Positives(TP) = ', cm[0,0])\n",
        "\n",
        "print('\\nTrue Negatives(TN) = ', cm[1,1])\n",
        "\n",
        "print('\\nFalse Positives(FP) = ', cm[0,1])\n",
        "\n",
        "print('\\nFalse Negatives(FN) = ', cm[1,0])\n",
        "\n",
        "from sklearn.metrics import classification_report\n",
        "\n",
        "print(classification_report(target_test, y_pred))\n",
        "\n",
        "# visualize confusion matrix with seaborn heatmap\n",
        "import seaborn as sns\n",
        "cm_matrix = pd.DataFrame(data=cm, columns=['Actual Positive:1', 'Actual Negative:0'], \n",
        "                                 index=['Predict Positive:1', 'Predict Negative:0'])\n",
        "\n",
        "sns.heatmap(cm_matrix, annot=True, fmt='d', cmap='YlGnBu')\n",
        "print(\"--------------------------------------------------------------------------------------\")\n",
        "\n",
        "from sklearn.metrics import roc_curve\n",
        "\n",
        "\n",
        "def plot_roc_curve(fpr, tpr, label=None):\n",
        "    plt.plot(fpr, tpr, linewidth=2, label=label)\n",
        "    plt.plot([0, 1], [0, 1], \"k--\")\n",
        "    plt.axis([0, 1, 0, 1])\n",
        "    plt.xlabel('False Positive Rate')\n",
        "    plt.ylabel('True Positive Rate')\n",
        "    plt.title('ROC Curve')\n",
        "\n",
        "\n"
      ],
      "metadata": {
        "colab": {
          "base_uri": "https://localhost:8080/",
          "height": 666
        },
        "id": "Tib5lnHVhexn",
        "outputId": "93c7f76c-2a1a-43c1-8129-b5c567a0c6ef"
      },
      "execution_count": 102,
      "outputs": [
        {
          "output_type": "stream",
          "name": "stdout",
          "text": [
            "Confusion matrix\n",
            "\n",
            " [[196  11]\n",
            " [  7 210]]\n",
            "\n",
            "True Positives(TP) =  196\n",
            "\n",
            "True Negatives(TN) =  210\n",
            "\n",
            "False Positives(FP) =  11\n",
            "\n",
            "False Negatives(FN) =  7\n",
            "              precision    recall  f1-score   support\n",
            "\n",
            "          ac       0.97      0.95      0.96       207\n",
            "        inac       0.95      0.97      0.96       217\n",
            "\n",
            "    accuracy                           0.96       424\n",
            "   macro avg       0.96      0.96      0.96       424\n",
            "weighted avg       0.96      0.96      0.96       424\n",
            "\n",
            "--------------------------------------------------------------------------------------\n"
          ]
        },
        {
          "output_type": "display_data",
          "data": {
            "text/plain": [
              "<Figure size 432x288 with 2 Axes>"
            ],
            "image/png": "[encoded data removed]"
          },
          "metadata": {
            "needs_background": "light"
          }
        }
      ]
    },
    {
      "cell_type": "markdown",
      "metadata": {
        "id": "vzgOKCpEGayw"
      },
      "source": [
        "### 5.12 GradientBoostingClassifier <a class=\"anchor\" id=\"5.12\"></a>\n",
        "\n",
        "[Back to Table of Contents](#0.1)"
      ]
    },
    {
      "cell_type": "markdown",
      "metadata": {
        "id": "e1MYNVWAGayw"
      },
      "source": [
        "Thanks to https://www.kaggle.com/kabure/titanic-eda-model-pipeline-keras-nn"
      ]
    },
    {
      "cell_type": "markdown",
      "metadata": {
        "id": "uehuSf03Gayw"
      },
      "source": [
        "**Gradient Boosting** builds an additive model in a forward stage-wise fashion; it allows for the optimization of arbitrary differentiable loss functions. In each stage n_classes_ regression trees are fit on the negative gradient of the binomial or multinomial deviance loss function. Binary classification is a special case where only a single regression tree is induced. The features are always randomly permuted at each split. Therefore, the best found split may vary, even with the same training data and max_features=n_features, if the improvement of the criterion is identical for several splits enumerated during the search of the best split. To obtain a deterministic behaviour during fitting, random_state has to be fixed. Reference [sklearn documentation](https://scikit-learn.org/stable/modules/generated/sklearn.ensemble.GradientBoostingClassifier.html)."
      ]
    },
    {
      "cell_type": "code",
      "execution_count": 78,
      "metadata": {
        "colab": {
          "base_uri": "https://localhost:8080/"
        },
        "id": "eySWiUA-Gayw",
        "outputId": "f05307c6-0abd-4f9d-a4bb-80de59bf6488"
      },
      "outputs": [
        {
          "output_type": "stream",
          "name": "stdout",
          "text": [
            "0.9245283675600419\n",
            "{'max_depth': 9, 'n_estimators': 179}\n",
            "0.9151061608075184\n",
            "{'max_depth': 6, 'n_estimators': 54}\n",
            "0.9363243995823181\n",
            "{'max_depth': 4, 'n_estimators': 212}\n",
            "0.9475426383571179\n",
            "{'max_depth': 6, 'n_estimators': 272}\n",
            "0.9416254785938044\n",
            "{'max_depth': 4, 'n_estimators': 253}\n",
            "0.9015001740341108\n",
            "{'max_depth': 2, 'n_estimators': 242}\n",
            "0.9092029237730594\n",
            "{'max_depth': 6, 'n_estimators': 38}\n",
            "0.9434110685694396\n",
            "{'max_depth': 6, 'n_estimators': 272}\n",
            "0.9227706230421162\n",
            "{'max_depth': 9, 'n_estimators': 162}\n",
            "0.903310128785242\n",
            "{'max_depth': 8, 'n_estimators': 37}\n",
            "100%|██████████| 10/10 [20:35<00:00, 123.57s/it, best loss: 0.9015001740341108]\n",
            "best:\n",
            "{'max_depth': 0, 'n_estimators': 240}\n"
          ]
        }
      ],
      "source": [
        "def hyperopt_gb_score(params):\n",
        "    clf = GradientBoostingClassifier(**params)\n",
        "    current_score = cross_val_score(clf, train, target, cv=10).mean()\n",
        "    print(current_score, params)\n",
        "    return current_score \n",
        " \n",
        "space_gb = {\n",
        "            'n_estimators': hp.choice('n_estimators', range(2, 300)),\n",
        "            'max_depth': hp.choice('max_depth', np.arange(2, 10, dtype=int))            \n",
        "        }\n",
        " \n",
        "best = fmin(fn=hyperopt_gb_score, space=space_gb, algo=tpe.suggest, max_evals=10)\n",
        "print('best:')\n",
        "print(best)"
      ]
    },
    {
      "cell_type": "code",
      "execution_count": 79,
      "metadata": {
        "id": "9jHtRA6-Gayx",
        "colab": {
          "base_uri": "https://localhost:8080/"
        },
        "outputId": "5f4a0c5c-d7ff-46e1-a873-76beca3e6122"
      },
      "outputs": [
        {
          "output_type": "execute_result",
          "data": {
            "text/plain": [
              "{'max_depth': 2, 'n_estimators': 242}"
            ]
          },
          "metadata": {},
          "execution_count": 79
        }
      ],
      "source": [
        "params = space_eval(space_gb, best)\n",
        "params"
      ]
    },
    {
      "cell_type": "code",
      "execution_count": 103,
      "metadata": {
        "id": "OVWowxYbGayx",
        "colab": {
          "base_uri": "https://localhost:8080/"
        },
        "outputId": "a6ffb75f-4122-4c75-a4d8-9229554934b0"
      },
      "outputs": [
        {
          "output_type": "execute_result",
          "data": {
            "text/plain": [
              "100.0"
            ]
          },
          "metadata": {},
          "execution_count": 103
        }
      ],
      "source": [
        "# Gradient Boosting Classifier\n",
        "\n",
        "gradient_boosting = GradientBoostingClassifier(**{'max_depth': 6, 'n_estimators': 272})\n",
        "gradient_boosting.fit(train, target)\n",
        "acc_gradient_boosting = round(gradient_boosting.score(train, target) * 100, 2)\n",
        "acc_gradient_boosting"
      ]
    },
    {
      "cell_type": "code",
      "execution_count": 104,
      "metadata": {
        "id": "HNWVPdRQGayx",
        "colab": {
          "base_uri": "https://localhost:8080/"
        },
        "outputId": "ab3a9112-b3fc-4529-ef5c-97b9a4895018"
      },
      "outputs": [
        {
          "output_type": "execute_result",
          "data": {
            "text/plain": [
              "95.28"
            ]
          },
          "metadata": {},
          "execution_count": 104
        }
      ],
      "source": [
        "acc_test_gradient_boosting = round(gradient_boosting.score(test, target_test) * 100, 2)\n",
        "acc_test_gradient_boosting"
      ]
    },
    {
      "cell_type": "code",
      "source": [
        "# Print the Confusion Matrix and slice it into four pieces\n",
        "y_pred = gradient_boosting.predict(test)\n",
        "\n",
        "from sklearn.metrics import confusion_matrix\n",
        "\n",
        "cm = confusion_matrix(target_test, y_pred)\n",
        "\n",
        "print('Confusion matrix\\n\\n', cm)\n",
        "\n",
        "print('\\nTrue Positives(TP) = ', cm[0,0])\n",
        "\n",
        "print('\\nTrue Negatives(TN) = ', cm[1,1])\n",
        "\n",
        "print('\\nFalse Positives(FP) = ', cm[0,1])\n",
        "\n",
        "print('\\nFalse Negatives(FN) = ', cm[1,0])\n",
        "\n",
        "from sklearn.metrics import classification_report\n",
        "\n",
        "print(classification_report(target_test, y_pred))\n",
        "\n",
        "# visualize confusion matrix with seaborn heatmap\n",
        "import seaborn as sns\n",
        "cm_matrix = pd.DataFrame(data=cm, columns=['Actual Positive:1', 'Actual Negative:0'], \n",
        "                                 index=['Predict Positive:1', 'Predict Negative:0'])\n",
        "\n",
        "sns.heatmap(cm_matrix, annot=True, fmt='d', cmap='YlGnBu')\n",
        "print(\"--------------------------------------------------------------------------------------\")\n",
        "\n",
        "from sklearn.metrics import roc_curve\n",
        "\n",
        "\n",
        "def plot_roc_curve(fpr, tpr, label=None):\n",
        "    plt.plot(fpr, tpr, linewidth=2, label=label)\n",
        "    plt.plot([0, 1], [0, 1], \"k--\")\n",
        "    plt.axis([0, 1, 0, 1])\n",
        "    plt.xlabel('False Positive Rate')\n",
        "    plt.ylabel('True Positive Rate')\n",
        "    plt.title('ROC Curve')\n",
        "\n",
        "\n"
      ],
      "metadata": {
        "colab": {
          "base_uri": "https://localhost:8080/",
          "height": 666
        },
        "id": "7YGnt1s8iuJ_",
        "outputId": "edc30bb8-75eb-4a72-a1bc-962d7db7c1ae"
      },
      "execution_count": 105,
      "outputs": [
        {
          "output_type": "stream",
          "name": "stdout",
          "text": [
            "Confusion matrix\n",
            "\n",
            " [[197  10]\n",
            " [ 10 207]]\n",
            "\n",
            "True Positives(TP) =  197\n",
            "\n",
            "True Negatives(TN) =  207\n",
            "\n",
            "False Positives(FP) =  10\n",
            "\n",
            "False Negatives(FN) =  10\n",
            "              precision    recall  f1-score   support\n",
            "\n",
            "          ac       0.95      0.95      0.95       207\n",
            "        inac       0.95      0.95      0.95       217\n",
            "\n",
            "    accuracy                           0.95       424\n",
            "   macro avg       0.95      0.95      0.95       424\n",
            "weighted avg       0.95      0.95      0.95       424\n",
            "\n",
            "--------------------------------------------------------------------------------------\n"
          ]
        },
        {
          "output_type": "display_data",
          "data": {
            "text/plain": [
              "<Figure size 432x288 with 2 Axes>"
            ],
            "image/png": "[encoded data removed]"
          },
          "metadata": {
            "needs_background": "light"
          }
        }
      ]
    },
    {
      "cell_type": "markdown",
      "metadata": {
        "id": "eS-swvP4Gayy"
      },
      "source": [
        "### 5.13 RidgeClassifier <a class=\"anchor\" id=\"5.13\"></a>\n",
        "\n",
        "[Back to Table of Contents](#0.1)"
      ]
    },
    {
      "cell_type": "markdown",
      "metadata": {
        "id": "l-bLqL0lGayy"
      },
      "source": [
        "Thanks to https://www.kaggle.com/kabure/titanic-eda-model-pipeline-keras-nn"
      ]
    },
    {
      "cell_type": "markdown",
      "metadata": {
        "id": "oFzmO43NGayy"
      },
      "source": [
        "Tikhonov Regularization, colloquially known as **Ridge Regression**, is the most commonly used regression algorithm to approximate an answer for an equation with no unique solution. This type of problem is very common in machine learning tasks, where the \"best\" solution must be chosen using limited data. If a unique solution exists, algorithm will return the optimal value. However, if multiple solutions exist, it may choose any of them. Reference [Brilliant.org](https://brilliant.org/wiki/ridge-regression/)."
      ]
    },
    {
      "cell_type": "code",
      "execution_count": 83,
      "metadata": {
        "id": "0Wk0g-jBGayy",
        "outputId": "7621ce30-b0ef-459d-ebc1-868381cc15e5",
        "colab": {
          "base_uri": "https://localhost:8080/"
        }
      },
      "outputs": [
        {
          "output_type": "execute_result",
          "data": {
            "text/plain": [
              "88.5"
            ]
          },
          "metadata": {},
          "execution_count": 83
        }
      ],
      "source": [
        "# Ridge Classifier\n",
        "\n",
        "ridge_classifier = RidgeClassifier()\n",
        "ridge_classifier.fit(train, target)\n",
        "acc_ridge_classifier = round(ridge_classifier.score(train, target) * 100, 2)\n",
        "acc_ridge_classifier"
      ]
    },
    {
      "cell_type": "code",
      "execution_count": 84,
      "metadata": {
        "id": "gruOcJXPGayy",
        "outputId": "64e4ec1b-dd6b-49e0-a9aa-c48ce110f9f7",
        "colab": {
          "base_uri": "https://localhost:8080/"
        }
      },
      "outputs": [
        {
          "output_type": "execute_result",
          "data": {
            "text/plain": [
              "88.44"
            ]
          },
          "metadata": {},
          "execution_count": 84
        }
      ],
      "source": [
        "acc_test_ridge_classifier = round(ridge_classifier.score(test, target_test) * 100, 2)\n",
        "acc_test_ridge_classifier"
      ]
    },
    {
      "cell_type": "code",
      "source": [
        "# Print the Confusion Matrix and slice it into four pieces\n",
        "y_pred = ridge_classifier.predict(test)\n",
        "\n",
        "from sklearn.metrics import confusion_matrix\n",
        "\n",
        "cm = confusion_matrix(target_test, y_pred)\n",
        "\n",
        "print('Confusion matrix\\n\\n', cm)\n",
        "\n",
        "print('\\nTrue Positives(TP) = ', cm[0,0])\n",
        "\n",
        "print('\\nTrue Negatives(TN) = ', cm[1,1])\n",
        "\n",
        "print('\\nFalse Positives(FP) = ', cm[0,1])\n",
        "\n",
        "print('\\nFalse Negatives(FN) = ', cm[1,0])\n",
        "\n",
        "from sklearn.metrics import classification_report\n",
        "\n",
        "print(classification_report(target_test, y_pred))\n",
        "\n",
        "# visualize confusion matrix with seaborn heatmap\n",
        "import seaborn as sns\n",
        "cm_matrix = pd.DataFrame(data=cm, columns=['Actual Positive:1', 'Actual Negative:0'], \n",
        "                                 index=['Predict Positive:1', 'Predict Negative:0'])\n",
        "\n",
        "sns.heatmap(cm_matrix, annot=True, fmt='d', cmap='YlGnBu')\n",
        "print(\"--------------------------------------------------------------------------------------\")\n",
        "\n",
        "from sklearn.metrics import roc_curve\n",
        "\n",
        "\n",
        "def plot_roc_curve(fpr, tpr, label=None):\n",
        "    plt.plot(fpr, tpr, linewidth=2, label=label)\n",
        "    plt.plot([0, 1], [0, 1], \"k--\")\n",
        "    plt.axis([0, 1, 0, 1])\n",
        "    plt.xlabel('False Positive Rate')\n",
        "    plt.ylabel('True Positive Rate')\n",
        "    plt.title('ROC Curve')\n",
        "\n",
        "\n"
      ],
      "metadata": {
        "colab": {
          "base_uri": "https://localhost:8080/",
          "height": 666
        },
        "id": "ixHxVq2ZmI4O",
        "outputId": "a0698f92-a31a-4490-c79e-6925c17a7428"
      },
      "execution_count": 85,
      "outputs": [
        {
          "output_type": "stream",
          "name": "stdout",
          "text": [
            "Confusion matrix\n",
            "\n",
            " [[177  30]\n",
            " [ 19 198]]\n",
            "\n",
            "True Positives(TP) =  177\n",
            "\n",
            "True Negatives(TN) =  198\n",
            "\n",
            "False Positives(FP) =  30\n",
            "\n",
            "False Negatives(FN) =  19\n",
            "              precision    recall  f1-score   support\n",
            "\n",
            "          ac       0.90      0.86      0.88       207\n",
            "        inac       0.87      0.91      0.89       217\n",
            "\n",
            "    accuracy                           0.88       424\n",
            "   macro avg       0.89      0.88      0.88       424\n",
            "weighted avg       0.89      0.88      0.88       424\n",
            "\n",
            "--------------------------------------------------------------------------------------\n"
          ]
        },
        {
          "output_type": "display_data",
          "data": {
            "text/plain": [
              "<Figure size 432x288 with 2 Axes>"
            ],
            "image/png": "[encoded data removed]"
          },
          "metadata": {
            "needs_background": "light"
          }
        }
      ]
    },
    {
      "cell_type": "markdown",
      "metadata": {
        "id": "t1OS9HoiGayz"
      },
      "source": [
        "### 5.15 ExtraTreesClassifier <a class=\"anchor\" id=\"5.15\"></a>\n",
        "\n",
        "[Back to Table of Contents](#0.1)"
      ]
    },
    {
      "cell_type": "markdown",
      "metadata": {
        "id": "VjxIpoWPGayz"
      },
      "source": [
        "Thanks to https://www.kaggle.com/kabure/titanic-eda-model-pipeline-keras-nn"
      ]
    },
    {
      "cell_type": "markdown",
      "metadata": {
        "id": "Q33SHnxmGayz"
      },
      "source": [
        "**ExtraTreesClassifier** implements a meta estimator that fits a number of randomized decision trees (a.k.a. extra-trees) on various sub-samples of the dataset and uses averaging to improve the predictive accuracy and control over-fitting. The default values for the parameters controlling the size of the trees (e.g. max_depth, min_samples_leaf, etc.) lead to fully grown and unpruned trees which can potentially be very large on some data sets. To reduce memory consumption, the complexity and size of the trees should be controlled by setting those parameter values. Reference [sklearn documentation](https://scikit-learn.org/stable/modules/generated/sklearn.ensemble.ExtraTreesClassifier.html). \n",
        "\n",
        "In extremely randomized trees, randomness goes one step further in the way splits are computed. As in random forests, a random subset of candidate features is used, but instead of looking for the most discriminative thresholds, thresholds are drawn at random for each candidate feature and the best of these randomly-generated thresholds is picked as the splitting rule. This usually allows to reduce the variance of the model a bit more, at the expense of a slightly greater increase in bias. Reference [sklearn documentation](https://scikit-learn.org/stable/modules/ensemble.html#Extremely%20Randomized%20Trees)."
      ]
    },
    {
      "cell_type": "code",
      "execution_count": 86,
      "metadata": {
        "id": "c_WKpF8rGay0",
        "outputId": "b62959c0-7ec6-4ac2-88ab-0ba6bc57a3d1",
        "colab": {
          "base_uri": "https://localhost:8080/"
        }
      },
      "outputs": [
        {
          "output_type": "stream",
          "name": "stdout",
          "text": [
            "0.9410372432996867\n",
            "{'max_depth': 9, 'max_features': None, 'min_samples_leaf': 1, 'n_estimators': 596}\n",
            "0.8902993386703795\n",
            "{'max_depth': 6, 'max_features': None, 'min_samples_leaf': 4, 'n_estimators': 868}\n",
            "0.8566863905325443\n",
            "{'max_depth': 5, 'max_features': None, 'min_samples_leaf': 2, 'n_estimators': 385}\n",
            "0.8879359554472677\n",
            "{'max_depth': 6, 'max_features': None, 'min_samples_leaf': 3, 'n_estimators': 487}\n",
            "0.9469230769230768\n",
            "{'max_depth': 11, 'max_features': None, 'min_samples_leaf': 2, 'n_estimators': 682}\n",
            "0.9156630699617125\n",
            "{'max_depth': 7, 'max_features': None, 'min_samples_leaf': 1, 'n_estimators': 784}\n",
            "0.9156491472328577\n",
            "{'max_depth': 7, 'max_features': None, 'min_samples_leaf': 1, 'n_estimators': 192}\n",
            "0.9327706230421162\n",
            "{'max_depth': 9, 'max_features': None, 'min_samples_leaf': 4, 'n_estimators': 179}\n",
            "0.7064009745910199\n",
            "{'max_depth': 2, 'max_features': None, 'min_samples_leaf': 2, 'n_estimators': 212}\n",
            "0.9221545422902888\n",
            "{'max_depth': 8, 'max_features': None, 'min_samples_leaf': 4, 'n_estimators': 170}\n",
            "100%|██████████| 10/10 [06:07<00:00, 36.73s/it, best loss: 0.7064009745910199]\n",
            "best:\n",
            "{'max_depth': 0, 'min_samples_leaf': 1, 'n_estimators': 112}\n"
          ]
        }
      ],
      "source": [
        "def hyperopt_etc_score(params):\n",
        "    clf = ExtraTreesClassifier(**params)\n",
        "    current_score = cross_val_score(clf, train, target, cv=10).mean()\n",
        "    print(current_score, params)\n",
        "    return current_score \n",
        " \n",
        "space_etc = {\n",
        "            'n_estimators': hp.choice('n_estimators', range(100, 1000)),\n",
        "            'max_features': hp.choice('max_features', np.arange(2, 17, dtype=int)),\n",
        "            'min_samples_leaf': hp.choice('min_samples_leaf', np.arange(1, 5, dtype=int)),\n",
        "            'max_depth':  hp.choice('max_depth', np.arange(2, 12, dtype=int)),\n",
        "            'max_features': None # for small number of features\n",
        "        }\n",
        " \n",
        "best = fmin(fn=hyperopt_etc_score, space=space_etc, algo=tpe.suggest, max_evals=10)\n",
        "print('best:')\n",
        "print(best)"
      ]
    },
    {
      "cell_type": "code",
      "execution_count": 87,
      "metadata": {
        "id": "Uv2ziJE0Gay0",
        "outputId": "c628f2a4-71f6-439d-e13a-56283a63315e",
        "colab": {
          "base_uri": "https://localhost:8080/"
        }
      },
      "outputs": [
        {
          "output_type": "execute_result",
          "data": {
            "text/plain": [
              "{'max_depth': 2,\n",
              " 'max_features': None,\n",
              " 'min_samples_leaf': 2,\n",
              " 'n_estimators': 212}"
            ]
          },
          "metadata": {},
          "execution_count": 87
        }
      ],
      "source": [
        "params = space_eval(space_etc, best)\n",
        "params"
      ]
    },
    {
      "cell_type": "code",
      "execution_count": 106,
      "metadata": {
        "id": "vVaYnupmGay0",
        "outputId": "5899e94e-8455-40d5-e842-7a4e88b2d8ba",
        "colab": {
          "base_uri": "https://localhost:8080/"
        }
      },
      "outputs": [
        {
          "output_type": "execute_result",
          "data": {
            "text/plain": [
              "100.0"
            ]
          },
          "metadata": {},
          "execution_count": 106
        }
      ],
      "source": [
        "# Extra Trees Classifier\n",
        "\n",
        "extra_trees_classifier = ExtraTreesClassifier(**{'max_depth': 11, 'max_features': None, 'min_samples_leaf': 2, 'n_estimators': 682})\n",
        "extra_trees_classifier.fit(train, target)\n",
        "acc_etc = round(extra_trees_classifier.score(train, target) * 100, 2)\n",
        "acc_etc"
      ]
    },
    {
      "cell_type": "code",
      "execution_count": 107,
      "metadata": {
        "id": "v13VVbQAGay0",
        "outputId": "be9d95aa-b9b9-4fb5-9b91-b1c19b00688c",
        "colab": {
          "base_uri": "https://localhost:8080/"
        }
      },
      "outputs": [
        {
          "output_type": "execute_result",
          "data": {
            "text/plain": [
              "96.46"
            ]
          },
          "metadata": {},
          "execution_count": 107
        }
      ],
      "source": [
        "acc_test_etc = round(extra_trees_classifier.score(test, target_test) * 100, 2)\n",
        "acc_test_etc"
      ]
    },
    {
      "cell_type": "code",
      "source": [
        "# Print the Confusion Matrix and slice it into four pieces\n",
        "y_pred = extra_trees_classifier.predict(test)\n",
        "\n",
        "from sklearn.metrics import confusion_matrix\n",
        "\n",
        "cm = confusion_matrix(target_test, y_pred)\n",
        "\n",
        "print('Confusion matrix\\n\\n', cm)\n",
        "\n",
        "print('\\nTrue Positives(TP) = ', cm[0,0])\n",
        "\n",
        "print('\\nTrue Negatives(TN) = ', cm[1,1])\n",
        "\n",
        "print('\\nFalse Positives(FP) = ', cm[0,1])\n",
        "\n",
        "print('\\nFalse Negatives(FN) = ', cm[1,0])\n",
        "\n",
        "from sklearn.metrics import classification_report\n",
        "\n",
        "print(classification_report(target_test, y_pred))\n",
        "\n",
        "# visualize confusion matrix with seaborn heatmap\n",
        "import seaborn as sns\n",
        "cm_matrix = pd.DataFrame(data=cm, columns=['Actual Positive:1', 'Actual Negative:0'], \n",
        "                                 index=['Predict Positive:1', 'Predict Negative:0'])\n",
        "\n",
        "sns.heatmap(cm_matrix, annot=True, fmt='d', cmap='YlGnBu')\n",
        "print(\"--------------------------------------------------------------------------------------\")\n",
        "\n",
        "from sklearn.metrics import roc_curve\n",
        "\n",
        "\n",
        "def plot_roc_curve(fpr, tpr, label=None):\n",
        "    plt.plot(fpr, tpr, linewidth=2, label=label)\n",
        "    plt.plot([0, 1], [0, 1], \"k--\")\n",
        "    plt.axis([0, 1, 0, 1])\n",
        "    plt.xlabel('False Positive Rate')\n",
        "    plt.ylabel('True Positive Rate')\n",
        "    plt.title('ROC Curve')\n",
        "\n",
        "\n"
      ],
      "metadata": {
        "colab": {
          "base_uri": "https://localhost:8080/",
          "height": 666
        },
        "id": "Gkf17aPoolKO",
        "outputId": "62736c21-c3d3-46b4-d993-8545424fd4ff"
      },
      "execution_count": 108,
      "outputs": [
        {
          "output_type": "stream",
          "name": "stdout",
          "text": [
            "Confusion matrix\n",
            "\n",
            " [[200   7]\n",
            " [  8 209]]\n",
            "\n",
            "True Positives(TP) =  200\n",
            "\n",
            "True Negatives(TN) =  209\n",
            "\n",
            "False Positives(FP) =  7\n",
            "\n",
            "False Negatives(FN) =  8\n",
            "              precision    recall  f1-score   support\n",
            "\n",
            "          ac       0.96      0.97      0.96       207\n",
            "        inac       0.97      0.96      0.97       217\n",
            "\n",
            "    accuracy                           0.96       424\n",
            "   macro avg       0.96      0.96      0.96       424\n",
            "weighted avg       0.96      0.96      0.96       424\n",
            "\n",
            "--------------------------------------------------------------------------------------\n"
          ]
        },
        {
          "output_type": "display_data",
          "data": {
            "text/plain": [
              "<Figure size 432x288 with 2 Axes>"
            ],
            "image/png": "[encoded data removed]"
          },
          "metadata": {
            "needs_background": "light"
          }
        }
      ]
    },
    {
      "cell_type": "markdown",
      "metadata": {
        "id": "e5VIEQ6LGay3"
      },
      "source": [
        "### 5.18 AdaBoost Classifier <a class=\"anchor\" id=\"5.18\"></a>\n",
        "\n",
        "[Back to Table of Contents](#0.1)"
      ]
    },
    {
      "cell_type": "markdown",
      "metadata": {
        "id": "5tqnzTqrGay3"
      },
      "source": [
        "Thanks to https://scikit-learn.org/stable/modules/ensemble.html#adaboost"
      ]
    },
    {
      "cell_type": "markdown",
      "metadata": {
        "id": "vFXFWRvLGay3"
      },
      "source": [
        "The core principle of **AdaBoost** is to fit a sequence of weak learners (i.e., models that are only slightly better than random guessing, such as small decision trees) on repeatedly modified versions of the data. The predictions from all of them are then combined through a weighted majority vote (or sum) to produce the final prediction. The data modifications at each so-called boosting iteration consist of applying N weights to each of the training samples. Initially, those weights are all set to 1/N, so that the first step simply trains a weak learner on the original data. For each successive iteration, the sample weights are individually modified and the learning algorithm is reapplied to the reweighted data. At a given step, those training examples that were incorrectly predicted by the boosted model induced at the previous step have their weights increased, whereas the weights are decreased for those that were predicted correctly. As iterations proceed, examples that are difficult to predict receive ever-increasing influence. Each subsequent weak learner is thereby forced to concentrate on the examples that are missed by the previous ones in the sequence. Reference [sklearn documentation](https://scikit-learn.org/stable/modules/ensemble.html#adaboost)."
      ]
    },
    {
      "cell_type": "code",
      "execution_count": 91,
      "metadata": {
        "id": "4G2dsNlrGay3",
        "outputId": "c6346afc-c5c0-4910-ddc8-0d01621ae1fa",
        "colab": {
          "base_uri": "https://localhost:8080/"
        }
      },
      "outputs": [
        {
          "output_type": "stream",
          "name": "stdout",
          "text": [
            "0.6721963104768535\n",
            "{'learning_rate': 0.0033, 'n_estimators': 395}\n",
            "0.6733797424295161\n",
            "{'learning_rate': 0.006900000000000001, 'n_estimators': 157}\n",
            "0.6733727810650888\n",
            "{'learning_rate': 0.0089, 'n_estimators': 154}\n",
            "0.7983431952662723\n",
            "{'learning_rate': 0.0151, 'n_estimators': 804}\n",
            "0.6727775844065437\n",
            "{'learning_rate': 0.004, 'n_estimators': 524}\n",
            "0.8024678036895232\n",
            "{'learning_rate': 0.043500000000000004, 'n_estimators': 301}\n",
            "0.8006961364427427\n",
            "{'learning_rate': 0.0275, 'n_estimators': 478}\n",
            "0.6910476853463278\n",
            "{'learning_rate': 0.0031000000000000003, 'n_estimators': 805}\n",
            "0.8290080055690915\n",
            "{'learning_rate': 0.028900000000000002, 'n_estimators': 781}\n",
            "0.7747372084928645\n",
            "{'learning_rate': 0.021400000000000002, 'n_estimators': 384}\n",
            "100%|██████████| 10/10 [16:39<00:00, 99.94s/it, best loss: 0.6721963104768535] \n",
            "best:\n",
            "{'learning_rate': 0.0033, 'n_estimators': 345}\n"
          ]
        }
      ],
      "source": [
        "def hyperopt_ab_score(params):\n",
        "    clf = AdaBoostClassifier(**params)\n",
        "    current_score = cross_val_score(clf, train, target, cv=10).mean()\n",
        "    print(current_score, params)\n",
        "    return current_score \n",
        "\n",
        "space_ab = {\n",
        "            'n_estimators': hp.choice('n_estimators', range(50, 1000)),\n",
        "            'learning_rate': hp.quniform('learning_rate', 0, 0.05, 0.0001)       \n",
        "        }\n",
        "\n",
        "best = fmin(fn=hyperopt_ab_score, space=space_ab, algo=tpe.suggest, max_evals=10)\n",
        "print('best:')\n",
        "print(best)"
      ]
    },
    {
      "cell_type": "code",
      "execution_count": 92,
      "metadata": {
        "id": "_5VpWWxbGay4",
        "outputId": "3ca8ddfb-1416-4346-93ee-63b7e9380027",
        "colab": {
          "base_uri": "https://localhost:8080/"
        }
      },
      "outputs": [
        {
          "output_type": "execute_result",
          "data": {
            "text/plain": [
              "{'learning_rate': 0.0033, 'n_estimators': 395}"
            ]
          },
          "metadata": {},
          "execution_count": 92
        }
      ],
      "source": [
        "params = space_eval(space_ab, best)\n",
        "params"
      ]
    },
    {
      "cell_type": "code",
      "execution_count": 109,
      "metadata": {
        "id": "fBt-eIabGay4",
        "outputId": "a77e6230-676e-4508-aad0-29a0b899648e",
        "colab": {
          "base_uri": "https://localhost:8080/"
        }
      },
      "outputs": [
        {
          "output_type": "execute_result",
          "data": {
            "text/plain": [
              "85.73"
            ]
          },
          "metadata": {},
          "execution_count": 109
        }
      ],
      "source": [
        "# AdaBoost Classifier\n",
        "\n",
        "Ada_Boost = AdaBoostClassifier(**{'learning_rate': 0.043500000000000004, 'n_estimators': 301})\n",
        "Ada_Boost.fit(train, target)\n",
        "Ada_Boost.score(train, target)\n",
        "acc_AdaBoost = round(Ada_Boost.score(train, target) * 100, 2)\n",
        "acc_AdaBoost"
      ]
    },
    {
      "cell_type": "code",
      "execution_count": 112,
      "metadata": {
        "id": "6AgMWeFzGay4",
        "outputId": "b58bbe7e-affa-42c2-aa2d-3dd8953d83b5",
        "colab": {
          "base_uri": "https://localhost:8080/"
        }
      },
      "outputs": [
        {
          "output_type": "execute_result",
          "data": {
            "text/plain": [
              "79.48"
            ]
          },
          "metadata": {},
          "execution_count": 112
        }
      ],
      "source": [
        "acc_test_Ada_Boost = round(Ada_Boost.score(test, target_test) * 100, 2)\n",
        "acc_test_Ada_Boost"
      ]
    },
    {
      "cell_type": "code",
      "source": [
        "# Print the Confusion Matrix and slice it into four pieces\n",
        "y_pred = Ada_Boost.predict(test)\n",
        "\n",
        "from sklearn.metrics import confusion_matrix\n",
        "\n",
        "cm = confusion_matrix(target_test, y_pred)\n",
        "\n",
        "print('Confusion matrix\\n\\n', cm)\n",
        "\n",
        "print('\\nTrue Positives(TP) = ', cm[0,0])\n",
        "\n",
        "print('\\nTrue Negatives(TN) = ', cm[1,1])\n",
        "\n",
        "print('\\nFalse Positives(FP) = ', cm[0,1])\n",
        "\n",
        "print('\\nFalse Negatives(FN) = ', cm[1,0])\n",
        "\n",
        "from sklearn.metrics import classification_report\n",
        "\n",
        "print(classification_report(target_test, y_pred))\n",
        "\n",
        "# visualize confusion matrix with seaborn heatmap\n",
        "import seaborn as sns\n",
        "cm_matrix = pd.DataFrame(data=cm, columns=['Actual Positive:1', 'Actual Negative:0'], \n",
        "                                 index=['Predict Positive:1', 'Predict Negative:0'])\n",
        "\n",
        "sns.heatmap(cm_matrix, annot=True, fmt='d', cmap='YlGnBu')\n",
        "print(\"--------------------------------------------------------------------------------------\")\n",
        "\n",
        "from sklearn.metrics import roc_curve\n",
        "\n",
        "\n",
        "def plot_roc_curve(fpr, tpr, label=None):\n",
        "    plt.plot(fpr, tpr, linewidth=2, label=label)\n",
        "    plt.plot([0, 1], [0, 1], \"k--\")\n",
        "    plt.axis([0, 1, 0, 1])\n",
        "    plt.xlabel('False Positive Rate')\n",
        "    plt.ylabel('True Positive Rate')\n",
        "    plt.title('ROC Curve')\n",
        "\n",
        "\n"
      ],
      "metadata": {
        "colab": {
          "base_uri": "https://localhost:8080/",
          "height": 666
        },
        "id": "gZ31t1nTu-SG",
        "outputId": "0be7317e-d75d-4acb-c7e1-2a37bf9a92cc"
      },
      "execution_count": 113,
      "outputs": [
        {
          "output_type": "stream",
          "name": "stdout",
          "text": [
            "Confusion matrix\n",
            "\n",
            " [[167  40]\n",
            " [ 47 170]]\n",
            "\n",
            "True Positives(TP) =  167\n",
            "\n",
            "True Negatives(TN) =  170\n",
            "\n",
            "False Positives(FP) =  40\n",
            "\n",
            "False Negatives(FN) =  47\n",
            "              precision    recall  f1-score   support\n",
            "\n",
            "          ac       0.78      0.81      0.79       207\n",
            "        inac       0.81      0.78      0.80       217\n",
            "\n",
            "    accuracy                           0.79       424\n",
            "   macro avg       0.79      0.80      0.79       424\n",
            "weighted avg       0.80      0.79      0.79       424\n",
            "\n",
            "--------------------------------------------------------------------------------------\n"
          ]
        },
        {
          "output_type": "display_data",
          "data": {
            "text/plain": [
              "<Figure size 432x288 with 2 Axes>"
            ],
            "image/png": "[encoded data removed]"
          },
          "metadata": {
            "needs_background": "light"
          }
        }
      ]
    },
    {
      "cell_type": "markdown",
      "metadata": {
        "id": "BvJO9kuIGay8"
      },
      "source": [
        "## 6. Models evaluation <a class=\"anchor\" id=\"6\"></a>\n",
        "\n",
        "[Back to Table of Contents](#0.1)"
      ]
    },
    {
      "cell_type": "markdown",
      "metadata": {
        "id": "tI2dmLxZGay8"
      },
      "source": [
        "We can now rank our evaluation of all the models to choose the best one for our problem."
      ]
    },
    {
      "cell_type": "code",
      "execution_count": 114,
      "metadata": {
        "id": "H66CAJUOGay8"
      },
      "outputs": [],
      "source": [
        "models = pd.DataFrame({\n",
        "    'Model': ['Logistic Regression', 'Support Vector Machines', 'k-Nearest Neighbors', 'Naive Bayes', \n",
        "              'Perceptron', 'Stochastic Gradient Decent', \n",
        "              'Decision Tree Classifier', 'Random Forest',  'LGBMClassifier',\n",
        "              'GradientBoostingClassifier', 'RidgeClassifier', 'ExtraTreesClassifier', \n",
        "              'AdaBoostClassifier'],\n",
        "    \n",
        "    'Score_train': [acc_log, acc_svc, acc_knn, acc_gaussian, \n",
        "              acc_perceptron, acc_sgd, \n",
        "              acc_decision_tree, acc_random_forest, acc_LGB_Classifier,\n",
        "              acc_gradient_boosting, acc_ridge_classifier, acc_etc, \n",
        "              acc_AdaBoost],\n",
        "    'Score_test': [acc_test_log, acc_test_svc,  acc_test_knn, acc_test_gaussian, \n",
        "              acc_test_perceptron, acc_test_sgd, \n",
        "              acc_test_decision_tree, acc_test_random_forest, acc_test_LGB_Classifier,\n",
        "              acc_test_gradient_boosting, acc_test_ridge_classifier, acc_test_etc, \n",
        "              acc_test_AdaBoost]\n",
        "                    })"
      ]
    },
    {
      "cell_type": "code",
      "execution_count": 115,
      "metadata": {
        "id": "JsseJXPMGay9",
        "outputId": "fb407bf9-9e44-4e58-f274-3b2fd144e660",
        "colab": {
          "base_uri": "https://localhost:8080/",
          "height": 457
        }
      },
      "outputs": [
        {
          "output_type": "execute_result",
          "data": {
            "text/plain": [
              "                         Model  Score_train  Score_test\n",
              "1      Support Vector Machines        99.59       97.88\n",
              "2          k-Nearest Neighbors        99.12       97.41\n",
              "11        ExtraTreesClassifier       100.00       96.46\n",
              "8               LGBMClassifier       100.00       95.75\n",
              "7                Random Forest       100.00       95.52\n",
              "9   GradientBoostingClassifier       100.00       95.28\n",
              "0          Logistic Regression        88.92       88.92\n",
              "10             RidgeClassifier        88.50       88.44\n",
              "5   Stochastic Gradient Decent        88.86       87.50\n",
              "4                   Perceptron        86.62       87.03\n",
              "3                  Naive Bayes        82.72       83.25\n",
              "6     Decision Tree Classifier       100.00       79.95\n",
              "12          AdaBoostClassifier        85.73       79.48"
            ],
            "text/html": [
              "\n",
              "  <div id=\"df-d5b0bb29-dc06-4d19-8703-0726bc288c2a\">\n",
              "    <div class=\"colab-df-container\">\n",
              "      <div>\n",
              "<style scoped>\n",
              "    .dataframe tbody tr th:only-of-type {\n",
              "        vertical-align: middle;\n",
              "    }\n",
              "\n",
              "    .dataframe tbody tr th {\n",
              "        vertical-align: top;\n",
              "    }\n",
              "\n",
              "    .dataframe thead th {\n",
              "        text-align: right;\n",
              "    }\n",
              "</style>\n",
              "<table border=\"1\" class=\"dataframe\">\n",
              "  <thead>\n",
              "    <tr style=\"text-align: right;\">\n",
              "      <th></th>\n",
              "      <th>Model</th>\n",
              "      <th>Score_train</th>\n",
              "      <th>Score_test</th>\n",
              "    </tr>\n",
              "  </thead>\n",
              "  <tbody>\n",
              "    <tr>\n",
              "      <th>1</th>\n",
              "      <td>Support Vector Machines</td>\n",
              "      <td>99.59</td>\n",
              "      <td>97.88</td>\n",
              "    </tr>\n",
              "    <tr>\n",
              "      <th>2</th>\n",
              "      <td>k-Nearest Neighbors</td>\n",
              "      <td>99.12</td>\n",
              "      <td>97.41</td>\n",
              "    </tr>\n",
              "    <tr>\n",
              "      <th>11</th>\n",
              "      <td>ExtraTreesClassifier</td>\n",
              "      <td>100.00</td>\n",
              "      <td>96.46</td>\n",
              "    </tr>\n",
              "    <tr>\n",
              "      <th>8</th>\n",
              "      <td>LGBMClassifier</td>\n",
              "      <td>100.00</td>\n",
              "      <td>95.75</td>\n",
              "    </tr>\n",
              "    <tr>\n",
              "      <th>7</th>\n",
              "      <td>Random Forest</td>\n",
              "      <td>100.00</td>\n",
              "      <td>95.52</td>\n",
              "    </tr>\n",
              "    <tr>\n",
              "      <th>9</th>\n",
              "      <td>GradientBoostingClassifier</td>\n",
              "      <td>100.00</td>\n",
              "      <td>95.28</td>\n",
              "    </tr>\n",
              "    <tr>\n",
              "      <th>0</th>\n",
              "      <td>Logistic Regression</td>\n",
              "      <td>88.92</td>\n",
              "      <td>88.92</td>\n",
              "    </tr>\n",
              "    <tr>\n",
              "      <th>10</th>\n",
              "      <td>RidgeClassifier</td>\n",
              "      <td>88.50</td>\n",
              "      <td>88.44</td>\n",
              "    </tr>\n",
              "    <tr>\n",
              "      <th>5</th>\n",
              "      <td>Stochastic Gradient Decent</td>\n",
              "      <td>88.86</td>\n",
              "      <td>87.50</td>\n",
              "    </tr>\n",
              "    <tr>\n",
              "      <th>4</th>\n",
              "      <td>Perceptron</td>\n",
              "      <td>86.62</td>\n",
              "      <td>87.03</td>\n",
              "    </tr>\n",
              "    <tr>\n",
              "      <th>3</th>\n",
              "      <td>Naive Bayes</td>\n",
              "      <td>82.72</td>\n",
              "      <td>83.25</td>\n",
              "    </tr>\n",
              "    <tr>\n",
              "      <th>6</th>\n",
              "      <td>Decision Tree Classifier</td>\n",
              "      <td>100.00</td>\n",
              "      <td>79.95</td>\n",
              "    </tr>\n",
              "    <tr>\n",
              "      <th>12</th>\n",
              "      <td>AdaBoostClassifier</td>\n",
              "      <td>85.73</td>\n",
              "      <td>79.48</td>\n",
              "    </tr>\n",
              "  </tbody>\n",
              "</table>\n",
              "</div>\n",
              "      <button class=\"colab-df-convert\" onclick=\"convertToInteractive('df-d5b0bb29-dc06-4d19-8703-0726bc288c2a')\"\n",
              "              title=\"Convert this dataframe to an interactive table.\"\n",
              "              style=\"display:none;\">\n",
              "        \n",
              "  <svg xmlns=\"http://www.w3.org/2000/svg\" height=\"24px\"viewBox=\"0 0 24 24\"\n",
              "       width=\"24px\">\n",
              "    <path d=\"M0 0h24v24H0V0z\" fill=\"none\"/>\n",
              "    <path d=\"M18.56 5.44l.94 2.06.94-2.06 2.06-.94-2.06-.94-.94-2.06-.94 2.06-2.06.94zm-11 1L8.5 8.5l.94-2.06 2.06-.94-2.06-.94L8.5 2.5l-.94 2.06-2.06.94zm10 10l.94 2.06.94-2.06 2.06-.94-2.06-.94-.94-2.06-.94 2.06-2.06.94z\"/><path d=\"M17.41 7.96l-1.37-1.37c-.4-.4-.92-.59-1.43-.59-.52 0-1.04.2-1.43.59L10.3 9.45l-7.72 7.72c-.78.78-.78 2.05 0 2.83L4 21.41c.39.39.9.59 1.41.59.51 0 1.02-.2 1.41-.59l7.78-7.78 2.81-2.81c.8-.78.8-2.07 0-2.86zM5.41 20L4 18.59l7.72-7.72 1.47 1.35L5.41 20z\"/>\n",
              "  </svg>\n",
              "      </button>\n",
              "      \n",
              "  <style>\n",
              "    .colab-df-container {\n",
              "      display:flex;\n",
              "      flex-wrap:wrap;\n",
              "      gap: 12px;\n",
              "    }\n",
              "\n",
              "    .colab-df-convert {\n",
              "      background-color: #E8F0FE;\n",
              "      border: none;\n",
              "      border-radius: 50%;\n",
              "      cursor: pointer;\n",
              "      display: none;\n",
              "      fill: #1967D2;\n",
              "      height: 32px;\n",
              "      padding: 0 0 0 0;\n",
              "      width: 32px;\n",
              "    }\n",
              "\n",
              "    .colab-df-convert:hover {\n",
              "      background-color: #E2EBFA;\n",
              "      box-shadow: 0px 1px 2px rgba(60, 64, 67, 0.3), 0px 1px 3px 1px rgba(60, 64, 67, 0.15);\n",
              "      fill: #174EA6;\n",
              "    }\n",
              "\n",
              "    [theme=dark] .colab-df-convert {\n",
              "      background-color: #3B4455;\n",
              "      fill: #D2E3FC;\n",
              "    }\n",
              "\n",
              "    [theme=dark] .colab-df-convert:hover {\n",
              "      background-color: #434B5C;\n",
              "      box-shadow: 0px 1px 3px 1px rgba(0, 0, 0, 0.15);\n",
              "      filter: drop-shadow(0px 1px 2px rgba(0, 0, 0, 0.3));\n",
              "      fill: #FFFFFF;\n",
              "    }\n",
              "  </style>\n",
              "\n",
              "      <script>\n",
              "        const buttonEl =\n",
              "          document.querySelector('#df-d5b0bb29-dc06-4d19-8703-0726bc288c2a button.colab-df-convert');\n",
              "        buttonEl.style.display =\n",
              "          google.colab.kernel.accessAllowed ? 'block' : 'none';\n",
              "\n",
              "        async function convertToInteractive(key) {\n",
              "          const element = document.querySelector('#df-d5b0bb29-dc06-4d19-8703-0726bc288c2a');\n",
              "          const dataTable =\n",
              "            await google.colab.kernel.invokeFunction('convertToInteractive',\n",
              "                                                     [key], {});\n",
              "          if (!dataTable) return;\n",
              "\n",
              "          const docLinkHtml = 'Like what you see? Visit the ' +\n",
              "            '<a target=\"_blank\" href=https://colab.research.google.com/notebooks/data_table.ipynb>data table notebook</a>'\n",
              "            + ' to learn more about interactive tables.';\n",
              "          element.innerHTML = '';\n",
              "          dataTable['output_type'] = 'display_data';\n",
              "          await google.colab.output.renderOutput(dataTable, element);\n",
              "          const docLink = document.createElement('div');\n",
              "          docLink.innerHTML = docLinkHtml;\n",
              "          element.appendChild(docLink);\n",
              "        }\n",
              "      </script>\n",
              "    </div>\n",
              "  </div>\n",
              "  "
            ]
          },
          "metadata": {},
          "execution_count": 115
        }
      ],
      "source": [
        "models.sort_values(by=['Score_test', 'Score_train'], ascending=False)"
      ]
    },
    {
      "cell_type": "code",
      "execution_count": 116,
      "metadata": {
        "id": "vmC7rbrOGay-",
        "outputId": "79d19e60-cf60-4a3c-ebf8-caa091e08efc",
        "colab": {
          "base_uri": "https://localhost:8080/",
          "height": 520
        }
      },
      "outputs": [
        {
          "output_type": "display_data",
          "data": {
            "text/plain": [
              "<Figure size 1800x432 with 1 Axes>"
            ],
            "image/png": "[encoded data removed]"
          },
          "metadata": {
            "needs_background": "light"
          }
        }
      ],
      "source": [
        "# Plot\n",
        "plt.figure(figsize=[25,6])\n",
        "xx = models['Model']\n",
        "plt.tick_params(labelsize=14)\n",
        "plt.plot(xx, models['Score_train'], label = 'Score_train')\n",
        "plt.plot(xx, models['Score_test'], label = 'Score_test')\n",
        "plt.legend()\n",
        "plt.title('Score of 20 popular models for train and test datasets')\n",
        "plt.xlabel('Models')\n",
        "plt.ylabel('Score, %')\n",
        "plt.xticks(xx, rotation='vertical')\n",
        "plt.savefig('graph.png')\n",
        "plt.show()"
      ]
    },
    {
      "cell_type": "code",
      "source": [],
      "metadata": {
        "id": "b5XP6VHcdV64"
      },
      "execution_count": null,
      "outputs": []
    }
  ],
  "metadata": {
    "kernelspec": {
      "display_name": "Python 3",
      "language": "python",
      "name": "python3"
    },
    "language_info": {
      "codemirror_mode": {
        "name": "ipython",
        "version": 3
      },
      "file_extension": ".py",
      "mimetype": "text/x-python",
      "name": "python",
      "nbconvert_exporter": "python",
      "pygments_lexer": "ipython3",
      "version": "3.6.6"
    },
    "colab": {
      "provenance": []
    },
    "accelerator": "GPU",
    "gpuClass": "standard"
  },
  "nbformat": 4,
  "nbformat_minor": 0
}