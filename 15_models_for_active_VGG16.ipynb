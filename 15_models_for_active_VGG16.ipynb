{
  "cells": [
    {
      "cell_type": "markdown",
      "metadata": {
        "id": "nB6MkwKfGaye"
      },
      "source": [
        "## 1. Import libraries <a class=\"anchor\" id=\"1\"></a>\n",
        "\n",
        "[Back to Table of Contents](#0.1)"
      ]
    },
    {
      "cell_type": "code",
      "execution_count": 93,
      "metadata": {
        "_cell_guid": "b1076dfc-b9ad-4769-8c92-a6c4dae69d19",
        "_uuid": "8f2839f25d086af736a60e9eeb907d3b93b6e0e5",
        "id": "wau0Bxx1Gaye"
      },
      "outputs": [],
      "source": [
        "import numpy as np\n",
        "import pandas as pd\n",
        "import matplotlib.pyplot as plt\n",
        "%matplotlib inline\n",
        "\n",
        "# preprocessing\n",
        "from sklearn.preprocessing import LabelEncoder\n",
        "from sklearn.model_selection import train_test_split, cross_val_score, GridSearchCV\n",
        "import pandas_profiling as pp\n",
        "\n",
        "# models\n",
        "from sklearn.linear_model import LogisticRegression, Perceptron, RidgeClassifier, SGDClassifier\n",
        "from sklearn.svm import SVC, LinearSVC\n",
        "from sklearn.ensemble import RandomForestClassifier, GradientBoostingClassifier, ExtraTreesClassifier \n",
        "from sklearn.ensemble import BaggingClassifier, AdaBoostClassifier, VotingClassifier \n",
        "from sklearn.neighbors import KNeighborsClassifier\n",
        "from sklearn.naive_bayes import GaussianNB\n",
        "from sklearn.tree import DecisionTreeClassifier\n",
        "from sklearn import metrics\n",
        "import xgboost as xgb\n",
        "from xgboost import XGBClassifier\n",
        "import lightgbm as lgb\n",
        "from lightgbm import LGBMClassifier\n",
        "\n",
        "# NN models\n",
        "import keras\n",
        "from keras.models import Sequential\n",
        "from keras.layers import Dense, Dropout\n",
        "from keras import optimizers\n",
        "from keras.wrappers.scikit_learn import KerasClassifier\n",
        "from keras.callbacks import EarlyStopping, ModelCheckpoint\n",
        "\n",
        "# model tuning\n",
        "from hyperopt import STATUS_OK, Trials, fmin, hp, tpe, space_eval\n",
        "\n",
        "# import warnings filter\n",
        "from warnings import simplefilter\n",
        "# ignore all future warnings\n",
        "simplefilter(action='ignore', category=FutureWarning)"
      ]
    },
    {
      "cell_type": "markdown",
      "metadata": {
        "id": "SAAXY6kPGayh"
      },
      "source": [
        "## 2. Download datasets <a class=\"anchor\" id=\"2\"></a>\n",
        "\n",
        "[Back to Table of Contents](#0.1)"
      ]
    },
    {
      "cell_type": "code",
      "execution_count": 94,
      "metadata": {
        "id": "gQmkxDTbGayh"
      },
      "outputs": [],
      "source": [
        "data = pd.read_csv(\"/content/ac_inac_VGG16_AUG.csv\")"
      ]
    },
    {
      "cell_type": "code",
      "execution_count": 95,
      "metadata": {
        "colab": {
          "base_uri": "https://localhost:8080/",
          "height": 237
        },
        "id": "ryILdWo8Gayi",
        "outputId": "186fde80-ab54-4004-b767-e93382ae16f5"
      },
      "outputs": [
        {
          "output_type": "execute_result",
          "data": {
            "text/plain": [
              "        PC1       PC2       PC3       PC4       PC5       PC6       PC7  \\\n",
              "0  0.572503 -0.145943 -0.351875  0.022737  0.347238 -0.175279 -0.267142   \n",
              "1  0.562829  0.042653 -0.600093 -0.056949  0.128849 -0.176874 -0.563654   \n",
              "2  0.578450 -0.177877 -0.453150  0.270051  0.083621 -0.311422 -0.313145   \n",
              "\n",
              "        PC8       PC9      PC10  ...      PC67      PC68      PC69      PC70  \\\n",
              "0 -0.529872  0.290529 -0.403909  ...  0.011439  0.181855 -0.377247 -0.215264   \n",
              "1 -0.317280  0.165151 -0.177681  ...  0.162752  0.143464 -0.497423 -0.269498   \n",
              "2  0.034852  0.017913  0.071805  ... -0.123023  0.009283  0.361350  0.400660   \n",
              "\n",
              "       PC71      PC72      PC73      PC74      PC75  category  \n",
              "0  0.627627 -0.182946 -0.111065  0.003010  0.149764        ac  \n",
              "1  0.183216 -0.337710  0.066085 -0.007382  0.342360        ac  \n",
              "2  0.038297 -0.032932  0.506930 -0.002189 -0.115332        ac  \n",
              "\n",
              "[3 rows x 76 columns]"
            ],
            "text/html": [
              "\n",
              "  <div id=\"df-e8132679-73e0-4157-b63f-699ebb6c95a9\">\n",
              "    <div class=\"colab-df-container\">\n",
              "      <div>\n",
              "<style scoped>\n",
              "    .dataframe tbody tr th:only-of-type {\n",
              "        vertical-align: middle;\n",
              "    }\n",
              "\n",
              "    .dataframe tbody tr th {\n",
              "        vertical-align: top;\n",
              "    }\n",
              "\n",
              "    .dataframe thead th {\n",
              "        text-align: right;\n",
              "    }\n",
              "</style>\n",
              "<table border=\"1\" class=\"dataframe\">\n",
              "  <thead>\n",
              "    <tr style=\"text-align: right;\">\n",
              "      <th></th>\n",
              "      <th>PC1</th>\n",
              "      <th>PC2</th>\n",
              "      <th>PC3</th>\n",
              "      <th>PC4</th>\n",
              "      <th>PC5</th>\n",
              "      <th>PC6</th>\n",
              "      <th>PC7</th>\n",
              "      <th>PC8</th>\n",
              "      <th>PC9</th>\n",
              "      <th>PC10</th>\n",
              "      <th>...</th>\n",
              "      <th>PC67</th>\n",
              "      <th>PC68</th>\n",
              "      <th>PC69</th>\n",
              "      <th>PC70</th>\n",
              "      <th>PC71</th>\n",
              "      <th>PC72</th>\n",
              "      <th>PC73</th>\n",
              "      <th>PC74</th>\n",
              "      <th>PC75</th>\n",
              "      <th>category</th>\n",
              "    </tr>\n",
              "  </thead>\n",
              "  <tbody>\n",
              "    <tr>\n",
              "      <th>0</th>\n",
              "      <td>0.572503</td>\n",
              "      <td>-0.145943</td>\n",
              "      <td>-0.351875</td>\n",
              "      <td>0.022737</td>\n",
              "      <td>0.347238</td>\n",
              "      <td>-0.175279</td>\n",
              "      <td>-0.267142</td>\n",
              "      <td>-0.529872</td>\n",
              "      <td>0.290529</td>\n",
              "      <td>-0.403909</td>\n",
              "      <td>...</td>\n",
              "      <td>0.011439</td>\n",
              "      <td>0.181855</td>\n",
              "      <td>-0.377247</td>\n",
              "      <td>-0.215264</td>\n",
              "      <td>0.627627</td>\n",
              "      <td>-0.182946</td>\n",
              "      <td>-0.111065</td>\n",
              "      <td>0.003010</td>\n",
              "      <td>0.149764</td>\n",
              "      <td>ac</td>\n",
              "    </tr>\n",
              "    <tr>\n",
              "      <th>1</th>\n",
              "      <td>0.562829</td>\n",
              "      <td>0.042653</td>\n",
              "      <td>-0.600093</td>\n",
              "      <td>-0.056949</td>\n",
              "      <td>0.128849</td>\n",
              "      <td>-0.176874</td>\n",
              "      <td>-0.563654</td>\n",
              "      <td>-0.317280</td>\n",
              "      <td>0.165151</td>\n",
              "      <td>-0.177681</td>\n",
              "      <td>...</td>\n",
              "      <td>0.162752</td>\n",
              "      <td>0.143464</td>\n",
              "      <td>-0.497423</td>\n",
              "      <td>-0.269498</td>\n",
              "      <td>0.183216</td>\n",
              "      <td>-0.337710</td>\n",
              "      <td>0.066085</td>\n",
              "      <td>-0.007382</td>\n",
              "      <td>0.342360</td>\n",
              "      <td>ac</td>\n",
              "    </tr>\n",
              "    <tr>\n",
              "      <th>2</th>\n",
              "      <td>0.578450</td>\n",
              "      <td>-0.177877</td>\n",
              "      <td>-0.453150</td>\n",
              "      <td>0.270051</td>\n",
              "      <td>0.083621</td>\n",
              "      <td>-0.311422</td>\n",
              "      <td>-0.313145</td>\n",
              "      <td>0.034852</td>\n",
              "      <td>0.017913</td>\n",
              "      <td>0.071805</td>\n",
              "      <td>...</td>\n",
              "      <td>-0.123023</td>\n",
              "      <td>0.009283</td>\n",
              "      <td>0.361350</td>\n",
              "      <td>0.400660</td>\n",
              "      <td>0.038297</td>\n",
              "      <td>-0.032932</td>\n",
              "      <td>0.506930</td>\n",
              "      <td>-0.002189</td>\n",
              "      <td>-0.115332</td>\n",
              "      <td>ac</td>\n",
              "    </tr>\n",
              "  </tbody>\n",
              "</table>\n",
              "<p>3 rows × 76 columns</p>\n",
              "</div>\n",
              "      <button class=\"colab-df-convert\" onclick=\"convertToInteractive('df-e8132679-73e0-4157-b63f-699ebb6c95a9')\"\n",
              "              title=\"Convert this dataframe to an interactive table.\"\n",
              "              style=\"display:none;\">\n",
              "        \n",
              "  <svg xmlns=\"http://www.w3.org/2000/svg\" height=\"24px\"viewBox=\"0 0 24 24\"\n",
              "       width=\"24px\">\n",
              "    <path d=\"M0 0h24v24H0V0z\" fill=\"none\"/>\n",
              "    <path d=\"M18.56 5.44l.94 2.06.94-2.06 2.06-.94-2.06-.94-.94-2.06-.94 2.06-2.06.94zm-11 1L8.5 8.5l.94-2.06 2.06-.94-2.06-.94L8.5 2.5l-.94 2.06-2.06.94zm10 10l.94 2.06.94-2.06 2.06-.94-2.06-.94-.94-2.06-.94 2.06-2.06.94z\"/><path d=\"M17.41 7.96l-1.37-1.37c-.4-.4-.92-.59-1.43-.59-.52 0-1.04.2-1.43.59L10.3 9.45l-7.72 7.72c-.78.78-.78 2.05 0 2.83L4 21.41c.39.39.9.59 1.41.59.51 0 1.02-.2 1.41-.59l7.78-7.78 2.81-2.81c.8-.78.8-2.07 0-2.86zM5.41 20L4 18.59l7.72-7.72 1.47 1.35L5.41 20z\"/>\n",
              "  </svg>\n",
              "      </button>\n",
              "      \n",
              "  <style>\n",
              "    .colab-df-container {\n",
              "      display:flex;\n",
              "      flex-wrap:wrap;\n",
              "      gap: 12px;\n",
              "    }\n",
              "\n",
              "    .colab-df-convert {\n",
              "      background-color: #E8F0FE;\n",
              "      border: none;\n",
              "      border-radius: 50%;\n",
              "      cursor: pointer;\n",
              "      display: none;\n",
              "      fill: #1967D2;\n",
              "      height: 32px;\n",
              "      padding: 0 0 0 0;\n",
              "      width: 32px;\n",
              "    }\n",
              "\n",
              "    .colab-df-convert:hover {\n",
              "      background-color: #E2EBFA;\n",
              "      box-shadow: 0px 1px 2px rgba(60, 64, 67, 0.3), 0px 1px 3px 1px rgba(60, 64, 67, 0.15);\n",
              "      fill: #174EA6;\n",
              "    }\n",
              "\n",
              "    [theme=dark] .colab-df-convert {\n",
              "      background-color: #3B4455;\n",
              "      fill: #D2E3FC;\n",
              "    }\n",
              "\n",
              "    [theme=dark] .colab-df-convert:hover {\n",
              "      background-color: #434B5C;\n",
              "      box-shadow: 0px 1px 3px 1px rgba(0, 0, 0, 0.15);\n",
              "      filter: drop-shadow(0px 1px 2px rgba(0, 0, 0, 0.3));\n",
              "      fill: #FFFFFF;\n",
              "    }\n",
              "  </style>\n",
              "\n",
              "      <script>\n",
              "        const buttonEl =\n",
              "          document.querySelector('#df-e8132679-73e0-4157-b63f-699ebb6c95a9 button.colab-df-convert');\n",
              "        buttonEl.style.display =\n",
              "          google.colab.kernel.accessAllowed ? 'block' : 'none';\n",
              "\n",
              "        async function convertToInteractive(key) {\n",
              "          const element = document.querySelector('#df-e8132679-73e0-4157-b63f-699ebb6c95a9');\n",
              "          const dataTable =\n",
              "            await google.colab.kernel.invokeFunction('convertToInteractive',\n",
              "                                                     [key], {});\n",
              "          if (!dataTable) return;\n",
              "\n",
              "          const docLinkHtml = 'Like what you see? Visit the ' +\n",
              "            '<a target=\"_blank\" href=https://colab.research.google.com/notebooks/data_table.ipynb>data table notebook</a>'\n",
              "            + ' to learn more about interactive tables.';\n",
              "          element.innerHTML = '';\n",
              "          dataTable['output_type'] = 'display_data';\n",
              "          await google.colab.output.renderOutput(dataTable, element);\n",
              "          const docLink = document.createElement('div');\n",
              "          docLink.innerHTML = docLinkHtml;\n",
              "          element.appendChild(docLink);\n",
              "        }\n",
              "      </script>\n",
              "    </div>\n",
              "  </div>\n",
              "  "
            ]
          },
          "metadata": {},
          "execution_count": 95
        }
      ],
      "source": [
        "data.head(3)"
      ]
    },
    {
      "cell_type": "code",
      "execution_count": 96,
      "metadata": {
        "colab": {
          "base_uri": "https://localhost:8080/"
        },
        "id": "iVMw9X1dGayi",
        "outputId": "90bf0cc7-6479-443d-ff75-40ca549f8dc2"
      },
      "outputs": [
        {
          "output_type": "stream",
          "name": "stdout",
          "text": [
            "<class 'pandas.core.frame.DataFrame'>\n",
            "RangeIndex: 2120 entries, 0 to 2119\n",
            "Data columns (total 76 columns):\n",
            " #   Column    Non-Null Count  Dtype  \n",
            "---  ------    --------------  -----  \n",
            " 0   PC1       2120 non-null   float64\n",
            " 1   PC2       2120 non-null   float64\n",
            " 2   PC3       2120 non-null   float64\n",
            " 3   PC4       2120 non-null   float64\n",
            " 4   PC5       2120 non-null   float64\n",
            " 5   PC6       2120 non-null   float64\n",
            " 6   PC7       2120 non-null   float64\n",
            " 7   PC8       2120 non-null   float64\n",
            " 8   PC9       2120 non-null   float64\n",
            " 9   PC10      2120 non-null   float64\n",
            " 10  PC11      2120 non-null   float64\n",
            " 11  PC12      2120 non-null   float64\n",
            " 12  PC13      2120 non-null   float64\n",
            " 13  PC14      2120 non-null   float64\n",
            " 14  PC15      2120 non-null   float64\n",
            " 15  PC16      2120 non-null   float64\n",
            " 16  PC17      2120 non-null   float64\n",
            " 17  PC18      2120 non-null   float64\n",
            " 18  PC19      2120 non-null   float64\n",
            " 19  PC20      2120 non-null   float64\n",
            " 20  PC21      2120 non-null   float64\n",
            " 21  PC22      2120 non-null   float64\n",
            " 22  PC23      2120 non-null   float64\n",
            " 23  PC24      2120 non-null   float64\n",
            " 24  PC25      2120 non-null   float64\n",
            " 25  PC26      2120 non-null   float64\n",
            " 26  PC27      2120 non-null   float64\n",
            " 27  PC28      2120 non-null   float64\n",
            " 28  PC29      2120 non-null   float64\n",
            " 29  PC30      2120 non-null   float64\n",
            " 30  PC31      2120 non-null   float64\n",
            " 31  PC32      2120 non-null   float64\n",
            " 32  PC33      2120 non-null   float64\n",
            " 33  PC34      2120 non-null   float64\n",
            " 34  PC35      2120 non-null   float64\n",
            " 35  PC36      2120 non-null   float64\n",
            " 36  PC37      2120 non-null   float64\n",
            " 37  PC38      2120 non-null   float64\n",
            " 38  PC39      2120 non-null   float64\n",
            " 39  PC40      2120 non-null   float64\n",
            " 40  PC41      2120 non-null   float64\n",
            " 41  PC42      2120 non-null   float64\n",
            " 42  PC43      2120 non-null   float64\n",
            " 43  PC44      2120 non-null   float64\n",
            " 44  PC45      2120 non-null   float64\n",
            " 45  PC46      2120 non-null   float64\n",
            " 46  PC47      2120 non-null   float64\n",
            " 47  PC48      2120 non-null   float64\n",
            " 48  PC49      2120 non-null   float64\n",
            " 49  PC50      2120 non-null   float64\n",
            " 50  PC51      2120 non-null   float64\n",
            " 51  PC52      2120 non-null   float64\n",
            " 52  PC53      2120 non-null   float64\n",
            " 53  PC54      2120 non-null   float64\n",
            " 54  PC55      2120 non-null   float64\n",
            " 55  PC56      2120 non-null   float64\n",
            " 56  PC57      2120 non-null   float64\n",
            " 57  PC58      2120 non-null   float64\n",
            " 58  PC59      2120 non-null   float64\n",
            " 59  PC60      2120 non-null   float64\n",
            " 60  PC61      2120 non-null   float64\n",
            " 61  PC62      2120 non-null   float64\n",
            " 62  PC63      2120 non-null   float64\n",
            " 63  PC64      2120 non-null   float64\n",
            " 64  PC65      2120 non-null   float64\n",
            " 65  PC66      2120 non-null   float64\n",
            " 66  PC67      2120 non-null   float64\n",
            " 67  PC68      2120 non-null   float64\n",
            " 68  PC69      2120 non-null   float64\n",
            " 69  PC70      2120 non-null   float64\n",
            " 70  PC71      2120 non-null   float64\n",
            " 71  PC72      2120 non-null   float64\n",
            " 72  PC73      2120 non-null   float64\n",
            " 73  PC74      2120 non-null   float64\n",
            " 74  PC75      2120 non-null   float64\n",
            " 75  category  2120 non-null   object \n",
            "dtypes: float64(75), object(1)\n",
            "memory usage: 1.2+ MB\n"
          ]
        }
      ],
      "source": [
        "data.info()"
      ]
    },
    {
      "cell_type": "code",
      "execution_count": 97,
      "metadata": {
        "id": "xtq24beBGayk"
      },
      "outputs": [],
      "source": [
        "target_name = 'category'\n",
        "data_target = data[target_name]\n",
        "data = data.drop([target_name], axis=1)"
      ]
    },
    {
      "cell_type": "markdown",
      "metadata": {
        "id": "AINlmClvGayk"
      },
      "source": [
        "I split data on 30% in the test dataset, the remaining 70% - in the training dataset"
      ]
    },
    {
      "cell_type": "code",
      "execution_count": 98,
      "metadata": {
        "id": "fi3TumBUGayk"
      },
      "outputs": [],
      "source": [
        "train, test, target, target_test = train_test_split(data, data_target, test_size=0.2, random_state=0)"
      ]
    },
    {
      "cell_type": "code",
      "execution_count": 99,
      "metadata": {
        "colab": {
          "base_uri": "https://localhost:8080/",
          "height": 237
        },
        "id": "y_hN9tyeGayk",
        "outputId": "f65538c2-3081-4b1a-a062-d2f8c0348110"
      },
      "outputs": [
        {
          "output_type": "execute_result",
          "data": {
            "text/plain": [
              "           PC1       PC2       PC3       PC4       PC5       PC6       PC7  \\\n",
              "684  -0.337174 -0.698046  0.811147  0.113914 -0.339549 -0.174425 -0.145557   \n",
              "1683 -0.397907 -0.617182 -0.109881 -0.429684  0.147054 -0.033615 -0.449364   \n",
              "267   0.135528 -0.149714 -0.283959  0.486384 -0.473544 -0.469907  0.112625   \n",
              "\n",
              "           PC8       PC9      PC10  ...      PC66      PC67      PC68  \\\n",
              "684   0.377993  0.098851  0.060460  ...  0.015147  0.078712 -0.141687   \n",
              "1683 -0.074778 -0.026445 -0.285557  ...  0.056053  0.077654 -0.250100   \n",
              "267   0.131704 -0.032107 -0.084287  ... -0.000456 -0.238601  0.245767   \n",
              "\n",
              "          PC69      PC70      PC71      PC72      PC73      PC74      PC75  \n",
              "684  -0.069534  0.204518 -0.390144  0.094145 -0.790130 -0.310241 -0.699907  \n",
              "1683 -0.121605  0.205726  0.004072 -0.241733 -0.333448 -0.162919  0.272761  \n",
              "267  -0.051902  0.080727  0.185569 -0.378848 -0.117466 -0.206472 -0.130845  \n",
              "\n",
              "[3 rows x 75 columns]"
            ],
            "text/html": [
              "\n",
              "  <div id=\"df-7f3ea703-7030-49bb-a6fc-c61d0b6b645b\">\n",
              "    <div class=\"colab-df-container\">\n",
              "      <div>\n",
              "<style scoped>\n",
              "    .dataframe tbody tr th:only-of-type {\n",
              "        vertical-align: middle;\n",
              "    }\n",
              "\n",
              "    .dataframe tbody tr th {\n",
              "        vertical-align: top;\n",
              "    }\n",
              "\n",
              "    .dataframe thead th {\n",
              "        text-align: right;\n",
              "    }\n",
              "</style>\n",
              "<table border=\"1\" class=\"dataframe\">\n",
              "  <thead>\n",
              "    <tr style=\"text-align: right;\">\n",
              "      <th></th>\n",
              "      <th>PC1</th>\n",
              "      <th>PC2</th>\n",
              "      <th>PC3</th>\n",
              "      <th>PC4</th>\n",
              "      <th>PC5</th>\n",
              "      <th>PC6</th>\n",
              "      <th>PC7</th>\n",
              "      <th>PC8</th>\n",
              "      <th>PC9</th>\n",
              "      <th>PC10</th>\n",
              "      <th>...</th>\n",
              "      <th>PC66</th>\n",
              "      <th>PC67</th>\n",
              "      <th>PC68</th>\n",
              "      <th>PC69</th>\n",
              "      <th>PC70</th>\n",
              "      <th>PC71</th>\n",
              "      <th>PC72</th>\n",
              "      <th>PC73</th>\n",
              "      <th>PC74</th>\n",
              "      <th>PC75</th>\n",
              "    </tr>\n",
              "  </thead>\n",
              "  <tbody>\n",
              "    <tr>\n",
              "      <th>684</th>\n",
              "      <td>-0.337174</td>\n",
              "      <td>-0.698046</td>\n",
              "      <td>0.811147</td>\n",
              "      <td>0.113914</td>\n",
              "      <td>-0.339549</td>\n",
              "      <td>-0.174425</td>\n",
              "      <td>-0.145557</td>\n",
              "      <td>0.377993</td>\n",
              "      <td>0.098851</td>\n",
              "      <td>0.060460</td>\n",
              "      <td>...</td>\n",
              "      <td>0.015147</td>\n",
              "      <td>0.078712</td>\n",
              "      <td>-0.141687</td>\n",
              "      <td>-0.069534</td>\n",
              "      <td>0.204518</td>\n",
              "      <td>-0.390144</td>\n",
              "      <td>0.094145</td>\n",
              "      <td>-0.790130</td>\n",
              "      <td>-0.310241</td>\n",
              "      <td>-0.699907</td>\n",
              "    </tr>\n",
              "    <tr>\n",
              "      <th>1683</th>\n",
              "      <td>-0.397907</td>\n",
              "      <td>-0.617182</td>\n",
              "      <td>-0.109881</td>\n",
              "      <td>-0.429684</td>\n",
              "      <td>0.147054</td>\n",
              "      <td>-0.033615</td>\n",
              "      <td>-0.449364</td>\n",
              "      <td>-0.074778</td>\n",
              "      <td>-0.026445</td>\n",
              "      <td>-0.285557</td>\n",
              "      <td>...</td>\n",
              "      <td>0.056053</td>\n",
              "      <td>0.077654</td>\n",
              "      <td>-0.250100</td>\n",
              "      <td>-0.121605</td>\n",
              "      <td>0.205726</td>\n",
              "      <td>0.004072</td>\n",
              "      <td>-0.241733</td>\n",
              "      <td>-0.333448</td>\n",
              "      <td>-0.162919</td>\n",
              "      <td>0.272761</td>\n",
              "    </tr>\n",
              "    <tr>\n",
              "      <th>267</th>\n",
              "      <td>0.135528</td>\n",
              "      <td>-0.149714</td>\n",
              "      <td>-0.283959</td>\n",
              "      <td>0.486384</td>\n",
              "      <td>-0.473544</td>\n",
              "      <td>-0.469907</td>\n",
              "      <td>0.112625</td>\n",
              "      <td>0.131704</td>\n",
              "      <td>-0.032107</td>\n",
              "      <td>-0.084287</td>\n",
              "      <td>...</td>\n",
              "      <td>-0.000456</td>\n",
              "      <td>-0.238601</td>\n",
              "      <td>0.245767</td>\n",
              "      <td>-0.051902</td>\n",
              "      <td>0.080727</td>\n",
              "      <td>0.185569</td>\n",
              "      <td>-0.378848</td>\n",
              "      <td>-0.117466</td>\n",
              "      <td>-0.206472</td>\n",
              "      <td>-0.130845</td>\n",
              "    </tr>\n",
              "  </tbody>\n",
              "</table>\n",
              "<p>3 rows × 75 columns</p>\n",
              "</div>\n",
              "      <button class=\"colab-df-convert\" onclick=\"convertToInteractive('df-7f3ea703-7030-49bb-a6fc-c61d0b6b645b')\"\n",
              "              title=\"Convert this dataframe to an interactive table.\"\n",
              "              style=\"display:none;\">\n",
              "        \n",
              "  <svg xmlns=\"http://www.w3.org/2000/svg\" height=\"24px\"viewBox=\"0 0 24 24\"\n",
              "       width=\"24px\">\n",
              "    <path d=\"M0 0h24v24H0V0z\" fill=\"none\"/>\n",
              "    <path d=\"M18.56 5.44l.94 2.06.94-2.06 2.06-.94-2.06-.94-.94-2.06-.94 2.06-2.06.94zm-11 1L8.5 8.5l.94-2.06 2.06-.94-2.06-.94L8.5 2.5l-.94 2.06-2.06.94zm10 10l.94 2.06.94-2.06 2.06-.94-2.06-.94-.94-2.06-.94 2.06-2.06.94z\"/><path d=\"M17.41 7.96l-1.37-1.37c-.4-.4-.92-.59-1.43-.59-.52 0-1.04.2-1.43.59L10.3 9.45l-7.72 7.72c-.78.78-.78 2.05 0 2.83L4 21.41c.39.39.9.59 1.41.59.51 0 1.02-.2 1.41-.59l7.78-7.78 2.81-2.81c.8-.78.8-2.07 0-2.86zM5.41 20L4 18.59l7.72-7.72 1.47 1.35L5.41 20z\"/>\n",
              "  </svg>\n",
              "      </button>\n",
              "      \n",
              "  <style>\n",
              "    .colab-df-container {\n",
              "      display:flex;\n",
              "      flex-wrap:wrap;\n",
              "      gap: 12px;\n",
              "    }\n",
              "\n",
              "    .colab-df-convert {\n",
              "      background-color: #E8F0FE;\n",
              "      border: none;\n",
              "      border-radius: 50%;\n",
              "      cursor: pointer;\n",
              "      display: none;\n",
              "      fill: #1967D2;\n",
              "      height: 32px;\n",
              "      padding: 0 0 0 0;\n",
              "      width: 32px;\n",
              "    }\n",
              "\n",
              "    .colab-df-convert:hover {\n",
              "      background-color: #E2EBFA;\n",
              "      box-shadow: 0px 1px 2px rgba(60, 64, 67, 0.3), 0px 1px 3px 1px rgba(60, 64, 67, 0.15);\n",
              "      fill: #174EA6;\n",
              "    }\n",
              "\n",
              "    [theme=dark] .colab-df-convert {\n",
              "      background-color: #3B4455;\n",
              "      fill: #D2E3FC;\n",
              "    }\n",
              "\n",
              "    [theme=dark] .colab-df-convert:hover {\n",
              "      background-color: #434B5C;\n",
              "      box-shadow: 0px 1px 3px 1px rgba(0, 0, 0, 0.15);\n",
              "      filter: drop-shadow(0px 1px 2px rgba(0, 0, 0, 0.3));\n",
              "      fill: #FFFFFF;\n",
              "    }\n",
              "  </style>\n",
              "\n",
              "      <script>\n",
              "        const buttonEl =\n",
              "          document.querySelector('#df-7f3ea703-7030-49bb-a6fc-c61d0b6b645b button.colab-df-convert');\n",
              "        buttonEl.style.display =\n",
              "          google.colab.kernel.accessAllowed ? 'block' : 'none';\n",
              "\n",
              "        async function convertToInteractive(key) {\n",
              "          const element = document.querySelector('#df-7f3ea703-7030-49bb-a6fc-c61d0b6b645b');\n",
              "          const dataTable =\n",
              "            await google.colab.kernel.invokeFunction('convertToInteractive',\n",
              "                                                     [key], {});\n",
              "          if (!dataTable) return;\n",
              "\n",
              "          const docLinkHtml = 'Like what you see? Visit the ' +\n",
              "            '<a target=\"_blank\" href=https://colab.research.google.com/notebooks/data_table.ipynb>data table notebook</a>'\n",
              "            + ' to learn more about interactive tables.';\n",
              "          element.innerHTML = '';\n",
              "          dataTable['output_type'] = 'display_data';\n",
              "          await google.colab.output.renderOutput(dataTable, element);\n",
              "          const docLink = document.createElement('div');\n",
              "          docLink.innerHTML = docLinkHtml;\n",
              "          element.appendChild(docLink);\n",
              "        }\n",
              "      </script>\n",
              "    </div>\n",
              "  </div>\n",
              "  "
            ]
          },
          "metadata": {},
          "execution_count": 99
        }
      ],
      "source": [
        "train.head(3)"
      ]
    },
    {
      "cell_type": "code",
      "execution_count": 100,
      "metadata": {
        "colab": {
          "base_uri": "https://localhost:8080/",
          "height": 237
        },
        "id": "D1StT7W7Gayl",
        "outputId": "b63968e7-4856-4621-b89e-ef7b12a05201"
      },
      "outputs": [
        {
          "output_type": "execute_result",
          "data": {
            "text/plain": [
              "           PC1       PC2       PC3       PC4       PC5       PC6       PC7  \\\n",
              "405  -0.366799 -0.314604  0.247460  0.465335 -0.581839 -0.642838 -0.210046   \n",
              "1702 -0.044270  0.304360  0.220541 -0.280175 -0.562625  0.513022 -0.155743   \n",
              "813  -0.190597 -0.181912 -0.259698 -0.120032 -0.514117 -0.097240 -0.018211   \n",
              "\n",
              "           PC8       PC9      PC10  ...      PC66      PC67      PC68  \\\n",
              "405  -0.033562 -0.674323  0.036261  ...  0.310428 -0.237949 -0.407700   \n",
              "1702  0.328730 -0.194925 -0.501571  ... -0.059699 -0.064734 -0.301249   \n",
              "813   0.100304  0.092559  0.155443  ... -0.148414 -0.348628 -0.234792   \n",
              "\n",
              "          PC69      PC70      PC71      PC72      PC73      PC74      PC75  \n",
              "405  -0.350681 -0.092619 -0.382900  0.016602 -0.436746 -0.094511 -0.237161  \n",
              "1702 -0.208628  0.592159 -0.328428 -0.156714 -0.356153 -0.062165 -0.237603  \n",
              "813   0.229165 -0.503491  0.207231  0.217309  0.114963 -0.281713  0.205731  \n",
              "\n",
              "[3 rows x 75 columns]"
            ],
            "text/html": [
              "\n",
              "  <div id=\"df-67b65038-56e5-4f13-951f-90a85d6a72e4\">\n",
              "    <div class=\"colab-df-container\">\n",
              "      <div>\n",
              "<style scoped>\n",
              "    .dataframe tbody tr th:only-of-type {\n",
              "        vertical-align: middle;\n",
              "    }\n",
              "\n",
              "    .dataframe tbody tr th {\n",
              "        vertical-align: top;\n",
              "    }\n",
              "\n",
              "    .dataframe thead th {\n",
              "        text-align: right;\n",
              "    }\n",
              "</style>\n",
              "<table border=\"1\" class=\"dataframe\">\n",
              "  <thead>\n",
              "    <tr style=\"text-align: right;\">\n",
              "      <th></th>\n",
              "      <th>PC1</th>\n",
              "      <th>PC2</th>\n",
              "      <th>PC3</th>\n",
              "      <th>PC4</th>\n",
              "      <th>PC5</th>\n",
              "      <th>PC6</th>\n",
              "      <th>PC7</th>\n",
              "      <th>PC8</th>\n",
              "      <th>PC9</th>\n",
              "      <th>PC10</th>\n",
              "      <th>...</th>\n",
              "      <th>PC66</th>\n",
              "      <th>PC67</th>\n",
              "      <th>PC68</th>\n",
              "      <th>PC69</th>\n",
              "      <th>PC70</th>\n",
              "      <th>PC71</th>\n",
              "      <th>PC72</th>\n",
              "      <th>PC73</th>\n",
              "      <th>PC74</th>\n",
              "      <th>PC75</th>\n",
              "    </tr>\n",
              "  </thead>\n",
              "  <tbody>\n",
              "    <tr>\n",
              "      <th>405</th>\n",
              "      <td>-0.366799</td>\n",
              "      <td>-0.314604</td>\n",
              "      <td>0.247460</td>\n",
              "      <td>0.465335</td>\n",
              "      <td>-0.581839</td>\n",
              "      <td>-0.642838</td>\n",
              "      <td>-0.210046</td>\n",
              "      <td>-0.033562</td>\n",
              "      <td>-0.674323</td>\n",
              "      <td>0.036261</td>\n",
              "      <td>...</td>\n",
              "      <td>0.310428</td>\n",
              "      <td>-0.237949</td>\n",
              "      <td>-0.407700</td>\n",
              "      <td>-0.350681</td>\n",
              "      <td>-0.092619</td>\n",
              "      <td>-0.382900</td>\n",
              "      <td>0.016602</td>\n",
              "      <td>-0.436746</td>\n",
              "      <td>-0.094511</td>\n",
              "      <td>-0.237161</td>\n",
              "    </tr>\n",
              "    <tr>\n",
              "      <th>1702</th>\n",
              "      <td>-0.044270</td>\n",
              "      <td>0.304360</td>\n",
              "      <td>0.220541</td>\n",
              "      <td>-0.280175</td>\n",
              "      <td>-0.562625</td>\n",
              "      <td>0.513022</td>\n",
              "      <td>-0.155743</td>\n",
              "      <td>0.328730</td>\n",
              "      <td>-0.194925</td>\n",
              "      <td>-0.501571</td>\n",
              "      <td>...</td>\n",
              "      <td>-0.059699</td>\n",
              "      <td>-0.064734</td>\n",
              "      <td>-0.301249</td>\n",
              "      <td>-0.208628</td>\n",
              "      <td>0.592159</td>\n",
              "      <td>-0.328428</td>\n",
              "      <td>-0.156714</td>\n",
              "      <td>-0.356153</td>\n",
              "      <td>-0.062165</td>\n",
              "      <td>-0.237603</td>\n",
              "    </tr>\n",
              "    <tr>\n",
              "      <th>813</th>\n",
              "      <td>-0.190597</td>\n",
              "      <td>-0.181912</td>\n",
              "      <td>-0.259698</td>\n",
              "      <td>-0.120032</td>\n",
              "      <td>-0.514117</td>\n",
              "      <td>-0.097240</td>\n",
              "      <td>-0.018211</td>\n",
              "      <td>0.100304</td>\n",
              "      <td>0.092559</td>\n",
              "      <td>0.155443</td>\n",
              "      <td>...</td>\n",
              "      <td>-0.148414</td>\n",
              "      <td>-0.348628</td>\n",
              "      <td>-0.234792</td>\n",
              "      <td>0.229165</td>\n",
              "      <td>-0.503491</td>\n",
              "      <td>0.207231</td>\n",
              "      <td>0.217309</td>\n",
              "      <td>0.114963</td>\n",
              "      <td>-0.281713</td>\n",
              "      <td>0.205731</td>\n",
              "    </tr>\n",
              "  </tbody>\n",
              "</table>\n",
              "<p>3 rows × 75 columns</p>\n",
              "</div>\n",
              "      <button class=\"colab-df-convert\" onclick=\"convertToInteractive('df-67b65038-56e5-4f13-951f-90a85d6a72e4')\"\n",
              "              title=\"Convert this dataframe to an interactive table.\"\n",
              "              style=\"display:none;\">\n",
              "        \n",
              "  <svg xmlns=\"http://www.w3.org/2000/svg\" height=\"24px\"viewBox=\"0 0 24 24\"\n",
              "       width=\"24px\">\n",
              "    <path d=\"M0 0h24v24H0V0z\" fill=\"none\"/>\n",
              "    <path d=\"M18.56 5.44l.94 2.06.94-2.06 2.06-.94-2.06-.94-.94-2.06-.94 2.06-2.06.94zm-11 1L8.5 8.5l.94-2.06 2.06-.94-2.06-.94L8.5 2.5l-.94 2.06-2.06.94zm10 10l.94 2.06.94-2.06 2.06-.94-2.06-.94-.94-2.06-.94 2.06-2.06.94z\"/><path d=\"M17.41 7.96l-1.37-1.37c-.4-.4-.92-.59-1.43-.59-.52 0-1.04.2-1.43.59L10.3 9.45l-7.72 7.72c-.78.78-.78 2.05 0 2.83L4 21.41c.39.39.9.59 1.41.59.51 0 1.02-.2 1.41-.59l7.78-7.78 2.81-2.81c.8-.78.8-2.07 0-2.86zM5.41 20L4 18.59l7.72-7.72 1.47 1.35L5.41 20z\"/>\n",
              "  </svg>\n",
              "      </button>\n",
              "      \n",
              "  <style>\n",
              "    .colab-df-container {\n",
              "      display:flex;\n",
              "      flex-wrap:wrap;\n",
              "      gap: 12px;\n",
              "    }\n",
              "\n",
              "    .colab-df-convert {\n",
              "      background-color: #E8F0FE;\n",
              "      border: none;\n",
              "      border-radius: 50%;\n",
              "      cursor: pointer;\n",
              "      display: none;\n",
              "      fill: #1967D2;\n",
              "      height: 32px;\n",
              "      padding: 0 0 0 0;\n",
              "      width: 32px;\n",
              "    }\n",
              "\n",
              "    .colab-df-convert:hover {\n",
              "      background-color: #E2EBFA;\n",
              "      box-shadow: 0px 1px 2px rgba(60, 64, 67, 0.3), 0px 1px 3px 1px rgba(60, 64, 67, 0.15);\n",
              "      fill: #174EA6;\n",
              "    }\n",
              "\n",
              "    [theme=dark] .colab-df-convert {\n",
              "      background-color: #3B4455;\n",
              "      fill: #D2E3FC;\n",
              "    }\n",
              "\n",
              "    [theme=dark] .colab-df-convert:hover {\n",
              "      background-color: #434B5C;\n",
              "      box-shadow: 0px 1px 3px 1px rgba(0, 0, 0, 0.15);\n",
              "      filter: drop-shadow(0px 1px 2px rgba(0, 0, 0, 0.3));\n",
              "      fill: #FFFFFF;\n",
              "    }\n",
              "  </style>\n",
              "\n",
              "      <script>\n",
              "        const buttonEl =\n",
              "          document.querySelector('#df-67b65038-56e5-4f13-951f-90a85d6a72e4 button.colab-df-convert');\n",
              "        buttonEl.style.display =\n",
              "          google.colab.kernel.accessAllowed ? 'block' : 'none';\n",
              "\n",
              "        async function convertToInteractive(key) {\n",
              "          const element = document.querySelector('#df-67b65038-56e5-4f13-951f-90a85d6a72e4');\n",
              "          const dataTable =\n",
              "            await google.colab.kernel.invokeFunction('convertToInteractive',\n",
              "                                                     [key], {});\n",
              "          if (!dataTable) return;\n",
              "\n",
              "          const docLinkHtml = 'Like what you see? Visit the ' +\n",
              "            '<a target=\"_blank\" href=https://colab.research.google.com/notebooks/data_table.ipynb>data table notebook</a>'\n",
              "            + ' to learn more about interactive tables.';\n",
              "          element.innerHTML = '';\n",
              "          dataTable['output_type'] = 'display_data';\n",
              "          await google.colab.output.renderOutput(dataTable, element);\n",
              "          const docLink = document.createElement('div');\n",
              "          docLink.innerHTML = docLinkHtml;\n",
              "          element.appendChild(docLink);\n",
              "        }\n",
              "      </script>\n",
              "    </div>\n",
              "  </div>\n",
              "  "
            ]
          },
          "metadata": {},
          "execution_count": 100
        }
      ],
      "source": [
        "test.head(3)"
      ]
    },
    {
      "cell_type": "code",
      "execution_count": 101,
      "metadata": {
        "colab": {
          "base_uri": "https://localhost:8080/"
        },
        "id": "hL0sA4jMGayl",
        "outputId": "42fe629f-7edd-481f-f001-3a72efcd9495"
      },
      "outputs": [
        {
          "output_type": "stream",
          "name": "stdout",
          "text": [
            "<class 'pandas.core.frame.DataFrame'>\n",
            "Int64Index: 1696 entries, 684 to 1653\n",
            "Data columns (total 75 columns):\n",
            " #   Column  Non-Null Count  Dtype  \n",
            "---  ------  --------------  -----  \n",
            " 0   PC1     1696 non-null   float64\n",
            " 1   PC2     1696 non-null   float64\n",
            " 2   PC3     1696 non-null   float64\n",
            " 3   PC4     1696 non-null   float64\n",
            " 4   PC5     1696 non-null   float64\n",
            " 5   PC6     1696 non-null   float64\n",
            " 6   PC7     1696 non-null   float64\n",
            " 7   PC8     1696 non-null   float64\n",
            " 8   PC9     1696 non-null   float64\n",
            " 9   PC10    1696 non-null   float64\n",
            " 10  PC11    1696 non-null   float64\n",
            " 11  PC12    1696 non-null   float64\n",
            " 12  PC13    1696 non-null   float64\n",
            " 13  PC14    1696 non-null   float64\n",
            " 14  PC15    1696 non-null   float64\n",
            " 15  PC16    1696 non-null   float64\n",
            " 16  PC17    1696 non-null   float64\n",
            " 17  PC18    1696 non-null   float64\n",
            " 18  PC19    1696 non-null   float64\n",
            " 19  PC20    1696 non-null   float64\n",
            " 20  PC21    1696 non-null   float64\n",
            " 21  PC22    1696 non-null   float64\n",
            " 22  PC23    1696 non-null   float64\n",
            " 23  PC24    1696 non-null   float64\n",
            " 24  PC25    1696 non-null   float64\n",
            " 25  PC26    1696 non-null   float64\n",
            " 26  PC27    1696 non-null   float64\n",
            " 27  PC28    1696 non-null   float64\n",
            " 28  PC29    1696 non-null   float64\n",
            " 29  PC30    1696 non-null   float64\n",
            " 30  PC31    1696 non-null   float64\n",
            " 31  PC32    1696 non-null   float64\n",
            " 32  PC33    1696 non-null   float64\n",
            " 33  PC34    1696 non-null   float64\n",
            " 34  PC35    1696 non-null   float64\n",
            " 35  PC36    1696 non-null   float64\n",
            " 36  PC37    1696 non-null   float64\n",
            " 37  PC38    1696 non-null   float64\n",
            " 38  PC39    1696 non-null   float64\n",
            " 39  PC40    1696 non-null   float64\n",
            " 40  PC41    1696 non-null   float64\n",
            " 41  PC42    1696 non-null   float64\n",
            " 42  PC43    1696 non-null   float64\n",
            " 43  PC44    1696 non-null   float64\n",
            " 44  PC45    1696 non-null   float64\n",
            " 45  PC46    1696 non-null   float64\n",
            " 46  PC47    1696 non-null   float64\n",
            " 47  PC48    1696 non-null   float64\n",
            " 48  PC49    1696 non-null   float64\n",
            " 49  PC50    1696 non-null   float64\n",
            " 50  PC51    1696 non-null   float64\n",
            " 51  PC52    1696 non-null   float64\n",
            " 52  PC53    1696 non-null   float64\n",
            " 53  PC54    1696 non-null   float64\n",
            " 54  PC55    1696 non-null   float64\n",
            " 55  PC56    1696 non-null   float64\n",
            " 56  PC57    1696 non-null   float64\n",
            " 57  PC58    1696 non-null   float64\n",
            " 58  PC59    1696 non-null   float64\n",
            " 59  PC60    1696 non-null   float64\n",
            " 60  PC61    1696 non-null   float64\n",
            " 61  PC62    1696 non-null   float64\n",
            " 62  PC63    1696 non-null   float64\n",
            " 63  PC64    1696 non-null   float64\n",
            " 64  PC65    1696 non-null   float64\n",
            " 65  PC66    1696 non-null   float64\n",
            " 66  PC67    1696 non-null   float64\n",
            " 67  PC68    1696 non-null   float64\n",
            " 68  PC69    1696 non-null   float64\n",
            " 69  PC70    1696 non-null   float64\n",
            " 70  PC71    1696 non-null   float64\n",
            " 71  PC72    1696 non-null   float64\n",
            " 72  PC73    1696 non-null   float64\n",
            " 73  PC74    1696 non-null   float64\n",
            " 74  PC75    1696 non-null   float64\n",
            "dtypes: float64(75)\n",
            "memory usage: 1007.0 KB\n"
          ]
        }
      ],
      "source": [
        "train.info()"
      ]
    },
    {
      "cell_type": "code",
      "execution_count": 102,
      "metadata": {
        "colab": {
          "base_uri": "https://localhost:8080/"
        },
        "id": "Ke3GnpEXGayl",
        "outputId": "539c9715-3c59-4fda-a6d7-684c895deac1"
      },
      "outputs": [
        {
          "output_type": "stream",
          "name": "stdout",
          "text": [
            "<class 'pandas.core.frame.DataFrame'>\n",
            "Int64Index: 424 entries, 405 to 1240\n",
            "Data columns (total 75 columns):\n",
            " #   Column  Non-Null Count  Dtype  \n",
            "---  ------  --------------  -----  \n",
            " 0   PC1     424 non-null    float64\n",
            " 1   PC2     424 non-null    float64\n",
            " 2   PC3     424 non-null    float64\n",
            " 3   PC4     424 non-null    float64\n",
            " 4   PC5     424 non-null    float64\n",
            " 5   PC6     424 non-null    float64\n",
            " 6   PC7     424 non-null    float64\n",
            " 7   PC8     424 non-null    float64\n",
            " 8   PC9     424 non-null    float64\n",
            " 9   PC10    424 non-null    float64\n",
            " 10  PC11    424 non-null    float64\n",
            " 11  PC12    424 non-null    float64\n",
            " 12  PC13    424 non-null    float64\n",
            " 13  PC14    424 non-null    float64\n",
            " 14  PC15    424 non-null    float64\n",
            " 15  PC16    424 non-null    float64\n",
            " 16  PC17    424 non-null    float64\n",
            " 17  PC18    424 non-null    float64\n",
            " 18  PC19    424 non-null    float64\n",
            " 19  PC20    424 non-null    float64\n",
            " 20  PC21    424 non-null    float64\n",
            " 21  PC22    424 non-null    float64\n",
            " 22  PC23    424 non-null    float64\n",
            " 23  PC24    424 non-null    float64\n",
            " 24  PC25    424 non-null    float64\n",
            " 25  PC26    424 non-null    float64\n",
            " 26  PC27    424 non-null    float64\n",
            " 27  PC28    424 non-null    float64\n",
            " 28  PC29    424 non-null    float64\n",
            " 29  PC30    424 non-null    float64\n",
            " 30  PC31    424 non-null    float64\n",
            " 31  PC32    424 non-null    float64\n",
            " 32  PC33    424 non-null    float64\n",
            " 33  PC34    424 non-null    float64\n",
            " 34  PC35    424 non-null    float64\n",
            " 35  PC36    424 non-null    float64\n",
            " 36  PC37    424 non-null    float64\n",
            " 37  PC38    424 non-null    float64\n",
            " 38  PC39    424 non-null    float64\n",
            " 39  PC40    424 non-null    float64\n",
            " 40  PC41    424 non-null    float64\n",
            " 41  PC42    424 non-null    float64\n",
            " 42  PC43    424 non-null    float64\n",
            " 43  PC44    424 non-null    float64\n",
            " 44  PC45    424 non-null    float64\n",
            " 45  PC46    424 non-null    float64\n",
            " 46  PC47    424 non-null    float64\n",
            " 47  PC48    424 non-null    float64\n",
            " 48  PC49    424 non-null    float64\n",
            " 49  PC50    424 non-null    float64\n",
            " 50  PC51    424 non-null    float64\n",
            " 51  PC52    424 non-null    float64\n",
            " 52  PC53    424 non-null    float64\n",
            " 53  PC54    424 non-null    float64\n",
            " 54  PC55    424 non-null    float64\n",
            " 55  PC56    424 non-null    float64\n",
            " 56  PC57    424 non-null    float64\n",
            " 57  PC58    424 non-null    float64\n",
            " 58  PC59    424 non-null    float64\n",
            " 59  PC60    424 non-null    float64\n",
            " 60  PC61    424 non-null    float64\n",
            " 61  PC62    424 non-null    float64\n",
            " 62  PC63    424 non-null    float64\n",
            " 63  PC64    424 non-null    float64\n",
            " 64  PC65    424 non-null    float64\n",
            " 65  PC66    424 non-null    float64\n",
            " 66  PC67    424 non-null    float64\n",
            " 67  PC68    424 non-null    float64\n",
            " 68  PC69    424 non-null    float64\n",
            " 69  PC70    424 non-null    float64\n",
            " 70  PC71    424 non-null    float64\n",
            " 71  PC72    424 non-null    float64\n",
            " 72  PC73    424 non-null    float64\n",
            " 73  PC74    424 non-null    float64\n",
            " 74  PC75    424 non-null    float64\n",
            "dtypes: float64(75)\n",
            "memory usage: 251.8 KB\n"
          ]
        }
      ],
      "source": [
        "test.info()"
      ]
    },
    {
      "cell_type": "code",
      "execution_count": 103,
      "metadata": {
        "id": "mRm6hqgNGayl"
      },
      "outputs": [],
      "source": [
        "#%% split training set to validation set\n",
        "Xtrain, Xval, Ztrain, Zval = train_test_split(train, target, test_size=0.2, random_state=0)"
      ]
    },
    {
      "cell_type": "markdown",
      "metadata": {
        "id": "-ag_T1qFGaym"
      },
      "source": [
        "## 5. Tuning models and test for all features <a class=\"anchor\" id=\"5\"></a>\n",
        "\n",
        "[Back to Table of Contents](#0.1)"
      ]
    },
    {
      "cell_type": "markdown",
      "metadata": {
        "id": "v9QQ7VDCGaym"
      },
      "source": [
        "### 5.1 Logistic Regression <a class=\"anchor\" id=\"5.1\"></a>\n",
        "\n",
        "[Back to Table of Contents](#0.1)"
      ]
    },
    {
      "cell_type": "markdown",
      "metadata": {
        "id": "58rTFnspGaym"
      },
      "source": [
        "Thanks to https://www.kaggle.com/startupsci/titanic-data-science-solutions"
      ]
    },
    {
      "cell_type": "markdown",
      "metadata": {
        "id": "B3k6jSqIGaym"
      },
      "source": [
        "**Logistic Regression** is a useful model to run early in the workflow. Logistic regression measures the relationship between the categorical dependent variable (feature) and one or more independent variables (features) by estimating probabilities using a logistic function, which is the cumulative logistic distribution. Reference [Wikipedia](https://en.wikipedia.org/wiki/Logistic_regression).\n",
        "\n",
        "Note the confidence score generated by the model based on our training dataset."
      ]
    },
    {
      "cell_type": "code",
      "execution_count": 104,
      "metadata": {
        "colab": {
          "base_uri": "https://localhost:8080/"
        },
        "id": "p_M1nuLTGaym",
        "outputId": "a730af3a-682e-4ce0-8bdb-939110e34cdc"
      },
      "outputs": [
        {
          "output_type": "execute_result",
          "data": {
            "text/plain": [
              "88.97"
            ]
          },
          "metadata": {},
          "execution_count": 104
        }
      ],
      "source": [
        "# Logistic Regression\n",
        "\n",
        "logreg = LogisticRegression()\n",
        "logreg.fit(train, target)\n",
        "acc_log = round(logreg.score(train, target) * 100, 2)\n",
        "acc_log"
      ]
    },
    {
      "cell_type": "code",
      "execution_count": 105,
      "metadata": {
        "colab": {
          "base_uri": "https://localhost:8080/"
        },
        "id": "r-BxWKrnGayn",
        "outputId": "a39ca8c0-5289-4a41-c881-9c249b0e2628"
      },
      "outputs": [
        {
          "output_type": "execute_result",
          "data": {
            "text/plain": [
              "88.68"
            ]
          },
          "metadata": {},
          "execution_count": 105
        }
      ],
      "source": [
        "acc_test_log = round(logreg.score(test, target_test) * 100, 2)\n",
        "acc_test_log"
      ]
    },
    {
      "cell_type": "code",
      "source": [
        "# Print the Confusion Matrix and slice it into four pieces\n",
        "y_pred = logreg.predict(test)\n",
        "\n",
        "from sklearn.metrics import confusion_matrix\n",
        "\n",
        "cm = confusion_matrix(target_test, y_pred)\n",
        "\n",
        "print('Confusion matrix\\n\\n', cm)\n",
        "\n",
        "print('\\nTrue Positives(TP) = ', cm[0,0])\n",
        "\n",
        "print('\\nTrue Negatives(TN) = ', cm[1,1])\n",
        "\n",
        "print('\\nFalse Positives(FP) = ', cm[0,1])\n",
        "\n",
        "print('\\nFalse Negatives(FN) = ', cm[1,0])\n",
        "\n",
        "from sklearn.metrics import classification_report\n",
        "\n",
        "print(classification_report(target_test, y_pred))\n",
        "\n",
        "# visualize confusion matrix with seaborn heatmap\n",
        "import seaborn as sns\n",
        "cm_matrix = pd.DataFrame(data=cm, columns=['Actual Positive:1', 'Actual Negative:0'], \n",
        "                                 index=['Predict Positive:1', 'Predict Negative:0'])\n",
        "\n",
        "sns.heatmap(cm_matrix, annot=True, fmt='d', cmap='YlGnBu')\n",
        "print(\"--------------------------------------------------------------------------------------\")\n",
        "\n",
        "from sklearn.metrics import roc_curve\n",
        "\n",
        "\n",
        "def plot_roc_curve(fpr, tpr, label=None):\n",
        "    plt.plot(fpr, tpr, linewidth=2, label=label)\n",
        "    plt.plot([0, 1], [0, 1], \"k--\")\n",
        "    plt.axis([0, 1, 0, 1])\n",
        "    plt.xlabel('False Positive Rate')\n",
        "    plt.ylabel('True Positive Rate')\n",
        "    plt.title('ROC Curve')\n",
        "\n",
        "\n"
      ],
      "metadata": {
        "colab": {
          "base_uri": "https://localhost:8080/",
          "height": 666
        },
        "id": "JxPrYoCFesB_",
        "outputId": "a14e9147-50f7-4d9a-86e7-db96d9f35bdc"
      },
      "execution_count": 106,
      "outputs": [
        {
          "output_type": "stream",
          "name": "stdout",
          "text": [
            "Confusion matrix\n",
            "\n",
            " [[179  28]\n",
            " [ 20 197]]\n",
            "\n",
            "True Positives(TP) =  179\n",
            "\n",
            "True Negatives(TN) =  197\n",
            "\n",
            "False Positives(FP) =  28\n",
            "\n",
            "False Negatives(FN) =  20\n",
            "              precision    recall  f1-score   support\n",
            "\n",
            "          ac       0.90      0.86      0.88       207\n",
            "        inac       0.88      0.91      0.89       217\n",
            "\n",
            "    accuracy                           0.89       424\n",
            "   macro avg       0.89      0.89      0.89       424\n",
            "weighted avg       0.89      0.89      0.89       424\n",
            "\n",
            "--------------------------------------------------------------------------------------\n"
          ]
        },
        {
          "output_type": "display_data",
          "data": {
            "text/plain": [
              "<Figure size 432x288 with 2 Axes>"
            ],
            "image/png": "[encoded data removed]"
          },
          "metadata": {
            "needs_background": "light"
          }
        }
      ]
    },
    {
      "cell_type": "markdown",
      "metadata": {
        "id": "VFjnqVr0Gayn"
      },
      "source": [
        "We can use Logistic Regression to validate our assumptions and decisions for feature creating and completing goals. This can be done by calculating the coefficient of the features in the decision function.\n",
        "\n",
        "Positive coefficients increase the log-odds of the response (and thus increase the probability), and negative coefficients decrease the log-odds of the response (and thus decrease the probability).\n",
        "\n",
        "- *gluc* is highest coefficient\n",
        "- *height*, *smoke* are largest numbers by absolute value."
      ]
    },
    {
      "cell_type": "markdown",
      "metadata": {
        "id": "4IrB50y6Gayn"
      },
      "source": [
        "### 5.2 Support Vector Machines <a class=\"anchor\" id=\"5.2\"></a>\n",
        "\n",
        "[Back to Table of Contents](#0.1)"
      ]
    },
    {
      "cell_type": "markdown",
      "metadata": {
        "id": "zP7qQ7Q0Gayn"
      },
      "source": [
        "Thanks to https://www.kaggle.com/startupsci/titanic-data-science-solutions"
      ]
    },
    {
      "cell_type": "markdown",
      "metadata": {
        "id": "TbbWhRp8Gayn"
      },
      "source": [
        "**Support Vector Machines** are supervised learning models with associated learning algorithms that analyze data used for classification and regression analysis. Given a set of training samples, each marked as belonging to one or the other of two categories, an SVM training algorithm builds a model that assigns new test samples to one category or the other, making it a non-probabilistic binary linear classifier. Reference [Wikipedia](https://en.wikipedia.org/wiki/Support_vector_machine)."
      ]
    },
    {
      "cell_type": "code",
      "execution_count": 107,
      "metadata": {
        "colab": {
          "base_uri": "https://localhost:8080/"
        },
        "id": "BIyP6cxHGayo",
        "outputId": "5e12b37c-e166-4bec-8a32-441357f140bd"
      },
      "outputs": [
        {
          "output_type": "execute_result",
          "data": {
            "text/plain": [
              "99.65"
            ]
          },
          "metadata": {},
          "execution_count": 107
        }
      ],
      "source": [
        "# Support Vector Machines\n",
        "\n",
        "svc = SVC()\n",
        "svc.fit(train, target)\n",
        "acc_svc = round(svc.score(train, target) * 100, 2)\n",
        "acc_svc"
      ]
    },
    {
      "cell_type": "code",
      "execution_count": 108,
      "metadata": {
        "colab": {
          "base_uri": "https://localhost:8080/"
        },
        "id": "k5vofFTbGayo",
        "outputId": "4262d381-016d-4896-d2b5-163984425436"
      },
      "outputs": [
        {
          "output_type": "execute_result",
          "data": {
            "text/plain": [
              "98.11"
            ]
          },
          "metadata": {},
          "execution_count": 108
        }
      ],
      "source": [
        "acc_test_svc = round(svc.score(test, target_test) * 100, 2)\n",
        "acc_test_svc"
      ]
    },
    {
      "cell_type": "code",
      "source": [
        "# Print the Confusion Matrix and slice it into four pieces\n",
        "y_pred = svc.predict(test)\n",
        "\n",
        "from sklearn.metrics import confusion_matrix\n",
        "\n",
        "cm = confusion_matrix(target_test, y_pred)\n",
        "\n",
        "print('Confusion matrix\\n\\n', cm)\n",
        "\n",
        "print('\\nTrue Positives(TP) = ', cm[0,0])\n",
        "\n",
        "print('\\nTrue Negatives(TN) = ', cm[1,1])\n",
        "\n",
        "print('\\nFalse Positives(FP) = ', cm[0,1])\n",
        "\n",
        "print('\\nFalse Negatives(FN) = ', cm[1,0])\n",
        "\n",
        "from sklearn.metrics import classification_report\n",
        "\n",
        "print(classification_report(target_test, y_pred))\n",
        "\n",
        "# visualize confusion matrix with seaborn heatmap\n",
        "import seaborn as sns\n",
        "cm_matrix = pd.DataFrame(data=cm, columns=['Actual Positive:1', 'Actual Negative:0'], \n",
        "                                 index=['Predict Positive:1', 'Predict Negative:0'])\n",
        "\n",
        "sns.heatmap(cm_matrix, annot=True, fmt='d', cmap='YlGnBu')\n",
        "print(\"--------------------------------------------------------------------------------------\")\n",
        "\n",
        "from sklearn.metrics import roc_curve\n",
        "\n",
        "\n",
        "def plot_roc_curve(fpr, tpr, label=None):\n",
        "    plt.plot(fpr, tpr, linewidth=2, label=label)\n",
        "    plt.plot([0, 1], [0, 1], \"k--\")\n",
        "    plt.axis([0, 1, 0, 1])\n",
        "    plt.xlabel('False Positive Rate')\n",
        "    plt.ylabel('True Positive Rate')\n",
        "    plt.title('ROC Curve')\n",
        "\n",
        "\n"
      ],
      "metadata": {
        "colab": {
          "base_uri": "https://localhost:8080/",
          "height": 666
        },
        "id": "9J0gpSvOe9TX",
        "outputId": "fa0d8f15-3c5e-4970-dedd-0528c90cd98d"
      },
      "execution_count": 109,
      "outputs": [
        {
          "output_type": "stream",
          "name": "stdout",
          "text": [
            "Confusion matrix\n",
            "\n",
            " [[201   6]\n",
            " [  2 215]]\n",
            "\n",
            "True Positives(TP) =  201\n",
            "\n",
            "True Negatives(TN) =  215\n",
            "\n",
            "False Positives(FP) =  6\n",
            "\n",
            "False Negatives(FN) =  2\n",
            "              precision    recall  f1-score   support\n",
            "\n",
            "          ac       0.99      0.97      0.98       207\n",
            "        inac       0.97      0.99      0.98       217\n",
            "\n",
            "    accuracy                           0.98       424\n",
            "   macro avg       0.98      0.98      0.98       424\n",
            "weighted avg       0.98      0.98      0.98       424\n",
            "\n",
            "--------------------------------------------------------------------------------------\n"
          ]
        },
        {
          "output_type": "display_data",
          "data": {
            "text/plain": [
              "<Figure size 432x288 with 2 Axes>"
            ],
            "image/png": "[encoded data removed]"
          },
          "metadata": {
            "needs_background": "light"
          }
        }
      ]
    },
    {
      "cell_type": "markdown",
      "metadata": {
        "id": "DnAEI0FrGayp"
      },
      "source": [
        "### 5.4 k-Nearest Neighbors algorithm <a class=\"anchor\" id=\"5.4\"></a>\n",
        "\n",
        "[Back to Table of Contents](#0.1)"
      ]
    },
    {
      "cell_type": "markdown",
      "metadata": {
        "id": "9WA3cbRWGayp"
      },
      "source": [
        "Thanks to https://www.kaggle.com/startupsci/titanic-data-science-solutions"
      ]
    },
    {
      "cell_type": "markdown",
      "metadata": {
        "id": "flvJtu0hGayp"
      },
      "source": [
        "In pattern recognition, the **k-Nearest Neighbors algorithm** (or k-NN for short) is a non-parametric method used for classification and regression. A sample is classified by a majority vote of its neighbors, with the sample being assigned to the class most common among its k nearest neighbors (k is a positive integer, typically small). Reference [Wikipedia](https://en.wikipedia.org/wiki/K-nearest_neighbors_algorithm)."
      ]
    },
    {
      "cell_type": "code",
      "execution_count": 110,
      "metadata": {
        "colab": {
          "base_uri": "https://localhost:8080/"
        },
        "id": "FIsUo_gTGayp",
        "outputId": "1df30d69-fb1b-4e84-9f29-8e6b75b31f41"
      },
      "outputs": [
        {
          "output_type": "stream",
          "name": "stdout",
          "text": [
            "99.12 {'n_neighbors': 3}\n"
          ]
        }
      ],
      "source": [
        "# k-Nearest Neighbors algorithm\n",
        "\n",
        "knn = GridSearchCV(estimator=KNeighborsClassifier(), param_grid={'n_neighbors': [2, 3]}, cv=10).fit(train, target)\n",
        "acc_knn = round(knn.score(train, target) * 100, 2)\n",
        "print(acc_knn, knn.best_params_)"
      ]
    },
    {
      "cell_type": "code",
      "execution_count": 111,
      "metadata": {
        "colab": {
          "base_uri": "https://localhost:8080/"
        },
        "id": "1D0rvDM3Gayp",
        "outputId": "a3ea8ea3-5f25-45a1-c05b-e8bd8d2f920a"
      },
      "outputs": [
        {
          "output_type": "execute_result",
          "data": {
            "text/plain": [
              "97.64"
            ]
          },
          "metadata": {},
          "execution_count": 111
        }
      ],
      "source": [
        "acc_test_knn = round(knn.score(test, target_test) * 100, 2)\n",
        "acc_test_knn"
      ]
    },
    {
      "cell_type": "code",
      "source": [
        "# Print the Confusion Matrix and slice it into four pieces\n",
        "y_pred = knn.predict(test)\n",
        "\n",
        "from sklearn.metrics import confusion_matrix\n",
        "\n",
        "cm = confusion_matrix(target_test, y_pred)\n",
        "\n",
        "print('Confusion matrix\\n\\n', cm)\n",
        "\n",
        "print('\\nTrue Positives(TP) = ', cm[0,0])\n",
        "\n",
        "print('\\nTrue Negatives(TN) = ', cm[1,1])\n",
        "\n",
        "print('\\nFalse Positives(FP) = ', cm[0,1])\n",
        "\n",
        "print('\\nFalse Negatives(FN) = ', cm[1,0])\n",
        "\n",
        "from sklearn.metrics import classification_report\n",
        "\n",
        "print(classification_report(target_test, y_pred))\n",
        "\n",
        "# visualize confusion matrix with seaborn heatmap\n",
        "import seaborn as sns\n",
        "cm_matrix = pd.DataFrame(data=cm, columns=['Actual Positive:1', 'Actual Negative:0'], \n",
        "                                 index=['Predict Positive:1', 'Predict Negative:0'])\n",
        "\n",
        "sns.heatmap(cm_matrix, annot=True, fmt='d', cmap='YlGnBu')\n",
        "print(\"--------------------------------------------------------------------------------------\")\n",
        "\n",
        "from sklearn.metrics import roc_curve\n",
        "\n",
        "\n",
        "def plot_roc_curve(fpr, tpr, label=None):\n",
        "    plt.plot(fpr, tpr, linewidth=2, label=label)\n",
        "    plt.plot([0, 1], [0, 1], \"k--\")\n",
        "    plt.axis([0, 1, 0, 1])\n",
        "    plt.xlabel('False Positive Rate')\n",
        "    plt.ylabel('True Positive Rate')\n",
        "    plt.title('ROC Curve')\n",
        "\n",
        "\n"
      ],
      "metadata": {
        "colab": {
          "base_uri": "https://localhost:8080/",
          "height": 666
        },
        "id": "SAQXV1TqfKfQ",
        "outputId": "fe052def-6175-4296-8db2-67a82b26ac80"
      },
      "execution_count": 112,
      "outputs": [
        {
          "output_type": "stream",
          "name": "stdout",
          "text": [
            "Confusion matrix\n",
            "\n",
            " [[198   9]\n",
            " [  1 216]]\n",
            "\n",
            "True Positives(TP) =  198\n",
            "\n",
            "True Negatives(TN) =  216\n",
            "\n",
            "False Positives(FP) =  9\n",
            "\n",
            "False Negatives(FN) =  1\n",
            "              precision    recall  f1-score   support\n",
            "\n",
            "          ac       0.99      0.96      0.98       207\n",
            "        inac       0.96      1.00      0.98       217\n",
            "\n",
            "    accuracy                           0.98       424\n",
            "   macro avg       0.98      0.98      0.98       424\n",
            "weighted avg       0.98      0.98      0.98       424\n",
            "\n",
            "--------------------------------------------------------------------------------------\n"
          ]
        },
        {
          "output_type": "display_data",
          "data": {
            "text/plain": [
              "<Figure size 432x288 with 2 Axes>"
            ],
            "image/png": "[encoded data removed]"
          },
          "metadata": {
            "needs_background": "light"
          }
        }
      ]
    },
    {
      "cell_type": "markdown",
      "metadata": {
        "id": "m4wXReuvGayp"
      },
      "source": [
        "### 5.5 Naive Bayes <a class=\"anchor\" id=\"5.5\"></a>\n",
        "\n",
        "[Back to Table of Contents](#0.1)"
      ]
    },
    {
      "cell_type": "markdown",
      "metadata": {
        "id": "4eOBZG2sGayp"
      },
      "source": [
        "Thanks to https://www.kaggle.com/startupsci/titanic-data-science-solutions"
      ]
    },
    {
      "cell_type": "markdown",
      "metadata": {
        "id": "QEfHhDuiGayq"
      },
      "source": [
        "In machine learning, **Naive Bayes classifiers** are a family of simple probabilistic classifiers based on applying Bayes' theorem with strong (naive) independence assumptions between the features. Naive Bayes classifiers are highly scalable, requiring a number of parameters linear in the number of variables (features) in a learning problem. Reference [Wikipedia](https://en.wikipedia.org/wiki/Naive_Bayes_classifier)."
      ]
    },
    {
      "cell_type": "code",
      "execution_count": 113,
      "metadata": {
        "colab": {
          "base_uri": "https://localhost:8080/"
        },
        "id": "_tXxbPzxGayq",
        "outputId": "e4365515-b0ea-4e96-b6e3-a4aaa1e53dcf"
      },
      "outputs": [
        {
          "output_type": "execute_result",
          "data": {
            "text/plain": [
              "82.9"
            ]
          },
          "metadata": {},
          "execution_count": 113
        }
      ],
      "source": [
        "# Gaussian Naive Bayes\n",
        "\n",
        "gaussian = GaussianNB()\n",
        "gaussian.fit(train, target)\n",
        "acc_gaussian = round(gaussian.score(train, target) * 100, 2)\n",
        "acc_gaussian"
      ]
    },
    {
      "cell_type": "code",
      "execution_count": 114,
      "metadata": {
        "colab": {
          "base_uri": "https://localhost:8080/"
        },
        "id": "oGhFXxIwGayq",
        "outputId": "d277eb22-dc24-4a68-98b8-d505df7ea12b"
      },
      "outputs": [
        {
          "output_type": "execute_result",
          "data": {
            "text/plain": [
              "83.02"
            ]
          },
          "metadata": {},
          "execution_count": 114
        }
      ],
      "source": [
        "acc_test_gaussian = round(gaussian.score(test, target_test) * 100, 2)\n",
        "acc_test_gaussian"
      ]
    },
    {
      "cell_type": "code",
      "source": [
        "# Print the Confusion Matrix and slice it into four pieces\n",
        "y_pred = gaussian.predict(test)\n",
        "\n",
        "from sklearn.metrics import confusion_matrix\n",
        "\n",
        "cm = confusion_matrix(target_test, y_pred)\n",
        "\n",
        "print('Confusion matrix\\n\\n', cm)\n",
        "\n",
        "print('\\nTrue Positives(TP) = ', cm[0,0])\n",
        "\n",
        "print('\\nTrue Negatives(TN) = ', cm[1,1])\n",
        "\n",
        "print('\\nFalse Positives(FP) = ', cm[0,1])\n",
        "\n",
        "print('\\nFalse Negatives(FN) = ', cm[1,0])\n",
        "\n",
        "from sklearn.metrics import classification_report\n",
        "\n",
        "print(classification_report(target_test, y_pred))\n",
        "\n",
        "# visualize confusion matrix with seaborn heatmap\n",
        "import seaborn as sns\n",
        "cm_matrix = pd.DataFrame(data=cm, columns=['Actual Positive:1', 'Actual Negative:0'], \n",
        "                                 index=['Predict Positive:1', 'Predict Negative:0'])\n",
        "\n",
        "sns.heatmap(cm_matrix, annot=True, fmt='d', cmap='YlGnBu')\n",
        "print(\"--------------------------------------------------------------------------------------\")\n",
        "\n",
        "from sklearn.metrics import roc_curve\n",
        "\n",
        "\n",
        "def plot_roc_curve(fpr, tpr, label=None):\n",
        "    plt.plot(fpr, tpr, linewidth=2, label=label)\n",
        "    plt.plot([0, 1], [0, 1], \"k--\")\n",
        "    plt.axis([0, 1, 0, 1])\n",
        "    plt.xlabel('False Positive Rate')\n",
        "    plt.ylabel('True Positive Rate')\n",
        "    plt.title('ROC Curve')\n",
        "\n",
        "\n"
      ],
      "metadata": {
        "colab": {
          "base_uri": "https://localhost:8080/",
          "height": 666
        },
        "id": "kvFRyDtAfQYo",
        "outputId": "aaf750f2-99f5-4548-cce2-9cbac82329a2"
      },
      "execution_count": 115,
      "outputs": [
        {
          "output_type": "stream",
          "name": "stdout",
          "text": [
            "Confusion matrix\n",
            "\n",
            " [[163  44]\n",
            " [ 28 189]]\n",
            "\n",
            "True Positives(TP) =  163\n",
            "\n",
            "True Negatives(TN) =  189\n",
            "\n",
            "False Positives(FP) =  44\n",
            "\n",
            "False Negatives(FN) =  28\n",
            "              precision    recall  f1-score   support\n",
            "\n",
            "          ac       0.85      0.79      0.82       207\n",
            "        inac       0.81      0.87      0.84       217\n",
            "\n",
            "    accuracy                           0.83       424\n",
            "   macro avg       0.83      0.83      0.83       424\n",
            "weighted avg       0.83      0.83      0.83       424\n",
            "\n",
            "--------------------------------------------------------------------------------------\n"
          ]
        },
        {
          "output_type": "display_data",
          "data": {
            "text/plain": [
              "<Figure size 432x288 with 2 Axes>"
            ],
            "image/png": "[encoded data removed]"
          },
          "metadata": {
            "needs_background": "light"
          }
        }
      ]
    },
    {
      "cell_type": "markdown",
      "metadata": {
        "id": "S1fyJ16eGayq"
      },
      "source": [
        "### 5.6 Perceptron <a class=\"anchor\" id=\"5.6\"></a>\n",
        "\n",
        "[Back to Table of Contents](#0.1)"
      ]
    },
    {
      "cell_type": "markdown",
      "metadata": {
        "id": "1K4pveIzGayq"
      },
      "source": [
        "Thanks to https://www.kaggle.com/startupsci/titanic-data-science-solutions"
      ]
    },
    {
      "cell_type": "markdown",
      "metadata": {
        "id": "lX-2MVAaGayq"
      },
      "source": [
        "The **Perceptron** is an algorithm for supervised learning of binary classifiers (functions that can decide whether an input, represented by a vector of numbers, belongs to some specific class or not). It is a type of linear classifier, i.e. a classification algorithm that makes its predictions based on a linear predictor function combining a set of weights with the feature vector. The algorithm allows for online learning, in that it processes elements in the training set one at a time. Reference [Wikipedia](https://en.wikipedia.org/wiki/Perceptron)."
      ]
    },
    {
      "cell_type": "code",
      "execution_count": 116,
      "metadata": {
        "colab": {
          "base_uri": "https://localhost:8080/"
        },
        "id": "5b40Uim2Gayq",
        "outputId": "f9ce18b0-c431-4c65-b88c-10dd78728484"
      },
      "outputs": [
        {
          "output_type": "execute_result",
          "data": {
            "text/plain": [
              "85.85"
            ]
          },
          "metadata": {},
          "execution_count": 116
        }
      ],
      "source": [
        "# Perceptron\n",
        "\n",
        "perceptron = Perceptron()\n",
        "perceptron.fit(train, target)\n",
        "acc_perceptron = round(perceptron.score(train, target) * 100, 2)\n",
        "acc_perceptron"
      ]
    },
    {
      "cell_type": "code",
      "execution_count": 117,
      "metadata": {
        "colab": {
          "base_uri": "https://localhost:8080/"
        },
        "id": "zkgjHYpYGayq",
        "outputId": "ef3511ac-2708-4d87-9f05-fbe6a467b5e2"
      },
      "outputs": [
        {
          "output_type": "execute_result",
          "data": {
            "text/plain": [
              "86.32"
            ]
          },
          "metadata": {},
          "execution_count": 117
        }
      ],
      "source": [
        "acc_test_perceptron = round(perceptron.score(test, target_test) * 100, 2)\n",
        "acc_test_perceptron"
      ]
    },
    {
      "cell_type": "code",
      "source": [
        "# Print the Confusion Matrix and slice it into four pieces\n",
        "y_pred = perceptron.predict(test)\n",
        "\n",
        "from sklearn.metrics import confusion_matrix\n",
        "\n",
        "cm = confusion_matrix(target_test, y_pred)\n",
        "\n",
        "print('Confusion matrix\\n\\n', cm)\n",
        "\n",
        "print('\\nTrue Positives(TP) = ', cm[0,0])\n",
        "\n",
        "print('\\nTrue Negatives(TN) = ', cm[1,1])\n",
        "\n",
        "print('\\nFalse Positives(FP) = ', cm[0,1])\n",
        "\n",
        "print('\\nFalse Negatives(FN) = ', cm[1,0])\n",
        "\n",
        "from sklearn.metrics import classification_report\n",
        "\n",
        "print(classification_report(target_test, y_pred))\n",
        "\n",
        "# visualize confusion matrix with seaborn heatmap\n",
        "import seaborn as sns\n",
        "cm_matrix = pd.DataFrame(data=cm, columns=['Actual Positive:1', 'Actual Negative:0'], \n",
        "                                 index=['Predict Positive:1', 'Predict Negative:0'])\n",
        "\n",
        "sns.heatmap(cm_matrix, annot=True, fmt='d', cmap='YlGnBu')\n",
        "print(\"--------------------------------------------------------------------------------------\")\n",
        "\n",
        "from sklearn.metrics import roc_curve\n",
        "\n",
        "\n",
        "def plot_roc_curve(fpr, tpr, label=None):\n",
        "    plt.plot(fpr, tpr, linewidth=2, label=label)\n",
        "    plt.plot([0, 1], [0, 1], \"k--\")\n",
        "    plt.axis([0, 1, 0, 1])\n",
        "    plt.xlabel('False Positive Rate')\n",
        "    plt.ylabel('True Positive Rate')\n",
        "    plt.title('ROC Curve')\n",
        "\n",
        "\n"
      ],
      "metadata": {
        "colab": {
          "base_uri": "https://localhost:8080/",
          "height": 669
        },
        "id": "rmhAAMCAfWfn",
        "outputId": "0194d7c2-f4c1-418e-b9b9-64a4da97f55f"
      },
      "execution_count": 118,
      "outputs": [
        {
          "output_type": "stream",
          "name": "stdout",
          "text": [
            "Confusion matrix\n",
            "\n",
            " [[165  42]\n",
            " [ 16 201]]\n",
            "\n",
            "True Positives(TP) =  165\n",
            "\n",
            "True Negatives(TN) =  201\n",
            "\n",
            "False Positives(FP) =  42\n",
            "\n",
            "False Negatives(FN) =  16\n",
            "              precision    recall  f1-score   support\n",
            "\n",
            "          ac       0.91      0.80      0.85       207\n",
            "        inac       0.83      0.93      0.87       217\n",
            "\n",
            "    accuracy                           0.86       424\n",
            "   macro avg       0.87      0.86      0.86       424\n",
            "weighted avg       0.87      0.86      0.86       424\n",
            "\n",
            "--------------------------------------------------------------------------------------\n"
          ]
        },
        {
          "output_type": "display_data",
          "data": {
            "text/plain": [
              "<Figure size 432x288 with 2 Axes>"
            ],
            "image/png": "[encoded data removed]"
          },
          "metadata": {
            "needs_background": "light"
          }
        }
      ]
    },
    {
      "cell_type": "markdown",
      "metadata": {
        "id": "7pki7NBGGayr"
      },
      "source": [
        "### 5.7 Stochastic Gradient Descent <a class=\"anchor\" id=\"5.7\"></a>\n",
        "\n",
        "[Back to Table of Contents](#0.1)"
      ]
    },
    {
      "cell_type": "markdown",
      "metadata": {
        "id": "zDUGk44jGayr"
      },
      "source": [
        "Thanks to https://www.kaggle.com/startupsci/titanic-data-science-solutions"
      ]
    },
    {
      "cell_type": "markdown",
      "metadata": {
        "id": "ZzhH_YD2Gayr"
      },
      "source": [
        "**Stochastic gradient descent** (often abbreviated **SGD**) is an iterative method for optimizing an objective function with suitable smoothness properties (e.g. differentiable or subdifferentiable). It can be regarded as a stochastic approximation of gradient descent optimization, since it replaces the actual gradient (calculated from the entire data set) by an estimate thereof (calculated from a randomly selected subset of the data). Especially in big data applications this reduces the computational burden, achieving faster iterations in trade for a slightly lower convergence rate. Reference [Wikipedia](https://en.wikipedia.org/wiki/Stochastic_gradient_descent)."
      ]
    },
    {
      "cell_type": "code",
      "execution_count": 119,
      "metadata": {
        "colab": {
          "base_uri": "https://localhost:8080/"
        },
        "id": "ZEpD2zJ5Gayr",
        "outputId": "a4592d91-a76f-4d09-b950-784796c6fdd6"
      },
      "outputs": [
        {
          "output_type": "execute_result",
          "data": {
            "text/plain": [
              "88.74"
            ]
          },
          "metadata": {},
          "execution_count": 119
        }
      ],
      "source": [
        "# Stochastic Gradient Descent\n",
        "\n",
        "sgd = SGDClassifier()\n",
        "sgd.fit(train, target)\n",
        "acc_sgd = round(sgd.score(train, target) * 100, 2)\n",
        "acc_sgd"
      ]
    },
    {
      "cell_type": "code",
      "execution_count": 120,
      "metadata": {
        "colab": {
          "base_uri": "https://localhost:8080/"
        },
        "id": "nIurpWUUGayr",
        "outputId": "00d69a6f-0554-4c56-aa24-e4f392ce3d45"
      },
      "outputs": [
        {
          "output_type": "execute_result",
          "data": {
            "text/plain": [
              "89.15"
            ]
          },
          "metadata": {},
          "execution_count": 120
        }
      ],
      "source": [
        "acc_test_sgd = round(sgd.score(test, target_test) * 100, 2)\n",
        "acc_test_sgd"
      ]
    },
    {
      "cell_type": "code",
      "source": [
        "# Print the Confusion Matrix and slice it into four pieces\n",
        "y_pred = sgd.predict(test)\n",
        "\n",
        "from sklearn.metrics import confusion_matrix\n",
        "\n",
        "cm = confusion_matrix(target_test, y_pred)\n",
        "\n",
        "print('Confusion matrix\\n\\n', cm)\n",
        "\n",
        "print('\\nTrue Positives(TP) = ', cm[0,0])\n",
        "\n",
        "print('\\nTrue Negatives(TN) = ', cm[1,1])\n",
        "\n",
        "print('\\nFalse Positives(FP) = ', cm[0,1])\n",
        "\n",
        "print('\\nFalse Negatives(FN) = ', cm[1,0])\n",
        "\n",
        "from sklearn.metrics import classification_report\n",
        "\n",
        "print(classification_report(target_test, y_pred))\n",
        "\n",
        "# visualize confusion matrix with seaborn heatmap\n",
        "import seaborn as sns\n",
        "cm_matrix = pd.DataFrame(data=cm, columns=['Actual Positive:1', 'Actual Negative:0'], \n",
        "                                 index=['Predict Positive:1', 'Predict Negative:0'])\n",
        "\n",
        "sns.heatmap(cm_matrix, annot=True, fmt='d', cmap='YlGnBu')\n",
        "print(\"--------------------------------------------------------------------------------------\")\n",
        "\n",
        "from sklearn.metrics import roc_curve\n",
        "\n",
        "\n",
        "def plot_roc_curve(fpr, tpr, label=None):\n",
        "    plt.plot(fpr, tpr, linewidth=2, label=label)\n",
        "    plt.plot([0, 1], [0, 1], \"k--\")\n",
        "    plt.axis([0, 1, 0, 1])\n",
        "    plt.xlabel('False Positive Rate')\n",
        "    plt.ylabel('True Positive Rate')\n",
        "    plt.title('ROC Curve')\n",
        "\n",
        "\n"
      ],
      "metadata": {
        "colab": {
          "base_uri": "https://localhost:8080/",
          "height": 666
        },
        "id": "PpIRZ3K6ffHX",
        "outputId": "d10a2a72-637f-4deb-f33a-980b1dc09076"
      },
      "execution_count": 121,
      "outputs": [
        {
          "output_type": "stream",
          "name": "stdout",
          "text": [
            "Confusion matrix\n",
            "\n",
            " [[188  19]\n",
            " [ 27 190]]\n",
            "\n",
            "True Positives(TP) =  188\n",
            "\n",
            "True Negatives(TN) =  190\n",
            "\n",
            "False Positives(FP) =  19\n",
            "\n",
            "False Negatives(FN) =  27\n",
            "              precision    recall  f1-score   support\n",
            "\n",
            "          ac       0.87      0.91      0.89       207\n",
            "        inac       0.91      0.88      0.89       217\n",
            "\n",
            "    accuracy                           0.89       424\n",
            "   macro avg       0.89      0.89      0.89       424\n",
            "weighted avg       0.89      0.89      0.89       424\n",
            "\n",
            "--------------------------------------------------------------------------------------\n"
          ]
        },
        {
          "output_type": "display_data",
          "data": {
            "text/plain": [
              "<Figure size 432x288 with 2 Axes>"
            ],
            "image/png": "[encoded data removed]"
          },
          "metadata": {
            "needs_background": "light"
          }
        }
      ]
    },
    {
      "cell_type": "markdown",
      "metadata": {
        "id": "8cqvfYmsGayr"
      },
      "source": [
        "### 5.8 Decision Tree Classifier <a class=\"anchor\" id=\"5.8\"></a>\n",
        "\n",
        "[Back to Table of Contents](#0.1)"
      ]
    },
    {
      "cell_type": "markdown",
      "metadata": {
        "id": "Aho76NBqGayr"
      },
      "source": [
        "Thanks to https://www.kaggle.com/startupsci/titanic-data-science-solutions"
      ]
    },
    {
      "cell_type": "markdown",
      "metadata": {
        "id": "rrcUxyc2Gayr"
      },
      "source": [
        "This model uses a **Decision Tree** as a predictive model which maps features (tree branches) to conclusions about the target value (tree leaves). Tree models where the target variable can take a finite set of values are called classification trees; in these tree structures, leaves represent class labels and branches represent conjunctions of features that lead to those class labels. Decision trees where the target variable can take continuous values (typically real numbers) are called regression trees. Reference [Wikipedia](https://en.wikipedia.org/wiki/Decision_tree_learning)."
      ]
    },
    {
      "cell_type": "code",
      "execution_count": 122,
      "metadata": {
        "colab": {
          "base_uri": "https://localhost:8080/"
        },
        "id": "D_D1B70HGays",
        "outputId": "2601e838-d222-4dab-fb2e-36f24aaa84b6"
      },
      "outputs": [
        {
          "output_type": "execute_result",
          "data": {
            "text/plain": [
              "100.0"
            ]
          },
          "metadata": {},
          "execution_count": 122
        }
      ],
      "source": [
        "# Decision Tree Classifier\n",
        "\n",
        "decision_tree = DecisionTreeClassifier()\n",
        "decision_tree.fit(train, target)\n",
        "acc_decision_tree = round(decision_tree.score(train, target) * 100, 2)\n",
        "acc_decision_tree"
      ]
    },
    {
      "cell_type": "code",
      "execution_count": 123,
      "metadata": {
        "colab": {
          "base_uri": "https://localhost:8080/"
        },
        "id": "vYgPboaTGays",
        "outputId": "bdaf3af8-68f3-4339-b7f3-7f3b38fa68c4"
      },
      "outputs": [
        {
          "output_type": "execute_result",
          "data": {
            "text/plain": [
              "78.54"
            ]
          },
          "metadata": {},
          "execution_count": 123
        }
      ],
      "source": [
        "acc_test_decision_tree = round(decision_tree.score(test, target_test) * 100, 2)\n",
        "acc_test_decision_tree"
      ]
    },
    {
      "cell_type": "code",
      "source": [
        "# Print the Confusion Matrix and slice it into four pieces\n",
        "y_pred = decision_tree.predict(test)\n",
        "\n",
        "from sklearn.metrics import confusion_matrix\n",
        "\n",
        "cm = confusion_matrix(target_test, y_pred)\n",
        "\n",
        "print('Confusion matrix\\n\\n', cm)\n",
        "\n",
        "print('\\nTrue Positives(TP) = ', cm[0,0])\n",
        "\n",
        "print('\\nTrue Negatives(TN) = ', cm[1,1])\n",
        "\n",
        "print('\\nFalse Positives(FP) = ', cm[0,1])\n",
        "\n",
        "print('\\nFalse Negatives(FN) = ', cm[1,0])\n",
        "\n",
        "from sklearn.metrics import classification_report\n",
        "\n",
        "print(classification_report(target_test, y_pred))\n",
        "\n",
        "# visualize confusion matrix with seaborn heatmap\n",
        "import seaborn as sns\n",
        "cm_matrix = pd.DataFrame(data=cm, columns=['Actual Positive:1', 'Actual Negative:0'], \n",
        "                                 index=['Predict Positive:1', 'Predict Negative:0'])\n",
        "\n",
        "sns.heatmap(cm_matrix, annot=True, fmt='d', cmap='YlGnBu')\n",
        "print(\"--------------------------------------------------------------------------------------\")\n",
        "\n",
        "from sklearn.metrics import roc_curve\n",
        "\n",
        "\n",
        "def plot_roc_curve(fpr, tpr, label=None):\n",
        "    plt.plot(fpr, tpr, linewidth=2, label=label)\n",
        "    plt.plot([0, 1], [0, 1], \"k--\")\n",
        "    plt.axis([0, 1, 0, 1])\n",
        "    plt.xlabel('False Positive Rate')\n",
        "    plt.ylabel('True Positive Rate')\n",
        "    plt.title('ROC Curve')\n",
        "\n",
        "\n"
      ],
      "metadata": {
        "colab": {
          "base_uri": "https://localhost:8080/",
          "height": 666
        },
        "id": "P_hjDY5-fjT_",
        "outputId": "f59de2fe-4a41-4990-c1e1-39d2e9121c6f"
      },
      "execution_count": 124,
      "outputs": [
        {
          "output_type": "stream",
          "name": "stdout",
          "text": [
            "Confusion matrix\n",
            "\n",
            " [[155  52]\n",
            " [ 39 178]]\n",
            "\n",
            "True Positives(TP) =  155\n",
            "\n",
            "True Negatives(TN) =  178\n",
            "\n",
            "False Positives(FP) =  52\n",
            "\n",
            "False Negatives(FN) =  39\n",
            "              precision    recall  f1-score   support\n",
            "\n",
            "          ac       0.80      0.75      0.77       207\n",
            "        inac       0.77      0.82      0.80       217\n",
            "\n",
            "    accuracy                           0.79       424\n",
            "   macro avg       0.79      0.78      0.78       424\n",
            "weighted avg       0.79      0.79      0.79       424\n",
            "\n",
            "--------------------------------------------------------------------------------------\n"
          ]
        },
        {
          "output_type": "display_data",
          "data": {
            "text/plain": [
              "<Figure size 432x288 with 2 Axes>"
            ],
            "image/png": "[encoded data removed]"
          },
          "metadata": {
            "needs_background": "light"
          }
        }
      ]
    },
    {
      "cell_type": "markdown",
      "metadata": {
        "id": "w12UGihXGays"
      },
      "source": [
        "### 5.9 Random Forests <a class=\"anchor\" id=\"5.9\"></a>\n",
        "\n",
        "[Back to Table of Contents](#0.1)"
      ]
    },
    {
      "cell_type": "markdown",
      "metadata": {
        "id": "MExShB_7Gays"
      },
      "source": [
        "Thanks to https://www.kaggle.com/startupsci/titanic-data-science-solutions"
      ]
    },
    {
      "cell_type": "markdown",
      "metadata": {
        "id": "YMQUainLGays"
      },
      "source": [
        "**Random Forests** is one of the most popular model. Random forests or random decision forests are an ensemble learning method for classification, regression and other tasks, that operate by constructing a multitude of decision trees (n_estimators= [100, 300]) at training time and outputting the class that is the mode of the classes (classification) or mean prediction (regression) of the individual trees. Reference [Wikipedia](https://en.wikipedia.org/wiki/Random_forest)."
      ]
    },
    {
      "cell_type": "code",
      "execution_count": 125,
      "metadata": {
        "colab": {
          "base_uri": "https://localhost:8080/"
        },
        "id": "PYDDh71rGays",
        "outputId": "a86ef4a3-be0c-4c31-a0cc-c31008b5d572"
      },
      "outputs": [
        {
          "output_type": "stream",
          "name": "stdout",
          "text": [
            "100.0 {'n_estimators': 300}\n"
          ]
        }
      ],
      "source": [
        "# Random Forest\n",
        "\n",
        "random_forest = GridSearchCV(estimator=RandomForestClassifier(), param_grid={'n_estimators': [20, 300]}, cv=5).fit(train, target)\n",
        "random_forest.fit(train, target)\n",
        "acc_random_forest = round(random_forest.score(train, target) * 100, 2)\n",
        "print(acc_random_forest,random_forest.best_params_)"
      ]
    },
    {
      "cell_type": "code",
      "execution_count": 126,
      "metadata": {
        "colab": {
          "base_uri": "https://localhost:8080/"
        },
        "id": "HRyirLACGays",
        "outputId": "c9b5df48-d509-40f8-abcf-006ebae942b2"
      },
      "outputs": [
        {
          "output_type": "execute_result",
          "data": {
            "text/plain": [
              "95.28"
            ]
          },
          "metadata": {},
          "execution_count": 126
        }
      ],
      "source": [
        "acc_test_random_forest = round(random_forest.score(test, target_test) * 100, 2)\n",
        "acc_test_random_forest"
      ]
    },
    {
      "cell_type": "code",
      "source": [
        "# Print the Confusion Matrix and slice it into four pieces\n",
        "y_pred = random_forest.predict(test)\n",
        "\n",
        "from sklearn.metrics import confusion_matrix\n",
        "\n",
        "cm = confusion_matrix(target_test, y_pred)\n",
        "\n",
        "print('Confusion matrix\\n\\n', cm)\n",
        "\n",
        "print('\\nTrue Positives(TP) = ', cm[0,0])\n",
        "\n",
        "print('\\nTrue Negatives(TN) = ', cm[1,1])\n",
        "\n",
        "print('\\nFalse Positives(FP) = ', cm[0,1])\n",
        "\n",
        "print('\\nFalse Negatives(FN) = ', cm[1,0])\n",
        "\n",
        "from sklearn.metrics import classification_report\n",
        "\n",
        "print(classification_report(target_test, y_pred))\n",
        "\n",
        "# visualize confusion matrix with seaborn heatmap\n",
        "import seaborn as sns\n",
        "cm_matrix = pd.DataFrame(data=cm, columns=['Actual Positive:1', 'Actual Negative:0'], \n",
        "                                 index=['Predict Positive:1', 'Predict Negative:0'])\n",
        "\n",
        "sns.heatmap(cm_matrix, annot=True, fmt='d', cmap='YlGnBu')\n",
        "print(\"--------------------------------------------------------------------------------------\")\n",
        "\n",
        "from sklearn.metrics import roc_curve\n",
        "\n",
        "\n",
        "def plot_roc_curve(fpr, tpr, label=None):\n",
        "    plt.plot(fpr, tpr, linewidth=2, label=label)\n",
        "    plt.plot([0, 1], [0, 1], \"k--\")\n",
        "    plt.axis([0, 1, 0, 1])\n",
        "    plt.xlabel('False Positive Rate')\n",
        "    plt.ylabel('True Positive Rate')\n",
        "    plt.title('ROC Curve')\n",
        "\n",
        "\n"
      ],
      "metadata": {
        "colab": {
          "base_uri": "https://localhost:8080/",
          "height": 666
        },
        "id": "bApNERgUf1N_",
        "outputId": "857786ca-3276-4e92-e91f-f50dc91dda26"
      },
      "execution_count": 127,
      "outputs": [
        {
          "output_type": "stream",
          "name": "stdout",
          "text": [
            "Confusion matrix\n",
            "\n",
            " [[195  12]\n",
            " [  8 209]]\n",
            "\n",
            "True Positives(TP) =  195\n",
            "\n",
            "True Negatives(TN) =  209\n",
            "\n",
            "False Positives(FP) =  12\n",
            "\n",
            "False Negatives(FN) =  8\n",
            "              precision    recall  f1-score   support\n",
            "\n",
            "          ac       0.96      0.94      0.95       207\n",
            "        inac       0.95      0.96      0.95       217\n",
            "\n",
            "    accuracy                           0.95       424\n",
            "   macro avg       0.95      0.95      0.95       424\n",
            "weighted avg       0.95      0.95      0.95       424\n",
            "\n",
            "--------------------------------------------------------------------------------------\n"
          ]
        },
        {
          "output_type": "display_data",
          "data": {
            "text/plain": [
              "<Figure size 432x288 with 2 Axes>"
            ],
            "image/png": "[encoded data removed]"
          },
          "metadata": {
            "needs_background": "light"
          }
        }
      ]
    },
    {
      "cell_type": "markdown",
      "metadata": {
        "id": "sjJpLLrCGayu"
      },
      "source": [
        "### 5.11 LGBM Classifier <a class=\"anchor\" id=\"5.11\"></a>\n",
        "\n",
        "[Back to Table of Contents](#0.1)"
      ]
    },
    {
      "cell_type": "markdown",
      "metadata": {
        "id": "wb2cWTElGayu"
      },
      "source": [
        "Light GBM is a fast, distributed, high-performance gradient boosting framework based on decision tree algorithms. It splits the tree leaf wise with the best fit whereas other boosting algorithms split the tree depth wise or level wise rather than leaf-wise. So when growing on the same leaf in Light GBM, the leaf-wise algorithm can reduce more loss than the level-wise algorithm and hence results in much better accuracy which can rarely be achieved by any of the existing boosting algorithms. Also, it is surprisingly very fast, hence the word ‘Light’. Reference [Analytics Vidhya](https://www.analyticsvidhya.com/blog/2017/06/which-algorithm-takes-the-crown-light-gbm-vs-xgboost/)."
      ]
    },
    {
      "cell_type": "markdown",
      "metadata": {
        "id": "UstrFpzPGayv"
      },
      "source": [
        "We will tuning the hyperparameters of the LGBMClassifier model using the HyperOpt and 10-fold crossvalidation"
      ]
    },
    {
      "cell_type": "code",
      "execution_count": 128,
      "metadata": {
        "id": "xw5obOmaGayv",
        "outputId": "56316ea4-6a3c-44dd-be1a-493798f19146",
        "colab": {
          "base_uri": "https://localhost:8080/"
        }
      },
      "outputs": [
        {
          "output_type": "stream",
          "name": "stdout",
          "text": [
            "0.9363035154890358\n",
            "{'boosting_type': 'gbdt', 'colsample_bytree': 0.77, 'learning_rate': 0.037200000000000004, 'max_depth': 11, 'min_child_weight': 6.9, 'n_estimators': 525, 'num_leaves': 1496, 'objective': 'binary'}\n",
            "0.9475182735816219\n",
            "{'boosting_type': 'gbdt', 'colsample_bytree': 0.52, 'learning_rate': 0.044500000000000005, 'max_depth': 10, 'min_child_weight': 1.625, 'n_estimators': 349, 'num_leaves': 2944, 'objective': 'binary'}\n",
            "0.9268917507831536\n",
            "{'boosting_type': 'gbdt', 'colsample_bytree': 0.505, 'learning_rate': 0.008400000000000001, 'max_depth': 6, 'min_child_weight': 5.45, 'n_estimators': 476, 'num_leaves': 3432, 'objective': 'binary'}\n",
            "0.8690985033066483\n",
            "{'boosting_type': 'gbdt', 'colsample_bytree': 0.665, 'learning_rate': 0.0028, 'max_depth': 8, 'min_child_weight': 6.2, 'n_estimators': 137, 'num_leaves': 1742, 'objective': 'binary'}\n",
            "0.9333727810650888\n",
            "{'boosting_type': 'gbdt', 'colsample_bytree': 0.79, 'learning_rate': 0.0354, 'max_depth': 4, 'min_child_weight': 8.1, 'n_estimators': 637, 'num_leaves': 3836, 'objective': 'binary'}\n",
            "0.9374904281239124\n",
            "{'boosting_type': 'gbdt', 'colsample_bytree': 0.74, 'learning_rate': 0.0178, 'max_depth': 9, 'min_child_weight': 7.625, 'n_estimators': 736, 'num_leaves': 1634, 'objective': 'binary'}\n",
            "0.9392690567351201\n",
            "{'boosting_type': 'gbdt', 'colsample_bytree': 0.9550000000000001, 'learning_rate': 0.042100000000000005, 'max_depth': 4, 'min_child_weight': 1.55, 'n_estimators': 618, 'num_leaves': 2996, 'objective': 'binary'}\n",
            "0.9463348416289593\n",
            "{'boosting_type': 'gbdt', 'colsample_bytree': 0.51, 'learning_rate': 0.0483, 'max_depth': 11, 'min_child_weight': 1.4000000000000001, 'n_estimators': 636, 'num_leaves': 328, 'objective': 'binary'}\n",
            "0.9316045945005221\n",
            "{'boosting_type': 'gbdt', 'colsample_bytree': 0.9450000000000001, 'learning_rate': 0.006200000000000001, 'max_depth': 9, 'min_child_weight': 5.1000000000000005, 'n_estimators': 911, 'num_leaves': 1426, 'objective': 'binary'}\n",
            "0.8602401670727463\n",
            "{'boosting_type': 'gbdt', 'colsample_bytree': 0.68, 'learning_rate': 0.023200000000000002, 'max_depth': 2, 'min_child_weight': 5.175000000000001, 'n_estimators': 344, 'num_leaves': 778, 'objective': 'binary'}\n",
            "100%|██████████| 10/10 [03:57<00:00, 23.76s/it, best loss: 0.8602401670727463]\n",
            "best:\n",
            "{'colsample_bytree': 0.68, 'learning_rate': 0.023200000000000002, 'max_depth': 0, 'min_child_weight': 5.175000000000001, 'n_estimators': 244, 'num_leaves': 387}\n"
          ]
        }
      ],
      "source": [
        "def hyperopt_lgb_score(params):\n",
        "    clf = LGBMClassifier(**params)\n",
        "    current_score = cross_val_score(clf, train, target, cv=10).mean()\n",
        "    print(current_score, params)\n",
        "    return current_score \n",
        " \n",
        "space_lgb = {\n",
        "            'learning_rate': hp.quniform('learning_rate', 0, 0.05, 0.0001),\n",
        "            'n_estimators': hp.choice('n_estimators', range(100, 1000)),\n",
        "            'max_depth':  hp.choice('max_depth', np.arange(2, 12, dtype=int)),\n",
        "            'num_leaves': hp.choice('num_leaves', 2*np.arange(2, 2**11, dtype=int)),\n",
        "            'min_child_weight': hp.quniform('min_child_weight', 1, 9, 0.025),\n",
        "            'colsample_bytree': hp.quniform('colsample_bytree', 0.5, 1, 0.005),\n",
        "            'objective': 'binary',\n",
        "            'boosting_type': 'gbdt',\n",
        "            }\n",
        " \n",
        "best = fmin(fn=hyperopt_lgb_score, space=space_lgb, algo=tpe.suggest, max_evals=10)\n",
        "print('best:')\n",
        "print(best)"
      ]
    },
    {
      "cell_type": "code",
      "execution_count": 129,
      "metadata": {
        "id": "_2cVjogdGayv",
        "outputId": "e3136a75-c817-4590-bcf6-77f3721640ac",
        "colab": {
          "base_uri": "https://localhost:8080/"
        }
      },
      "outputs": [
        {
          "output_type": "execute_result",
          "data": {
            "text/plain": [
              "{'boosting_type': 'gbdt',\n",
              " 'colsample_bytree': 0.68,\n",
              " 'learning_rate': 0.023200000000000002,\n",
              " 'max_depth': 2,\n",
              " 'min_child_weight': 5.175000000000001,\n",
              " 'n_estimators': 344,\n",
              " 'num_leaves': 778,\n",
              " 'objective': 'binary'}"
            ]
          },
          "metadata": {},
          "execution_count": 129
        }
      ],
      "source": [
        "params = space_eval(space_lgb, best)\n",
        "params"
      ]
    },
    {
      "cell_type": "code",
      "execution_count": 155,
      "metadata": {
        "id": "aH_zHNFCGayv",
        "outputId": "94d532c7-ed9a-4ead-ec82-32c6b53a28c9",
        "colab": {
          "base_uri": "https://localhost:8080/"
        }
      },
      "outputs": [
        {
          "output_type": "execute_result",
          "data": {
            "text/plain": [
              "100.0"
            ]
          },
          "metadata": {},
          "execution_count": 155
        }
      ],
      "source": [
        "LGB_Classifier = LGBMClassifier(**{'boosting_type': 'gbdt', 'colsample_bytree': 0.52, 'learning_rate': 0.044500000000000005, 'max_depth': 10, 'min_child_weight': 1.625, 'n_estimators': 349, 'num_leaves': 2944, 'objective': 'binary'}\n",
        ")\n",
        "LGB_Classifier.fit(train, target)\n",
        "acc_LGB_Classifier = round(LGB_Classifier.score(train, target) * 100, 2)\n",
        "acc_LGB_Classifier"
      ]
    },
    {
      "cell_type": "code",
      "execution_count": 156,
      "metadata": {
        "id": "AGVNEFRAGayv",
        "outputId": "63cdd228-4113-47a5-977c-d5d498efe756",
        "colab": {
          "base_uri": "https://localhost:8080/"
        }
      },
      "outputs": [
        {
          "output_type": "execute_result",
          "data": {
            "text/plain": [
              "96.7"
            ]
          },
          "metadata": {},
          "execution_count": 156
        }
      ],
      "source": [
        "acc_test_LGB_Classifier = round(LGB_Classifier.score(test, target_test) * 100, 2)\n",
        "acc_test_LGB_Classifier"
      ]
    },
    {
      "cell_type": "code",
      "execution_count": 157,
      "metadata": {
        "id": "f8HWFt0EGayw",
        "outputId": "3f5c3703-44c3-4ebe-c4a2-88bf7a86e552",
        "colab": {
          "base_uri": "https://localhost:8080/",
          "height": 893
        }
      },
      "outputs": [
        {
          "output_type": "display_data",
          "data": {
            "text/plain": [
              "<Figure size 1080x1080 with 1 Axes>"
            ],
            "image/png": "[encoded data removed]"
          },
          "metadata": {
            "needs_background": "light"
          }
        }
      ],
      "source": [
        "fig =  plt.figure(figsize = (15,15))\n",
        "axes = fig.add_subplot(111)\n",
        "lgb.plot_importance(LGB_Classifier,ax = axes,height = 0.5)\n",
        "plt.show();\n",
        "plt.close()"
      ]
    },
    {
      "cell_type": "code",
      "source": [
        "# Print the Confusion Matrix and slice it into four pieces\n",
        "y_pred = LGB_Classifier.predict(test)\n",
        "\n",
        "from sklearn.metrics import confusion_matrix\n",
        "\n",
        "cm = confusion_matrix(target_test, y_pred)\n",
        "\n",
        "print('Confusion matrix\\n\\n', cm)\n",
        "\n",
        "print('\\nTrue Positives(TP) = ', cm[0,0])\n",
        "\n",
        "print('\\nTrue Negatives(TN) = ', cm[1,1])\n",
        "\n",
        "print('\\nFalse Positives(FP) = ', cm[0,1])\n",
        "\n",
        "print('\\nFalse Negatives(FN) = ', cm[1,0])\n",
        "\n",
        "from sklearn.metrics import classification_report\n",
        "\n",
        "print(classification_report(target_test, y_pred))\n",
        "\n",
        "# visualize confusion matrix with seaborn heatmap\n",
        "import seaborn as sns\n",
        "cm_matrix = pd.DataFrame(data=cm, columns=['Actual Positive:1', 'Actual Negative:0'], \n",
        "                                 index=['Predict Positive:1', 'Predict Negative:0'])\n",
        "\n",
        "sns.heatmap(cm_matrix, annot=True, fmt='d', cmap='YlGnBu')\n",
        "print(\"--------------------------------------------------------------------------------------\")\n",
        "\n",
        "from sklearn.metrics import roc_curve\n",
        "\n",
        "\n",
        "def plot_roc_curve(fpr, tpr, label=None):\n",
        "    plt.plot(fpr, tpr, linewidth=2, label=label)\n",
        "    plt.plot([0, 1], [0, 1], \"k--\")\n",
        "    plt.axis([0, 1, 0, 1])\n",
        "    plt.xlabel('False Positive Rate')\n",
        "    plt.ylabel('True Positive Rate')\n",
        "    plt.title('ROC Curve')\n",
        "\n",
        "\n"
      ],
      "metadata": {
        "colab": {
          "base_uri": "https://localhost:8080/",
          "height": 666
        },
        "id": "Tib5lnHVhexn",
        "outputId": "ee4ae848-431e-4b22-c034-77a082d7b20e"
      },
      "execution_count": 158,
      "outputs": [
        {
          "output_type": "stream",
          "name": "stdout",
          "text": [
            "Confusion matrix\n",
            "\n",
            " [[201   6]\n",
            " [  8 209]]\n",
            "\n",
            "True Positives(TP) =  201\n",
            "\n",
            "True Negatives(TN) =  209\n",
            "\n",
            "False Positives(FP) =  6\n",
            "\n",
            "False Negatives(FN) =  8\n",
            "              precision    recall  f1-score   support\n",
            "\n",
            "          ac       0.96      0.97      0.97       207\n",
            "        inac       0.97      0.96      0.97       217\n",
            "\n",
            "    accuracy                           0.97       424\n",
            "   macro avg       0.97      0.97      0.97       424\n",
            "weighted avg       0.97      0.97      0.97       424\n",
            "\n",
            "--------------------------------------------------------------------------------------\n"
          ]
        },
        {
          "output_type": "display_data",
          "data": {
            "text/plain": [
              "<Figure size 432x288 with 2 Axes>"
            ],
            "image/png": "[encoded data removed]"
          },
          "metadata": {
            "needs_background": "light"
          }
        }
      ]
    },
    {
      "cell_type": "markdown",
      "metadata": {
        "id": "vzgOKCpEGayw"
      },
      "source": [
        "### 5.12 GradientBoostingClassifier <a class=\"anchor\" id=\"5.12\"></a>\n",
        "\n",
        "[Back to Table of Contents](#0.1)"
      ]
    },
    {
      "cell_type": "markdown",
      "metadata": {
        "id": "e1MYNVWAGayw"
      },
      "source": [
        "Thanks to https://www.kaggle.com/kabure/titanic-eda-model-pipeline-keras-nn"
      ]
    },
    {
      "cell_type": "markdown",
      "metadata": {
        "id": "uehuSf03Gayw"
      },
      "source": [
        "**Gradient Boosting** builds an additive model in a forward stage-wise fashion; it allows for the optimization of arbitrary differentiable loss functions. In each stage n_classes_ regression trees are fit on the negative gradient of the binomial or multinomial deviance loss function. Binary classification is a special case where only a single regression tree is induced. The features are always randomly permuted at each split. Therefore, the best found split may vary, even with the same training data and max_features=n_features, if the improvement of the criterion is identical for several splits enumerated during the search of the best split. To obtain a deterministic behaviour during fitting, random_state has to be fixed. Reference [sklearn documentation](https://scikit-learn.org/stable/modules/generated/sklearn.ensemble.GradientBoostingClassifier.html)."
      ]
    },
    {
      "cell_type": "code",
      "execution_count": 134,
      "metadata": {
        "colab": {
          "base_uri": "https://localhost:8080/"
        },
        "id": "eySWiUA-Gayw",
        "outputId": "dcad450f-3498-473d-de25-878859aec070"
      },
      "outputs": [
        {
          "output_type": "stream",
          "name": "stdout",
          "text": [
            "0.8997493908806126\n",
            "{'max_depth': 2, 'n_estimators': 271}\n",
            "0.918029933867038\n",
            "{'max_depth': 3, 'n_estimators': 116}\n",
            "0.9363278802645318\n",
            "{'max_depth': 5, 'n_estimators': 182}\n",
            "0.9262861120779673\n",
            "{'max_depth': 4, 'n_estimators': 102}\n",
            "0.9369091541942222\n",
            "{'max_depth': 8, 'n_estimators': 167}\n",
            "0.9351409676296554\n",
            "{'max_depth': 7, 'n_estimators': 135}\n",
            "0.9251270449008006\n",
            "{'max_depth': 7, 'n_estimators': 87}\n",
            "0.9386912634876436\n",
            "{'max_depth': 7, 'n_estimators': 219}\n",
            "0.9298364079359555\n",
            "{'max_depth': 8, 'n_estimators': 97}\n",
            "0.8879846849982597\n",
            "{'max_depth': 9, 'n_estimators': 37}\n",
            "100%|██████████| 10/10 [13:33<00:00, 81.37s/it, best loss: 0.8879846849982597]\n",
            "best:\n",
            "{'max_depth': 7, 'n_estimators': 35}\n"
          ]
        }
      ],
      "source": [
        "def hyperopt_gb_score(params):\n",
        "    clf = GradientBoostingClassifier(**params)\n",
        "    current_score = cross_val_score(clf, train, target, cv=10).mean()\n",
        "    print(current_score, params)\n",
        "    return current_score \n",
        " \n",
        "space_gb = {\n",
        "            'n_estimators': hp.choice('n_estimators', range(2, 300)),\n",
        "            'max_depth': hp.choice('max_depth', np.arange(2, 10, dtype=int))            \n",
        "        }\n",
        " \n",
        "best = fmin(fn=hyperopt_gb_score, space=space_gb, algo=tpe.suggest, max_evals=10)\n",
        "print('best:')\n",
        "print(best)"
      ]
    },
    {
      "cell_type": "code",
      "execution_count": 135,
      "metadata": {
        "id": "9jHtRA6-Gayx",
        "colab": {
          "base_uri": "https://localhost:8080/"
        },
        "outputId": "00c6ec94-d138-4e82-bc9f-05bcc5a612b3"
      },
      "outputs": [
        {
          "output_type": "execute_result",
          "data": {
            "text/plain": [
              "{'max_depth': 9, 'n_estimators': 37}"
            ]
          },
          "metadata": {},
          "execution_count": 135
        }
      ],
      "source": [
        "params = space_eval(space_gb, best)\n",
        "params"
      ]
    },
    {
      "cell_type": "code",
      "execution_count": 159,
      "metadata": {
        "id": "OVWowxYbGayx",
        "colab": {
          "base_uri": "https://localhost:8080/"
        },
        "outputId": "2bf6ffe5-43a2-4440-fd2e-136c9f01e142"
      },
      "outputs": [
        {
          "output_type": "execute_result",
          "data": {
            "text/plain": [
              "100.0"
            ]
          },
          "metadata": {},
          "execution_count": 159
        }
      ],
      "source": [
        "# Gradient Boosting Classifier\n",
        "\n",
        "gradient_boosting = GradientBoostingClassifier(**{'max_depth': 7, 'n_estimators': 219})\n",
        "gradient_boosting.fit(train, target)\n",
        "acc_gradient_boosting = round(gradient_boosting.score(train, target) * 100, 2)\n",
        "acc_gradient_boosting"
      ]
    },
    {
      "cell_type": "code",
      "execution_count": 160,
      "metadata": {
        "id": "HNWVPdRQGayx",
        "colab": {
          "base_uri": "https://localhost:8080/"
        },
        "outputId": "aaf760c8-3b3b-458f-f9d6-47dc69464b03"
      },
      "outputs": [
        {
          "output_type": "execute_result",
          "data": {
            "text/plain": [
              "95.99"
            ]
          },
          "metadata": {},
          "execution_count": 160
        }
      ],
      "source": [
        "acc_test_gradient_boosting = round(gradient_boosting.score(test, target_test) * 100, 2)\n",
        "acc_test_gradient_boosting"
      ]
    },
    {
      "cell_type": "code",
      "source": [
        "# Print the Confusion Matrix and slice it into four pieces\n",
        "y_pred = gradient_boosting.predict(test)\n",
        "\n",
        "from sklearn.metrics import confusion_matrix\n",
        "\n",
        "cm = confusion_matrix(target_test, y_pred)\n",
        "\n",
        "print('Confusion matrix\\n\\n', cm)\n",
        "\n",
        "print('\\nTrue Positives(TP) = ', cm[0,0])\n",
        "\n",
        "print('\\nTrue Negatives(TN) = ', cm[1,1])\n",
        "\n",
        "print('\\nFalse Positives(FP) = ', cm[0,1])\n",
        "\n",
        "print('\\nFalse Negatives(FN) = ', cm[1,0])\n",
        "\n",
        "from sklearn.metrics import classification_report\n",
        "\n",
        "print(classification_report(target_test, y_pred))\n",
        "\n",
        "# visualize confusion matrix with seaborn heatmap\n",
        "import seaborn as sns\n",
        "cm_matrix = pd.DataFrame(data=cm, columns=['Actual Positive:1', 'Actual Negative:0'], \n",
        "                                 index=['Predict Positive:1', 'Predict Negative:0'])\n",
        "\n",
        "sns.heatmap(cm_matrix, annot=True, fmt='d', cmap='YlGnBu')\n",
        "print(\"--------------------------------------------------------------------------------------\")\n",
        "\n",
        "from sklearn.metrics import roc_curve\n",
        "\n",
        "\n",
        "def plot_roc_curve(fpr, tpr, label=None):\n",
        "    plt.plot(fpr, tpr, linewidth=2, label=label)\n",
        "    plt.plot([0, 1], [0, 1], \"k--\")\n",
        "    plt.axis([0, 1, 0, 1])\n",
        "    plt.xlabel('False Positive Rate')\n",
        "    plt.ylabel('True Positive Rate')\n",
        "    plt.title('ROC Curve')\n",
        "\n",
        "\n"
      ],
      "metadata": {
        "colab": {
          "base_uri": "https://localhost:8080/",
          "height": 666
        },
        "id": "7YGnt1s8iuJ_",
        "outputId": "a1fe1a30-e085-4bdb-ad3c-61d0ec7acd86"
      },
      "execution_count": 161,
      "outputs": [
        {
          "output_type": "stream",
          "name": "stdout",
          "text": [
            "Confusion matrix\n",
            "\n",
            " [[199   8]\n",
            " [  9 208]]\n",
            "\n",
            "True Positives(TP) =  199\n",
            "\n",
            "True Negatives(TN) =  208\n",
            "\n",
            "False Positives(FP) =  8\n",
            "\n",
            "False Negatives(FN) =  9\n",
            "              precision    recall  f1-score   support\n",
            "\n",
            "          ac       0.96      0.96      0.96       207\n",
            "        inac       0.96      0.96      0.96       217\n",
            "\n",
            "    accuracy                           0.96       424\n",
            "   macro avg       0.96      0.96      0.96       424\n",
            "weighted avg       0.96      0.96      0.96       424\n",
            "\n",
            "--------------------------------------------------------------------------------------\n"
          ]
        },
        {
          "output_type": "display_data",
          "data": {
            "text/plain": [
              "<Figure size 432x288 with 2 Axes>"
            ],
            "image/png": "[encoded data removed]"
          },
          "metadata": {
            "needs_background": "light"
          }
        }
      ]
    },
    {
      "cell_type": "markdown",
      "metadata": {
        "id": "eS-swvP4Gayy"
      },
      "source": [
        "### 5.13 RidgeClassifier <a class=\"anchor\" id=\"5.13\"></a>\n",
        "\n",
        "[Back to Table of Contents](#0.1)"
      ]
    },
    {
      "cell_type": "markdown",
      "metadata": {
        "id": "l-bLqL0lGayy"
      },
      "source": [
        "Thanks to https://www.kaggle.com/kabure/titanic-eda-model-pipeline-keras-nn"
      ]
    },
    {
      "cell_type": "markdown",
      "metadata": {
        "id": "oFzmO43NGayy"
      },
      "source": [
        "Tikhonov Regularization, colloquially known as **Ridge Regression**, is the most commonly used regression algorithm to approximate an answer for an equation with no unique solution. This type of problem is very common in machine learning tasks, where the \"best\" solution must be chosen using limited data. If a unique solution exists, algorithm will return the optimal value. However, if multiple solutions exist, it may choose any of them. Reference [Brilliant.org](https://brilliant.org/wiki/ridge-regression/)."
      ]
    },
    {
      "cell_type": "code",
      "execution_count": 139,
      "metadata": {
        "id": "0Wk0g-jBGayy",
        "outputId": "7ec36204-7470-4938-99cb-f0a90d520674",
        "colab": {
          "base_uri": "https://localhost:8080/"
        }
      },
      "outputs": [
        {
          "output_type": "execute_result",
          "data": {
            "text/plain": [
              "88.5"
            ]
          },
          "metadata": {},
          "execution_count": 139
        }
      ],
      "source": [
        "# Ridge Classifier\n",
        "\n",
        "ridge_classifier = RidgeClassifier()\n",
        "ridge_classifier.fit(train, target)\n",
        "acc_ridge_classifier = round(ridge_classifier.score(train, target) * 100, 2)\n",
        "acc_ridge_classifier"
      ]
    },
    {
      "cell_type": "code",
      "execution_count": 140,
      "metadata": {
        "id": "gruOcJXPGayy",
        "outputId": "e3d7b80d-a3cf-42e3-ec3b-aecdd5536920",
        "colab": {
          "base_uri": "https://localhost:8080/"
        }
      },
      "outputs": [
        {
          "output_type": "execute_result",
          "data": {
            "text/plain": [
              "88.21"
            ]
          },
          "metadata": {},
          "execution_count": 140
        }
      ],
      "source": [
        "acc_test_ridge_classifier = round(ridge_classifier.score(test, target_test) * 100, 2)\n",
        "acc_test_ridge_classifier"
      ]
    },
    {
      "cell_type": "code",
      "source": [
        "# Print the Confusion Matrix and slice it into four pieces\n",
        "y_pred = ridge_classifier.predict(test)\n",
        "\n",
        "from sklearn.metrics import confusion_matrix\n",
        "\n",
        "cm = confusion_matrix(target_test, y_pred)\n",
        "\n",
        "print('Confusion matrix\\n\\n', cm)\n",
        "\n",
        "print('\\nTrue Positives(TP) = ', cm[0,0])\n",
        "\n",
        "print('\\nTrue Negatives(TN) = ', cm[1,1])\n",
        "\n",
        "print('\\nFalse Positives(FP) = ', cm[0,1])\n",
        "\n",
        "print('\\nFalse Negatives(FN) = ', cm[1,0])\n",
        "\n",
        "from sklearn.metrics import classification_report\n",
        "\n",
        "print(classification_report(target_test, y_pred))\n",
        "\n",
        "# visualize confusion matrix with seaborn heatmap\n",
        "import seaborn as sns\n",
        "cm_matrix = pd.DataFrame(data=cm, columns=['Actual Positive:1', 'Actual Negative:0'], \n",
        "                                 index=['Predict Positive:1', 'Predict Negative:0'])\n",
        "\n",
        "sns.heatmap(cm_matrix, annot=True, fmt='d', cmap='YlGnBu')\n",
        "print(\"--------------------------------------------------------------------------------------\")\n",
        "\n",
        "from sklearn.metrics import roc_curve\n",
        "\n",
        "\n",
        "def plot_roc_curve(fpr, tpr, label=None):\n",
        "    plt.plot(fpr, tpr, linewidth=2, label=label)\n",
        "    plt.plot([0, 1], [0, 1], \"k--\")\n",
        "    plt.axis([0, 1, 0, 1])\n",
        "    plt.xlabel('False Positive Rate')\n",
        "    plt.ylabel('True Positive Rate')\n",
        "    plt.title('ROC Curve')\n",
        "\n",
        "\n"
      ],
      "metadata": {
        "colab": {
          "base_uri": "https://localhost:8080/",
          "height": 666
        },
        "id": "ixHxVq2ZmI4O",
        "outputId": "7470869e-a419-45f4-fe5d-03c13127c945"
      },
      "execution_count": 141,
      "outputs": [
        {
          "output_type": "stream",
          "name": "stdout",
          "text": [
            "Confusion matrix\n",
            "\n",
            " [[178  29]\n",
            " [ 21 196]]\n",
            "\n",
            "True Positives(TP) =  178\n",
            "\n",
            "True Negatives(TN) =  196\n",
            "\n",
            "False Positives(FP) =  29\n",
            "\n",
            "False Negatives(FN) =  21\n",
            "              precision    recall  f1-score   support\n",
            "\n",
            "          ac       0.89      0.86      0.88       207\n",
            "        inac       0.87      0.90      0.89       217\n",
            "\n",
            "    accuracy                           0.88       424\n",
            "   macro avg       0.88      0.88      0.88       424\n",
            "weighted avg       0.88      0.88      0.88       424\n",
            "\n",
            "--------------------------------------------------------------------------------------\n"
          ]
        },
        {
          "output_type": "display_data",
          "data": {
            "text/plain": [
              "<Figure size 432x288 with 2 Axes>"
            ],
            "image/png": "[encoded data removed]"
          },
          "metadata": {
            "needs_background": "light"
          }
        }
      ]
    },
    {
      "cell_type": "markdown",
      "metadata": {
        "id": "t1OS9HoiGayz"
      },
      "source": [
        "### 5.15 ExtraTreesClassifier <a class=\"anchor\" id=\"5.15\"></a>\n",
        "\n",
        "[Back to Table of Contents](#0.1)"
      ]
    },
    {
      "cell_type": "markdown",
      "metadata": {
        "id": "VjxIpoWPGayz"
      },
      "source": [
        "Thanks to https://www.kaggle.com/kabure/titanic-eda-model-pipeline-keras-nn"
      ]
    },
    {
      "cell_type": "markdown",
      "metadata": {
        "id": "Q33SHnxmGayz"
      },
      "source": [
        "**ExtraTreesClassifier** implements a meta estimator that fits a number of randomized decision trees (a.k.a. extra-trees) on various sub-samples of the dataset and uses averaging to improve the predictive accuracy and control over-fitting. The default values for the parameters controlling the size of the trees (e.g. max_depth, min_samples_leaf, etc.) lead to fully grown and unpruned trees which can potentially be very large on some data sets. To reduce memory consumption, the complexity and size of the trees should be controlled by setting those parameter values. Reference [sklearn documentation](https://scikit-learn.org/stable/modules/generated/sklearn.ensemble.ExtraTreesClassifier.html). \n",
        "\n",
        "In extremely randomized trees, randomness goes one step further in the way splits are computed. As in random forests, a random subset of candidate features is used, but instead of looking for the most discriminative thresholds, thresholds are drawn at random for each candidate feature and the best of these randomly-generated thresholds is picked as the splitting rule. This usually allows to reduce the variance of the model a bit more, at the expense of a slightly greater increase in bias. Reference [sklearn documentation](https://scikit-learn.org/stable/modules/ensemble.html#Extremely%20Randomized%20Trees)."
      ]
    },
    {
      "cell_type": "code",
      "execution_count": 142,
      "metadata": {
        "id": "c_WKpF8rGay0",
        "outputId": "94455866-8375-4a4b-b0b0-c352b8c45bfe",
        "colab": {
          "base_uri": "https://localhost:8080/"
        }
      },
      "outputs": [
        {
          "output_type": "stream",
          "name": "stdout",
          "text": [
            "0.7010720501218238\n",
            "{'max_depth': 2, 'max_features': None, 'min_samples_leaf': 4, 'n_estimators': 267}\n",
            "0.9239227288548555\n",
            "{'max_depth': 8, 'max_features': None, 'min_samples_leaf': 2, 'n_estimators': 322}\n",
            "0.9150609119387401\n",
            "{'max_depth': 7, 'max_features': None, 'min_samples_leaf': 4, 'n_estimators': 368}\n",
            "0.9380717020536025\n",
            "{'max_depth': 9, 'max_features': None, 'min_samples_leaf': 4, 'n_estimators': 389}\n",
            "0.8891159067177167\n",
            "{'max_depth': 6, 'max_features': None, 'min_samples_leaf': 3, 'n_estimators': 431}\n",
            "0.9457466063348416\n",
            "{'max_depth': 11, 'max_features': None, 'min_samples_leaf': 4, 'n_estimators': 415}\n",
            "0.9085868430212323\n",
            "{'max_depth': 7, 'max_features': None, 'min_samples_leaf': 4, 'n_estimators': 610}\n",
            "0.9309989557953358\n",
            "{'max_depth': 8, 'max_features': None, 'min_samples_leaf': 2, 'n_estimators': 413}\n",
            "0.7676435781413157\n",
            "{'max_depth': 3, 'max_features': None, 'min_samples_leaf': 3, 'n_estimators': 258}\n",
            "0.7647163243995823\n",
            "{'max_depth': 3, 'max_features': None, 'min_samples_leaf': 4, 'n_estimators': 955}\n",
            "100%|██████████| 10/10 [03:56<00:00, 23.65s/it, best loss: 0.7010720501218238]\n",
            "best:\n",
            "{'max_depth': 0, 'min_samples_leaf': 3, 'n_estimators': 167}\n"
          ]
        }
      ],
      "source": [
        "def hyperopt_etc_score(params):\n",
        "    clf = ExtraTreesClassifier(**params)\n",
        "    current_score = cross_val_score(clf, train, target, cv=10).mean()\n",
        "    print(current_score, params)\n",
        "    return current_score \n",
        " \n",
        "space_etc = {\n",
        "            'n_estimators': hp.choice('n_estimators', range(100, 1000)),\n",
        "            'max_features': hp.choice('max_features', np.arange(2, 17, dtype=int)),\n",
        "            'min_samples_leaf': hp.choice('min_samples_leaf', np.arange(1, 5, dtype=int)),\n",
        "            'max_depth':  hp.choice('max_depth', np.arange(2, 12, dtype=int)),\n",
        "            'max_features': None # for small number of features\n",
        "        }\n",
        " \n",
        "best = fmin(fn=hyperopt_etc_score, space=space_etc, algo=tpe.suggest, max_evals=10)\n",
        "print('best:')\n",
        "print(best)"
      ]
    },
    {
      "cell_type": "code",
      "execution_count": 143,
      "metadata": {
        "id": "Uv2ziJE0Gay0",
        "outputId": "f7c2e3a9-c5ac-49db-fa35-d4580df3e414",
        "colab": {
          "base_uri": "https://localhost:8080/"
        }
      },
      "outputs": [
        {
          "output_type": "execute_result",
          "data": {
            "text/plain": [
              "{'max_depth': 2,\n",
              " 'max_features': None,\n",
              " 'min_samples_leaf': 4,\n",
              " 'n_estimators': 267}"
            ]
          },
          "metadata": {},
          "execution_count": 143
        }
      ],
      "source": [
        "params = space_eval(space_etc, best)\n",
        "params"
      ]
    },
    {
      "cell_type": "code",
      "execution_count": 162,
      "metadata": {
        "id": "vVaYnupmGay0",
        "outputId": "ab5fc128-b076-4790-91c6-677c0e2718e6",
        "colab": {
          "base_uri": "https://localhost:8080/"
        }
      },
      "outputs": [
        {
          "output_type": "execute_result",
          "data": {
            "text/plain": [
              "100.0"
            ]
          },
          "metadata": {},
          "execution_count": 162
        }
      ],
      "source": [
        "# Extra Trees Classifier\n",
        "\n",
        "extra_trees_classifier = ExtraTreesClassifier(**{'max_depth': 11, 'max_features': None, 'min_samples_leaf': 4, 'n_estimators': 415})\n",
        "extra_trees_classifier.fit(train, target)\n",
        "acc_etc = round(extra_trees_classifier.score(train, target) * 100, 2)\n",
        "acc_etc"
      ]
    },
    {
      "cell_type": "code",
      "execution_count": 163,
      "metadata": {
        "id": "v13VVbQAGay0",
        "outputId": "1b0f523b-8704-4795-e459-27e15ab3a1dc",
        "colab": {
          "base_uri": "https://localhost:8080/"
        }
      },
      "outputs": [
        {
          "output_type": "execute_result",
          "data": {
            "text/plain": [
              "95.05"
            ]
          },
          "metadata": {},
          "execution_count": 163
        }
      ],
      "source": [
        "acc_test_etc = round(extra_trees_classifier.score(test, target_test) * 100, 2)\n",
        "acc_test_etc"
      ]
    },
    {
      "cell_type": "code",
      "source": [
        "# Print the Confusion Matrix and slice it into four pieces\n",
        "y_pred = extra_trees_classifier.predict(test)\n",
        "\n",
        "from sklearn.metrics import confusion_matrix\n",
        "\n",
        "cm = confusion_matrix(target_test, y_pred)\n",
        "\n",
        "print('Confusion matrix\\n\\n', cm)\n",
        "\n",
        "print('\\nTrue Positives(TP) = ', cm[0,0])\n",
        "\n",
        "print('\\nTrue Negatives(TN) = ', cm[1,1])\n",
        "\n",
        "print('\\nFalse Positives(FP) = ', cm[0,1])\n",
        "\n",
        "print('\\nFalse Negatives(FN) = ', cm[1,0])\n",
        "\n",
        "from sklearn.metrics import classification_report\n",
        "\n",
        "print(classification_report(target_test, y_pred))\n",
        "\n",
        "# visualize confusion matrix with seaborn heatmap\n",
        "import seaborn as sns\n",
        "cm_matrix = pd.DataFrame(data=cm, columns=['Actual Positive:1', 'Actual Negative:0'], \n",
        "                                 index=['Predict Positive:1', 'Predict Negative:0'])\n",
        "\n",
        "sns.heatmap(cm_matrix, annot=True, fmt='d', cmap='YlGnBu')\n",
        "print(\"--------------------------------------------------------------------------------------\")\n",
        "\n",
        "from sklearn.metrics import roc_curve\n",
        "\n",
        "\n",
        "def plot_roc_curve(fpr, tpr, label=None):\n",
        "    plt.plot(fpr, tpr, linewidth=2, label=label)\n",
        "    plt.plot([0, 1], [0, 1], \"k--\")\n",
        "    plt.axis([0, 1, 0, 1])\n",
        "    plt.xlabel('False Positive Rate')\n",
        "    plt.ylabel('True Positive Rate')\n",
        "    plt.title('ROC Curve')\n",
        "\n",
        "\n"
      ],
      "metadata": {
        "colab": {
          "base_uri": "https://localhost:8080/",
          "height": 666
        },
        "id": "Gkf17aPoolKO",
        "outputId": "4e99100c-0aa6-4ca8-eac7-360ff9513a20"
      },
      "execution_count": 164,
      "outputs": [
        {
          "output_type": "stream",
          "name": "stdout",
          "text": [
            "Confusion matrix\n",
            "\n",
            " [[197  10]\n",
            " [ 11 206]]\n",
            "\n",
            "True Positives(TP) =  197\n",
            "\n",
            "True Negatives(TN) =  206\n",
            "\n",
            "False Positives(FP) =  10\n",
            "\n",
            "False Negatives(FN) =  11\n",
            "              precision    recall  f1-score   support\n",
            "\n",
            "          ac       0.95      0.95      0.95       207\n",
            "        inac       0.95      0.95      0.95       217\n",
            "\n",
            "    accuracy                           0.95       424\n",
            "   macro avg       0.95      0.95      0.95       424\n",
            "weighted avg       0.95      0.95      0.95       424\n",
            "\n",
            "--------------------------------------------------------------------------------------\n"
          ]
        },
        {
          "output_type": "display_data",
          "data": {
            "text/plain": [
              "<Figure size 432x288 with 2 Axes>"
            ],
            "image/png": "[encoded data removed]"
          },
          "metadata": {
            "needs_background": "light"
          }
        }
      ]
    },
    {
      "cell_type": "markdown",
      "metadata": {
        "id": "e5VIEQ6LGay3"
      },
      "source": [
        "### 5.18 AdaBoost Classifier <a class=\"anchor\" id=\"5.18\"></a>\n",
        "\n",
        "[Back to Table of Contents](#0.1)"
      ]
    },
    {
      "cell_type": "markdown",
      "metadata": {
        "id": "5tqnzTqrGay3"
      },
      "source": [
        "Thanks to https://scikit-learn.org/stable/modules/ensemble.html#adaboost"
      ]
    },
    {
      "cell_type": "markdown",
      "metadata": {
        "id": "vFXFWRvLGay3"
      },
      "source": [
        "The core principle of **AdaBoost** is to fit a sequence of weak learners (i.e., models that are only slightly better than random guessing, such as small decision trees) on repeatedly modified versions of the data. The predictions from all of them are then combined through a weighted majority vote (or sum) to produce the final prediction. The data modifications at each so-called boosting iteration consist of applying N weights to each of the training samples. Initially, those weights are all set to 1/N, so that the first step simply trains a weak learner on the original data. For each successive iteration, the sample weights are individually modified and the learning algorithm is reapplied to the reweighted data. At a given step, those training examples that were incorrectly predicted by the boosted model induced at the previous step have their weights increased, whereas the weights are decreased for those that were predicted correctly. As iterations proceed, examples that are difficult to predict receive ever-increasing influence. Each subsequent weak learner is thereby forced to concentrate on the examples that are missed by the previous ones in the sequence. Reference [sklearn documentation](https://scikit-learn.org/stable/modules/ensemble.html#adaboost)."
      ]
    },
    {
      "cell_type": "code",
      "execution_count": 147,
      "metadata": {
        "id": "4G2dsNlrGay3",
        "outputId": "af86ad22-3a7f-4f8b-91fe-7759ca54ff68",
        "colab": {
          "base_uri": "https://localhost:8080/"
        }
      },
      "outputs": [
        {
          "output_type": "stream",
          "name": "stdout",
          "text": [
            "0.7906717716672468\n",
            "{'learning_rate': 0.012, 'n_estimators': 851}\n",
            "0.6627358162199791\n",
            "{'learning_rate': 0.0002, 'n_estimators': 395}\n",
            "0.8195649147232856\n",
            "{'learning_rate': 0.0206, 'n_estimators': 952}\n",
            "0.8054124608423251\n",
            "{'learning_rate': 0.039900000000000005, 'n_estimators': 349}\n",
            "0.7753324051514097\n",
            "{'learning_rate': 0.0357, 'n_estimators': 216}\n",
            "0.8166098155238426\n",
            "{'learning_rate': 0.026500000000000003, 'n_estimators': 652}\n",
            "0.7376018099547511\n",
            "{'learning_rate': 0.0263, 'n_estimators': 147}\n",
            "0.7735676992690567\n",
            "{'learning_rate': 0.010100000000000001, 'n_estimators': 775}\n",
            "0.8177897667942917\n",
            "{'learning_rate': 0.0341, 'n_estimators': 505}\n",
            "0.7830003480682214\n",
            "{'learning_rate': 0.041800000000000004, 'n_estimators': 218}\n",
            "100%|██████████| 10/10 [14:07<00:00, 84.72s/it, best loss: 0.6627358162199791]\n",
            "best:\n",
            "{'learning_rate': 0.0002, 'n_estimators': 345}\n"
          ]
        }
      ],
      "source": [
        "def hyperopt_ab_score(params):\n",
        "    clf = AdaBoostClassifier(**params)\n",
        "    current_score = cross_val_score(clf, train, target, cv=10).mean()\n",
        "    print(current_score, params)\n",
        "    return current_score \n",
        "\n",
        "space_ab = {\n",
        "            'n_estimators': hp.choice('n_estimators', range(50, 1000)),\n",
        "            'learning_rate': hp.quniform('learning_rate', 0, 0.05, 0.0001)       \n",
        "        }\n",
        "\n",
        "best = fmin(fn=hyperopt_ab_score, space=space_ab, algo=tpe.suggest, max_evals=10)\n",
        "print('best:')\n",
        "print(best)"
      ]
    },
    {
      "cell_type": "code",
      "execution_count": 148,
      "metadata": {
        "id": "_5VpWWxbGay4",
        "outputId": "efafb161-d50b-4244-9c54-04d01e63a850",
        "colab": {
          "base_uri": "https://localhost:8080/"
        }
      },
      "outputs": [
        {
          "output_type": "execute_result",
          "data": {
            "text/plain": [
              "{'learning_rate': 0.0002, 'n_estimators': 395}"
            ]
          },
          "metadata": {},
          "execution_count": 148
        }
      ],
      "source": [
        "params = space_eval(space_ab, best)\n",
        "params"
      ]
    },
    {
      "cell_type": "code",
      "execution_count": 165,
      "metadata": {
        "id": "fBt-eIabGay4",
        "outputId": "f84f8e9e-9462-4990-8bb4-be719c02cfc2",
        "colab": {
          "base_uri": "https://localhost:8080/"
        }
      },
      "outputs": [
        {
          "output_type": "execute_result",
          "data": {
            "text/plain": [
              "87.74"
            ]
          },
          "metadata": {},
          "execution_count": 165
        }
      ],
      "source": [
        "# AdaBoost Classifier\n",
        "\n",
        "Ada_Boost = AdaBoostClassifier(**{'learning_rate': 0.0206, 'n_estimators': 952})\n",
        "Ada_Boost.fit(train, target)\n",
        "Ada_Boost.score(train, target)\n",
        "acc_AdaBoost = round(Ada_Boost.score(train, target) * 100, 2)\n",
        "acc_AdaBoost"
      ]
    },
    {
      "cell_type": "code",
      "execution_count": 166,
      "metadata": {
        "id": "6AgMWeFzGay4",
        "outputId": "697b47df-afe6-4a1e-c4ef-ddf3b0c1857e",
        "colab": {
          "base_uri": "https://localhost:8080/"
        }
      },
      "outputs": [
        {
          "output_type": "execute_result",
          "data": {
            "text/plain": [
              "80.9"
            ]
          },
          "metadata": {},
          "execution_count": 166
        }
      ],
      "source": [
        "acc_test_AdaBoost = round(Ada_Boost.score(test, target_test) * 100, 2)\n",
        "acc_test_AdaBoost"
      ]
    },
    {
      "cell_type": "code",
      "source": [
        "# Print the Confusion Matrix and slice it into four pieces\n",
        "y_pred = Ada_Boost.predict(test)\n",
        "\n",
        "from sklearn.metrics import confusion_matrix\n",
        "\n",
        "cm = confusion_matrix(target_test, y_pred)\n",
        "\n",
        "print('Confusion matrix\\n\\n', cm)\n",
        "\n",
        "print('\\nTrue Positives(TP) = ', cm[0,0])\n",
        "\n",
        "print('\\nTrue Negatives(TN) = ', cm[1,1])\n",
        "\n",
        "print('\\nFalse Positives(FP) = ', cm[0,1])\n",
        "\n",
        "print('\\nFalse Negatives(FN) = ', cm[1,0])\n",
        "\n",
        "from sklearn.metrics import classification_report\n",
        "\n",
        "print(classification_report(target_test, y_pred))\n",
        "\n",
        "# visualize confusion matrix with seaborn heatmap\n",
        "import seaborn as sns\n",
        "cm_matrix = pd.DataFrame(data=cm, columns=['Actual Positive:1', 'Actual Negative:0'], \n",
        "                                 index=['Predict Positive:1', 'Predict Negative:0'])\n",
        "\n",
        "sns.heatmap(cm_matrix, annot=True, fmt='d', cmap='YlGnBu')\n",
        "print(\"--------------------------------------------------------------------------------------\")\n",
        "\n",
        "from sklearn.metrics import roc_curve\n",
        "\n",
        "\n",
        "def plot_roc_curve(fpr, tpr, label=None):\n",
        "    plt.plot(fpr, tpr, linewidth=2, label=label)\n",
        "    plt.plot([0, 1], [0, 1], \"k--\")\n",
        "    plt.axis([0, 1, 0, 1])\n",
        "    plt.xlabel('False Positive Rate')\n",
        "    plt.ylabel('True Positive Rate')\n",
        "    plt.title('ROC Curve')\n",
        "\n",
        "\n"
      ],
      "metadata": {
        "colab": {
          "base_uri": "https://localhost:8080/",
          "height": 666
        },
        "id": "gZ31t1nTu-SG",
        "outputId": "595717be-7218-41de-a3ad-e1ea835fee7b"
      },
      "execution_count": 167,
      "outputs": [
        {
          "output_type": "stream",
          "name": "stdout",
          "text": [
            "Confusion matrix\n",
            "\n",
            " [[169  38]\n",
            " [ 43 174]]\n",
            "\n",
            "True Positives(TP) =  169\n",
            "\n",
            "True Negatives(TN) =  174\n",
            "\n",
            "False Positives(FP) =  38\n",
            "\n",
            "False Negatives(FN) =  43\n",
            "              precision    recall  f1-score   support\n",
            "\n",
            "          ac       0.80      0.82      0.81       207\n",
            "        inac       0.82      0.80      0.81       217\n",
            "\n",
            "    accuracy                           0.81       424\n",
            "   macro avg       0.81      0.81      0.81       424\n",
            "weighted avg       0.81      0.81      0.81       424\n",
            "\n",
            "--------------------------------------------------------------------------------------\n"
          ]
        },
        {
          "output_type": "display_data",
          "data": {
            "text/plain": [
              "<Figure size 432x288 with 2 Axes>"
            ],
            "image/png": "[encoded data removed]"
          },
          "metadata": {
            "needs_background": "light"
          }
        }
      ]
    },
    {
      "cell_type": "markdown",
      "metadata": {
        "id": "BvJO9kuIGay8"
      },
      "source": [
        "## 6. Models evaluation <a class=\"anchor\" id=\"6\"></a>\n",
        "\n",
        "[Back to Table of Contents](#0.1)"
      ]
    },
    {
      "cell_type": "markdown",
      "metadata": {
        "id": "tI2dmLxZGay8"
      },
      "source": [
        "We can now rank our evaluation of all the models to choose the best one for our problem."
      ]
    },
    {
      "cell_type": "code",
      "execution_count": 168,
      "metadata": {
        "id": "H66CAJUOGay8"
      },
      "outputs": [],
      "source": [
        "models = pd.DataFrame({\n",
        "    'Model': ['Logistic Regression', 'Support Vector Machines', 'k-Nearest Neighbors', 'Naive Bayes', \n",
        "              'Perceptron', 'Stochastic Gradient Decent', \n",
        "              'Decision Tree Classifier', 'Random Forest',  'LGBMClassifier',\n",
        "              'GradientBoostingClassifier', 'RidgeClassifier', 'ExtraTreesClassifier', \n",
        "              'AdaBoostClassifier'],\n",
        "    \n",
        "    'Score_train': [acc_log, acc_svc, acc_knn, acc_gaussian, \n",
        "              acc_perceptron, acc_sgd, \n",
        "              acc_decision_tree, acc_random_forest, acc_LGB_Classifier,\n",
        "              acc_gradient_boosting, acc_ridge_classifier, acc_etc, \n",
        "              acc_AdaBoost],\n",
        "    'Score_test': [acc_test_log, acc_test_svc,  acc_test_knn, acc_test_gaussian, \n",
        "              acc_test_perceptron, acc_test_sgd, \n",
        "              acc_test_decision_tree, acc_test_random_forest, acc_test_LGB_Classifier,\n",
        "              acc_test_gradient_boosting, acc_test_ridge_classifier, acc_test_etc, \n",
        "              acc_test_AdaBoost]\n",
        "                    })"
      ]
    },
    {
      "cell_type": "code",
      "execution_count": 169,
      "metadata": {
        "id": "JsseJXPMGay9",
        "outputId": "ff720a75-cbfd-445c-fbe7-2a4847b9141e",
        "colab": {
          "base_uri": "https://localhost:8080/",
          "height": 457
        }
      },
      "outputs": [
        {
          "output_type": "execute_result",
          "data": {
            "text/plain": [
              "                         Model  Score_train  Score_test\n",
              "1      Support Vector Machines        99.65       98.11\n",
              "2          k-Nearest Neighbors        99.12       97.64\n",
              "8               LGBMClassifier       100.00       96.70\n",
              "9   GradientBoostingClassifier       100.00       95.99\n",
              "7                Random Forest       100.00       95.28\n",
              "11        ExtraTreesClassifier       100.00       95.05\n",
              "5   Stochastic Gradient Decent        88.74       89.15\n",
              "0          Logistic Regression        88.97       88.68\n",
              "10             RidgeClassifier        88.50       88.21\n",
              "4                   Perceptron        85.85       86.32\n",
              "3                  Naive Bayes        82.90       83.02\n",
              "12          AdaBoostClassifier        87.74       80.90\n",
              "6     Decision Tree Classifier       100.00       78.54"
            ],
            "text/html": [
              "\n",
              "  <div id=\"df-0159e9e9-7a46-49e4-a272-f575044e18c7\">\n",
              "    <div class=\"colab-df-container\">\n",
              "      <div>\n",
              "<style scoped>\n",
              "    .dataframe tbody tr th:only-of-type {\n",
              "        vertical-align: middle;\n",
              "    }\n",
              "\n",
              "    .dataframe tbody tr th {\n",
              "        vertical-align: top;\n",
              "    }\n",
              "\n",
              "    .dataframe thead th {\n",
              "        text-align: right;\n",
              "    }\n",
              "</style>\n",
              "<table border=\"1\" class=\"dataframe\">\n",
              "  <thead>\n",
              "    <tr style=\"text-align: right;\">\n",
              "      <th></th>\n",
              "      <th>Model</th>\n",
              "      <th>Score_train</th>\n",
              "      <th>Score_test</th>\n",
              "    </tr>\n",
              "  </thead>\n",
              "  <tbody>\n",
              "    <tr>\n",
              "      <th>1</th>\n",
              "      <td>Support Vector Machines</td>\n",
              "      <td>99.65</td>\n",
              "      <td>98.11</td>\n",
              "    </tr>\n",
              "    <tr>\n",
              "      <th>2</th>\n",
              "      <td>k-Nearest Neighbors</td>\n",
              "      <td>99.12</td>\n",
              "      <td>97.64</td>\n",
              "    </tr>\n",
              "    <tr>\n",
              "      <th>8</th>\n",
              "      <td>LGBMClassifier</td>\n",
              "      <td>100.00</td>\n",
              "      <td>96.70</td>\n",
              "    </tr>\n",
              "    <tr>\n",
              "      <th>9</th>\n",
              "      <td>GradientBoostingClassifier</td>\n",
              "      <td>100.00</td>\n",
              "      <td>95.99</td>\n",
              "    </tr>\n",
              "    <tr>\n",
              "      <th>7</th>\n",
              "      <td>Random Forest</td>\n",
              "      <td>100.00</td>\n",
              "      <td>95.28</td>\n",
              "    </tr>\n",
              "    <tr>\n",
              "      <th>11</th>\n",
              "      <td>ExtraTreesClassifier</td>\n",
              "      <td>100.00</td>\n",
              "      <td>95.05</td>\n",
              "    </tr>\n",
              "    <tr>\n",
              "      <th>5</th>\n",
              "      <td>Stochastic Gradient Decent</td>\n",
              "      <td>88.74</td>\n",
              "      <td>89.15</td>\n",
              "    </tr>\n",
              "    <tr>\n",
              "      <th>0</th>\n",
              "      <td>Logistic Regression</td>\n",
              "      <td>88.97</td>\n",
              "      <td>88.68</td>\n",
              "    </tr>\n",
              "    <tr>\n",
              "      <th>10</th>\n",
              "      <td>RidgeClassifier</td>\n",
              "      <td>88.50</td>\n",
              "      <td>88.21</td>\n",
              "    </tr>\n",
              "    <tr>\n",
              "      <th>4</th>\n",
              "      <td>Perceptron</td>\n",
              "      <td>85.85</td>\n",
              "      <td>86.32</td>\n",
              "    </tr>\n",
              "    <tr>\n",
              "      <th>3</th>\n",
              "      <td>Naive Bayes</td>\n",
              "      <td>82.90</td>\n",
              "      <td>83.02</td>\n",
              "    </tr>\n",
              "    <tr>\n",
              "      <th>12</th>\n",
              "      <td>AdaBoostClassifier</td>\n",
              "      <td>87.74</td>\n",
              "      <td>80.90</td>\n",
              "    </tr>\n",
              "    <tr>\n",
              "      <th>6</th>\n",
              "      <td>Decision Tree Classifier</td>\n",
              "      <td>100.00</td>\n",
              "      <td>78.54</td>\n",
              "    </tr>\n",
              "  </tbody>\n",
              "</table>\n",
              "</div>\n",
              "      <button class=\"colab-df-convert\" onclick=\"convertToInteractive('df-0159e9e9-7a46-49e4-a272-f575044e18c7')\"\n",
              "              title=\"Convert this dataframe to an interactive table.\"\n",
              "              style=\"display:none;\">\n",
              "        \n",
              "  <svg xmlns=\"http://www.w3.org/2000/svg\" height=\"24px\"viewBox=\"0 0 24 24\"\n",
              "       width=\"24px\">\n",
              "    <path d=\"M0 0h24v24H0V0z\" fill=\"none\"/>\n",
              "    <path d=\"M18.56 5.44l.94 2.06.94-2.06 2.06-.94-2.06-.94-.94-2.06-.94 2.06-2.06.94zm-11 1L8.5 8.5l.94-2.06 2.06-.94-2.06-.94L8.5 2.5l-.94 2.06-2.06.94zm10 10l.94 2.06.94-2.06 2.06-.94-2.06-.94-.94-2.06-.94 2.06-2.06.94z\"/><path d=\"M17.41 7.96l-1.37-1.37c-.4-.4-.92-.59-1.43-.59-.52 0-1.04.2-1.43.59L10.3 9.45l-7.72 7.72c-.78.78-.78 2.05 0 2.83L4 21.41c.39.39.9.59 1.41.59.51 0 1.02-.2 1.41-.59l7.78-7.78 2.81-2.81c.8-.78.8-2.07 0-2.86zM5.41 20L4 18.59l7.72-7.72 1.47 1.35L5.41 20z\"/>\n",
              "  </svg>\n",
              "      </button>\n",
              "      \n",
              "  <style>\n",
              "    .colab-df-container {\n",
              "      display:flex;\n",
              "      flex-wrap:wrap;\n",
              "      gap: 12px;\n",
              "    }\n",
              "\n",
              "    .colab-df-convert {\n",
              "      background-color: #E8F0FE;\n",
              "      border: none;\n",
              "      border-radius: 50%;\n",
              "      cursor: pointer;\n",
              "      display: none;\n",
              "      fill: #1967D2;\n",
              "      height: 32px;\n",
              "      padding: 0 0 0 0;\n",
              "      width: 32px;\n",
              "    }\n",
              "\n",
              "    .colab-df-convert:hover {\n",
              "      background-color: #E2EBFA;\n",
              "      box-shadow: 0px 1px 2px rgba(60, 64, 67, 0.3), 0px 1px 3px 1px rgba(60, 64, 67, 0.15);\n",
              "      fill: #174EA6;\n",
              "    }\n",
              "\n",
              "    [theme=dark] .colab-df-convert {\n",
              "      background-color: #3B4455;\n",
              "      fill: #D2E3FC;\n",
              "    }\n",
              "\n",
              "    [theme=dark] .colab-df-convert:hover {\n",
              "      background-color: #434B5C;\n",
              "      box-shadow: 0px 1px 3px 1px rgba(0, 0, 0, 0.15);\n",
              "      filter: drop-shadow(0px 1px 2px rgba(0, 0, 0, 0.3));\n",
              "      fill: #FFFFFF;\n",
              "    }\n",
              "  </style>\n",
              "\n",
              "      <script>\n",
              "        const buttonEl =\n",
              "          document.querySelector('#df-0159e9e9-7a46-49e4-a272-f575044e18c7 button.colab-df-convert');\n",
              "        buttonEl.style.display =\n",
              "          google.colab.kernel.accessAllowed ? 'block' : 'none';\n",
              "\n",
              "        async function convertToInteractive(key) {\n",
              "          const element = document.querySelector('#df-0159e9e9-7a46-49e4-a272-f575044e18c7');\n",
              "          const dataTable =\n",
              "            await google.colab.kernel.invokeFunction('convertToInteractive',\n",
              "                                                     [key], {});\n",
              "          if (!dataTable) return;\n",
              "\n",
              "          const docLinkHtml = 'Like what you see? Visit the ' +\n",
              "            '<a target=\"_blank\" href=https://colab.research.google.com/notebooks/data_table.ipynb>data table notebook</a>'\n",
              "            + ' to learn more about interactive tables.';\n",
              "          element.innerHTML = '';\n",
              "          dataTable['output_type'] = 'display_data';\n",
              "          await google.colab.output.renderOutput(dataTable, element);\n",
              "          const docLink = document.createElement('div');\n",
              "          docLink.innerHTML = docLinkHtml;\n",
              "          element.appendChild(docLink);\n",
              "        }\n",
              "      </script>\n",
              "    </div>\n",
              "  </div>\n",
              "  "
            ]
          },
          "metadata": {},
          "execution_count": 169
        }
      ],
      "source": [
        "models.sort_values(by=['Score_test', 'Score_train'], ascending=False)"
      ]
    },
    {
      "cell_type": "code",
      "execution_count": 170,
      "metadata": {
        "id": "vmC7rbrOGay-",
        "outputId": "d3183148-4bea-49c2-fc6b-12a09f22f802",
        "colab": {
          "base_uri": "https://localhost:8080/",
          "height": 520
        }
      },
      "outputs": [
        {
          "output_type": "display_data",
          "data": {
            "text/plain": [
              "<Figure size 1800x432 with 1 Axes>"
            ],
            "image/png": "[encoded data removed]"
          },
          "metadata": {
            "needs_background": "light"
          }
        }
      ],
      "source": [
        "# Plot\n",
        "plt.figure(figsize=[25,6])\n",
        "xx = models['Model']\n",
        "plt.tick_params(labelsize=14)\n",
        "plt.plot(xx, models['Score_train'], label = 'Score_train')\n",
        "plt.plot(xx, models['Score_test'], label = 'Score_test')\n",
        "plt.legend()\n",
        "plt.title('Score of 20 popular models for train and test datasets')\n",
        "plt.xlabel('Models')\n",
        "plt.ylabel('Score, %')\n",
        "plt.xticks(xx, rotation='vertical')\n",
        "plt.savefig('graph.png')\n",
        "plt.show()"
      ]
    }
  ],
  "metadata": {
    "kernelspec": {
      "display_name": "Python 3",
      "language": "python",
      "name": "python3"
    },
    "language_info": {
      "codemirror_mode": {
        "name": "ipython",
        "version": 3
      },
      "file_extension": ".py",
      "mimetype": "text/x-python",
      "name": "python",
      "nbconvert_exporter": "python",
      "pygments_lexer": "ipython3",
      "version": "3.6.6"
    },
    "colab": {
      "provenance": []
    },
    "accelerator": "GPU",
    "gpuClass": "standard"
  },
  "nbformat": 4,
  "nbformat_minor": 0
}