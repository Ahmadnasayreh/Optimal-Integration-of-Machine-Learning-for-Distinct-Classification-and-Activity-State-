{
  "cells": [
    {
      "cell_type": "markdown",
      "metadata": {
        "id": "nB6MkwKfGaye"
      },
      "source": [
        "## 1. Import libraries <a class=\"anchor\" id=\"1\"></a>\n",
        "\n",
        "[Back to Table of Contents](#0.1)"
      ]
    },
    {
      "cell_type": "code",
      "execution_count": 16,
      "metadata": {
        "_cell_guid": "b1076dfc-b9ad-4769-8c92-a6c4dae69d19",
        "_uuid": "8f2839f25d086af736a60e9eeb907d3b93b6e0e5",
        "id": "wau0Bxx1Gaye"
      },
      "outputs": [],
      "source": [
        "import numpy as np\n",
        "import pandas as pd\n",
        "import matplotlib.pyplot as plt\n",
        "%matplotlib inline\n",
        "\n",
        "# preprocessing\n",
        "from sklearn.preprocessing import LabelEncoder\n",
        "from sklearn.model_selection import train_test_split, cross_val_score, GridSearchCV\n",
        "import pandas_profiling as pp\n",
        "\n",
        "# models\n",
        "from sklearn.linear_model import LogisticRegression, Perceptron, RidgeClassifier, SGDClassifier\n",
        "from sklearn.svm import SVC, LinearSVC\n",
        "from sklearn.ensemble import RandomForestClassifier, GradientBoostingClassifier, ExtraTreesClassifier \n",
        "from sklearn.ensemble import BaggingClassifier, AdaBoostClassifier, VotingClassifier \n",
        "from sklearn.neighbors import KNeighborsClassifier\n",
        "from sklearn.naive_bayes import GaussianNB\n",
        "from sklearn.tree import DecisionTreeClassifier\n",
        "from sklearn import metrics\n",
        "import xgboost as xgb\n",
        "from xgboost import XGBClassifier\n",
        "import lightgbm as lgb\n",
        "from lightgbm import LGBMClassifier\n",
        "\n",
        "# NN models\n",
        "import keras\n",
        "from keras.models import Sequential\n",
        "from keras.layers import Dense, Dropout\n",
        "from keras import optimizers\n",
        "from keras.wrappers.scikit_learn import KerasClassifier\n",
        "from keras.callbacks import EarlyStopping, ModelCheckpoint\n",
        "\n",
        "# model tuning\n",
        "from hyperopt import STATUS_OK, Trials, fmin, hp, tpe, space_eval\n",
        "\n",
        "# import warnings filter\n",
        "from warnings import simplefilter\n",
        "# ignore all future warnings\n",
        "simplefilter(action='ignore', category=FutureWarning)"
      ]
    },
    {
      "cell_type": "markdown",
      "metadata": {
        "id": "SAAXY6kPGayh"
      },
      "source": [
        "## 2. Download datasets <a class=\"anchor\" id=\"2\"></a>\n",
        "\n",
        "[Back to Table of Contents](#0.1)"
      ]
    },
    {
      "cell_type": "code",
      "execution_count": 17,
      "metadata": {
        "id": "gQmkxDTbGayh"
      },
      "outputs": [],
      "source": [
        "data = pd.read_csv(\"/content/MS_NMO_VGG19_AUG.csv\")"
      ]
    },
    {
      "cell_type": "code",
      "execution_count": 18,
      "metadata": {
        "colab": {
          "base_uri": "https://localhost:8080/",
          "height": 237
        },
        "id": "ryILdWo8Gayi",
        "outputId": "dc1fb31b-83e8-4846-f8d6-d0166adc8911"
      },
      "outputs": [
        {
          "output_type": "execute_result",
          "data": {
            "text/plain": [
              "        PC1       PC2       PC3       PC4       PC5       PC6       PC7  \\\n",
              "0  0.663080 -0.036599 -0.147112  0.444911  0.301516  0.365267 -0.284351   \n",
              "1  0.592297  0.080785 -0.356047  0.329777  0.175900  0.276226 -0.110146   \n",
              "2  0.623878  0.233393 -0.436808  0.037252  0.056870  0.417265  0.100857   \n",
              "\n",
              "        PC8       PC9      PC10  ...      PC67      PC68      PC69      PC70  \\\n",
              "0 -0.372474 -0.661897 -0.165048  ...  0.390124  0.068309 -0.064430 -0.649943   \n",
              "1 -0.424859 -0.547141 -0.196415  ...  0.219972  0.029538 -0.134975 -0.247238   \n",
              "2 -0.220958 -0.195339  0.038171  ... -0.092132 -0.162840  0.427104 -0.053957   \n",
              "\n",
              "       PC71      PC72      PC73      PC74      PC75  category  \n",
              "0  0.513511  0.013525  0.575696 -0.676899  1.000000        MS  \n",
              "1  0.205510 -0.309557  0.146806 -0.478477  0.446008        MS  \n",
              "2 -0.113411 -0.332024 -0.666081  0.068802  0.352280        MS  \n",
              "\n",
              "[3 rows x 76 columns]"
            ],
            "text/html": [
              "\n",
              "  <div id=\"df-b7a62e55-6031-4f85-8ba7-37ada423e234\">\n",
              "    <div class=\"colab-df-container\">\n",
              "      <div>\n",
              "<style scoped>\n",
              "    .dataframe tbody tr th:only-of-type {\n",
              "        vertical-align: middle;\n",
              "    }\n",
              "\n",
              "    .dataframe tbody tr th {\n",
              "        vertical-align: top;\n",
              "    }\n",
              "\n",
              "    .dataframe thead th {\n",
              "        text-align: right;\n",
              "    }\n",
              "</style>\n",
              "<table border=\"1\" class=\"dataframe\">\n",
              "  <thead>\n",
              "    <tr style=\"text-align: right;\">\n",
              "      <th></th>\n",
              "      <th>PC1</th>\n",
              "      <th>PC2</th>\n",
              "      <th>PC3</th>\n",
              "      <th>PC4</th>\n",
              "      <th>PC5</th>\n",
              "      <th>PC6</th>\n",
              "      <th>PC7</th>\n",
              "      <th>PC8</th>\n",
              "      <th>PC9</th>\n",
              "      <th>PC10</th>\n",
              "      <th>...</th>\n",
              "      <th>PC67</th>\n",
              "      <th>PC68</th>\n",
              "      <th>PC69</th>\n",
              "      <th>PC70</th>\n",
              "      <th>PC71</th>\n",
              "      <th>PC72</th>\n",
              "      <th>PC73</th>\n",
              "      <th>PC74</th>\n",
              "      <th>PC75</th>\n",
              "      <th>category</th>\n",
              "    </tr>\n",
              "  </thead>\n",
              "  <tbody>\n",
              "    <tr>\n",
              "      <th>0</th>\n",
              "      <td>0.663080</td>\n",
              "      <td>-0.036599</td>\n",
              "      <td>-0.147112</td>\n",
              "      <td>0.444911</td>\n",
              "      <td>0.301516</td>\n",
              "      <td>0.365267</td>\n",
              "      <td>-0.284351</td>\n",
              "      <td>-0.372474</td>\n",
              "      <td>-0.661897</td>\n",
              "      <td>-0.165048</td>\n",
              "      <td>...</td>\n",
              "      <td>0.390124</td>\n",
              "      <td>0.068309</td>\n",
              "      <td>-0.064430</td>\n",
              "      <td>-0.649943</td>\n",
              "      <td>0.513511</td>\n",
              "      <td>0.013525</td>\n",
              "      <td>0.575696</td>\n",
              "      <td>-0.676899</td>\n",
              "      <td>1.000000</td>\n",
              "      <td>MS</td>\n",
              "    </tr>\n",
              "    <tr>\n",
              "      <th>1</th>\n",
              "      <td>0.592297</td>\n",
              "      <td>0.080785</td>\n",
              "      <td>-0.356047</td>\n",
              "      <td>0.329777</td>\n",
              "      <td>0.175900</td>\n",
              "      <td>0.276226</td>\n",
              "      <td>-0.110146</td>\n",
              "      <td>-0.424859</td>\n",
              "      <td>-0.547141</td>\n",
              "      <td>-0.196415</td>\n",
              "      <td>...</td>\n",
              "      <td>0.219972</td>\n",
              "      <td>0.029538</td>\n",
              "      <td>-0.134975</td>\n",
              "      <td>-0.247238</td>\n",
              "      <td>0.205510</td>\n",
              "      <td>-0.309557</td>\n",
              "      <td>0.146806</td>\n",
              "      <td>-0.478477</td>\n",
              "      <td>0.446008</td>\n",
              "      <td>MS</td>\n",
              "    </tr>\n",
              "    <tr>\n",
              "      <th>2</th>\n",
              "      <td>0.623878</td>\n",
              "      <td>0.233393</td>\n",
              "      <td>-0.436808</td>\n",
              "      <td>0.037252</td>\n",
              "      <td>0.056870</td>\n",
              "      <td>0.417265</td>\n",
              "      <td>0.100857</td>\n",
              "      <td>-0.220958</td>\n",
              "      <td>-0.195339</td>\n",
              "      <td>0.038171</td>\n",
              "      <td>...</td>\n",
              "      <td>-0.092132</td>\n",
              "      <td>-0.162840</td>\n",
              "      <td>0.427104</td>\n",
              "      <td>-0.053957</td>\n",
              "      <td>-0.113411</td>\n",
              "      <td>-0.332024</td>\n",
              "      <td>-0.666081</td>\n",
              "      <td>0.068802</td>\n",
              "      <td>0.352280</td>\n",
              "      <td>MS</td>\n",
              "    </tr>\n",
              "  </tbody>\n",
              "</table>\n",
              "<p>3 rows × 76 columns</p>\n",
              "</div>\n",
              "      <button class=\"colab-df-convert\" onclick=\"convertToInteractive('df-b7a62e55-6031-4f85-8ba7-37ada423e234')\"\n",
              "              title=\"Convert this dataframe to an interactive table.\"\n",
              "              style=\"display:none;\">\n",
              "        \n",
              "  <svg xmlns=\"http://www.w3.org/2000/svg\" height=\"24px\"viewBox=\"0 0 24 24\"\n",
              "       width=\"24px\">\n",
              "    <path d=\"M0 0h24v24H0V0z\" fill=\"none\"/>\n",
              "    <path d=\"M18.56 5.44l.94 2.06.94-2.06 2.06-.94-2.06-.94-.94-2.06-.94 2.06-2.06.94zm-11 1L8.5 8.5l.94-2.06 2.06-.94-2.06-.94L8.5 2.5l-.94 2.06-2.06.94zm10 10l.94 2.06.94-2.06 2.06-.94-2.06-.94-.94-2.06-.94 2.06-2.06.94z\"/><path d=\"M17.41 7.96l-1.37-1.37c-.4-.4-.92-.59-1.43-.59-.52 0-1.04.2-1.43.59L10.3 9.45l-7.72 7.72c-.78.78-.78 2.05 0 2.83L4 21.41c.39.39.9.59 1.41.59.51 0 1.02-.2 1.41-.59l7.78-7.78 2.81-2.81c.8-.78.8-2.07 0-2.86zM5.41 20L4 18.59l7.72-7.72 1.47 1.35L5.41 20z\"/>\n",
              "  </svg>\n",
              "      </button>\n",
              "      \n",
              "  <style>\n",
              "    .colab-df-container {\n",
              "      display:flex;\n",
              "      flex-wrap:wrap;\n",
              "      gap: 12px;\n",
              "    }\n",
              "\n",
              "    .colab-df-convert {\n",
              "      background-color: #E8F0FE;\n",
              "      border: none;\n",
              "      border-radius: 50%;\n",
              "      cursor: pointer;\n",
              "      display: none;\n",
              "      fill: #1967D2;\n",
              "      height: 32px;\n",
              "      padding: 0 0 0 0;\n",
              "      width: 32px;\n",
              "    }\n",
              "\n",
              "    .colab-df-convert:hover {\n",
              "      background-color: #E2EBFA;\n",
              "      box-shadow: 0px 1px 2px rgba(60, 64, 67, 0.3), 0px 1px 3px 1px rgba(60, 64, 67, 0.15);\n",
              "      fill: #174EA6;\n",
              "    }\n",
              "\n",
              "    [theme=dark] .colab-df-convert {\n",
              "      background-color: #3B4455;\n",
              "      fill: #D2E3FC;\n",
              "    }\n",
              "\n",
              "    [theme=dark] .colab-df-convert:hover {\n",
              "      background-color: #434B5C;\n",
              "      box-shadow: 0px 1px 3px 1px rgba(0, 0, 0, 0.15);\n",
              "      filter: drop-shadow(0px 1px 2px rgba(0, 0, 0, 0.3));\n",
              "      fill: #FFFFFF;\n",
              "    }\n",
              "  </style>\n",
              "\n",
              "      <script>\n",
              "        const buttonEl =\n",
              "          document.querySelector('#df-b7a62e55-6031-4f85-8ba7-37ada423e234 button.colab-df-convert');\n",
              "        buttonEl.style.display =\n",
              "          google.colab.kernel.accessAllowed ? 'block' : 'none';\n",
              "\n",
              "        async function convertToInteractive(key) {\n",
              "          const element = document.querySelector('#df-b7a62e55-6031-4f85-8ba7-37ada423e234');\n",
              "          const dataTable =\n",
              "            await google.colab.kernel.invokeFunction('convertToInteractive',\n",
              "                                                     [key], {});\n",
              "          if (!dataTable) return;\n",
              "\n",
              "          const docLinkHtml = 'Like what you see? Visit the ' +\n",
              "            '<a target=\"_blank\" href=https://colab.research.google.com/notebooks/data_table.ipynb>data table notebook</a>'\n",
              "            + ' to learn more about interactive tables.';\n",
              "          element.innerHTML = '';\n",
              "          dataTable['output_type'] = 'display_data';\n",
              "          await google.colab.output.renderOutput(dataTable, element);\n",
              "          const docLink = document.createElement('div');\n",
              "          docLink.innerHTML = docLinkHtml;\n",
              "          element.appendChild(docLink);\n",
              "        }\n",
              "      </script>\n",
              "    </div>\n",
              "  </div>\n",
              "  "
            ]
          },
          "metadata": {},
          "execution_count": 18
        }
      ],
      "source": [
        "data.head(3)"
      ]
    },
    {
      "cell_type": "code",
      "execution_count": 19,
      "metadata": {
        "colab": {
          "base_uri": "https://localhost:8080/"
        },
        "id": "iVMw9X1dGayi",
        "outputId": "a5b7ef1a-6ba5-4acd-ff84-fcd6f915a793"
      },
      "outputs": [
        {
          "output_type": "stream",
          "name": "stdout",
          "text": [
            "<class 'pandas.core.frame.DataFrame'>\n",
            "RangeIndex: 4208 entries, 0 to 4207\n",
            "Data columns (total 76 columns):\n",
            " #   Column    Non-Null Count  Dtype  \n",
            "---  ------    --------------  -----  \n",
            " 0   PC1       4208 non-null   float64\n",
            " 1   PC2       4208 non-null   float64\n",
            " 2   PC3       4208 non-null   float64\n",
            " 3   PC4       4208 non-null   float64\n",
            " 4   PC5       4208 non-null   float64\n",
            " 5   PC6       4208 non-null   float64\n",
            " 6   PC7       4208 non-null   float64\n",
            " 7   PC8       4208 non-null   float64\n",
            " 8   PC9       4208 non-null   float64\n",
            " 9   PC10      4208 non-null   float64\n",
            " 10  PC11      4208 non-null   float64\n",
            " 11  PC12      4208 non-null   float64\n",
            " 12  PC13      4208 non-null   float64\n",
            " 13  PC14      4208 non-null   float64\n",
            " 14  PC15      4208 non-null   float64\n",
            " 15  PC16      4208 non-null   float64\n",
            " 16  PC17      4208 non-null   float64\n",
            " 17  PC18      4208 non-null   float64\n",
            " 18  PC19      4208 non-null   float64\n",
            " 19  PC20      4208 non-null   float64\n",
            " 20  PC21      4208 non-null   float64\n",
            " 21  PC22      4208 non-null   float64\n",
            " 22  PC23      4208 non-null   float64\n",
            " 23  PC24      4208 non-null   float64\n",
            " 24  PC25      4208 non-null   float64\n",
            " 25  PC26      4208 non-null   float64\n",
            " 26  PC27      4208 non-null   float64\n",
            " 27  PC28      4208 non-null   float64\n",
            " 28  PC29      4208 non-null   float64\n",
            " 29  PC30      4208 non-null   float64\n",
            " 30  PC31      4208 non-null   float64\n",
            " 31  PC32      4208 non-null   float64\n",
            " 32  PC33      4208 non-null   float64\n",
            " 33  PC34      4208 non-null   float64\n",
            " 34  PC35      4208 non-null   float64\n",
            " 35  PC36      4208 non-null   float64\n",
            " 36  PC37      4208 non-null   float64\n",
            " 37  PC38      4208 non-null   float64\n",
            " 38  PC39      4208 non-null   float64\n",
            " 39  PC40      4208 non-null   float64\n",
            " 40  PC41      4208 non-null   float64\n",
            " 41  PC42      4208 non-null   float64\n",
            " 42  PC43      4208 non-null   float64\n",
            " 43  PC44      4208 non-null   float64\n",
            " 44  PC45      4208 non-null   float64\n",
            " 45  PC46      4208 non-null   float64\n",
            " 46  PC47      4208 non-null   float64\n",
            " 47  PC48      4208 non-null   float64\n",
            " 48  PC49      4208 non-null   float64\n",
            " 49  PC50      4208 non-null   float64\n",
            " 50  PC51      4208 non-null   float64\n",
            " 51  PC52      4208 non-null   float64\n",
            " 52  PC53      4208 non-null   float64\n",
            " 53  PC54      4208 non-null   float64\n",
            " 54  PC55      4208 non-null   float64\n",
            " 55  PC56      4208 non-null   float64\n",
            " 56  PC57      4208 non-null   float64\n",
            " 57  PC58      4208 non-null   float64\n",
            " 58  PC59      4208 non-null   float64\n",
            " 59  PC60      4208 non-null   float64\n",
            " 60  PC61      4208 non-null   float64\n",
            " 61  PC62      4208 non-null   float64\n",
            " 62  PC63      4208 non-null   float64\n",
            " 63  PC64      4208 non-null   float64\n",
            " 64  PC65      4208 non-null   float64\n",
            " 65  PC66      4208 non-null   float64\n",
            " 66  PC67      4208 non-null   float64\n",
            " 67  PC68      4208 non-null   float64\n",
            " 68  PC69      4208 non-null   float64\n",
            " 69  PC70      4208 non-null   float64\n",
            " 70  PC71      4208 non-null   float64\n",
            " 71  PC72      4208 non-null   float64\n",
            " 72  PC73      4208 non-null   float64\n",
            " 73  PC74      4208 non-null   float64\n",
            " 74  PC75      4208 non-null   float64\n",
            " 75  category  4208 non-null   object \n",
            "dtypes: float64(75), object(1)\n",
            "memory usage: 2.4+ MB\n"
          ]
        }
      ],
      "source": [
        "data.info()"
      ]
    },
    {
      "cell_type": "code",
      "execution_count": 20,
      "metadata": {
        "id": "xtq24beBGayk"
      },
      "outputs": [],
      "source": [
        "target_name = 'category'\n",
        "data_target = data[target_name]\n",
        "data = data.drop([target_name], axis=1)"
      ]
    },
    {
      "cell_type": "markdown",
      "metadata": {
        "id": "AINlmClvGayk"
      },
      "source": [
        "I split data on 30% in the test dataset, the remaining 70% - in the training dataset"
      ]
    },
    {
      "cell_type": "code",
      "execution_count": 21,
      "metadata": {
        "id": "fi3TumBUGayk"
      },
      "outputs": [],
      "source": [
        "train, test, target, target_test = train_test_split(data, data_target, test_size=0.2, random_state=0)"
      ]
    },
    {
      "cell_type": "code",
      "execution_count": 22,
      "metadata": {
        "colab": {
          "base_uri": "https://localhost:8080/",
          "height": 237
        },
        "id": "y_hN9tyeGayk",
        "outputId": "3e5e5453-0be7-41a2-ebe2-d59f6ad3c7d1"
      },
      "outputs": [
        {
          "output_type": "execute_result",
          "data": {
            "text/plain": [
              "           PC1       PC2       PC3       PC4       PC5       PC6       PC7  \\\n",
              "3539 -0.585562 -0.721438 -0.051970  0.132581 -0.081151 -0.387070 -0.083231   \n",
              "3747 -0.205381 -0.570718 -0.342499 -0.415296 -0.123840 -0.365719  0.045100   \n",
              "1287  0.142719  0.030524  0.228632 -1.000000  0.499307  0.158024 -0.770753   \n",
              "\n",
              "           PC8       PC9      PC10  ...      PC66      PC67      PC68  \\\n",
              "3539  0.164286 -0.129226 -0.041117  ... -0.128678  0.060750  0.064536   \n",
              "3747  0.146412 -0.132848 -0.209441  ... -0.022612  0.201917  0.024396   \n",
              "1287 -0.176731  0.402903 -0.188295  ... -0.036270 -0.331447  0.092636   \n",
              "\n",
              "          PC69      PC70      PC71      PC72      PC73      PC74      PC75  \n",
              "3539 -0.079840  0.174189 -0.222826 -0.302269  0.510494 -0.107626  0.013375  \n",
              "3747 -0.160486 -0.214005 -0.022585  0.362352 -0.291525 -0.405027  0.192828  \n",
              "1287  0.016148  0.150767 -0.383823 -0.141827  0.364914  0.070148 -0.415619  \n",
              "\n",
              "[3 rows x 75 columns]"
            ],
            "text/html": [
              "\n",
              "  <div id=\"df-f34bc827-809f-4044-a275-4ebfff938a1a\">\n",
              "    <div class=\"colab-df-container\">\n",
              "      <div>\n",
              "<style scoped>\n",
              "    .dataframe tbody tr th:only-of-type {\n",
              "        vertical-align: middle;\n",
              "    }\n",
              "\n",
              "    .dataframe tbody tr th {\n",
              "        vertical-align: top;\n",
              "    }\n",
              "\n",
              "    .dataframe thead th {\n",
              "        text-align: right;\n",
              "    }\n",
              "</style>\n",
              "<table border=\"1\" class=\"dataframe\">\n",
              "  <thead>\n",
              "    <tr style=\"text-align: right;\">\n",
              "      <th></th>\n",
              "      <th>PC1</th>\n",
              "      <th>PC2</th>\n",
              "      <th>PC3</th>\n",
              "      <th>PC4</th>\n",
              "      <th>PC5</th>\n",
              "      <th>PC6</th>\n",
              "      <th>PC7</th>\n",
              "      <th>PC8</th>\n",
              "      <th>PC9</th>\n",
              "      <th>PC10</th>\n",
              "      <th>...</th>\n",
              "      <th>PC66</th>\n",
              "      <th>PC67</th>\n",
              "      <th>PC68</th>\n",
              "      <th>PC69</th>\n",
              "      <th>PC70</th>\n",
              "      <th>PC71</th>\n",
              "      <th>PC72</th>\n",
              "      <th>PC73</th>\n",
              "      <th>PC74</th>\n",
              "      <th>PC75</th>\n",
              "    </tr>\n",
              "  </thead>\n",
              "  <tbody>\n",
              "    <tr>\n",
              "      <th>3539</th>\n",
              "      <td>-0.585562</td>\n",
              "      <td>-0.721438</td>\n",
              "      <td>-0.051970</td>\n",
              "      <td>0.132581</td>\n",
              "      <td>-0.081151</td>\n",
              "      <td>-0.387070</td>\n",
              "      <td>-0.083231</td>\n",
              "      <td>0.164286</td>\n",
              "      <td>-0.129226</td>\n",
              "      <td>-0.041117</td>\n",
              "      <td>...</td>\n",
              "      <td>-0.128678</td>\n",
              "      <td>0.060750</td>\n",
              "      <td>0.064536</td>\n",
              "      <td>-0.079840</td>\n",
              "      <td>0.174189</td>\n",
              "      <td>-0.222826</td>\n",
              "      <td>-0.302269</td>\n",
              "      <td>0.510494</td>\n",
              "      <td>-0.107626</td>\n",
              "      <td>0.013375</td>\n",
              "    </tr>\n",
              "    <tr>\n",
              "      <th>3747</th>\n",
              "      <td>-0.205381</td>\n",
              "      <td>-0.570718</td>\n",
              "      <td>-0.342499</td>\n",
              "      <td>-0.415296</td>\n",
              "      <td>-0.123840</td>\n",
              "      <td>-0.365719</td>\n",
              "      <td>0.045100</td>\n",
              "      <td>0.146412</td>\n",
              "      <td>-0.132848</td>\n",
              "      <td>-0.209441</td>\n",
              "      <td>...</td>\n",
              "      <td>-0.022612</td>\n",
              "      <td>0.201917</td>\n",
              "      <td>0.024396</td>\n",
              "      <td>-0.160486</td>\n",
              "      <td>-0.214005</td>\n",
              "      <td>-0.022585</td>\n",
              "      <td>0.362352</td>\n",
              "      <td>-0.291525</td>\n",
              "      <td>-0.405027</td>\n",
              "      <td>0.192828</td>\n",
              "    </tr>\n",
              "    <tr>\n",
              "      <th>1287</th>\n",
              "      <td>0.142719</td>\n",
              "      <td>0.030524</td>\n",
              "      <td>0.228632</td>\n",
              "      <td>-1.000000</td>\n",
              "      <td>0.499307</td>\n",
              "      <td>0.158024</td>\n",
              "      <td>-0.770753</td>\n",
              "      <td>-0.176731</td>\n",
              "      <td>0.402903</td>\n",
              "      <td>-0.188295</td>\n",
              "      <td>...</td>\n",
              "      <td>-0.036270</td>\n",
              "      <td>-0.331447</td>\n",
              "      <td>0.092636</td>\n",
              "      <td>0.016148</td>\n",
              "      <td>0.150767</td>\n",
              "      <td>-0.383823</td>\n",
              "      <td>-0.141827</td>\n",
              "      <td>0.364914</td>\n",
              "      <td>0.070148</td>\n",
              "      <td>-0.415619</td>\n",
              "    </tr>\n",
              "  </tbody>\n",
              "</table>\n",
              "<p>3 rows × 75 columns</p>\n",
              "</div>\n",
              "      <button class=\"colab-df-convert\" onclick=\"convertToInteractive('df-f34bc827-809f-4044-a275-4ebfff938a1a')\"\n",
              "              title=\"Convert this dataframe to an interactive table.\"\n",
              "              style=\"display:none;\">\n",
              "        \n",
              "  <svg xmlns=\"http://www.w3.org/2000/svg\" height=\"24px\"viewBox=\"0 0 24 24\"\n",
              "       width=\"24px\">\n",
              "    <path d=\"M0 0h24v24H0V0z\" fill=\"none\"/>\n",
              "    <path d=\"M18.56 5.44l.94 2.06.94-2.06 2.06-.94-2.06-.94-.94-2.06-.94 2.06-2.06.94zm-11 1L8.5 8.5l.94-2.06 2.06-.94-2.06-.94L8.5 2.5l-.94 2.06-2.06.94zm10 10l.94 2.06.94-2.06 2.06-.94-2.06-.94-.94-2.06-.94 2.06-2.06.94z\"/><path d=\"M17.41 7.96l-1.37-1.37c-.4-.4-.92-.59-1.43-.59-.52 0-1.04.2-1.43.59L10.3 9.45l-7.72 7.72c-.78.78-.78 2.05 0 2.83L4 21.41c.39.39.9.59 1.41.59.51 0 1.02-.2 1.41-.59l7.78-7.78 2.81-2.81c.8-.78.8-2.07 0-2.86zM5.41 20L4 18.59l7.72-7.72 1.47 1.35L5.41 20z\"/>\n",
              "  </svg>\n",
              "      </button>\n",
              "      \n",
              "  <style>\n",
              "    .colab-df-container {\n",
              "      display:flex;\n",
              "      flex-wrap:wrap;\n",
              "      gap: 12px;\n",
              "    }\n",
              "\n",
              "    .colab-df-convert {\n",
              "      background-color: #E8F0FE;\n",
              "      border: none;\n",
              "      border-radius: 50%;\n",
              "      cursor: pointer;\n",
              "      display: none;\n",
              "      fill: #1967D2;\n",
              "      height: 32px;\n",
              "      padding: 0 0 0 0;\n",
              "      width: 32px;\n",
              "    }\n",
              "\n",
              "    .colab-df-convert:hover {\n",
              "      background-color: #E2EBFA;\n",
              "      box-shadow: 0px 1px 2px rgba(60, 64, 67, 0.3), 0px 1px 3px 1px rgba(60, 64, 67, 0.15);\n",
              "      fill: #174EA6;\n",
              "    }\n",
              "\n",
              "    [theme=dark] .colab-df-convert {\n",
              "      background-color: #3B4455;\n",
              "      fill: #D2E3FC;\n",
              "    }\n",
              "\n",
              "    [theme=dark] .colab-df-convert:hover {\n",
              "      background-color: #434B5C;\n",
              "      box-shadow: 0px 1px 3px 1px rgba(0, 0, 0, 0.15);\n",
              "      filter: drop-shadow(0px 1px 2px rgba(0, 0, 0, 0.3));\n",
              "      fill: #FFFFFF;\n",
              "    }\n",
              "  </style>\n",
              "\n",
              "      <script>\n",
              "        const buttonEl =\n",
              "          document.querySelector('#df-f34bc827-809f-4044-a275-4ebfff938a1a button.colab-df-convert');\n",
              "        buttonEl.style.display =\n",
              "          google.colab.kernel.accessAllowed ? 'block' : 'none';\n",
              "\n",
              "        async function convertToInteractive(key) {\n",
              "          const element = document.querySelector('#df-f34bc827-809f-4044-a275-4ebfff938a1a');\n",
              "          const dataTable =\n",
              "            await google.colab.kernel.invokeFunction('convertToInteractive',\n",
              "                                                     [key], {});\n",
              "          if (!dataTable) return;\n",
              "\n",
              "          const docLinkHtml = 'Like what you see? Visit the ' +\n",
              "            '<a target=\"_blank\" href=https://colab.research.google.com/notebooks/data_table.ipynb>data table notebook</a>'\n",
              "            + ' to learn more about interactive tables.';\n",
              "          element.innerHTML = '';\n",
              "          dataTable['output_type'] = 'display_data';\n",
              "          await google.colab.output.renderOutput(dataTable, element);\n",
              "          const docLink = document.createElement('div');\n",
              "          docLink.innerHTML = docLinkHtml;\n",
              "          element.appendChild(docLink);\n",
              "        }\n",
              "      </script>\n",
              "    </div>\n",
              "  </div>\n",
              "  "
            ]
          },
          "metadata": {},
          "execution_count": 22
        }
      ],
      "source": [
        "train.head(3)"
      ]
    },
    {
      "cell_type": "code",
      "execution_count": 23,
      "metadata": {
        "colab": {
          "base_uri": "https://localhost:8080/",
          "height": 237
        },
        "id": "D1StT7W7Gayl",
        "outputId": "effec691-3ed6-4f74-b2d6-9b9dbc325b13"
      },
      "outputs": [
        {
          "output_type": "execute_result",
          "data": {
            "text/plain": [
              "           PC1       PC2       PC3       PC4       PC5       PC6       PC7  \\\n",
              "3430 -0.418314 -0.661608  0.129801  0.044716  0.151939 -0.020370  0.074867   \n",
              "2131  0.307634 -0.176510 -0.237050  0.086533 -0.103053 -0.491885 -0.053597   \n",
              "2680  0.249586 -0.314766 -0.406504  0.133557 -0.257871  0.157021 -0.325085   \n",
              "\n",
              "           PC8       PC9      PC10  ...      PC66      PC67      PC68  \\\n",
              "3430  0.108785  0.096640  0.002498  ... -0.232702  0.059170 -0.544840   \n",
              "2131 -0.062652 -0.116150 -0.366200  ... -0.108562 -0.223966 -0.166801   \n",
              "2680 -0.699004  0.194997 -0.100604  ...  0.154135 -0.135419 -0.058961   \n",
              "\n",
              "          PC69      PC70      PC71      PC72      PC73      PC74      PC75  \n",
              "3430 -0.118660 -0.346666  0.191686 -0.208302  0.244486 -0.215100 -0.082219  \n",
              "2131 -0.206696  0.158732  0.342016  0.056315 -0.074965 -0.459946 -0.484794  \n",
              "2680 -0.057639 -0.148260 -0.290298  0.045320  0.136178 -0.329569 -0.046921  \n",
              "\n",
              "[3 rows x 75 columns]"
            ],
            "text/html": [
              "\n",
              "  <div id=\"df-017674fc-f783-4b13-9bf4-18dad83def04\">\n",
              "    <div class=\"colab-df-container\">\n",
              "      <div>\n",
              "<style scoped>\n",
              "    .dataframe tbody tr th:only-of-type {\n",
              "        vertical-align: middle;\n",
              "    }\n",
              "\n",
              "    .dataframe tbody tr th {\n",
              "        vertical-align: top;\n",
              "    }\n",
              "\n",
              "    .dataframe thead th {\n",
              "        text-align: right;\n",
              "    }\n",
              "</style>\n",
              "<table border=\"1\" class=\"dataframe\">\n",
              "  <thead>\n",
              "    <tr style=\"text-align: right;\">\n",
              "      <th></th>\n",
              "      <th>PC1</th>\n",
              "      <th>PC2</th>\n",
              "      <th>PC3</th>\n",
              "      <th>PC4</th>\n",
              "      <th>PC5</th>\n",
              "      <th>PC6</th>\n",
              "      <th>PC7</th>\n",
              "      <th>PC8</th>\n",
              "      <th>PC9</th>\n",
              "      <th>PC10</th>\n",
              "      <th>...</th>\n",
              "      <th>PC66</th>\n",
              "      <th>PC67</th>\n",
              "      <th>PC68</th>\n",
              "      <th>PC69</th>\n",
              "      <th>PC70</th>\n",
              "      <th>PC71</th>\n",
              "      <th>PC72</th>\n",
              "      <th>PC73</th>\n",
              "      <th>PC74</th>\n",
              "      <th>PC75</th>\n",
              "    </tr>\n",
              "  </thead>\n",
              "  <tbody>\n",
              "    <tr>\n",
              "      <th>3430</th>\n",
              "      <td>-0.418314</td>\n",
              "      <td>-0.661608</td>\n",
              "      <td>0.129801</td>\n",
              "      <td>0.044716</td>\n",
              "      <td>0.151939</td>\n",
              "      <td>-0.020370</td>\n",
              "      <td>0.074867</td>\n",
              "      <td>0.108785</td>\n",
              "      <td>0.096640</td>\n",
              "      <td>0.002498</td>\n",
              "      <td>...</td>\n",
              "      <td>-0.232702</td>\n",
              "      <td>0.059170</td>\n",
              "      <td>-0.544840</td>\n",
              "      <td>-0.118660</td>\n",
              "      <td>-0.346666</td>\n",
              "      <td>0.191686</td>\n",
              "      <td>-0.208302</td>\n",
              "      <td>0.244486</td>\n",
              "      <td>-0.215100</td>\n",
              "      <td>-0.082219</td>\n",
              "    </tr>\n",
              "    <tr>\n",
              "      <th>2131</th>\n",
              "      <td>0.307634</td>\n",
              "      <td>-0.176510</td>\n",
              "      <td>-0.237050</td>\n",
              "      <td>0.086533</td>\n",
              "      <td>-0.103053</td>\n",
              "      <td>-0.491885</td>\n",
              "      <td>-0.053597</td>\n",
              "      <td>-0.062652</td>\n",
              "      <td>-0.116150</td>\n",
              "      <td>-0.366200</td>\n",
              "      <td>...</td>\n",
              "      <td>-0.108562</td>\n",
              "      <td>-0.223966</td>\n",
              "      <td>-0.166801</td>\n",
              "      <td>-0.206696</td>\n",
              "      <td>0.158732</td>\n",
              "      <td>0.342016</td>\n",
              "      <td>0.056315</td>\n",
              "      <td>-0.074965</td>\n",
              "      <td>-0.459946</td>\n",
              "      <td>-0.484794</td>\n",
              "    </tr>\n",
              "    <tr>\n",
              "      <th>2680</th>\n",
              "      <td>0.249586</td>\n",
              "      <td>-0.314766</td>\n",
              "      <td>-0.406504</td>\n",
              "      <td>0.133557</td>\n",
              "      <td>-0.257871</td>\n",
              "      <td>0.157021</td>\n",
              "      <td>-0.325085</td>\n",
              "      <td>-0.699004</td>\n",
              "      <td>0.194997</td>\n",
              "      <td>-0.100604</td>\n",
              "      <td>...</td>\n",
              "      <td>0.154135</td>\n",
              "      <td>-0.135419</td>\n",
              "      <td>-0.058961</td>\n",
              "      <td>-0.057639</td>\n",
              "      <td>-0.148260</td>\n",
              "      <td>-0.290298</td>\n",
              "      <td>0.045320</td>\n",
              "      <td>0.136178</td>\n",
              "      <td>-0.329569</td>\n",
              "      <td>-0.046921</td>\n",
              "    </tr>\n",
              "  </tbody>\n",
              "</table>\n",
              "<p>3 rows × 75 columns</p>\n",
              "</div>\n",
              "      <button class=\"colab-df-convert\" onclick=\"convertToInteractive('df-017674fc-f783-4b13-9bf4-18dad83def04')\"\n",
              "              title=\"Convert this dataframe to an interactive table.\"\n",
              "              style=\"display:none;\">\n",
              "        \n",
              "  <svg xmlns=\"http://www.w3.org/2000/svg\" height=\"24px\"viewBox=\"0 0 24 24\"\n",
              "       width=\"24px\">\n",
              "    <path d=\"M0 0h24v24H0V0z\" fill=\"none\"/>\n",
              "    <path d=\"M18.56 5.44l.94 2.06.94-2.06 2.06-.94-2.06-.94-.94-2.06-.94 2.06-2.06.94zm-11 1L8.5 8.5l.94-2.06 2.06-.94-2.06-.94L8.5 2.5l-.94 2.06-2.06.94zm10 10l.94 2.06.94-2.06 2.06-.94-2.06-.94-.94-2.06-.94 2.06-2.06.94z\"/><path d=\"M17.41 7.96l-1.37-1.37c-.4-.4-.92-.59-1.43-.59-.52 0-1.04.2-1.43.59L10.3 9.45l-7.72 7.72c-.78.78-.78 2.05 0 2.83L4 21.41c.39.39.9.59 1.41.59.51 0 1.02-.2 1.41-.59l7.78-7.78 2.81-2.81c.8-.78.8-2.07 0-2.86zM5.41 20L4 18.59l7.72-7.72 1.47 1.35L5.41 20z\"/>\n",
              "  </svg>\n",
              "      </button>\n",
              "      \n",
              "  <style>\n",
              "    .colab-df-container {\n",
              "      display:flex;\n",
              "      flex-wrap:wrap;\n",
              "      gap: 12px;\n",
              "    }\n",
              "\n",
              "    .colab-df-convert {\n",
              "      background-color: #E8F0FE;\n",
              "      border: none;\n",
              "      border-radius: 50%;\n",
              "      cursor: pointer;\n",
              "      display: none;\n",
              "      fill: #1967D2;\n",
              "      height: 32px;\n",
              "      padding: 0 0 0 0;\n",
              "      width: 32px;\n",
              "    }\n",
              "\n",
              "    .colab-df-convert:hover {\n",
              "      background-color: #E2EBFA;\n",
              "      box-shadow: 0px 1px 2px rgba(60, 64, 67, 0.3), 0px 1px 3px 1px rgba(60, 64, 67, 0.15);\n",
              "      fill: #174EA6;\n",
              "    }\n",
              "\n",
              "    [theme=dark] .colab-df-convert {\n",
              "      background-color: #3B4455;\n",
              "      fill: #D2E3FC;\n",
              "    }\n",
              "\n",
              "    [theme=dark] .colab-df-convert:hover {\n",
              "      background-color: #434B5C;\n",
              "      box-shadow: 0px 1px 3px 1px rgba(0, 0, 0, 0.15);\n",
              "      filter: drop-shadow(0px 1px 2px rgba(0, 0, 0, 0.3));\n",
              "      fill: #FFFFFF;\n",
              "    }\n",
              "  </style>\n",
              "\n",
              "      <script>\n",
              "        const buttonEl =\n",
              "          document.querySelector('#df-017674fc-f783-4b13-9bf4-18dad83def04 button.colab-df-convert');\n",
              "        buttonEl.style.display =\n",
              "          google.colab.kernel.accessAllowed ? 'block' : 'none';\n",
              "\n",
              "        async function convertToInteractive(key) {\n",
              "          const element = document.querySelector('#df-017674fc-f783-4b13-9bf4-18dad83def04');\n",
              "          const dataTable =\n",
              "            await google.colab.kernel.invokeFunction('convertToInteractive',\n",
              "                                                     [key], {});\n",
              "          if (!dataTable) return;\n",
              "\n",
              "          const docLinkHtml = 'Like what you see? Visit the ' +\n",
              "            '<a target=\"_blank\" href=https://colab.research.google.com/notebooks/data_table.ipynb>data table notebook</a>'\n",
              "            + ' to learn more about interactive tables.';\n",
              "          element.innerHTML = '';\n",
              "          dataTable['output_type'] = 'display_data';\n",
              "          await google.colab.output.renderOutput(dataTable, element);\n",
              "          const docLink = document.createElement('div');\n",
              "          docLink.innerHTML = docLinkHtml;\n",
              "          element.appendChild(docLink);\n",
              "        }\n",
              "      </script>\n",
              "    </div>\n",
              "  </div>\n",
              "  "
            ]
          },
          "metadata": {},
          "execution_count": 23
        }
      ],
      "source": [
        "test.head(3)"
      ]
    },
    {
      "cell_type": "code",
      "execution_count": 24,
      "metadata": {
        "colab": {
          "base_uri": "https://localhost:8080/"
        },
        "id": "hL0sA4jMGayl",
        "outputId": "f0c1aae5-7edf-4d2e-b97f-29447dea5a4d"
      },
      "outputs": [
        {
          "output_type": "stream",
          "name": "stdout",
          "text": [
            "<class 'pandas.core.frame.DataFrame'>\n",
            "Int64Index: 3366 entries, 3539 to 2732\n",
            "Data columns (total 75 columns):\n",
            " #   Column  Non-Null Count  Dtype  \n",
            "---  ------  --------------  -----  \n",
            " 0   PC1     3366 non-null   float64\n",
            " 1   PC2     3366 non-null   float64\n",
            " 2   PC3     3366 non-null   float64\n",
            " 3   PC4     3366 non-null   float64\n",
            " 4   PC5     3366 non-null   float64\n",
            " 5   PC6     3366 non-null   float64\n",
            " 6   PC7     3366 non-null   float64\n",
            " 7   PC8     3366 non-null   float64\n",
            " 8   PC9     3366 non-null   float64\n",
            " 9   PC10    3366 non-null   float64\n",
            " 10  PC11    3366 non-null   float64\n",
            " 11  PC12    3366 non-null   float64\n",
            " 12  PC13    3366 non-null   float64\n",
            " 13  PC14    3366 non-null   float64\n",
            " 14  PC15    3366 non-null   float64\n",
            " 15  PC16    3366 non-null   float64\n",
            " 16  PC17    3366 non-null   float64\n",
            " 17  PC18    3366 non-null   float64\n",
            " 18  PC19    3366 non-null   float64\n",
            " 19  PC20    3366 non-null   float64\n",
            " 20  PC21    3366 non-null   float64\n",
            " 21  PC22    3366 non-null   float64\n",
            " 22  PC23    3366 non-null   float64\n",
            " 23  PC24    3366 non-null   float64\n",
            " 24  PC25    3366 non-null   float64\n",
            " 25  PC26    3366 non-null   float64\n",
            " 26  PC27    3366 non-null   float64\n",
            " 27  PC28    3366 non-null   float64\n",
            " 28  PC29    3366 non-null   float64\n",
            " 29  PC30    3366 non-null   float64\n",
            " 30  PC31    3366 non-null   float64\n",
            " 31  PC32    3366 non-null   float64\n",
            " 32  PC33    3366 non-null   float64\n",
            " 33  PC34    3366 non-null   float64\n",
            " 34  PC35    3366 non-null   float64\n",
            " 35  PC36    3366 non-null   float64\n",
            " 36  PC37    3366 non-null   float64\n",
            " 37  PC38    3366 non-null   float64\n",
            " 38  PC39    3366 non-null   float64\n",
            " 39  PC40    3366 non-null   float64\n",
            " 40  PC41    3366 non-null   float64\n",
            " 41  PC42    3366 non-null   float64\n",
            " 42  PC43    3366 non-null   float64\n",
            " 43  PC44    3366 non-null   float64\n",
            " 44  PC45    3366 non-null   float64\n",
            " 45  PC46    3366 non-null   float64\n",
            " 46  PC47    3366 non-null   float64\n",
            " 47  PC48    3366 non-null   float64\n",
            " 48  PC49    3366 non-null   float64\n",
            " 49  PC50    3366 non-null   float64\n",
            " 50  PC51    3366 non-null   float64\n",
            " 51  PC52    3366 non-null   float64\n",
            " 52  PC53    3366 non-null   float64\n",
            " 53  PC54    3366 non-null   float64\n",
            " 54  PC55    3366 non-null   float64\n",
            " 55  PC56    3366 non-null   float64\n",
            " 56  PC57    3366 non-null   float64\n",
            " 57  PC58    3366 non-null   float64\n",
            " 58  PC59    3366 non-null   float64\n",
            " 59  PC60    3366 non-null   float64\n",
            " 60  PC61    3366 non-null   float64\n",
            " 61  PC62    3366 non-null   float64\n",
            " 62  PC63    3366 non-null   float64\n",
            " 63  PC64    3366 non-null   float64\n",
            " 64  PC65    3366 non-null   float64\n",
            " 65  PC66    3366 non-null   float64\n",
            " 66  PC67    3366 non-null   float64\n",
            " 67  PC68    3366 non-null   float64\n",
            " 68  PC69    3366 non-null   float64\n",
            " 69  PC70    3366 non-null   float64\n",
            " 70  PC71    3366 non-null   float64\n",
            " 71  PC72    3366 non-null   float64\n",
            " 72  PC73    3366 non-null   float64\n",
            " 73  PC74    3366 non-null   float64\n",
            " 74  PC75    3366 non-null   float64\n",
            "dtypes: float64(75)\n",
            "memory usage: 2.0 MB\n"
          ]
        }
      ],
      "source": [
        "train.info()"
      ]
    },
    {
      "cell_type": "code",
      "execution_count": 25,
      "metadata": {
        "colab": {
          "base_uri": "https://localhost:8080/"
        },
        "id": "Ke3GnpEXGayl",
        "outputId": "6a29bffe-a977-482b-d50e-e68b938c2dc2"
      },
      "outputs": [
        {
          "output_type": "stream",
          "name": "stdout",
          "text": [
            "<class 'pandas.core.frame.DataFrame'>\n",
            "Int64Index: 842 entries, 3430 to 2741\n",
            "Data columns (total 75 columns):\n",
            " #   Column  Non-Null Count  Dtype  \n",
            "---  ------  --------------  -----  \n",
            " 0   PC1     842 non-null    float64\n",
            " 1   PC2     842 non-null    float64\n",
            " 2   PC3     842 non-null    float64\n",
            " 3   PC4     842 non-null    float64\n",
            " 4   PC5     842 non-null    float64\n",
            " 5   PC6     842 non-null    float64\n",
            " 6   PC7     842 non-null    float64\n",
            " 7   PC8     842 non-null    float64\n",
            " 8   PC9     842 non-null    float64\n",
            " 9   PC10    842 non-null    float64\n",
            " 10  PC11    842 non-null    float64\n",
            " 11  PC12    842 non-null    float64\n",
            " 12  PC13    842 non-null    float64\n",
            " 13  PC14    842 non-null    float64\n",
            " 14  PC15    842 non-null    float64\n",
            " 15  PC16    842 non-null    float64\n",
            " 16  PC17    842 non-null    float64\n",
            " 17  PC18    842 non-null    float64\n",
            " 18  PC19    842 non-null    float64\n",
            " 19  PC20    842 non-null    float64\n",
            " 20  PC21    842 non-null    float64\n",
            " 21  PC22    842 non-null    float64\n",
            " 22  PC23    842 non-null    float64\n",
            " 23  PC24    842 non-null    float64\n",
            " 24  PC25    842 non-null    float64\n",
            " 25  PC26    842 non-null    float64\n",
            " 26  PC27    842 non-null    float64\n",
            " 27  PC28    842 non-null    float64\n",
            " 28  PC29    842 non-null    float64\n",
            " 29  PC30    842 non-null    float64\n",
            " 30  PC31    842 non-null    float64\n",
            " 31  PC32    842 non-null    float64\n",
            " 32  PC33    842 non-null    float64\n",
            " 33  PC34    842 non-null    float64\n",
            " 34  PC35    842 non-null    float64\n",
            " 35  PC36    842 non-null    float64\n",
            " 36  PC37    842 non-null    float64\n",
            " 37  PC38    842 non-null    float64\n",
            " 38  PC39    842 non-null    float64\n",
            " 39  PC40    842 non-null    float64\n",
            " 40  PC41    842 non-null    float64\n",
            " 41  PC42    842 non-null    float64\n",
            " 42  PC43    842 non-null    float64\n",
            " 43  PC44    842 non-null    float64\n",
            " 44  PC45    842 non-null    float64\n",
            " 45  PC46    842 non-null    float64\n",
            " 46  PC47    842 non-null    float64\n",
            " 47  PC48    842 non-null    float64\n",
            " 48  PC49    842 non-null    float64\n",
            " 49  PC50    842 non-null    float64\n",
            " 50  PC51    842 non-null    float64\n",
            " 51  PC52    842 non-null    float64\n",
            " 52  PC53    842 non-null    float64\n",
            " 53  PC54    842 non-null    float64\n",
            " 54  PC55    842 non-null    float64\n",
            " 55  PC56    842 non-null    float64\n",
            " 56  PC57    842 non-null    float64\n",
            " 57  PC58    842 non-null    float64\n",
            " 58  PC59    842 non-null    float64\n",
            " 59  PC60    842 non-null    float64\n",
            " 60  PC61    842 non-null    float64\n",
            " 61  PC62    842 non-null    float64\n",
            " 62  PC63    842 non-null    float64\n",
            " 63  PC64    842 non-null    float64\n",
            " 64  PC65    842 non-null    float64\n",
            " 65  PC66    842 non-null    float64\n",
            " 66  PC67    842 non-null    float64\n",
            " 67  PC68    842 non-null    float64\n",
            " 68  PC69    842 non-null    float64\n",
            " 69  PC70    842 non-null    float64\n",
            " 70  PC71    842 non-null    float64\n",
            " 71  PC72    842 non-null    float64\n",
            " 72  PC73    842 non-null    float64\n",
            " 73  PC74    842 non-null    float64\n",
            " 74  PC75    842 non-null    float64\n",
            "dtypes: float64(75)\n",
            "memory usage: 499.9 KB\n"
          ]
        }
      ],
      "source": [
        "test.info()"
      ]
    },
    {
      "cell_type": "code",
      "execution_count": 26,
      "metadata": {
        "id": "mRm6hqgNGayl"
      },
      "outputs": [],
      "source": [
        "#%% split training set to validation set\n",
        "Xtrain, Xval, Ztrain, Zval = train_test_split(train, target, test_size=0.2, random_state=0)"
      ]
    },
    {
      "cell_type": "markdown",
      "metadata": {
        "id": "-ag_T1qFGaym"
      },
      "source": [
        "## 5. Tuning models and test for all features <a class=\"anchor\" id=\"5\"></a>\n",
        "\n",
        "[Back to Table of Contents](#0.1)"
      ]
    },
    {
      "cell_type": "markdown",
      "metadata": {
        "id": "v9QQ7VDCGaym"
      },
      "source": [
        "### 5.1 Logistic Regression <a class=\"anchor\" id=\"5.1\"></a>\n",
        "\n",
        "[Back to Table of Contents](#0.1)"
      ]
    },
    {
      "cell_type": "markdown",
      "metadata": {
        "id": "58rTFnspGaym"
      },
      "source": [
        "Thanks to https://www.kaggle.com/startupsci/titanic-data-science-solutions"
      ]
    },
    {
      "cell_type": "markdown",
      "metadata": {
        "id": "B3k6jSqIGaym"
      },
      "source": [
        "**Logistic Regression** is a useful model to run early in the workflow. Logistic regression measures the relationship between the categorical dependent variable (feature) and one or more independent variables (features) by estimating probabilities using a logistic function, which is the cumulative logistic distribution. Reference [Wikipedia](https://en.wikipedia.org/wiki/Logistic_regression).\n",
        "\n",
        "Note the confidence score generated by the model based on our training dataset."
      ]
    },
    {
      "cell_type": "code",
      "execution_count": 27,
      "metadata": {
        "colab": {
          "base_uri": "https://localhost:8080/"
        },
        "id": "p_M1nuLTGaym",
        "outputId": "e016ee5f-589b-4884-a8ba-00f255176887"
      },
      "outputs": [
        {
          "output_type": "execute_result",
          "data": {
            "text/plain": [
              "77.99"
            ]
          },
          "metadata": {},
          "execution_count": 27
        }
      ],
      "source": [
        "# Logistic Regression\n",
        "\n",
        "logreg = LogisticRegression()\n",
        "logreg.fit(train, target)\n",
        "acc_log = round(logreg.score(train, target) * 100, 2)\n",
        "acc_log"
      ]
    },
    {
      "cell_type": "code",
      "execution_count": 28,
      "metadata": {
        "colab": {
          "base_uri": "https://localhost:8080/"
        },
        "id": "r-BxWKrnGayn",
        "outputId": "4d79fa69-042a-491a-e3f7-c34038bd9701"
      },
      "outputs": [
        {
          "output_type": "execute_result",
          "data": {
            "text/plain": [
              "77.08"
            ]
          },
          "metadata": {},
          "execution_count": 28
        }
      ],
      "source": [
        "acc_test_log = round(logreg.score(test, target_test) * 100, 2)\n",
        "acc_test_log"
      ]
    },
    {
      "cell_type": "code",
      "source": [
        "# Print the Confusion Matrix and slice it into four pieces\n",
        "y_pred = logreg.predict(test)\n",
        "\n",
        "from sklearn.metrics import confusion_matrix\n",
        "\n",
        "cm = confusion_matrix(target_test, y_pred)\n",
        "\n",
        "print('Confusion matrix\\n\\n', cm)\n",
        "\n",
        "print('\\nTrue Positives(TP) = ', cm[0,0])\n",
        "\n",
        "print('\\nTrue Negatives(TN) = ', cm[1,1])\n",
        "\n",
        "print('\\nFalse Positives(FP) = ', cm[0,1])\n",
        "\n",
        "print('\\nFalse Negatives(FN) = ', cm[1,0])\n",
        "\n",
        "from sklearn.metrics import classification_report\n",
        "\n",
        "print(classification_report(target_test, y_pred))\n",
        "\n",
        "# visualize confusion matrix with seaborn heatmap\n",
        "import seaborn as sns\n",
        "cm_matrix = pd.DataFrame(data=cm, columns=['Actual Positive:1', 'Actual Negative:0'], \n",
        "                                 index=['Predict Positive:1', 'Predict Negative:0'])\n",
        "\n",
        "sns.heatmap(cm_matrix, annot=True, fmt='d', cmap='YlGnBu')\n",
        "print(\"--------------------------------------------------------------------------------------\")\n",
        "\n",
        "from sklearn.metrics import roc_curve\n",
        "\n",
        "\n",
        "def plot_roc_curve(fpr, tpr, label=None):\n",
        "    plt.plot(fpr, tpr, linewidth=2, label=label)\n",
        "    plt.plot([0, 1], [0, 1], \"k--\")\n",
        "    plt.axis([0, 1, 0, 1])\n",
        "    plt.xlabel('False Positive Rate')\n",
        "    plt.ylabel('True Positive Rate')\n",
        "    plt.title('ROC Curve')\n",
        "\n",
        "\n"
      ],
      "metadata": {
        "colab": {
          "base_uri": "https://localhost:8080/",
          "height": 664
        },
        "id": "JxPrYoCFesB_",
        "outputId": "67ce3690-46ea-4369-9352-f7f25c3c079d"
      },
      "execution_count": 29,
      "outputs": [
        {
          "output_type": "stream",
          "name": "stdout",
          "text": [
            "Confusion matrix\n",
            "\n",
            " [[316 112]\n",
            " [ 81 333]]\n",
            "\n",
            "True Positives(TP) =  316\n",
            "\n",
            "True Negatives(TN) =  333\n",
            "\n",
            "False Positives(FP) =  112\n",
            "\n",
            "False Negatives(FN) =  81\n",
            "              precision    recall  f1-score   support\n",
            "\n",
            "          MS       0.80      0.74      0.77       428\n",
            "         NMO       0.75      0.80      0.78       414\n",
            "\n",
            "    accuracy                           0.77       842\n",
            "   macro avg       0.77      0.77      0.77       842\n",
            "weighted avg       0.77      0.77      0.77       842\n",
            "\n",
            "--------------------------------------------------------------------------------------\n"
          ]
        },
        {
          "output_type": "display_data",
          "data": {
            "text/plain": [
              "<Figure size 432x288 with 2 Axes>"
            ],
            "image/png": "[encoded data removed]"
          },
          "metadata": {
            "needs_background": "light"
          }
        }
      ]
    },
    {
      "cell_type": "markdown",
      "metadata": {
        "id": "VFjnqVr0Gayn"
      },
      "source": [
        "We can use Logistic Regression to validate our assumptions and decisions for feature creating and completing goals. This can be done by calculating the coefficient of the features in the decision function.\n",
        "\n",
        "Positive coefficients increase the log-odds of the response (and thus increase the probability), and negative coefficients decrease the log-odds of the response (and thus decrease the probability).\n",
        "\n",
        "- *gluc* is highest coefficient\n",
        "- *height*, *smoke* are largest numbers by absolute value."
      ]
    },
    {
      "cell_type": "markdown",
      "metadata": {
        "id": "4IrB50y6Gayn"
      },
      "source": [
        "### 5.2 Support Vector Machines <a class=\"anchor\" id=\"5.2\"></a>\n",
        "\n",
        "[Back to Table of Contents](#0.1)"
      ]
    },
    {
      "cell_type": "markdown",
      "metadata": {
        "id": "zP7qQ7Q0Gayn"
      },
      "source": [
        "Thanks to https://www.kaggle.com/startupsci/titanic-data-science-solutions"
      ]
    },
    {
      "cell_type": "markdown",
      "metadata": {
        "id": "TbbWhRp8Gayn"
      },
      "source": [
        "**Support Vector Machines** are supervised learning models with associated learning algorithms that analyze data used for classification and regression analysis. Given a set of training samples, each marked as belonging to one or the other of two categories, an SVM training algorithm builds a model that assigns new test samples to one category or the other, making it a non-probabilistic binary linear classifier. Reference [Wikipedia](https://en.wikipedia.org/wiki/Support_vector_machine)."
      ]
    },
    {
      "cell_type": "code",
      "execution_count": 30,
      "metadata": {
        "colab": {
          "base_uri": "https://localhost:8080/"
        },
        "id": "BIyP6cxHGayo",
        "outputId": "bdbb36ac-f4f7-4020-f1ec-ddff1f19f7c9"
      },
      "outputs": [
        {
          "output_type": "execute_result",
          "data": {
            "text/plain": [
              "96.91"
            ]
          },
          "metadata": {},
          "execution_count": 30
        }
      ],
      "source": [
        "# Support Vector Machines\n",
        "\n",
        "svc = SVC()\n",
        "svc.fit(train, target)\n",
        "acc_svc = round(svc.score(train, target) * 100, 2)\n",
        "acc_svc"
      ]
    },
    {
      "cell_type": "code",
      "execution_count": 31,
      "metadata": {
        "colab": {
          "base_uri": "https://localhost:8080/"
        },
        "id": "k5vofFTbGayo",
        "outputId": "75b483d4-bf6c-4fe1-ddd7-7099d5cfde60"
      },
      "outputs": [
        {
          "output_type": "execute_result",
          "data": {
            "text/plain": [
              "95.37"
            ]
          },
          "metadata": {},
          "execution_count": 31
        }
      ],
      "source": [
        "acc_test_svc = round(svc.score(test, target_test) * 100, 2)\n",
        "acc_test_svc"
      ]
    },
    {
      "cell_type": "code",
      "source": [
        "# Print the Confusion Matrix and slice it into four pieces\n",
        "y_pred = svc.predict(test)\n",
        "\n",
        "from sklearn.metrics import confusion_matrix\n",
        "\n",
        "cm = confusion_matrix(target_test, y_pred)\n",
        "\n",
        "print('Confusion matrix\\n\\n', cm)\n",
        "\n",
        "print('\\nTrue Positives(TP) = ', cm[0,0])\n",
        "\n",
        "print('\\nTrue Negatives(TN) = ', cm[1,1])\n",
        "\n",
        "print('\\nFalse Positives(FP) = ', cm[0,1])\n",
        "\n",
        "print('\\nFalse Negatives(FN) = ', cm[1,0])\n",
        "\n",
        "from sklearn.metrics import classification_report\n",
        "\n",
        "print(classification_report(target_test, y_pred))\n",
        "\n",
        "# visualize confusion matrix with seaborn heatmap\n",
        "import seaborn as sns\n",
        "cm_matrix = pd.DataFrame(data=cm, columns=['Actual Positive:1', 'Actual Negative:0'], \n",
        "                                 index=['Predict Positive:1', 'Predict Negative:0'])\n",
        "\n",
        "sns.heatmap(cm_matrix, annot=True, fmt='d', cmap='YlGnBu')\n",
        "print(\"--------------------------------------------------------------------------------------\")\n",
        "\n",
        "from sklearn.metrics import roc_curve\n",
        "\n",
        "\n",
        "def plot_roc_curve(fpr, tpr, label=None):\n",
        "    plt.plot(fpr, tpr, linewidth=2, label=label)\n",
        "    plt.plot([0, 1], [0, 1], \"k--\")\n",
        "    plt.axis([0, 1, 0, 1])\n",
        "    plt.xlabel('False Positive Rate')\n",
        "    plt.ylabel('True Positive Rate')\n",
        "    plt.title('ROC Curve')\n",
        "\n",
        "\n"
      ],
      "metadata": {
        "colab": {
          "base_uri": "https://localhost:8080/",
          "height": 666
        },
        "id": "9J0gpSvOe9TX",
        "outputId": "117ffe19-1d16-41f2-b325-996b5fc5f7ae"
      },
      "execution_count": 32,
      "outputs": [
        {
          "output_type": "stream",
          "name": "stdout",
          "text": [
            "Confusion matrix\n",
            "\n",
            " [[398  30]\n",
            " [  9 405]]\n",
            "\n",
            "True Positives(TP) =  398\n",
            "\n",
            "True Negatives(TN) =  405\n",
            "\n",
            "False Positives(FP) =  30\n",
            "\n",
            "False Negatives(FN) =  9\n",
            "              precision    recall  f1-score   support\n",
            "\n",
            "          MS       0.98      0.93      0.95       428\n",
            "         NMO       0.93      0.98      0.95       414\n",
            "\n",
            "    accuracy                           0.95       842\n",
            "   macro avg       0.95      0.95      0.95       842\n",
            "weighted avg       0.95      0.95      0.95       842\n",
            "\n",
            "--------------------------------------------------------------------------------------\n"
          ]
        },
        {
          "output_type": "display_data",
          "data": {
            "text/plain": [
              "<Figure size 432x288 with 2 Axes>"
            ],
            "image/png": "[encoded data removed]"
          },
          "metadata": {
            "needs_background": "light"
          }
        }
      ]
    },
    {
      "cell_type": "markdown",
      "metadata": {
        "id": "DnAEI0FrGayp"
      },
      "source": [
        "### 5.4 k-Nearest Neighbors algorithm <a class=\"anchor\" id=\"5.4\"></a>\n",
        "\n",
        "[Back to Table of Contents](#0.1)"
      ]
    },
    {
      "cell_type": "markdown",
      "metadata": {
        "id": "9WA3cbRWGayp"
      },
      "source": [
        "Thanks to https://www.kaggle.com/startupsci/titanic-data-science-solutions"
      ]
    },
    {
      "cell_type": "markdown",
      "metadata": {
        "id": "flvJtu0hGayp"
      },
      "source": [
        "In pattern recognition, the **k-Nearest Neighbors algorithm** (or k-NN for short) is a non-parametric method used for classification and regression. A sample is classified by a majority vote of its neighbors, with the sample being assigned to the class most common among its k nearest neighbors (k is a positive integer, typically small). Reference [Wikipedia](https://en.wikipedia.org/wiki/K-nearest_neighbors_algorithm)."
      ]
    },
    {
      "cell_type": "code",
      "execution_count": 33,
      "metadata": {
        "colab": {
          "base_uri": "https://localhost:8080/"
        },
        "id": "FIsUo_gTGayp",
        "outputId": "303a36f9-ad58-4ccf-e4f0-e1ca0b30dd8a"
      },
      "outputs": [
        {
          "output_type": "stream",
          "name": "stdout",
          "text": [
            "99.29 {'n_neighbors': 2}\n"
          ]
        }
      ],
      "source": [
        "# k-Nearest Neighbors algorithm\n",
        "\n",
        "knn = GridSearchCV(estimator=KNeighborsClassifier(), param_grid={'n_neighbors': [2, 3]}, cv=10).fit(train, target)\n",
        "acc_knn = round(knn.score(train, target) * 100, 2)\n",
        "print(acc_knn, knn.best_params_)"
      ]
    },
    {
      "cell_type": "code",
      "execution_count": 34,
      "metadata": {
        "colab": {
          "base_uri": "https://localhost:8080/"
        },
        "id": "1D0rvDM3Gayp",
        "outputId": "1f032b75-d661-44eb-ac7a-bbedf28a755e"
      },
      "outputs": [
        {
          "output_type": "execute_result",
          "data": {
            "text/plain": [
              "97.03"
            ]
          },
          "metadata": {},
          "execution_count": 34
        }
      ],
      "source": [
        "acc_test_knn = round(knn.score(test, target_test) * 100, 2)\n",
        "acc_test_knn"
      ]
    },
    {
      "cell_type": "code",
      "source": [
        "# Print the Confusion Matrix and slice it into four pieces\n",
        "y_pred = knn.predict(test)\n",
        "\n",
        "from sklearn.metrics import confusion_matrix\n",
        "\n",
        "cm = confusion_matrix(target_test, y_pred)\n",
        "\n",
        "print('Confusion matrix\\n\\n', cm)\n",
        "\n",
        "print('\\nTrue Positives(TP) = ', cm[0,0])\n",
        "\n",
        "print('\\nTrue Negatives(TN) = ', cm[1,1])\n",
        "\n",
        "print('\\nFalse Positives(FP) = ', cm[0,1])\n",
        "\n",
        "print('\\nFalse Negatives(FN) = ', cm[1,0])\n",
        "\n",
        "from sklearn.metrics import classification_report\n",
        "\n",
        "print(classification_report(target_test, y_pred))\n",
        "\n",
        "# visualize confusion matrix with seaborn heatmap\n",
        "import seaborn as sns\n",
        "cm_matrix = pd.DataFrame(data=cm, columns=['Actual Positive:1', 'Actual Negative:0'], \n",
        "                                 index=['Predict Positive:1', 'Predict Negative:0'])\n",
        "\n",
        "sns.heatmap(cm_matrix, annot=True, fmt='d', cmap='YlGnBu')\n",
        "print(\"--------------------------------------------------------------------------------------\")\n",
        "\n",
        "from sklearn.metrics import roc_curve\n",
        "\n",
        "\n",
        "def plot_roc_curve(fpr, tpr, label=None):\n",
        "    plt.plot(fpr, tpr, linewidth=2, label=label)\n",
        "    plt.plot([0, 1], [0, 1], \"k--\")\n",
        "    plt.axis([0, 1, 0, 1])\n",
        "    plt.xlabel('False Positive Rate')\n",
        "    plt.ylabel('True Positive Rate')\n",
        "    plt.title('ROC Curve')\n",
        "\n",
        "\n"
      ],
      "metadata": {
        "colab": {
          "base_uri": "https://localhost:8080/",
          "height": 664
        },
        "id": "SAQXV1TqfKfQ",
        "outputId": "4e2ed27e-e4e7-4943-c647-04ea6e8524dd"
      },
      "execution_count": 35,
      "outputs": [
        {
          "output_type": "stream",
          "name": "stdout",
          "text": [
            "Confusion matrix\n",
            "\n",
            " [[419   9]\n",
            " [ 16 398]]\n",
            "\n",
            "True Positives(TP) =  419\n",
            "\n",
            "True Negatives(TN) =  398\n",
            "\n",
            "False Positives(FP) =  9\n",
            "\n",
            "False Negatives(FN) =  16\n",
            "              precision    recall  f1-score   support\n",
            "\n",
            "          MS       0.96      0.98      0.97       428\n",
            "         NMO       0.98      0.96      0.97       414\n",
            "\n",
            "    accuracy                           0.97       842\n",
            "   macro avg       0.97      0.97      0.97       842\n",
            "weighted avg       0.97      0.97      0.97       842\n",
            "\n",
            "--------------------------------------------------------------------------------------\n"
          ]
        },
        {
          "output_type": "display_data",
          "data": {
            "text/plain": [
              "<Figure size 432x288 with 2 Axes>"
            ],
            "image/png": "[encoded data removed]"
          },
          "metadata": {
            "needs_background": "light"
          }
        }
      ]
    },
    {
      "cell_type": "markdown",
      "metadata": {
        "id": "m4wXReuvGayp"
      },
      "source": [
        "### 5.5 Naive Bayes <a class=\"anchor\" id=\"5.5\"></a>\n",
        "\n",
        "[Back to Table of Contents](#0.1)"
      ]
    },
    {
      "cell_type": "markdown",
      "metadata": {
        "id": "4eOBZG2sGayp"
      },
      "source": [
        "Thanks to https://www.kaggle.com/startupsci/titanic-data-science-solutions"
      ]
    },
    {
      "cell_type": "markdown",
      "metadata": {
        "id": "QEfHhDuiGayq"
      },
      "source": [
        "In machine learning, **Naive Bayes classifiers** are a family of simple probabilistic classifiers based on applying Bayes' theorem with strong (naive) independence assumptions between the features. Naive Bayes classifiers are highly scalable, requiring a number of parameters linear in the number of variables (features) in a learning problem. Reference [Wikipedia](https://en.wikipedia.org/wiki/Naive_Bayes_classifier)."
      ]
    },
    {
      "cell_type": "code",
      "execution_count": 36,
      "metadata": {
        "colab": {
          "base_uri": "https://localhost:8080/"
        },
        "id": "_tXxbPzxGayq",
        "outputId": "6f290583-ad7f-48f1-91a1-3ae61fcc46c9"
      },
      "outputs": [
        {
          "output_type": "execute_result",
          "data": {
            "text/plain": [
              "68.95"
            ]
          },
          "metadata": {},
          "execution_count": 36
        }
      ],
      "source": [
        "# Gaussian Naive Bayes\n",
        "\n",
        "gaussian = GaussianNB()\n",
        "gaussian.fit(train, target)\n",
        "acc_gaussian = round(gaussian.score(train, target) * 100, 2)\n",
        "acc_gaussian"
      ]
    },
    {
      "cell_type": "code",
      "execution_count": 37,
      "metadata": {
        "colab": {
          "base_uri": "https://localhost:8080/"
        },
        "id": "oGhFXxIwGayq",
        "outputId": "e1e24f41-d68d-4b74-fa16-98ec7b3c08d3"
      },
      "outputs": [
        {
          "output_type": "execute_result",
          "data": {
            "text/plain": [
              "71.73"
            ]
          },
          "metadata": {},
          "execution_count": 37
        }
      ],
      "source": [
        "acc_test_gaussian = round(gaussian.score(test, target_test) * 100, 2)\n",
        "acc_test_gaussian"
      ]
    },
    {
      "cell_type": "code",
      "source": [
        "# Print the Confusion Matrix and slice it into four pieces\n",
        "y_pred = gaussian.predict(test)\n",
        "\n",
        "from sklearn.metrics import confusion_matrix\n",
        "\n",
        "cm = confusion_matrix(target_test, y_pred)\n",
        "\n",
        "print('Confusion matrix\\n\\n', cm)\n",
        "\n",
        "print('\\nTrue Positives(TP) = ', cm[0,0])\n",
        "\n",
        "print('\\nTrue Negatives(TN) = ', cm[1,1])\n",
        "\n",
        "print('\\nFalse Positives(FP) = ', cm[0,1])\n",
        "\n",
        "print('\\nFalse Negatives(FN) = ', cm[1,0])\n",
        "\n",
        "from sklearn.metrics import classification_report\n",
        "\n",
        "print(classification_report(target_test, y_pred))\n",
        "\n",
        "# visualize confusion matrix with seaborn heatmap\n",
        "import seaborn as sns\n",
        "cm_matrix = pd.DataFrame(data=cm, columns=['Actual Positive:1', 'Actual Negative:0'], \n",
        "                                 index=['Predict Positive:1', 'Predict Negative:0'])\n",
        "\n",
        "sns.heatmap(cm_matrix, annot=True, fmt='d', cmap='YlGnBu')\n",
        "print(\"--------------------------------------------------------------------------------------\")\n",
        "\n",
        "from sklearn.metrics import roc_curve\n",
        "\n",
        "\n",
        "def plot_roc_curve(fpr, tpr, label=None):\n",
        "    plt.plot(fpr, tpr, linewidth=2, label=label)\n",
        "    plt.plot([0, 1], [0, 1], \"k--\")\n",
        "    plt.axis([0, 1, 0, 1])\n",
        "    plt.xlabel('False Positive Rate')\n",
        "    plt.ylabel('True Positive Rate')\n",
        "    plt.title('ROC Curve')\n",
        "\n",
        "\n"
      ],
      "metadata": {
        "colab": {
          "base_uri": "https://localhost:8080/",
          "height": 664
        },
        "id": "kvFRyDtAfQYo",
        "outputId": "7f4dbabc-8837-4446-ef25-30acc5a7aada"
      },
      "execution_count": 38,
      "outputs": [
        {
          "output_type": "stream",
          "name": "stdout",
          "text": [
            "Confusion matrix\n",
            "\n",
            " [[290 138]\n",
            " [100 314]]\n",
            "\n",
            "True Positives(TP) =  290\n",
            "\n",
            "True Negatives(TN) =  314\n",
            "\n",
            "False Positives(FP) =  138\n",
            "\n",
            "False Negatives(FN) =  100\n",
            "              precision    recall  f1-score   support\n",
            "\n",
            "          MS       0.74      0.68      0.71       428\n",
            "         NMO       0.69      0.76      0.73       414\n",
            "\n",
            "    accuracy                           0.72       842\n",
            "   macro avg       0.72      0.72      0.72       842\n",
            "weighted avg       0.72      0.72      0.72       842\n",
            "\n",
            "--------------------------------------------------------------------------------------\n"
          ]
        },
        {
          "output_type": "display_data",
          "data": {
            "text/plain": [
              "<Figure size 432x288 with 2 Axes>"
            ],
            "image/png": "[encoded data removed]"
          },
          "metadata": {
            "needs_background": "light"
          }
        }
      ]
    },
    {
      "cell_type": "markdown",
      "metadata": {
        "id": "S1fyJ16eGayq"
      },
      "source": [
        "### 5.6 Perceptron <a class=\"anchor\" id=\"5.6\"></a>\n",
        "\n",
        "[Back to Table of Contents](#0.1)"
      ]
    },
    {
      "cell_type": "markdown",
      "metadata": {
        "id": "1K4pveIzGayq"
      },
      "source": [
        "Thanks to https://www.kaggle.com/startupsci/titanic-data-science-solutions"
      ]
    },
    {
      "cell_type": "markdown",
      "metadata": {
        "id": "lX-2MVAaGayq"
      },
      "source": [
        "The **Perceptron** is an algorithm for supervised learning of binary classifiers (functions that can decide whether an input, represented by a vector of numbers, belongs to some specific class or not). It is a type of linear classifier, i.e. a classification algorithm that makes its predictions based on a linear predictor function combining a set of weights with the feature vector. The algorithm allows for online learning, in that it processes elements in the training set one at a time. Reference [Wikipedia](https://en.wikipedia.org/wiki/Perceptron)."
      ]
    },
    {
      "cell_type": "code",
      "execution_count": 39,
      "metadata": {
        "colab": {
          "base_uri": "https://localhost:8080/"
        },
        "id": "5b40Uim2Gayq",
        "outputId": "63d08185-5262-4f04-cfe5-bd4f4f4cfe57"
      },
      "outputs": [
        {
          "output_type": "execute_result",
          "data": {
            "text/plain": [
              "71.78"
            ]
          },
          "metadata": {},
          "execution_count": 39
        }
      ],
      "source": [
        "# Perceptron\n",
        "\n",
        "perceptron = Perceptron()\n",
        "perceptron.fit(train, target)\n",
        "acc_perceptron = round(perceptron.score(train, target) * 100, 2)\n",
        "acc_perceptron"
      ]
    },
    {
      "cell_type": "code",
      "execution_count": 40,
      "metadata": {
        "colab": {
          "base_uri": "https://localhost:8080/"
        },
        "id": "zkgjHYpYGayq",
        "outputId": "9d234737-a730-4edf-a4f3-0f9ebc6f5612"
      },
      "outputs": [
        {
          "output_type": "execute_result",
          "data": {
            "text/plain": [
              "71.62"
            ]
          },
          "metadata": {},
          "execution_count": 40
        }
      ],
      "source": [
        "acc_test_perceptron = round(perceptron.score(test, target_test) * 100, 2)\n",
        "acc_test_perceptron"
      ]
    },
    {
      "cell_type": "code",
      "source": [
        "# Print the Confusion Matrix and slice it into four pieces\n",
        "y_pred = perceptron.predict(test)\n",
        "\n",
        "from sklearn.metrics import confusion_matrix\n",
        "\n",
        "cm = confusion_matrix(target_test, y_pred)\n",
        "\n",
        "print('Confusion matrix\\n\\n', cm)\n",
        "\n",
        "print('\\nTrue Positives(TP) = ', cm[0,0])\n",
        "\n",
        "print('\\nTrue Negatives(TN) = ', cm[1,1])\n",
        "\n",
        "print('\\nFalse Positives(FP) = ', cm[0,1])\n",
        "\n",
        "print('\\nFalse Negatives(FN) = ', cm[1,0])\n",
        "\n",
        "from sklearn.metrics import classification_report\n",
        "\n",
        "print(classification_report(target_test, y_pred))\n",
        "\n",
        "# visualize confusion matrix with seaborn heatmap\n",
        "import seaborn as sns\n",
        "cm_matrix = pd.DataFrame(data=cm, columns=['Actual Positive:1', 'Actual Negative:0'], \n",
        "                                 index=['Predict Positive:1', 'Predict Negative:0'])\n",
        "\n",
        "sns.heatmap(cm_matrix, annot=True, fmt='d', cmap='YlGnBu')\n",
        "print(\"--------------------------------------------------------------------------------------\")\n",
        "\n",
        "from sklearn.metrics import roc_curve\n",
        "\n",
        "\n",
        "def plot_roc_curve(fpr, tpr, label=None):\n",
        "    plt.plot(fpr, tpr, linewidth=2, label=label)\n",
        "    plt.plot([0, 1], [0, 1], \"k--\")\n",
        "    plt.axis([0, 1, 0, 1])\n",
        "    plt.xlabel('False Positive Rate')\n",
        "    plt.ylabel('True Positive Rate')\n",
        "    plt.title('ROC Curve')\n",
        "\n",
        "\n"
      ],
      "metadata": {
        "colab": {
          "base_uri": "https://localhost:8080/",
          "height": 664
        },
        "id": "rmhAAMCAfWfn",
        "outputId": "738b6ce7-554a-4d46-810f-c7885f9d9fca"
      },
      "execution_count": 41,
      "outputs": [
        {
          "output_type": "stream",
          "name": "stdout",
          "text": [
            "Confusion matrix\n",
            "\n",
            " [[276 152]\n",
            " [ 87 327]]\n",
            "\n",
            "True Positives(TP) =  276\n",
            "\n",
            "True Negatives(TN) =  327\n",
            "\n",
            "False Positives(FP) =  152\n",
            "\n",
            "False Negatives(FN) =  87\n",
            "              precision    recall  f1-score   support\n",
            "\n",
            "          MS       0.76      0.64      0.70       428\n",
            "         NMO       0.68      0.79      0.73       414\n",
            "\n",
            "    accuracy                           0.72       842\n",
            "   macro avg       0.72      0.72      0.72       842\n",
            "weighted avg       0.72      0.72      0.71       842\n",
            "\n",
            "--------------------------------------------------------------------------------------\n"
          ]
        },
        {
          "output_type": "display_data",
          "data": {
            "text/plain": [
              "<Figure size 432x288 with 2 Axes>"
            ],
            "image/png": "[encoded data removed]"
          },
          "metadata": {
            "needs_background": "light"
          }
        }
      ]
    },
    {
      "cell_type": "markdown",
      "metadata": {
        "id": "7pki7NBGGayr"
      },
      "source": [
        "### 5.7 Stochastic Gradient Descent <a class=\"anchor\" id=\"5.7\"></a>\n",
        "\n",
        "[Back to Table of Contents](#0.1)"
      ]
    },
    {
      "cell_type": "markdown",
      "metadata": {
        "id": "zDUGk44jGayr"
      },
      "source": [
        "Thanks to https://www.kaggle.com/startupsci/titanic-data-science-solutions"
      ]
    },
    {
      "cell_type": "markdown",
      "metadata": {
        "id": "ZzhH_YD2Gayr"
      },
      "source": [
        "**Stochastic gradient descent** (often abbreviated **SGD**) is an iterative method for optimizing an objective function with suitable smoothness properties (e.g. differentiable or subdifferentiable). It can be regarded as a stochastic approximation of gradient descent optimization, since it replaces the actual gradient (calculated from the entire data set) by an estimate thereof (calculated from a randomly selected subset of the data). Especially in big data applications this reduces the computational burden, achieving faster iterations in trade for a slightly lower convergence rate. Reference [Wikipedia](https://en.wikipedia.org/wiki/Stochastic_gradient_descent)."
      ]
    },
    {
      "cell_type": "code",
      "execution_count": 42,
      "metadata": {
        "colab": {
          "base_uri": "https://localhost:8080/"
        },
        "id": "ZEpD2zJ5Gayr",
        "outputId": "63cc84ab-ffc8-4255-ba58-d84af5ca2766"
      },
      "outputs": [
        {
          "output_type": "execute_result",
          "data": {
            "text/plain": [
              "76.68"
            ]
          },
          "metadata": {},
          "execution_count": 42
        }
      ],
      "source": [
        "# Stochastic Gradient Descent\n",
        "\n",
        "sgd = SGDClassifier()\n",
        "sgd.fit(train, target)\n",
        "acc_sgd = round(sgd.score(train, target) * 100, 2)\n",
        "acc_sgd"
      ]
    },
    {
      "cell_type": "code",
      "execution_count": 43,
      "metadata": {
        "colab": {
          "base_uri": "https://localhost:8080/"
        },
        "id": "nIurpWUUGayr",
        "outputId": "e9ed63dd-9b6c-4549-e8c7-9d90bd499c53"
      },
      "outputs": [
        {
          "output_type": "execute_result",
          "data": {
            "text/plain": [
              "75.53"
            ]
          },
          "metadata": {},
          "execution_count": 43
        }
      ],
      "source": [
        "acc_test_sgd = round(sgd.score(test, target_test) * 100, 2)\n",
        "acc_test_sgd"
      ]
    },
    {
      "cell_type": "code",
      "source": [
        "# Print the Confusion Matrix and slice it into four pieces\n",
        "y_pred = sgd.predict(test)\n",
        "\n",
        "from sklearn.metrics import confusion_matrix\n",
        "\n",
        "cm = confusion_matrix(target_test, y_pred)\n",
        "\n",
        "print('Confusion matrix\\n\\n', cm)\n",
        "\n",
        "print('\\nTrue Positives(TP) = ', cm[0,0])\n",
        "\n",
        "print('\\nTrue Negatives(TN) = ', cm[1,1])\n",
        "\n",
        "print('\\nFalse Positives(FP) = ', cm[0,1])\n",
        "\n",
        "print('\\nFalse Negatives(FN) = ', cm[1,0])\n",
        "\n",
        "from sklearn.metrics import classification_report\n",
        "\n",
        "print(classification_report(target_test, y_pred))\n",
        "\n",
        "# visualize confusion matrix with seaborn heatmap\n",
        "import seaborn as sns\n",
        "cm_matrix = pd.DataFrame(data=cm, columns=['Actual Positive:1', 'Actual Negative:0'], \n",
        "                                 index=['Predict Positive:1', 'Predict Negative:0'])\n",
        "\n",
        "sns.heatmap(cm_matrix, annot=True, fmt='d', cmap='YlGnBu')\n",
        "print(\"--------------------------------------------------------------------------------------\")\n",
        "\n",
        "from sklearn.metrics import roc_curve\n",
        "\n",
        "\n",
        "def plot_roc_curve(fpr, tpr, label=None):\n",
        "    plt.plot(fpr, tpr, linewidth=2, label=label)\n",
        "    plt.plot([0, 1], [0, 1], \"k--\")\n",
        "    plt.axis([0, 1, 0, 1])\n",
        "    plt.xlabel('False Positive Rate')\n",
        "    plt.ylabel('True Positive Rate')\n",
        "    plt.title('ROC Curve')\n",
        "\n",
        "\n"
      ],
      "metadata": {
        "colab": {
          "base_uri": "https://localhost:8080/",
          "height": 664
        },
        "id": "PpIRZ3K6ffHX",
        "outputId": "a8da03ed-299c-4da2-8b07-cbc037af8db7"
      },
      "execution_count": 44,
      "outputs": [
        {
          "output_type": "stream",
          "name": "stdout",
          "text": [
            "Confusion matrix\n",
            "\n",
            " [[327 101]\n",
            " [105 309]]\n",
            "\n",
            "True Positives(TP) =  327\n",
            "\n",
            "True Negatives(TN) =  309\n",
            "\n",
            "False Positives(FP) =  101\n",
            "\n",
            "False Negatives(FN) =  105\n",
            "              precision    recall  f1-score   support\n",
            "\n",
            "          MS       0.76      0.76      0.76       428\n",
            "         NMO       0.75      0.75      0.75       414\n",
            "\n",
            "    accuracy                           0.76       842\n",
            "   macro avg       0.76      0.76      0.76       842\n",
            "weighted avg       0.76      0.76      0.76       842\n",
            "\n",
            "--------------------------------------------------------------------------------------\n"
          ]
        },
        {
          "output_type": "display_data",
          "data": {
            "text/plain": [
              "<Figure size 432x288 with 2 Axes>"
            ],
            "image/png": "[encoded data removed]"
          },
          "metadata": {
            "needs_background": "light"
          }
        }
      ]
    },
    {
      "cell_type": "markdown",
      "metadata": {
        "id": "8cqvfYmsGayr"
      },
      "source": [
        "### 5.8 Decision Tree Classifier <a class=\"anchor\" id=\"5.8\"></a>\n",
        "\n",
        "[Back to Table of Contents](#0.1)"
      ]
    },
    {
      "cell_type": "markdown",
      "metadata": {
        "id": "Aho76NBqGayr"
      },
      "source": [
        "Thanks to https://www.kaggle.com/startupsci/titanic-data-science-solutions"
      ]
    },
    {
      "cell_type": "markdown",
      "metadata": {
        "id": "rrcUxyc2Gayr"
      },
      "source": [
        "This model uses a **Decision Tree** as a predictive model which maps features (tree branches) to conclusions about the target value (tree leaves). Tree models where the target variable can take a finite set of values are called classification trees; in these tree structures, leaves represent class labels and branches represent conjunctions of features that lead to those class labels. Decision trees where the target variable can take continuous values (typically real numbers) are called regression trees. Reference [Wikipedia](https://en.wikipedia.org/wiki/Decision_tree_learning)."
      ]
    },
    {
      "cell_type": "code",
      "execution_count": 45,
      "metadata": {
        "colab": {
          "base_uri": "https://localhost:8080/"
        },
        "id": "D_D1B70HGays",
        "outputId": "040d5277-c926-4cb0-8d3c-a521bc9cc3d3"
      },
      "outputs": [
        {
          "output_type": "execute_result",
          "data": {
            "text/plain": [
              "100.0"
            ]
          },
          "metadata": {},
          "execution_count": 45
        }
      ],
      "source": [
        "# Decision Tree Classifier\n",
        "\n",
        "decision_tree = DecisionTreeClassifier()\n",
        "decision_tree.fit(train, target)\n",
        "acc_decision_tree = round(decision_tree.score(train, target) * 100, 2)\n",
        "acc_decision_tree"
      ]
    },
    {
      "cell_type": "code",
      "execution_count": 46,
      "metadata": {
        "colab": {
          "base_uri": "https://localhost:8080/"
        },
        "id": "vYgPboaTGays",
        "outputId": "6368a7bb-336d-4808-9b2c-311511938a4c"
      },
      "outputs": [
        {
          "output_type": "execute_result",
          "data": {
            "text/plain": [
              "71.85"
            ]
          },
          "metadata": {},
          "execution_count": 46
        }
      ],
      "source": [
        "acc_test_decision_tree = round(decision_tree.score(test, target_test) * 100, 2)\n",
        "acc_test_decision_tree"
      ]
    },
    {
      "cell_type": "code",
      "source": [
        "# Print the Confusion Matrix and slice it into four pieces\n",
        "y_pred = decision_tree.predict(test)\n",
        "\n",
        "from sklearn.metrics import confusion_matrix\n",
        "\n",
        "cm = confusion_matrix(target_test, y_pred)\n",
        "\n",
        "print('Confusion matrix\\n\\n', cm)\n",
        "\n",
        "print('\\nTrue Positives(TP) = ', cm[0,0])\n",
        "\n",
        "print('\\nTrue Negatives(TN) = ', cm[1,1])\n",
        "\n",
        "print('\\nFalse Positives(FP) = ', cm[0,1])\n",
        "\n",
        "print('\\nFalse Negatives(FN) = ', cm[1,0])\n",
        "\n",
        "from sklearn.metrics import classification_report\n",
        "\n",
        "print(classification_report(target_test, y_pred))\n",
        "\n",
        "# visualize confusion matrix with seaborn heatmap\n",
        "import seaborn as sns\n",
        "cm_matrix = pd.DataFrame(data=cm, columns=['Actual Positive:1', 'Actual Negative:0'], \n",
        "                                 index=['Predict Positive:1', 'Predict Negative:0'])\n",
        "\n",
        "sns.heatmap(cm_matrix, annot=True, fmt='d', cmap='YlGnBu')\n",
        "print(\"--------------------------------------------------------------------------------------\")\n",
        "\n",
        "from sklearn.metrics import roc_curve\n",
        "\n",
        "\n",
        "def plot_roc_curve(fpr, tpr, label=None):\n",
        "    plt.plot(fpr, tpr, linewidth=2, label=label)\n",
        "    plt.plot([0, 1], [0, 1], \"k--\")\n",
        "    plt.axis([0, 1, 0, 1])\n",
        "    plt.xlabel('False Positive Rate')\n",
        "    plt.ylabel('True Positive Rate')\n",
        "    plt.title('ROC Curve')\n",
        "\n",
        "\n"
      ],
      "metadata": {
        "colab": {
          "base_uri": "https://localhost:8080/",
          "height": 664
        },
        "id": "P_hjDY5-fjT_",
        "outputId": "88dbfaca-123e-4141-af18-4c9ca4d42220"
      },
      "execution_count": 47,
      "outputs": [
        {
          "output_type": "stream",
          "name": "stdout",
          "text": [
            "Confusion matrix\n",
            "\n",
            " [[308 120]\n",
            " [117 297]]\n",
            "\n",
            "True Positives(TP) =  308\n",
            "\n",
            "True Negatives(TN) =  297\n",
            "\n",
            "False Positives(FP) =  120\n",
            "\n",
            "False Negatives(FN) =  117\n",
            "              precision    recall  f1-score   support\n",
            "\n",
            "          MS       0.72      0.72      0.72       428\n",
            "         NMO       0.71      0.72      0.71       414\n",
            "\n",
            "    accuracy                           0.72       842\n",
            "   macro avg       0.72      0.72      0.72       842\n",
            "weighted avg       0.72      0.72      0.72       842\n",
            "\n",
            "--------------------------------------------------------------------------------------\n"
          ]
        },
        {
          "output_type": "display_data",
          "data": {
            "text/plain": [
              "<Figure size 432x288 with 2 Axes>"
            ],
            "image/png": "[encoded data removed]"
          },
          "metadata": {
            "needs_background": "light"
          }
        }
      ]
    },
    {
      "cell_type": "markdown",
      "metadata": {
        "id": "w12UGihXGays"
      },
      "source": [
        "### 5.9 Random Forests <a class=\"anchor\" id=\"5.9\"></a>\n",
        "\n",
        "[Back to Table of Contents](#0.1)"
      ]
    },
    {
      "cell_type": "markdown",
      "metadata": {
        "id": "MExShB_7Gays"
      },
      "source": [
        "Thanks to https://www.kaggle.com/startupsci/titanic-data-science-solutions"
      ]
    },
    {
      "cell_type": "markdown",
      "metadata": {
        "id": "YMQUainLGays"
      },
      "source": [
        "**Random Forests** is one of the most popular model. Random forests or random decision forests are an ensemble learning method for classification, regression and other tasks, that operate by constructing a multitude of decision trees (n_estimators= [100, 300]) at training time and outputting the class that is the mode of the classes (classification) or mean prediction (regression) of the individual trees. Reference [Wikipedia](https://en.wikipedia.org/wiki/Random_forest)."
      ]
    },
    {
      "cell_type": "code",
      "execution_count": 48,
      "metadata": {
        "colab": {
          "base_uri": "https://localhost:8080/"
        },
        "id": "PYDDh71rGays",
        "outputId": "2c4b6aa3-bebc-4f32-c993-2a2ee37f8d25"
      },
      "outputs": [
        {
          "output_type": "stream",
          "name": "stdout",
          "text": [
            "100.0 {'n_estimators': 300}\n"
          ]
        }
      ],
      "source": [
        "# Random Forest\n",
        "\n",
        "random_forest = GridSearchCV(estimator=RandomForestClassifier(), param_grid={'n_estimators': [20, 300]}, cv=5).fit(train, target)\n",
        "random_forest.fit(train, target)\n",
        "acc_random_forest = round(random_forest.score(train, target) * 100, 2)\n",
        "print(acc_random_forest,random_forest.best_params_)"
      ]
    },
    {
      "cell_type": "code",
      "execution_count": 49,
      "metadata": {
        "colab": {
          "base_uri": "https://localhost:8080/"
        },
        "id": "HRyirLACGays",
        "outputId": "52f0f285-0135-4790-ac81-4239f8fb4e78"
      },
      "outputs": [
        {
          "output_type": "execute_result",
          "data": {
            "text/plain": [
              "93.11"
            ]
          },
          "metadata": {},
          "execution_count": 49
        }
      ],
      "source": [
        "acc_test_random_forest = round(random_forest.score(test, target_test) * 100, 2)\n",
        "acc_test_random_forest"
      ]
    },
    {
      "cell_type": "code",
      "source": [
        "# Print the Confusion Matrix and slice it into four pieces\n",
        "y_pred = random_forest.predict(test)\n",
        "\n",
        "from sklearn.metrics import confusion_matrix\n",
        "\n",
        "cm = confusion_matrix(target_test, y_pred)\n",
        "\n",
        "print('Confusion matrix\\n\\n', cm)\n",
        "\n",
        "print('\\nTrue Positives(TP) = ', cm[0,0])\n",
        "\n",
        "print('\\nTrue Negatives(TN) = ', cm[1,1])\n",
        "\n",
        "print('\\nFalse Positives(FP) = ', cm[0,1])\n",
        "\n",
        "print('\\nFalse Negatives(FN) = ', cm[1,0])\n",
        "\n",
        "from sklearn.metrics import classification_report\n",
        "\n",
        "print(classification_report(target_test, y_pred))\n",
        "\n",
        "# visualize confusion matrix with seaborn heatmap\n",
        "import seaborn as sns\n",
        "cm_matrix = pd.DataFrame(data=cm, columns=['Actual Positive:1', 'Actual Negative:0'], \n",
        "                                 index=['Predict Positive:1', 'Predict Negative:0'])\n",
        "\n",
        "sns.heatmap(cm_matrix, annot=True, fmt='d', cmap='YlGnBu')\n",
        "print(\"--------------------------------------------------------------------------------------\")\n",
        "\n",
        "from sklearn.metrics import roc_curve\n",
        "\n",
        "\n",
        "def plot_roc_curve(fpr, tpr, label=None):\n",
        "    plt.plot(fpr, tpr, linewidth=2, label=label)\n",
        "    plt.plot([0, 1], [0, 1], \"k--\")\n",
        "    plt.axis([0, 1, 0, 1])\n",
        "    plt.xlabel('False Positive Rate')\n",
        "    plt.ylabel('True Positive Rate')\n",
        "    plt.title('ROC Curve')\n",
        "\n",
        "\n"
      ],
      "metadata": {
        "colab": {
          "base_uri": "https://localhost:8080/",
          "height": 664
        },
        "id": "bApNERgUf1N_",
        "outputId": "780d2631-9896-408b-9913-f7003fd8f6d4"
      },
      "execution_count": 50,
      "outputs": [
        {
          "output_type": "stream",
          "name": "stdout",
          "text": [
            "Confusion matrix\n",
            "\n",
            " [[387  41]\n",
            " [ 17 397]]\n",
            "\n",
            "True Positives(TP) =  387\n",
            "\n",
            "True Negatives(TN) =  397\n",
            "\n",
            "False Positives(FP) =  41\n",
            "\n",
            "False Negatives(FN) =  17\n",
            "              precision    recall  f1-score   support\n",
            "\n",
            "          MS       0.96      0.90      0.93       428\n",
            "         NMO       0.91      0.96      0.93       414\n",
            "\n",
            "    accuracy                           0.93       842\n",
            "   macro avg       0.93      0.93      0.93       842\n",
            "weighted avg       0.93      0.93      0.93       842\n",
            "\n",
            "--------------------------------------------------------------------------------------\n"
          ]
        },
        {
          "output_type": "display_data",
          "data": {
            "text/plain": [
              "<Figure size 432x288 with 2 Axes>"
            ],
            "image/png": "[encoded data removed]"
          },
          "metadata": {
            "needs_background": "light"
          }
        }
      ]
    },
    {
      "cell_type": "markdown",
      "metadata": {
        "id": "sjJpLLrCGayu"
      },
      "source": [
        "### 5.11 LGBM Classifier <a class=\"anchor\" id=\"5.11\"></a>\n",
        "\n",
        "[Back to Table of Contents](#0.1)"
      ]
    },
    {
      "cell_type": "markdown",
      "metadata": {
        "id": "wb2cWTElGayu"
      },
      "source": [
        "Light GBM is a fast, distributed, high-performance gradient boosting framework based on decision tree algorithms. It splits the tree leaf wise with the best fit whereas other boosting algorithms split the tree depth wise or level wise rather than leaf-wise. So when growing on the same leaf in Light GBM, the leaf-wise algorithm can reduce more loss than the level-wise algorithm and hence results in much better accuracy which can rarely be achieved by any of the existing boosting algorithms. Also, it is surprisingly very fast, hence the word ‘Light’. Reference [Analytics Vidhya](https://www.analyticsvidhya.com/blog/2017/06/which-algorithm-takes-the-crown-light-gbm-vs-xgboost/)."
      ]
    },
    {
      "cell_type": "markdown",
      "metadata": {
        "id": "UstrFpzPGayv"
      },
      "source": [
        "We will tuning the hyperparameters of the LGBMClassifier model using the HyperOpt and 10-fold crossvalidation"
      ]
    },
    {
      "cell_type": "code",
      "execution_count": 51,
      "metadata": {
        "id": "xw5obOmaGayv",
        "outputId": "a2db1109-50a4-4206-8ec4-2f453a53d1c7",
        "colab": {
          "base_uri": "https://localhost:8080/"
        }
      },
      "outputs": [
        {
          "output_type": "stream",
          "name": "stdout",
          "text": [
            "0.88799632612689\n",
            "{'boosting_type': 'gbdt', 'colsample_bytree': 0.655, 'learning_rate': 0.040400000000000005, 'max_depth': 7, 'min_child_weight': 8.925, 'n_estimators': 390, 'num_leaves': 40, 'objective': 'binary'}\n",
            "0.9055222905185814\n",
            "{'boosting_type': 'gbdt', 'colsample_bytree': 0.905, 'learning_rate': 0.044500000000000005, 'max_depth': 7, 'min_child_weight': 2.5, 'n_estimators': 920, 'num_leaves': 2008, 'objective': 'binary'}\n",
            "0.7465831213791154\n",
            "{'boosting_type': 'gbdt', 'colsample_bytree': 0.84, 'learning_rate': 0.0036000000000000003, 'max_depth': 4, 'min_child_weight': 3.9250000000000003, 'n_estimators': 246, 'num_leaves': 3696, 'objective': 'binary'}\n",
            "0.895717641656069\n",
            "{'boosting_type': 'gbdt', 'colsample_bytree': 0.625, 'learning_rate': 0.0256, 'max_depth': 9, 'min_child_weight': 4.3500000000000005, 'n_estimators': 409, 'num_leaves': 3304, 'objective': 'binary'}\n",
            "0.8921497456549385\n",
            "{'boosting_type': 'gbdt', 'colsample_bytree': 0.875, 'learning_rate': 0.0281, 'max_depth': 7, 'min_child_weight': 4.95, 'n_estimators': 470, 'num_leaves': 2172, 'objective': 'binary'}\n",
            "0.8232337148509256\n",
            "{'boosting_type': 'gbdt', 'colsample_bytree': 0.6950000000000001, 'learning_rate': 0.0025, 'max_depth': 8, 'min_child_weight': 6.325, 'n_estimators': 429, 'num_leaves': 2548, 'objective': 'binary'}\n",
            "0.7935186166454713\n",
            "{'boosting_type': 'gbdt', 'colsample_bytree': 0.76, 'learning_rate': 0.00030000000000000003, 'max_depth': 9, 'min_child_weight': 6.550000000000001, 'n_estimators': 354, 'num_leaves': 3280, 'objective': 'binary'}\n",
            "0.904339762611276\n",
            "{'boosting_type': 'gbdt', 'colsample_bytree': 0.605, 'learning_rate': 0.0456, 'max_depth': 9, 'min_child_weight': 4.775, 'n_estimators': 670, 'num_leaves': 3354, 'objective': 'binary'}\n",
            "0.9013600395647872\n",
            "{'boosting_type': 'gbdt', 'colsample_bytree': 0.52, 'learning_rate': 0.0371, 'max_depth': 7, 'min_child_weight': 3.625, 'n_estimators': 522, 'num_leaves': 3284, 'objective': 'binary'}\n",
            "0.8835391055532005\n",
            "{'boosting_type': 'gbdt', 'colsample_bytree': 0.63, 'learning_rate': 0.0097, 'max_depth': 11, 'min_child_weight': 8.525, 'n_estimators': 657, 'num_leaves': 3736, 'objective': 'binary'}\n",
            "100%|██████████| 10/10 [07:35<00:00, 45.54s/it, best loss: 0.7465831213791154]\n",
            "best:\n",
            "{'colsample_bytree': 0.84, 'learning_rate': 0.0036000000000000003, 'max_depth': 2, 'min_child_weight': 3.9250000000000003, 'n_estimators': 146, 'num_leaves': 1846}\n"
          ]
        }
      ],
      "source": [
        "def hyperopt_lgb_score(params):\n",
        "    clf = LGBMClassifier(**params)\n",
        "    current_score = cross_val_score(clf, train, target, cv=10).mean()\n",
        "    print(current_score, params)\n",
        "    return current_score \n",
        " \n",
        "space_lgb = {\n",
        "            'learning_rate': hp.quniform('learning_rate', 0, 0.05, 0.0001),\n",
        "            'n_estimators': hp.choice('n_estimators', range(100, 1000)),\n",
        "            'max_depth':  hp.choice('max_depth', np.arange(2, 12, dtype=int)),\n",
        "            'num_leaves': hp.choice('num_leaves', 2*np.arange(2, 2**11, dtype=int)),\n",
        "            'min_child_weight': hp.quniform('min_child_weight', 1, 9, 0.025),\n",
        "            'colsample_bytree': hp.quniform('colsample_bytree', 0.5, 1, 0.005),\n",
        "            'objective': 'binary',\n",
        "            'boosting_type': 'gbdt',\n",
        "            }\n",
        " \n",
        "best = fmin(fn=hyperopt_lgb_score, space=space_lgb, algo=tpe.suggest, max_evals=10)\n",
        "print('best:')\n",
        "print(best)"
      ]
    },
    {
      "cell_type": "code",
      "execution_count": 52,
      "metadata": {
        "id": "_2cVjogdGayv",
        "outputId": "79f6be34-2fe4-4b0e-c9af-90aeb449584e",
        "colab": {
          "base_uri": "https://localhost:8080/"
        }
      },
      "outputs": [
        {
          "output_type": "execute_result",
          "data": {
            "text/plain": [
              "{'boosting_type': 'gbdt',\n",
              " 'colsample_bytree': 0.84,\n",
              " 'learning_rate': 0.0036000000000000003,\n",
              " 'max_depth': 4,\n",
              " 'min_child_weight': 3.9250000000000003,\n",
              " 'n_estimators': 246,\n",
              " 'num_leaves': 3696,\n",
              " 'objective': 'binary'}"
            ]
          },
          "metadata": {},
          "execution_count": 52
        }
      ],
      "source": [
        "params = space_eval(space_lgb, best)\n",
        "params"
      ]
    },
    {
      "cell_type": "code",
      "execution_count": 79,
      "metadata": {
        "id": "aH_zHNFCGayv",
        "outputId": "eb8025be-d272-4cd9-d3db-9e4a364b96cd",
        "colab": {
          "base_uri": "https://localhost:8080/"
        }
      },
      "outputs": [
        {
          "output_type": "execute_result",
          "data": {
            "text/plain": [
              "100.0"
            ]
          },
          "metadata": {},
          "execution_count": 79
        }
      ],
      "source": [
        "LGB_Classifier = LGBMClassifier(**{'boosting_type': 'gbdt', 'colsample_bytree': 0.905, 'learning_rate': 0.044500000000000005, 'max_depth': 7, 'min_child_weight': 2.5, 'n_estimators': 920, 'num_leaves': 2008, 'objective': 'binary'}\n",
        ")\n",
        "LGB_Classifier.fit(train, target)\n",
        "acc_LGB_Classifier = round(LGB_Classifier.score(train, target) * 100, 2)\n",
        "acc_LGB_Classifier"
      ]
    },
    {
      "cell_type": "code",
      "execution_count": 54,
      "metadata": {
        "id": "l_Z5aVLDfoVz"
      },
      "outputs": [],
      "source": [
        "# def hyperopt_lgb_score(params):\n",
        "#     clf = LGBMClassifier(**params)\n",
        "#     current_score = cross_val_score(clf, train, target, cv=10).mean()\n",
        "#     print(current_score, params)\n",
        "#     return current_score \n",
        " \n",
        "# space_lgb = {\n",
        "#             'learning_rate': hp.quniform('learning_rate', 0, 0.05, 0.0001),\n",
        "#             'n_estimators': hp.choice('n_estimators', range(100, 1000)),\n",
        "#             'max_depth':  hp.choice('max_depth', np.arange(2, 12, dtype=int)),\n",
        "#             'num_leaves': hp.choice('num_leaves', 2*np.arange(2, 2**11, dtype=int)),\n",
        "#             'min_child_weight': hp.quniform('min_child_weight', 1, 9, 0.025),\n",
        "#             'colsample_bytree': hp.quniform('colsample_bytree', 0.5, 1, 0.005),\n",
        "#             'objective': 'binary',\n",
        "#             'boosting_type': 'gbdt',\n",
        "#             }\n",
        " \n",
        "# best = fmin(fn=hyperopt_lgb_score, space=space_lgb, algo=tpe.suggest, max_evals=10)\n",
        "# print('best:')\n",
        "# print(best)"
      ]
    },
    {
      "cell_type": "code",
      "execution_count": 80,
      "metadata": {
        "id": "AGVNEFRAGayv",
        "outputId": "17611156-79c8-49ae-bfb0-39579f6f36f8",
        "colab": {
          "base_uri": "https://localhost:8080/"
        }
      },
      "outputs": [
        {
          "output_type": "execute_result",
          "data": {
            "text/plain": [
              "94.06"
            ]
          },
          "metadata": {},
          "execution_count": 80
        }
      ],
      "source": [
        "acc_test_LGB_Classifier = round(LGB_Classifier.score(test, target_test) * 100, 2)\n",
        "acc_test_LGB_Classifier"
      ]
    },
    {
      "cell_type": "code",
      "execution_count": 81,
      "metadata": {
        "id": "f8HWFt0EGayw",
        "outputId": "45f00e71-ecf6-4060-c3ad-031804c836ad",
        "colab": {
          "base_uri": "https://localhost:8080/",
          "height": 893
        }
      },
      "outputs": [
        {
          "output_type": "display_data",
          "data": {
            "text/plain": [
              "<Figure size 1080x1080 with 1 Axes>"
            ],
            "image/png": "[encoded data removed]"
          },
          "metadata": {
            "needs_background": "light"
          }
        }
      ],
      "source": [
        "fig =  plt.figure(figsize = (15,15))\n",
        "axes = fig.add_subplot(111)\n",
        "lgb.plot_importance(LGB_Classifier,ax = axes,height = 0.5)\n",
        "plt.show();\n",
        "plt.close()"
      ]
    },
    {
      "cell_type": "code",
      "source": [
        "# Print the Confusion Matrix and slice it into four pieces\n",
        "y_pred = LGB_Classifier.predict(test)\n",
        "\n",
        "from sklearn.metrics import confusion_matrix\n",
        "\n",
        "cm = confusion_matrix(target_test, y_pred)\n",
        "\n",
        "print('Confusion matrix\\n\\n', cm)\n",
        "\n",
        "print('\\nTrue Positives(TP) = ', cm[0,0])\n",
        "\n",
        "print('\\nTrue Negatives(TN) = ', cm[1,1])\n",
        "\n",
        "print('\\nFalse Positives(FP) = ', cm[0,1])\n",
        "\n",
        "print('\\nFalse Negatives(FN) = ', cm[1,0])\n",
        "\n",
        "from sklearn.metrics import classification_report\n",
        "\n",
        "print(classification_report(target_test, y_pred))\n",
        "\n",
        "# visualize confusion matrix with seaborn heatmap\n",
        "import seaborn as sns\n",
        "cm_matrix = pd.DataFrame(data=cm, columns=['Actual Positive:1', 'Actual Negative:0'], \n",
        "                                 index=['Predict Positive:1', 'Predict Negative:0'])\n",
        "\n",
        "sns.heatmap(cm_matrix, annot=True, fmt='d', cmap='YlGnBu')\n",
        "print(\"--------------------------------------------------------------------------------------\")\n",
        "\n",
        "from sklearn.metrics import roc_curve\n",
        "\n",
        "\n",
        "def plot_roc_curve(fpr, tpr, label=None):\n",
        "    plt.plot(fpr, tpr, linewidth=2, label=label)\n",
        "    plt.plot([0, 1], [0, 1], \"k--\")\n",
        "    plt.axis([0, 1, 0, 1])\n",
        "    plt.xlabel('False Positive Rate')\n",
        "    plt.ylabel('True Positive Rate')\n",
        "    plt.title('ROC Curve')\n",
        "\n",
        "\n"
      ],
      "metadata": {
        "colab": {
          "base_uri": "https://localhost:8080/",
          "height": 664
        },
        "id": "Tib5lnHVhexn",
        "outputId": "2db06e94-ebb7-4b82-a8f3-3b12d33a6726"
      },
      "execution_count": 57,
      "outputs": [
        {
          "output_type": "stream",
          "name": "stdout",
          "text": [
            "Confusion matrix\n",
            "\n",
            " [[390  38]\n",
            " [ 16 398]]\n",
            "\n",
            "True Positives(TP) =  390\n",
            "\n",
            "True Negatives(TN) =  398\n",
            "\n",
            "False Positives(FP) =  38\n",
            "\n",
            "False Negatives(FN) =  16\n",
            "              precision    recall  f1-score   support\n",
            "\n",
            "          MS       0.96      0.91      0.94       428\n",
            "         NMO       0.91      0.96      0.94       414\n",
            "\n",
            "    accuracy                           0.94       842\n",
            "   macro avg       0.94      0.94      0.94       842\n",
            "weighted avg       0.94      0.94      0.94       842\n",
            "\n",
            "--------------------------------------------------------------------------------------\n"
          ]
        },
        {
          "output_type": "display_data",
          "data": {
            "text/plain": [
              "<Figure size 432x288 with 2 Axes>"
            ],
            "image/png": "[encoded data removed]"
          },
          "metadata": {
            "needs_background": "light"
          }
        }
      ]
    },
    {
      "cell_type": "markdown",
      "metadata": {
        "id": "vzgOKCpEGayw"
      },
      "source": [
        "### 5.12 GradientBoostingClassifier <a class=\"anchor\" id=\"5.12\"></a>\n",
        "\n",
        "[Back to Table of Contents](#0.1)"
      ]
    },
    {
      "cell_type": "markdown",
      "metadata": {
        "id": "e1MYNVWAGayw"
      },
      "source": [
        "Thanks to https://www.kaggle.com/kabure/titanic-eda-model-pipeline-keras-nn"
      ]
    },
    {
      "cell_type": "markdown",
      "metadata": {
        "id": "uehuSf03Gayw"
      },
      "source": [
        "**Gradient Boosting** builds an additive model in a forward stage-wise fashion; it allows for the optimization of arbitrary differentiable loss functions. In each stage n_classes_ regression trees are fit on the negative gradient of the binomial or multinomial deviance loss function. Binary classification is a special case where only a single regression tree is induced. The features are always randomly permuted at each split. Therefore, the best found split may vary, even with the same training data and max_features=n_features, if the improvement of the criterion is identical for several splits enumerated during the search of the best split. To obtain a deterministic behaviour during fitting, random_state has to be fixed. Reference [sklearn documentation](https://scikit-learn.org/stable/modules/generated/sklearn.ensemble.GradientBoostingClassifier.html)."
      ]
    },
    {
      "cell_type": "code",
      "execution_count": 58,
      "metadata": {
        "colab": {
          "base_uri": "https://localhost:8080/"
        },
        "id": "eySWiUA-Gayw",
        "outputId": "37d996eb-d209-4fc1-ef37-00f66e286d7e"
      },
      "outputs": [
        {
          "output_type": "stream",
          "name": "stdout",
          "text": [
            "0.8467032287692525\n",
            "{'max_depth': 4, 'n_estimators': 97}\n",
            "0.7988704606471669\n",
            "{'max_depth': 2, 'n_estimators': 164}\n",
            "0.7893740285431681\n",
            "{'max_depth': 2, 'n_estimators': 118}\n",
            "0.8235313338985446\n",
            "{'max_depth': 2, 'n_estimators': 287}\n",
            "0.776007665677547\n",
            "{'max_depth': 2, 'n_estimators': 76}\n",
            "0.8125432739861523\n",
            "{'max_depth': 3, 'n_estimators': 76}\n",
            "0.8276741557156987\n",
            "{'max_depth': 9, 'n_estimators': 19}\n",
            "0.8948283170835101\n",
            "{'max_depth': 9, 'n_estimators': 165}\n",
            "0.8826400664123215\n",
            "{'max_depth': 4, 'n_estimators': 248}\n",
            "0.8960179101314116\n",
            "{'max_depth': 7, 'n_estimators': 206}\n",
            "100%|██████████| 10/10 [22:51<00:00, 137.20s/it, best loss: 0.776007665677547]\n",
            "best:\n",
            "{'max_depth': 0, 'n_estimators': 74}\n"
          ]
        }
      ],
      "source": [
        "def hyperopt_gb_score(params):\n",
        "    clf = GradientBoostingClassifier(**params)\n",
        "    current_score = cross_val_score(clf, train, target, cv=10).mean()\n",
        "    print(current_score, params)\n",
        "    return current_score \n",
        " \n",
        "space_gb = {\n",
        "            'n_estimators': hp.choice('n_estimators', range(2, 300)),\n",
        "            'max_depth': hp.choice('max_depth', np.arange(2, 10, dtype=int))            \n",
        "        }\n",
        " \n",
        "best = fmin(fn=hyperopt_gb_score, space=space_gb, algo=tpe.suggest, max_evals=10)\n",
        "print('best:')\n",
        "print(best)"
      ]
    },
    {
      "cell_type": "code",
      "execution_count": 59,
      "metadata": {
        "id": "9jHtRA6-Gayx",
        "colab": {
          "base_uri": "https://localhost:8080/"
        },
        "outputId": "a28fb13b-e80f-4606-f6a3-74f85e75aef5"
      },
      "outputs": [
        {
          "output_type": "execute_result",
          "data": {
            "text/plain": [
              "{'max_depth': 2, 'n_estimators': 76}"
            ]
          },
          "metadata": {},
          "execution_count": 59
        }
      ],
      "source": [
        "params = space_eval(space_gb, best)\n",
        "params"
      ]
    },
    {
      "cell_type": "code",
      "execution_count": 82,
      "metadata": {
        "id": "OVWowxYbGayx",
        "colab": {
          "base_uri": "https://localhost:8080/"
        },
        "outputId": "11bb3f40-b8e0-460f-8d8b-a772a48e74bf"
      },
      "outputs": [
        {
          "output_type": "execute_result",
          "data": {
            "text/plain": [
              "100.0"
            ]
          },
          "metadata": {},
          "execution_count": 82
        }
      ],
      "source": [
        "# Gradient Boosting Classifier\n",
        "\n",
        "gradient_boosting = GradientBoostingClassifier(**{'max_depth': 7, 'n_estimators': 206}\n",
        "\n",
        ")\n",
        "gradient_boosting.fit(train, target)\n",
        "acc_gradient_boosting = round(gradient_boosting.score(train, target) * 100, 2)\n",
        "acc_gradient_boosting"
      ]
    },
    {
      "cell_type": "code",
      "execution_count": 83,
      "metadata": {
        "id": "HNWVPdRQGayx",
        "colab": {
          "base_uri": "https://localhost:8080/"
        },
        "outputId": "131af591-9b1c-4bd3-b3e0-3ca93462b625"
      },
      "outputs": [
        {
          "output_type": "execute_result",
          "data": {
            "text/plain": [
              "92.64"
            ]
          },
          "metadata": {},
          "execution_count": 83
        }
      ],
      "source": [
        "acc_test_gradient_boosting = round(gradient_boosting.score(test, target_test) * 100, 2)\n",
        "acc_test_gradient_boosting"
      ]
    },
    {
      "cell_type": "code",
      "source": [
        "# Print the Confusion Matrix and slice it into four pieces\n",
        "y_pred = gradient_boosting.predict(test)\n",
        "\n",
        "from sklearn.metrics import confusion_matrix\n",
        "\n",
        "cm = confusion_matrix(target_test, y_pred)\n",
        "\n",
        "print('Confusion matrix\\n\\n', cm)\n",
        "\n",
        "print('\\nTrue Positives(TP) = ', cm[0,0])\n",
        "\n",
        "print('\\nTrue Negatives(TN) = ', cm[1,1])\n",
        "\n",
        "print('\\nFalse Positives(FP) = ', cm[0,1])\n",
        "\n",
        "print('\\nFalse Negatives(FN) = ', cm[1,0])\n",
        "\n",
        "from sklearn.metrics import classification_report\n",
        "\n",
        "print(classification_report(target_test, y_pred))\n",
        "\n",
        "# visualize confusion matrix with seaborn heatmap\n",
        "import seaborn as sns\n",
        "cm_matrix = pd.DataFrame(data=cm, columns=['Actual Positive:1', 'Actual Negative:0'], \n",
        "                                 index=['Predict Positive:1', 'Predict Negative:0'])\n",
        "\n",
        "sns.heatmap(cm_matrix, annot=True, fmt='d', cmap='YlGnBu')\n",
        "print(\"--------------------------------------------------------------------------------------\")\n",
        "\n",
        "from sklearn.metrics import roc_curve\n",
        "\n",
        "\n",
        "def plot_roc_curve(fpr, tpr, label=None):\n",
        "    plt.plot(fpr, tpr, linewidth=2, label=label)\n",
        "    plt.plot([0, 1], [0, 1], \"k--\")\n",
        "    plt.axis([0, 1, 0, 1])\n",
        "    plt.xlabel('False Positive Rate')\n",
        "    plt.ylabel('True Positive Rate')\n",
        "    plt.title('ROC Curve')\n",
        "\n",
        "\n"
      ],
      "metadata": {
        "colab": {
          "base_uri": "https://localhost:8080/",
          "height": 664
        },
        "id": "7YGnt1s8iuJ_",
        "outputId": "349f1dea-28e3-439b-a8c7-5f202cf30dc8"
      },
      "execution_count": 84,
      "outputs": [
        {
          "output_type": "stream",
          "name": "stdout",
          "text": [
            "Confusion matrix\n",
            "\n",
            " [[384  44]\n",
            " [ 18 396]]\n",
            "\n",
            "True Positives(TP) =  384\n",
            "\n",
            "True Negatives(TN) =  396\n",
            "\n",
            "False Positives(FP) =  44\n",
            "\n",
            "False Negatives(FN) =  18\n",
            "              precision    recall  f1-score   support\n",
            "\n",
            "          MS       0.96      0.90      0.93       428\n",
            "         NMO       0.90      0.96      0.93       414\n",
            "\n",
            "    accuracy                           0.93       842\n",
            "   macro avg       0.93      0.93      0.93       842\n",
            "weighted avg       0.93      0.93      0.93       842\n",
            "\n",
            "--------------------------------------------------------------------------------------\n"
          ]
        },
        {
          "output_type": "display_data",
          "data": {
            "text/plain": [
              "<Figure size 432x288 with 2 Axes>"
            ],
            "image/png": "[encoded data removed]"
          },
          "metadata": {
            "needs_background": "light"
          }
        }
      ]
    },
    {
      "cell_type": "markdown",
      "metadata": {
        "id": "eS-swvP4Gayy"
      },
      "source": [
        "### 5.13 RidgeClassifier <a class=\"anchor\" id=\"5.13\"></a>\n",
        "\n",
        "[Back to Table of Contents](#0.1)"
      ]
    },
    {
      "cell_type": "markdown",
      "metadata": {
        "id": "l-bLqL0lGayy"
      },
      "source": [
        "Thanks to https://www.kaggle.com/kabure/titanic-eda-model-pipeline-keras-nn"
      ]
    },
    {
      "cell_type": "markdown",
      "metadata": {
        "id": "oFzmO43NGayy"
      },
      "source": [
        "Tikhonov Regularization, colloquially known as **Ridge Regression**, is the most commonly used regression algorithm to approximate an answer for an equation with no unique solution. This type of problem is very common in machine learning tasks, where the \"best\" solution must be chosen using limited data. If a unique solution exists, algorithm will return the optimal value. However, if multiple solutions exist, it may choose any of them. Reference [Brilliant.org](https://brilliant.org/wiki/ridge-regression/)."
      ]
    },
    {
      "cell_type": "code",
      "execution_count": 63,
      "metadata": {
        "id": "0Wk0g-jBGayy",
        "outputId": "560993e4-a6db-4f12-ea1d-584fcebf8ab0",
        "colab": {
          "base_uri": "https://localhost:8080/"
        }
      },
      "outputs": [
        {
          "output_type": "execute_result",
          "data": {
            "text/plain": [
              "77.48"
            ]
          },
          "metadata": {},
          "execution_count": 63
        }
      ],
      "source": [
        "# Ridge Classifier\n",
        "\n",
        "ridge_classifier = RidgeClassifier()\n",
        "ridge_classifier.fit(train, target)\n",
        "acc_ridge_classifier = round(ridge_classifier.score(train, target) * 100, 2)\n",
        "acc_ridge_classifier"
      ]
    },
    {
      "cell_type": "code",
      "execution_count": 64,
      "metadata": {
        "id": "gruOcJXPGayy",
        "outputId": "134e1df3-39cc-429c-810f-0f4786e48388",
        "colab": {
          "base_uri": "https://localhost:8080/"
        }
      },
      "outputs": [
        {
          "output_type": "execute_result",
          "data": {
            "text/plain": [
              "77.32"
            ]
          },
          "metadata": {},
          "execution_count": 64
        }
      ],
      "source": [
        "acc_test_ridge_classifier = round(ridge_classifier.score(test, target_test) * 100, 2)\n",
        "acc_test_ridge_classifier"
      ]
    },
    {
      "cell_type": "code",
      "source": [
        "# Print the Confusion Matrix and slice it into four pieces\n",
        "y_pred = ridge_classifier.predict(test)\n",
        "\n",
        "from sklearn.metrics import confusion_matrix\n",
        "\n",
        "cm = confusion_matrix(target_test, y_pred)\n",
        "\n",
        "print('Confusion matrix\\n\\n', cm)\n",
        "\n",
        "print('\\nTrue Positives(TP) = ', cm[0,0])\n",
        "\n",
        "print('\\nTrue Negatives(TN) = ', cm[1,1])\n",
        "\n",
        "print('\\nFalse Positives(FP) = ', cm[0,1])\n",
        "\n",
        "print('\\nFalse Negatives(FN) = ', cm[1,0])\n",
        "\n",
        "from sklearn.metrics import classification_report\n",
        "\n",
        "print(classification_report(target_test, y_pred))\n",
        "\n",
        "# visualize confusion matrix with seaborn heatmap\n",
        "import seaborn as sns\n",
        "cm_matrix = pd.DataFrame(data=cm, columns=['Actual Positive:1', 'Actual Negative:0'], \n",
        "                                 index=['Predict Positive:1', 'Predict Negative:0'])\n",
        "\n",
        "sns.heatmap(cm_matrix, annot=True, fmt='d', cmap='YlGnBu')\n",
        "print(\"--------------------------------------------------------------------------------------\")\n",
        "\n",
        "from sklearn.metrics import roc_curve\n",
        "\n",
        "\n",
        "def plot_roc_curve(fpr, tpr, label=None):\n",
        "    plt.plot(fpr, tpr, linewidth=2, label=label)\n",
        "    plt.plot([0, 1], [0, 1], \"k--\")\n",
        "    plt.axis([0, 1, 0, 1])\n",
        "    plt.xlabel('False Positive Rate')\n",
        "    plt.ylabel('True Positive Rate')\n",
        "    plt.title('ROC Curve')\n",
        "\n",
        "\n"
      ],
      "metadata": {
        "colab": {
          "base_uri": "https://localhost:8080/",
          "height": 664
        },
        "id": "ixHxVq2ZmI4O",
        "outputId": "181da6ac-ef12-4bf4-eecf-7f2fe234f678"
      },
      "execution_count": 65,
      "outputs": [
        {
          "output_type": "stream",
          "name": "stdout",
          "text": [
            "Confusion matrix\n",
            "\n",
            " [[310 118]\n",
            " [ 73 341]]\n",
            "\n",
            "True Positives(TP) =  310\n",
            "\n",
            "True Negatives(TN) =  341\n",
            "\n",
            "False Positives(FP) =  118\n",
            "\n",
            "False Negatives(FN) =  73\n",
            "              precision    recall  f1-score   support\n",
            "\n",
            "          MS       0.81      0.72      0.76       428\n",
            "         NMO       0.74      0.82      0.78       414\n",
            "\n",
            "    accuracy                           0.77       842\n",
            "   macro avg       0.78      0.77      0.77       842\n",
            "weighted avg       0.78      0.77      0.77       842\n",
            "\n",
            "--------------------------------------------------------------------------------------\n"
          ]
        },
        {
          "output_type": "display_data",
          "data": {
            "text/plain": [
              "<Figure size 432x288 with 2 Axes>"
            ],
            "image/png": "[encoded data removed]"
          },
          "metadata": {
            "needs_background": "light"
          }
        }
      ]
    },
    {
      "cell_type": "markdown",
      "metadata": {
        "id": "t1OS9HoiGayz"
      },
      "source": [
        "### 5.15 ExtraTreesClassifier <a class=\"anchor\" id=\"5.15\"></a>\n",
        "\n",
        "[Back to Table of Contents](#0.1)"
      ]
    },
    {
      "cell_type": "markdown",
      "metadata": {
        "id": "VjxIpoWPGayz"
      },
      "source": [
        "Thanks to https://www.kaggle.com/kabure/titanic-eda-model-pipeline-keras-nn"
      ]
    },
    {
      "cell_type": "markdown",
      "metadata": {
        "id": "Q33SHnxmGayz"
      },
      "source": [
        "**ExtraTreesClassifier** implements a meta estimator that fits a number of randomized decision trees (a.k.a. extra-trees) on various sub-samples of the dataset and uses averaging to improve the predictive accuracy and control over-fitting. The default values for the parameters controlling the size of the trees (e.g. max_depth, min_samples_leaf, etc.) lead to fully grown and unpruned trees which can potentially be very large on some data sets. To reduce memory consumption, the complexity and size of the trees should be controlled by setting those parameter values. Reference [sklearn documentation](https://scikit-learn.org/stable/modules/generated/sklearn.ensemble.ExtraTreesClassifier.html). \n",
        "\n",
        "In extremely randomized trees, randomness goes one step further in the way splits are computed. As in random forests, a random subset of candidate features is used, but instead of looking for the most discriminative thresholds, thresholds are drawn at random for each candidate feature and the best of these randomly-generated thresholds is picked as the splitting rule. This usually allows to reduce the variance of the model a bit more, at the expense of a slightly greater increase in bias. Reference [sklearn documentation](https://scikit-learn.org/stable/modules/ensemble.html#Extremely%20Randomized%20Trees)."
      ]
    },
    {
      "cell_type": "code",
      "execution_count": 66,
      "metadata": {
        "id": "c_WKpF8rGay0",
        "outputId": "a2f80e5b-7036-4a6d-d39e-b89be6c6599c",
        "colab": {
          "base_uri": "https://localhost:8080/"
        }
      },
      "outputs": [
        {
          "output_type": "stream",
          "name": "stdout",
          "text": [
            "0.8321455065705807\n",
            "{'max_depth': 8, 'max_features': None, 'min_samples_leaf': 2, 'n_estimators': 662}\n",
            "0.8449219301964108\n",
            "{'max_depth': 9, 'max_features': None, 'min_samples_leaf': 2, 'n_estimators': 138}\n",
            "0.7670870425321464\n",
            "{'max_depth': 5, 'max_features': None, 'min_samples_leaf': 1, 'n_estimators': 745}\n",
            "0.6868641373463331\n",
            "{'max_depth': 2, 'max_features': None, 'min_samples_leaf': 4, 'n_estimators': 559}\n",
            "0.8473028825773632\n",
            "{'max_depth': 9, 'max_features': None, 'min_samples_leaf': 1, 'n_estimators': 466}\n",
            "0.8163999576091564\n",
            "{'max_depth': 7, 'max_features': None, 'min_samples_leaf': 4, 'n_estimators': 712}\n",
            "0.7905574395930478\n",
            "{'max_depth': 6, 'max_features': None, 'min_samples_leaf': 4, 'n_estimators': 558}\n",
            "0.6818134449625548\n",
            "{'max_depth': 2, 'max_features': None, 'min_samples_leaf': 2, 'n_estimators': 270}\n",
            "0.8163981913240074\n",
            "{'max_depth': 7, 'max_features': None, 'min_samples_leaf': 4, 'n_estimators': 600}\n",
            "0.6853875229617068\n",
            "{'max_depth': 2, 'max_features': None, 'min_samples_leaf': 2, 'n_estimators': 194}\n",
            "100%|██████████| 10/10 [07:17<00:00, 43.77s/it, best loss: 0.6818134449625548]\n",
            "best:\n",
            "{'max_depth': 0, 'min_samples_leaf': 1, 'n_estimators': 170}\n"
          ]
        }
      ],
      "source": [
        "def hyperopt_etc_score(params):\n",
        "    clf = ExtraTreesClassifier(**params)\n",
        "    current_score = cross_val_score(clf, train, target, cv=10).mean()\n",
        "    print(current_score, params)\n",
        "    return current_score \n",
        " \n",
        "space_etc = {\n",
        "            'n_estimators': hp.choice('n_estimators', range(100, 1000)),\n",
        "            'max_features': hp.choice('max_features', np.arange(2, 17, dtype=int)),\n",
        "            'min_samples_leaf': hp.choice('min_samples_leaf', np.arange(1, 5, dtype=int)),\n",
        "            'max_depth':  hp.choice('max_depth', np.arange(2, 12, dtype=int)),\n",
        "            'max_features': None # for small number of features\n",
        "        }\n",
        " \n",
        "best = fmin(fn=hyperopt_etc_score, space=space_etc, algo=tpe.suggest, max_evals=10)\n",
        "print('best:')\n",
        "print(best)"
      ]
    },
    {
      "cell_type": "code",
      "execution_count": 67,
      "metadata": {
        "id": "Uv2ziJE0Gay0",
        "outputId": "7a748e21-9176-4dfa-b992-6dee45d59829",
        "colab": {
          "base_uri": "https://localhost:8080/"
        }
      },
      "outputs": [
        {
          "output_type": "execute_result",
          "data": {
            "text/plain": [
              "{'max_depth': 2,\n",
              " 'max_features': None,\n",
              " 'min_samples_leaf': 2,\n",
              " 'n_estimators': 270}"
            ]
          },
          "metadata": {},
          "execution_count": 67
        }
      ],
      "source": [
        "params = space_eval(space_etc, best)\n",
        "params"
      ]
    },
    {
      "cell_type": "code",
      "execution_count": 85,
      "metadata": {
        "id": "vVaYnupmGay0",
        "outputId": "6583b4e8-e8ae-40f3-bfdd-c91b46114421",
        "colab": {
          "base_uri": "https://localhost:8080/"
        }
      },
      "outputs": [
        {
          "output_type": "execute_result",
          "data": {
            "text/plain": [
              "92.93"
            ]
          },
          "metadata": {},
          "execution_count": 85
        }
      ],
      "source": [
        "# Extra Trees Classifier\n",
        "\n",
        "extra_trees_classifier = ExtraTreesClassifier(**{'max_depth': 9, 'max_features': None, 'min_samples_leaf': 1, 'n_estimators': 466}\n",
        "\n",
        ")\n",
        "extra_trees_classifier.fit(train, target)\n",
        "acc_etc = round(extra_trees_classifier.score(train, target) * 100, 2)\n",
        "acc_etc"
      ]
    },
    {
      "cell_type": "code",
      "execution_count": 86,
      "metadata": {
        "id": "v13VVbQAGay0",
        "outputId": "7de1e044-0c37-49cf-ae88-747c9b9d3b05",
        "colab": {
          "base_uri": "https://localhost:8080/"
        }
      },
      "outputs": [
        {
          "output_type": "execute_result",
          "data": {
            "text/plain": [
              "86.1"
            ]
          },
          "metadata": {},
          "execution_count": 86
        }
      ],
      "source": [
        "acc_test_etc = round(extra_trees_classifier.score(test, target_test) * 100, 2)\n",
        "acc_test_etc"
      ]
    },
    {
      "cell_type": "code",
      "source": [
        "# Print the Confusion Matrix and slice it into four pieces\n",
        "y_pred = extra_trees_classifier.predict(test)\n",
        "\n",
        "from sklearn.metrics import confusion_matrix\n",
        "\n",
        "cm = confusion_matrix(target_test, y_pred)\n",
        "\n",
        "print('Confusion matrix\\n\\n', cm)\n",
        "\n",
        "print('\\nTrue Positives(TP) = ', cm[0,0])\n",
        "\n",
        "print('\\nTrue Negatives(TN) = ', cm[1,1])\n",
        "\n",
        "print('\\nFalse Positives(FP) = ', cm[0,1])\n",
        "\n",
        "print('\\nFalse Negatives(FN) = ', cm[1,0])\n",
        "\n",
        "from sklearn.metrics import classification_report\n",
        "\n",
        "print(classification_report(target_test, y_pred))\n",
        "\n",
        "# visualize confusion matrix with seaborn heatmap\n",
        "import seaborn as sns\n",
        "cm_matrix = pd.DataFrame(data=cm, columns=['Actual Positive:1', 'Actual Negative:0'], \n",
        "                                 index=['Predict Positive:1', 'Predict Negative:0'])\n",
        "\n",
        "sns.heatmap(cm_matrix, annot=True, fmt='d', cmap='YlGnBu')\n",
        "print(\"--------------------------------------------------------------------------------------\")\n",
        "\n",
        "from sklearn.metrics import roc_curve\n",
        "\n",
        "\n",
        "def plot_roc_curve(fpr, tpr, label=None):\n",
        "    plt.plot(fpr, tpr, linewidth=2, label=label)\n",
        "    plt.plot([0, 1], [0, 1], \"k--\")\n",
        "    plt.axis([0, 1, 0, 1])\n",
        "    plt.xlabel('False Positive Rate')\n",
        "    plt.ylabel('True Positive Rate')\n",
        "    plt.title('ROC Curve')\n",
        "\n",
        "\n"
      ],
      "metadata": {
        "colab": {
          "base_uri": "https://localhost:8080/",
          "height": 667
        },
        "id": "Gkf17aPoolKO",
        "outputId": "d194b189-d169-4855-fa28-c9c2ca401614"
      },
      "execution_count": 87,
      "outputs": [
        {
          "output_type": "stream",
          "name": "stdout",
          "text": [
            "Confusion matrix\n",
            "\n",
            " [[322 106]\n",
            " [ 11 403]]\n",
            "\n",
            "True Positives(TP) =  322\n",
            "\n",
            "True Negatives(TN) =  403\n",
            "\n",
            "False Positives(FP) =  106\n",
            "\n",
            "False Negatives(FN) =  11\n",
            "              precision    recall  f1-score   support\n",
            "\n",
            "          MS       0.97      0.75      0.85       428\n",
            "         NMO       0.79      0.97      0.87       414\n",
            "\n",
            "    accuracy                           0.86       842\n",
            "   macro avg       0.88      0.86      0.86       842\n",
            "weighted avg       0.88      0.86      0.86       842\n",
            "\n",
            "--------------------------------------------------------------------------------------\n"
          ]
        },
        {
          "output_type": "display_data",
          "data": {
            "text/plain": [
              "<Figure size 432x288 with 2 Axes>"
            ],
            "image/png": "[encoded data removed]"
          },
          "metadata": {
            "needs_background": "light"
          }
        }
      ]
    },
    {
      "cell_type": "markdown",
      "metadata": {
        "id": "e5VIEQ6LGay3"
      },
      "source": [
        "### 5.18 AdaBoost Classifier <a class=\"anchor\" id=\"5.18\"></a>\n",
        "\n",
        "[Back to Table of Contents](#0.1)"
      ]
    },
    {
      "cell_type": "markdown",
      "metadata": {
        "id": "5tqnzTqrGay3"
      },
      "source": [
        "Thanks to https://scikit-learn.org/stable/modules/ensemble.html#adaboost"
      ]
    },
    {
      "cell_type": "markdown",
      "metadata": {
        "id": "vFXFWRvLGay3"
      },
      "source": [
        "The core principle of **AdaBoost** is to fit a sequence of weak learners (i.e., models that are only slightly better than random guessing, such as small decision trees) on repeatedly modified versions of the data. The predictions from all of them are then combined through a weighted majority vote (or sum) to produce the final prediction. The data modifications at each so-called boosting iteration consist of applying N weights to each of the training samples. Initially, those weights are all set to 1/N, so that the first step simply trains a weak learner on the original data. For each successive iteration, the sample weights are individually modified and the learning algorithm is reapplied to the reweighted data. At a given step, those training examples that were incorrectly predicted by the boosted model induced at the previous step have their weights increased, whereas the weights are decreased for those that were predicted correctly. As iterations proceed, examples that are difficult to predict receive ever-increasing influence. Each subsequent weak learner is thereby forced to concentrate on the examples that are missed by the previous ones in the sequence. Reference [sklearn documentation](https://scikit-learn.org/stable/modules/ensemble.html#adaboost)."
      ]
    },
    {
      "cell_type": "code",
      "execution_count": 71,
      "metadata": {
        "id": "4G2dsNlrGay3",
        "outputId": "8e953492-3774-470b-8f9a-55e19080a769",
        "colab": {
          "base_uri": "https://localhost:8080/"
        }
      },
      "outputs": [
        {
          "output_type": "stream",
          "name": "stdout",
          "text": [
            "0.5831779002402147\n",
            "{'learning_rate': 0.0007, 'n_estimators': 98}\n",
            "0.6158497597852197\n",
            "{'learning_rate': 0.004, 'n_estimators': 55}\n",
            "0.735887381658895\n",
            "{'learning_rate': 0.0405, 'n_estimators': 418}\n",
            "0.7115294263105836\n",
            "{'learning_rate': 0.0194, 'n_estimators': 438}\n",
            "0.633992157693938\n",
            "{'learning_rate': 0.0014, 'n_estimators': 393}\n",
            "0.7388600395647873\n",
            "{'learning_rate': 0.035500000000000004, 'n_estimators': 561}\n",
            "0.725793945174509\n",
            "{'learning_rate': 0.0492, 'n_estimators': 259}\n",
            "0.7014289246856011\n",
            "{'learning_rate': 0.009000000000000001, 'n_estimators': 658}\n",
            "0.7026141020206302\n",
            "{'learning_rate': 0.0119, 'n_estimators': 540}\n",
            "0.6936978945881023\n",
            "{'learning_rate': 0.0078000000000000005, 'n_estimators': 548}\n",
            "100%|██████████| 10/10 [21:51<00:00, 131.17s/it, best loss: 0.5831779002402147]\n",
            "best:\n",
            "{'learning_rate': 0.0007, 'n_estimators': 48}\n"
          ]
        }
      ],
      "source": [
        "def hyperopt_ab_score(params):\n",
        "    clf = AdaBoostClassifier(**params)\n",
        "    current_score = cross_val_score(clf, train, target, cv=10).mean()\n",
        "    print(current_score, params)\n",
        "    return current_score \n",
        " \n",
        "space_ab = {\n",
        "            'n_estimators': hp.choice('n_estimators', range(50, 700)),\n",
        "            'learning_rate': hp.quniform('learning_rate', 0, 0.05, 0.0001)       \n",
        "        }\n",
        " \n",
        "best = fmin(fn=hyperopt_ab_score, space=space_ab, algo=tpe.suggest, max_evals=10)\n",
        "print('best:')\n",
        "print(best)"
      ]
    },
    {
      "cell_type": "code",
      "execution_count": 72,
      "metadata": {
        "id": "_5VpWWxbGay4",
        "colab": {
          "base_uri": "https://localhost:8080/"
        },
        "outputId": "d0da82dd-ec79-40d3-eb2a-ebef2d1b5d9e"
      },
      "outputs": [
        {
          "output_type": "execute_result",
          "data": {
            "text/plain": [
              "{'learning_rate': 0.0007, 'n_estimators': 98}"
            ]
          },
          "metadata": {},
          "execution_count": 72
        }
      ],
      "source": [
        "params = space_eval(space_ab, best)\n",
        "params"
      ]
    },
    {
      "cell_type": "code",
      "execution_count": 88,
      "metadata": {
        "id": "fBt-eIabGay4",
        "colab": {
          "base_uri": "https://localhost:8080/"
        },
        "outputId": "38c0716f-6ea5-458d-8377-d31c5cc82f43"
      },
      "outputs": [
        {
          "output_type": "execute_result",
          "data": {
            "text/plain": [
              "78.91"
            ]
          },
          "metadata": {},
          "execution_count": 88
        }
      ],
      "source": [
        "# AdaBoost Classifier\n",
        "\n",
        "Ada_Boost = AdaBoostClassifier(**{'learning_rate': 0.035500000000000004, 'n_estimators': 561}\n",
        "\n",
        "\n",
        ")\n",
        "Ada_Boost.fit(train, target)\n",
        "Ada_Boost.score(train, target)\n",
        "acc_AdaBoost = round(Ada_Boost.score(train, target) * 100, 2)\n",
        "acc_AdaBoost"
      ]
    },
    {
      "cell_type": "code",
      "execution_count": 89,
      "metadata": {
        "id": "6AgMWeFzGay4",
        "colab": {
          "base_uri": "https://localhost:8080/"
        },
        "outputId": "71be49e5-bdde-4dc8-8cd1-4dbac5b1de2a"
      },
      "outputs": [
        {
          "output_type": "execute_result",
          "data": {
            "text/plain": [
              "76.13"
            ]
          },
          "metadata": {},
          "execution_count": 89
        }
      ],
      "source": [
        "acc_test_AdaBoost = round(Ada_Boost.score(test, target_test) * 100, 2)\n",
        "acc_test_AdaBoost"
      ]
    },
    {
      "cell_type": "code",
      "source": [
        "# Print the Confusion Matrix and slice it into four pieces\n",
        "y_pred = Ada_Boost.predict(test)\n",
        "\n",
        "from sklearn.metrics import confusion_matrix\n",
        "\n",
        "cm = confusion_matrix(target_test, y_pred)\n",
        "\n",
        "print('Confusion matrix\\n\\n', cm)\n",
        "\n",
        "print('\\nTrue Positives(TP) = ', cm[0,0])\n",
        "\n",
        "print('\\nTrue Negatives(TN) = ', cm[1,1])\n",
        "\n",
        "print('\\nFalse Positives(FP) = ', cm[0,1])\n",
        "\n",
        "print('\\nFalse Negatives(FN) = ', cm[1,0])\n",
        "\n",
        "from sklearn.metrics import classification_report\n",
        "\n",
        "print(classification_report(target_test, y_pred))\n",
        "\n",
        "# visualize confusion matrix with seaborn heatmap\n",
        "import seaborn as sns\n",
        "cm_matrix = pd.DataFrame(data=cm, columns=['Actual Positive:1', 'Actual Negative:0'], \n",
        "                                 index=['Predict Positive:1', 'Predict Negative:0'])\n",
        "\n",
        "sns.heatmap(cm_matrix, annot=True, fmt='d', cmap='YlGnBu')\n",
        "print(\"--------------------------------------------------------------------------------------\")\n",
        "\n",
        "from sklearn.metrics import roc_curve\n",
        "\n",
        "\n",
        "def plot_roc_curve(fpr, tpr, label=None):\n",
        "    plt.plot(fpr, tpr, linewidth=2, label=label)\n",
        "    plt.plot([0, 1], [0, 1], \"k--\")\n",
        "    plt.axis([0, 1, 0, 1])\n",
        "    plt.xlabel('False Positive Rate')\n",
        "    plt.ylabel('True Positive Rate')\n",
        "    plt.title('ROC Curve')\n",
        "\n",
        "\n"
      ],
      "metadata": {
        "id": "gZ31t1nTu-SG",
        "colab": {
          "base_uri": "https://localhost:8080/",
          "height": 664
        },
        "outputId": "1238faac-88b2-467d-e0d8-9f2f0c4c734b"
      },
      "execution_count": 90,
      "outputs": [
        {
          "output_type": "stream",
          "name": "stdout",
          "text": [
            "Confusion matrix\n",
            "\n",
            " [[303 125]\n",
            " [ 76 338]]\n",
            "\n",
            "True Positives(TP) =  303\n",
            "\n",
            "True Negatives(TN) =  338\n",
            "\n",
            "False Positives(FP) =  125\n",
            "\n",
            "False Negatives(FN) =  76\n",
            "              precision    recall  f1-score   support\n",
            "\n",
            "          MS       0.80      0.71      0.75       428\n",
            "         NMO       0.73      0.82      0.77       414\n",
            "\n",
            "    accuracy                           0.76       842\n",
            "   macro avg       0.76      0.76      0.76       842\n",
            "weighted avg       0.77      0.76      0.76       842\n",
            "\n",
            "--------------------------------------------------------------------------------------\n"
          ]
        },
        {
          "output_type": "display_data",
          "data": {
            "text/plain": [
              "<Figure size 432x288 with 2 Axes>"
            ],
            "image/png": "[encoded data removed]"
          },
          "metadata": {
            "needs_background": "light"
          }
        }
      ]
    },
    {
      "cell_type": "markdown",
      "metadata": {
        "id": "BvJO9kuIGay8"
      },
      "source": [
        "## 6. Models evaluation <a class=\"anchor\" id=\"6\"></a>\n",
        "\n",
        "[Back to Table of Contents](#0.1)"
      ]
    },
    {
      "cell_type": "markdown",
      "metadata": {
        "id": "tI2dmLxZGay8"
      },
      "source": [
        "We can now rank our evaluation of all the models to choose the best one for our problem."
      ]
    },
    {
      "cell_type": "code",
      "execution_count": 91,
      "metadata": {
        "id": "H66CAJUOGay8"
      },
      "outputs": [],
      "source": [
        "models = pd.DataFrame({\n",
        "    'Model': ['Logistic Regression', 'Support Vector Machines', 'k-Nearest Neighbors', 'Naive Bayes', \n",
        "              'Perceptron', 'Stochastic Gradient Decent', \n",
        "              'Decision Tree Classifier', 'Random Forest',  'LGBMClassifier',\n",
        "              'GradientBoostingClassifier', 'RidgeClassifier', 'ExtraTreesClassifier', \n",
        "              'AdaBoostClassifier'],\n",
        "    \n",
        "    'Score_train': [acc_log, acc_svc, acc_knn, acc_gaussian, \n",
        "              acc_perceptron, acc_sgd, \n",
        "              acc_decision_tree, acc_random_forest, acc_LGB_Classifier,\n",
        "              acc_gradient_boosting, acc_ridge_classifier, acc_etc, \n",
        "              acc_AdaBoost],\n",
        "    'Score_test': [acc_test_log, acc_test_svc,  acc_test_knn, acc_test_gaussian, \n",
        "              acc_test_perceptron, acc_test_sgd, \n",
        "              acc_test_decision_tree, acc_test_random_forest, acc_test_LGB_Classifier,\n",
        "              acc_test_gradient_boosting, acc_test_ridge_classifier, acc_test_etc, \n",
        "              acc_test_AdaBoost]\n",
        "                    })"
      ]
    },
    {
      "cell_type": "code",
      "execution_count": 92,
      "metadata": {
        "id": "JsseJXPMGay9",
        "colab": {
          "base_uri": "https://localhost:8080/",
          "height": 457
        },
        "outputId": "e959465a-b70d-47e9-d9a6-abe99e4fabe0"
      },
      "outputs": [
        {
          "output_type": "execute_result",
          "data": {
            "text/plain": [
              "                         Model  Score_train  Score_test\n",
              "2          k-Nearest Neighbors        99.29       97.03\n",
              "1      Support Vector Machines        96.91       95.37\n",
              "8               LGBMClassifier       100.00       94.06\n",
              "7                Random Forest       100.00       93.11\n",
              "9   GradientBoostingClassifier       100.00       92.64\n",
              "11        ExtraTreesClassifier        92.93       86.10\n",
              "10             RidgeClassifier        77.48       77.32\n",
              "0          Logistic Regression        77.99       77.08\n",
              "12          AdaBoostClassifier        78.91       76.13\n",
              "5   Stochastic Gradient Decent        76.68       75.53\n",
              "6     Decision Tree Classifier       100.00       71.85\n",
              "3                  Naive Bayes        68.95       71.73\n",
              "4                   Perceptron        71.78       71.62"
            ],
            "text/html": [
              "\n",
              "  <div id=\"df-15b0a555-d808-4da4-9d87-953371a5e5ff\">\n",
              "    <div class=\"colab-df-container\">\n",
              "      <div>\n",
              "<style scoped>\n",
              "    .dataframe tbody tr th:only-of-type {\n",
              "        vertical-align: middle;\n",
              "    }\n",
              "\n",
              "    .dataframe tbody tr th {\n",
              "        vertical-align: top;\n",
              "    }\n",
              "\n",
              "    .dataframe thead th {\n",
              "        text-align: right;\n",
              "    }\n",
              "</style>\n",
              "<table border=\"1\" class=\"dataframe\">\n",
              "  <thead>\n",
              "    <tr style=\"text-align: right;\">\n",
              "      <th></th>\n",
              "      <th>Model</th>\n",
              "      <th>Score_train</th>\n",
              "      <th>Score_test</th>\n",
              "    </tr>\n",
              "  </thead>\n",
              "  <tbody>\n",
              "    <tr>\n",
              "      <th>2</th>\n",
              "      <td>k-Nearest Neighbors</td>\n",
              "      <td>99.29</td>\n",
              "      <td>97.03</td>\n",
              "    </tr>\n",
              "    <tr>\n",
              "      <th>1</th>\n",
              "      <td>Support Vector Machines</td>\n",
              "      <td>96.91</td>\n",
              "      <td>95.37</td>\n",
              "    </tr>\n",
              "    <tr>\n",
              "      <th>8</th>\n",
              "      <td>LGBMClassifier</td>\n",
              "      <td>100.00</td>\n",
              "      <td>94.06</td>\n",
              "    </tr>\n",
              "    <tr>\n",
              "      <th>7</th>\n",
              "      <td>Random Forest</td>\n",
              "      <td>100.00</td>\n",
              "      <td>93.11</td>\n",
              "    </tr>\n",
              "    <tr>\n",
              "      <th>9</th>\n",
              "      <td>GradientBoostingClassifier</td>\n",
              "      <td>100.00</td>\n",
              "      <td>92.64</td>\n",
              "    </tr>\n",
              "    <tr>\n",
              "      <th>11</th>\n",
              "      <td>ExtraTreesClassifier</td>\n",
              "      <td>92.93</td>\n",
              "      <td>86.10</td>\n",
              "    </tr>\n",
              "    <tr>\n",
              "      <th>10</th>\n",
              "      <td>RidgeClassifier</td>\n",
              "      <td>77.48</td>\n",
              "      <td>77.32</td>\n",
              "    </tr>\n",
              "    <tr>\n",
              "      <th>0</th>\n",
              "      <td>Logistic Regression</td>\n",
              "      <td>77.99</td>\n",
              "      <td>77.08</td>\n",
              "    </tr>\n",
              "    <tr>\n",
              "      <th>12</th>\n",
              "      <td>AdaBoostClassifier</td>\n",
              "      <td>78.91</td>\n",
              "      <td>76.13</td>\n",
              "    </tr>\n",
              "    <tr>\n",
              "      <th>5</th>\n",
              "      <td>Stochastic Gradient Decent</td>\n",
              "      <td>76.68</td>\n",
              "      <td>75.53</td>\n",
              "    </tr>\n",
              "    <tr>\n",
              "      <th>6</th>\n",
              "      <td>Decision Tree Classifier</td>\n",
              "      <td>100.00</td>\n",
              "      <td>71.85</td>\n",
              "    </tr>\n",
              "    <tr>\n",
              "      <th>3</th>\n",
              "      <td>Naive Bayes</td>\n",
              "      <td>68.95</td>\n",
              "      <td>71.73</td>\n",
              "    </tr>\n",
              "    <tr>\n",
              "      <th>4</th>\n",
              "      <td>Perceptron</td>\n",
              "      <td>71.78</td>\n",
              "      <td>71.62</td>\n",
              "    </tr>\n",
              "  </tbody>\n",
              "</table>\n",
              "</div>\n",
              "      <button class=\"colab-df-convert\" onclick=\"convertToInteractive('df-15b0a555-d808-4da4-9d87-953371a5e5ff')\"\n",
              "              title=\"Convert this dataframe to an interactive table.\"\n",
              "              style=\"display:none;\">\n",
              "        \n",
              "  <svg xmlns=\"http://www.w3.org/2000/svg\" height=\"24px\"viewBox=\"0 0 24 24\"\n",
              "       width=\"24px\">\n",
              "    <path d=\"M0 0h24v24H0V0z\" fill=\"none\"/>\n",
              "    <path d=\"M18.56 5.44l.94 2.06.94-2.06 2.06-.94-2.06-.94-.94-2.06-.94 2.06-2.06.94zm-11 1L8.5 8.5l.94-2.06 2.06-.94-2.06-.94L8.5 2.5l-.94 2.06-2.06.94zm10 10l.94 2.06.94-2.06 2.06-.94-2.06-.94-.94-2.06-.94 2.06-2.06.94z\"/><path d=\"M17.41 7.96l-1.37-1.37c-.4-.4-.92-.59-1.43-.59-.52 0-1.04.2-1.43.59L10.3 9.45l-7.72 7.72c-.78.78-.78 2.05 0 2.83L4 21.41c.39.39.9.59 1.41.59.51 0 1.02-.2 1.41-.59l7.78-7.78 2.81-2.81c.8-.78.8-2.07 0-2.86zM5.41 20L4 18.59l7.72-7.72 1.47 1.35L5.41 20z\"/>\n",
              "  </svg>\n",
              "      </button>\n",
              "      \n",
              "  <style>\n",
              "    .colab-df-container {\n",
              "      display:flex;\n",
              "      flex-wrap:wrap;\n",
              "      gap: 12px;\n",
              "    }\n",
              "\n",
              "    .colab-df-convert {\n",
              "      background-color: #E8F0FE;\n",
              "      border: none;\n",
              "      border-radius: 50%;\n",
              "      cursor: pointer;\n",
              "      display: none;\n",
              "      fill: #1967D2;\n",
              "      height: 32px;\n",
              "      padding: 0 0 0 0;\n",
              "      width: 32px;\n",
              "    }\n",
              "\n",
              "    .colab-df-convert:hover {\n",
              "      background-color: #E2EBFA;\n",
              "      box-shadow: 0px 1px 2px rgba(60, 64, 67, 0.3), 0px 1px 3px 1px rgba(60, 64, 67, 0.15);\n",
              "      fill: #174EA6;\n",
              "    }\n",
              "\n",
              "    [theme=dark] .colab-df-convert {\n",
              "      background-color: #3B4455;\n",
              "      fill: #D2E3FC;\n",
              "    }\n",
              "\n",
              "    [theme=dark] .colab-df-convert:hover {\n",
              "      background-color: #434B5C;\n",
              "      box-shadow: 0px 1px 3px 1px rgba(0, 0, 0, 0.15);\n",
              "      filter: drop-shadow(0px 1px 2px rgba(0, 0, 0, 0.3));\n",
              "      fill: #FFFFFF;\n",
              "    }\n",
              "  </style>\n",
              "\n",
              "      <script>\n",
              "        const buttonEl =\n",
              "          document.querySelector('#df-15b0a555-d808-4da4-9d87-953371a5e5ff button.colab-df-convert');\n",
              "        buttonEl.style.display =\n",
              "          google.colab.kernel.accessAllowed ? 'block' : 'none';\n",
              "\n",
              "        async function convertToInteractive(key) {\n",
              "          const element = document.querySelector('#df-15b0a555-d808-4da4-9d87-953371a5e5ff');\n",
              "          const dataTable =\n",
              "            await google.colab.kernel.invokeFunction('convertToInteractive',\n",
              "                                                     [key], {});\n",
              "          if (!dataTable) return;\n",
              "\n",
              "          const docLinkHtml = 'Like what you see? Visit the ' +\n",
              "            '<a target=\"_blank\" href=https://colab.research.google.com/notebooks/data_table.ipynb>data table notebook</a>'\n",
              "            + ' to learn more about interactive tables.';\n",
              "          element.innerHTML = '';\n",
              "          dataTable['output_type'] = 'display_data';\n",
              "          await google.colab.output.renderOutput(dataTable, element);\n",
              "          const docLink = document.createElement('div');\n",
              "          docLink.innerHTML = docLinkHtml;\n",
              "          element.appendChild(docLink);\n",
              "        }\n",
              "      </script>\n",
              "    </div>\n",
              "  </div>\n",
              "  "
            ]
          },
          "metadata": {},
          "execution_count": 92
        }
      ],
      "source": [
        "models.sort_values(by=['Score_test', 'Score_train'], ascending=False)"
      ]
    },
    {
      "cell_type": "code",
      "execution_count": 93,
      "metadata": {
        "id": "vmC7rbrOGay-",
        "colab": {
          "base_uri": "https://localhost:8080/",
          "height": 453
        },
        "outputId": "8110b67d-ec89-4613-cc70-4004fa6116da"
      },
      "outputs": [
        {
          "output_type": "display_data",
          "data": {
            "text/plain": [
              "<Figure size 1800x432 with 1 Axes>"
            ],
            "image/png": "[encoded data removed]"
          },
          "metadata": {
            "needs_background": "light"
          }
        }
      ],
      "source": [
        "# Plot\n",
        "plt.figure(figsize=[25,6])\n",
        "xx = models['Model']\n",
        "plt.tick_params(labelsize=14)\n",
        "plt.plot(xx, models['Score_train'], label = 'Score_train')\n",
        "plt.plot(xx, models['Score_test'], label = 'Score_test')\n",
        "plt.legend()\n",
        "plt.title('Score of 20 popular models for train and test datasets')\n",
        "plt.xlabel('Models')\n",
        "plt.ylabel('Score, %')\n",
        "plt.xticks(xx, rotation='vertical')\n",
        "plt.savefig('graph.png')\n",
        "plt.show()"
      ]
    },
    {
      "cell_type": "markdown",
      "metadata": {
        "id": "NyJCd0DhGay-"
      },
      "source": [
        "I hope you find this kernel useful and enjoyable."
      ]
    },
    {
      "cell_type": "markdown",
      "metadata": {
        "id": "fPHN4LVoGay-"
      },
      "source": [
        "Your comments and feedback are most welcome."
      ]
    },
    {
      "cell_type": "markdown",
      "metadata": {
        "id": "1pNc_xEOGay-"
      },
      "source": [
        "[Go to Top](#0)"
      ]
    }
  ],
  "metadata": {
    "kernelspec": {
      "display_name": "Python 3",
      "language": "python",
      "name": "python3"
    },
    "language_info": {
      "codemirror_mode": {
        "name": "ipython",
        "version": 3
      },
      "file_extension": ".py",
      "mimetype": "text/x-python",
      "name": "python",
      "nbconvert_exporter": "python",
      "pygments_lexer": "ipython3",
      "version": "3.6.6"
    },
    "colab": {
      "provenance": []
    },
    "accelerator": "GPU",
    "gpuClass": "standard"
  },
  "nbformat": 4,
  "nbformat_minor": 0
}